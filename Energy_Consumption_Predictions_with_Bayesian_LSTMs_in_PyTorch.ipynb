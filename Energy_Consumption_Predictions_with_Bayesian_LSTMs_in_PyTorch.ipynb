{
  "nbformat": 4,
  "nbformat_minor": 0,
  "metadata": {
    "colab": {
      "name": "Energy Consumption Predictions with Bayesian LSTMs in PyTorch.ipynb",
      "provenance": [],
      "collapsed_sections": [],
      "include_colab_link": true
    },
    "kernelspec": {
      "name": "python3",
      "display_name": "Python 3"
    }
  },
  "cells": [
    {
      "cell_type": "markdown",
      "metadata": {
        "id": "view-in-github",
        "colab_type": "text"
      },
      "source": [
        "<a href=\"https://colab.research.google.com/github/PawaritL/BayesianLSTM/blob/master/Energy_Consumption_Predictions_with_Bayesian_LSTMs_in_PyTorch.ipynb\" target=\"_parent\"><img src=\"https://colab.research.google.com/assets/colab-badge.svg\" alt=\"Open In Colab\"/></a>"
      ]
    },
    {
      "cell_type": "markdown",
      "metadata": {
        "id": "VHRshe9Y-Q0Q",
        "colab_type": "text"
      },
      "source": [
        "# Energy Consumption Predictions with Bayesian LSTMs in PyTorch"
      ]
    },
    {
      "cell_type": "markdown",
      "metadata": {
        "id": "8GGWUqKU1paW",
        "colab_type": "text"
      },
      "source": [
        "Author: Pawarit Laosunthara\n",
        "\n"
      ]
    },
    {
      "cell_type": "markdown",
      "metadata": {
        "id": "3FQQioKQ-Tkr",
        "colab_type": "text"
      },
      "source": [
        "# **Important Note for GitHub Readers:**\n",
        "Please click the **Open in Colab** button above in order to view all interactive visualizations.\n",
        "\n",
        "This notebook demonstrates an implementation of an (Approximate) Bayesian Recurrent Neural Network in PyTorch, originally inspired by the *Deep and Confident Prediction for Time Series at Uber* (https://arxiv.org/pdf/1709.01907.pdf)\n",
        "\n",
        "<br>\n",
        "\n",
        "In this approach, Monte Carlo dropout is used to **approximate** Bayesian inference, allowing our predictions to have explicit uncertainties and confidence intervals. This property makes Bayesian Neural Networks highly appealing to critical applications requiring uncertainty quantification.\n",
        "The *Appliances energy prediction* dataset used in this example is from the UCI Machine Learning Repository (https://archive.ics.uci.edu/ml/datasets/Appliances+energy+prediction)\n",
        "\n",
        "\n",
        "**Note:** this notebook purely serves to demonstrate the implementation of Bayesian LSTMs (Long Short-Term Memory) networks in PyTorch. Therefore, extensive data exploration and feature engineering is not part of the scope of this investigation."
      ]
    },
    {
      "cell_type": "markdown",
      "metadata": {
        "id": "psI_d17Y_3_9",
        "colab_type": "text"
      },
      "source": [
        "# Preliminary Data Wrangling"
      ]
    },
    {
      "cell_type": "markdown",
      "metadata": {
        "id": "OFY02qDSAbqI",
        "colab_type": "text"
      },
      "source": [
        "**Selected Columns:**\n",
        "\n",
        "For simplicity and speed when running this notebook, only temporal and autoregressive features are used.\n",
        "\n",
        "- date time year-month-day hour:minute:second, sampled every 10 minutes \\\n",
        "- Appliances, energy use in Wh for the corresponding 10-minute timestamp \\\n",
        "- day_of_week, where Monday corresponds to 0 \\\n",
        "- hour_of_day\n"
      ]
    },
    {
      "cell_type": "code",
      "metadata": {
        "id": "uWNK0BtB2W0E",
        "colab_type": "code",
        "colab": {}
      },
      "source": [
        "import pandas as pd"
      ],
      "execution_count": 0,
      "outputs": []
    },
    {
      "cell_type": "code",
      "metadata": {
        "id": "WDYp3nRh-Bpv",
        "colab_type": "code",
        "colab": {}
      },
      "source": [
        "energy_df = pd.read_csv('https://archive.ics.uci.edu/ml/machine-learning-databases/00374/energydata_complete.csv')\n",
        "\n",
        "energy_df['date'] = pd.to_datetime(energy_df['date'])\n",
        "\n",
        "energy_df['month'] = energy_df['date'].dt.month.astype(int)\n",
        "energy_df['day_of_month'] = energy_df['date'].dt.day.astype(int)\n",
        "\n",
        "# day_of_week=0 corresponds to Monday\n",
        "energy_df['day_of_week'] = energy_df['date'].dt.dayofweek.astype(int)\n",
        "energy_df['hour_of_day'] = energy_df['date'].dt.hour.astype(int)\n",
        "\n",
        "selected_columns = ['date', 'day_of_week', 'hour_of_day', 'Appliances']\n",
        "energy_df = energy_df[selected_columns]"
      ],
      "execution_count": 0,
      "outputs": []
    },
    {
      "cell_type": "code",
      "metadata": {
        "id": "vv4cV2qr-E-8",
        "colab_type": "code",
        "outputId": "6b5b7cc9-6d47-477b-a089-912983114bcc",
        "colab": {
          "base_uri": "https://localhost:8080/",
          "height": 204
        }
      },
      "source": [
        "energy_df.head()"
      ],
      "execution_count": 0,
      "outputs": [
        {
          "output_type": "execute_result",
          "data": {
            "text/html": [
              "<div>\n",
              "<style scoped>\n",
              "    .dataframe tbody tr th:only-of-type {\n",
              "        vertical-align: middle;\n",
              "    }\n",
              "\n",
              "    .dataframe tbody tr th {\n",
              "        vertical-align: top;\n",
              "    }\n",
              "\n",
              "    .dataframe thead th {\n",
              "        text-align: right;\n",
              "    }\n",
              "</style>\n",
              "<table border=\"1\" class=\"dataframe\">\n",
              "  <thead>\n",
              "    <tr style=\"text-align: right;\">\n",
              "      <th></th>\n",
              "      <th>date</th>\n",
              "      <th>day_of_week</th>\n",
              "      <th>hour_of_day</th>\n",
              "      <th>Appliances</th>\n",
              "    </tr>\n",
              "  </thead>\n",
              "  <tbody>\n",
              "    <tr>\n",
              "      <th>0</th>\n",
              "      <td>2016-01-11 17:00:00</td>\n",
              "      <td>0</td>\n",
              "      <td>17</td>\n",
              "      <td>60</td>\n",
              "    </tr>\n",
              "    <tr>\n",
              "      <th>1</th>\n",
              "      <td>2016-01-11 17:10:00</td>\n",
              "      <td>0</td>\n",
              "      <td>17</td>\n",
              "      <td>60</td>\n",
              "    </tr>\n",
              "    <tr>\n",
              "      <th>2</th>\n",
              "      <td>2016-01-11 17:20:00</td>\n",
              "      <td>0</td>\n",
              "      <td>17</td>\n",
              "      <td>50</td>\n",
              "    </tr>\n",
              "    <tr>\n",
              "      <th>3</th>\n",
              "      <td>2016-01-11 17:30:00</td>\n",
              "      <td>0</td>\n",
              "      <td>17</td>\n",
              "      <td>50</td>\n",
              "    </tr>\n",
              "    <tr>\n",
              "      <th>4</th>\n",
              "      <td>2016-01-11 17:40:00</td>\n",
              "      <td>0</td>\n",
              "      <td>17</td>\n",
              "      <td>60</td>\n",
              "    </tr>\n",
              "  </tbody>\n",
              "</table>\n",
              "</div>"
            ],
            "text/plain": [
              "                 date  day_of_week  hour_of_day  Appliances\n",
              "0 2016-01-11 17:00:00            0           17          60\n",
              "1 2016-01-11 17:10:00            0           17          60\n",
              "2 2016-01-11 17:20:00            0           17          50\n",
              "3 2016-01-11 17:30:00            0           17          50\n",
              "4 2016-01-11 17:40:00            0           17          60"
            ]
          },
          "metadata": {
            "tags": []
          },
          "execution_count": 22
        }
      ]
    },
    {
      "cell_type": "markdown",
      "metadata": {
        "id": "d8BJQAqaJqv7",
        "colab_type": "text"
      },
      "source": [
        "## Time Series Transformations\n",
        "\n",
        "1. The dataset is to be re-sampled at an hourly rate for more meaningful analytics.\n",
        "\n",
        "2. To alleviate exponential effects, the target variable is log-transformed as per the Uber paper.\n",
        "\n",
        "3. For simplicity and speed when running this notebook, only temporal and autoregressive features, namely `day_of_week`, `hour_of_day`, \\\n",
        "and previous values of `Appliances` are used as features"
      ]
    },
    {
      "cell_type": "code",
      "metadata": {
        "id": "LcXp9XEaJqXO",
        "colab_type": "code",
        "colab": {}
      },
      "source": [
        "import numpy as np\n",
        "\n",
        "resample_df = energy_df.set_index('date').resample('1H').mean()\n",
        "resample_df['date'] = resample_df.index\n",
        "resample_df['log_energy_consumption'] = np.log(resample_df['Appliances'])\n",
        "\n",
        "datetime_columns = ['date', 'day_of_week', 'hour_of_day']\n",
        "target_column = 'log_energy_consumption'\n",
        "\n",
        "feature_columns = datetime_columns + ['log_energy_consumption']\n",
        "\n",
        "# For clarity in visualization and presentation, \n",
        "# only consider the first 150 hours of data.\n",
        "resample_df = resample_df[feature_columns]"
      ],
      "execution_count": 0,
      "outputs": []
    },
    {
      "cell_type": "code",
      "metadata": {
        "id": "tY1pfEIGDvvc",
        "colab_type": "code",
        "outputId": "8e2c1b9a-7ba9-4519-ff66-d280c05095a7",
        "colab": {
          "base_uri": "https://localhost:8080/",
          "height": 617
        }
      },
      "source": [
        "import plotly.express as px\n",
        "\n",
        "plot_length = 150\n",
        "plot_df = resample_df.copy(deep=True).iloc[:plot_length]\n",
        "plot_df['weekday'] = plot_df['date'].dt.weekday_name\n",
        "\n",
        "fig = px.line(plot_df,\n",
        "              x=\"date\",\n",
        "              y=\"log_energy_consumption\", \n",
        "              color=\"weekday\", \n",
        "              title=\"Log of Appliance Energy Consumption vs Time\")\n",
        "fig.show()"
      ],
      "execution_count": 0,
      "outputs": [
        {
          "output_type": "display_data",
          "data": {
            "text/html": [
              "<html>\n",
              "<head><meta charset=\"utf-8\" /></head>\n",
              "<body>\n",
              "    <div>\n",
              "            <script src=\"https://cdnjs.cloudflare.com/ajax/libs/mathjax/2.7.5/MathJax.js?config=TeX-AMS-MML_SVG\"></script><script type=\"text/javascript\">if (window.MathJax) {MathJax.Hub.Config({SVG: {font: \"STIX-Web\"}});}</script>\n",
              "                <script type=\"text/javascript\">window.PlotlyConfig = {MathJaxConfig: 'local'};</script>\n",
              "        <script src=\"https://cdn.plot.ly/plotly-latest.min.js\"></script>    \n",
              "            <div id=\"c2010344-8568-409c-ba21-54ef64565715\" class=\"plotly-graph-div\" style=\"height:600px; width:100%;\"></div>\n",
              "            <script type=\"text/javascript\">\n",
              "                \n",
              "                    window.PLOTLYENV=window.PLOTLYENV || {};\n",
              "                    \n",
              "                if (document.getElementById(\"c2010344-8568-409c-ba21-54ef64565715\")) {\n",
              "                    Plotly.newPlot(\n",
              "                        'c2010344-8568-409c-ba21-54ef64565715',\n",
              "                        [{\"hoverlabel\": {\"namelength\": 0}, \"hovertemplate\": \"weekday=Monday<br>date=%{x}<br>log_energy_consumption=%{y}\", \"legendgroup\": \"weekday=Monday\", \"line\": {\"color\": \"#636efa\", \"dash\": \"solid\"}, \"mode\": \"lines\", \"name\": \"weekday=Monday\", \"showlegend\": true, \"type\": \"scatter\", \"x\": [\"2016-01-11T17:00:00\", \"2016-01-11T18:00:00\", \"2016-01-11T19:00:00\", \"2016-01-11T20:00:00\", \"2016-01-11T21:00:00\", \"2016-01-11T22:00:00\", \"2016-01-11T23:00:00\"], \"xaxis\": \"x\", \"y\": [4.007333185232471, 5.174264717878057, 5.155216522907363, 4.8283137373023015, 4.637960008811082, 5.585999438999818, 4.037186148382152], \"yaxis\": \"y\"}, {\"hoverlabel\": {\"namelength\": 0}, \"hovertemplate\": \"weekday=Tuesday<br>date=%{x}<br>log_energy_consumption=%{y}\", \"legendgroup\": \"weekday=Tuesday\", \"line\": {\"color\": \"#EF553B\", \"dash\": \"solid\"}, \"mode\": \"lines\", \"name\": \"weekday=Tuesday\", \"showlegend\": true, \"type\": \"scatter\", \"x\": [\"2016-01-12T00:00:00\", \"2016-01-12T01:00:00\", \"2016-01-12T02:00:00\", \"2016-01-12T03:00:00\", \"2016-01-12T04:00:00\", \"2016-01-12T05:00:00\", \"2016-01-12T06:00:00\", \"2016-01-12T07:00:00\", \"2016-01-12T08:00:00\", \"2016-01-12T09:00:00\", \"2016-01-12T10:00:00\", \"2016-01-12T11:00:00\", \"2016-01-12T12:00:00\", \"2016-01-12T13:00:00\", \"2016-01-12T14:00:00\", \"2016-01-12T15:00:00\", \"2016-01-12T16:00:00\", \"2016-01-12T17:00:00\", \"2016-01-12T18:00:00\", \"2016-01-12T19:00:00\", \"2016-01-12T20:00:00\", \"2016-01-12T21:00:00\", \"2016-01-12T22:00:00\", \"2016-01-12T23:00:00\"], \"xaxis\": \"x\", \"y\": [4.953476880256307, 5.12594614060725, 3.8066624897703196, 3.5553480614894135, 3.8066624897703196, 3.7689221617874726, 3.6888794541139363, 4.037186148382152, 4.4620693423474185, 3.7689221617874726, 5.438079308923196, 4.007333185232471, 5.2293244950610855, 5.02168513028284, 4.917544871030244, 3.6018680771243066, 3.6888794541139363, 5.386022946967143, 4.0661736852554045, 4.007333185232471, 3.9448128282511368, 3.7297014486341915, 3.8430301339411947, 3.7689221617874726], \"yaxis\": \"y\"}, {\"hoverlabel\": {\"namelength\": 0}, \"hovertemplate\": \"weekday=Wednesday<br>date=%{x}<br>log_energy_consumption=%{y}\", \"legendgroup\": \"weekday=Wednesday\", \"line\": {\"color\": \"#00cc96\", \"dash\": \"solid\"}, \"mode\": \"lines\", \"name\": \"weekday=Wednesday\", \"showlegend\": true, \"type\": \"scatter\", \"x\": [\"2016-01-13T00:00:00\", \"2016-01-13T01:00:00\", \"2016-01-13T02:00:00\", \"2016-01-13T03:00:00\", \"2016-01-13T04:00:00\", \"2016-01-13T05:00:00\", \"2016-01-13T06:00:00\", \"2016-01-13T07:00:00\", \"2016-01-13T08:00:00\", \"2016-01-13T09:00:00\", \"2016-01-13T10:00:00\", \"2016-01-13T11:00:00\", \"2016-01-13T12:00:00\", \"2016-01-13T13:00:00\", \"2016-01-13T14:00:00\", \"2016-01-13T15:00:00\", \"2016-01-13T16:00:00\", \"2016-01-13T17:00:00\", \"2016-01-13T18:00:00\", \"2016-01-13T19:00:00\", \"2016-01-13T20:00:00\", \"2016-01-13T21:00:00\", \"2016-01-13T22:00:00\", \"2016-01-13T23:00:00\"], \"xaxis\": \"x\", \"y\": [3.455264602932431, 3.8781214537524646, 3.8066624897703196, 3.455264602932431, 3.8066624897703196, 3.7297014486341915, 4.199705077879927, 4.148411783492376, 5.339139361068292, 5.393627546352362, 4.199705077879927, 4.0943445622221, 3.7297014486341915, 3.5553480614894135, 3.8066624897703196, 3.7297014486341915, 4.382026634673881, 4.5712686343124105, 4.715518243156957, 5.362855887685608, 5.51477192971145, 5.74726758659594, 4.880273476233012, 3.7297014486341915], \"yaxis\": \"y\"}, {\"hoverlabel\": {\"namelength\": 0}, \"hovertemplate\": \"weekday=Thursday<br>date=%{x}<br>log_energy_consumption=%{y}\", \"legendgroup\": \"weekday=Thursday\", \"line\": {\"color\": \"#ab63fa\", \"dash\": \"solid\"}, \"mode\": \"lines\", \"name\": \"weekday=Thursday\", \"showlegend\": true, \"type\": \"scatter\", \"x\": [\"2016-01-14T00:00:00\", \"2016-01-14T01:00:00\", \"2016-01-14T02:00:00\", \"2016-01-14T03:00:00\", \"2016-01-14T04:00:00\", \"2016-01-14T05:00:00\", \"2016-01-14T06:00:00\", \"2016-01-14T07:00:00\", \"2016-01-14T08:00:00\", \"2016-01-14T09:00:00\", \"2016-01-14T10:00:00\", \"2016-01-14T11:00:00\", \"2016-01-14T12:00:00\", \"2016-01-14T13:00:00\", \"2016-01-14T14:00:00\", \"2016-01-14T15:00:00\", \"2016-01-14T16:00:00\", \"2016-01-14T17:00:00\", \"2016-01-14T18:00:00\", \"2016-01-14T19:00:00\", \"2016-01-14T20:00:00\", \"2016-01-14T21:00:00\", \"2016-01-14T22:00:00\", \"2016-01-14T23:00:00\"], \"xaxis\": \"x\", \"y\": [3.8430301339411947, 3.6018680771243066, 3.7689221617874726, 3.8066624897703196, 3.5553480614894135, 3.8066624897703196, 3.6888794541139363, 5.423480509502043, 5.075173815233827, 5.12594614060725, 6.288477946988647, 5.473670254025898, 5.646624060816253, 4.248495242049359, 4.867534450455582, 3.9448128282511368, 5.731181448844316, 6.003887067106539, 5.378360074221573, 5.445299556896682, 4.700480365792417, 4.75932086581535, 3.8781214537524646, 3.6463198396951406], \"yaxis\": \"y\"}, {\"hoverlabel\": {\"namelength\": 0}, \"hovertemplate\": \"weekday=Friday<br>date=%{x}<br>log_energy_consumption=%{y}\", \"legendgroup\": \"weekday=Friday\", \"line\": {\"color\": \"#FFA15A\", \"dash\": \"solid\"}, \"mode\": \"lines\", \"name\": \"weekday=Friday\", \"showlegend\": true, \"type\": \"scatter\", \"x\": [\"2016-01-15T00:00:00\", \"2016-01-15T01:00:00\", \"2016-01-15T02:00:00\", \"2016-01-15T03:00:00\", \"2016-01-15T04:00:00\", \"2016-01-15T05:00:00\", \"2016-01-15T06:00:00\", \"2016-01-15T07:00:00\", \"2016-01-15T08:00:00\", \"2016-01-15T09:00:00\", \"2016-01-15T10:00:00\", \"2016-01-15T11:00:00\", \"2016-01-15T12:00:00\", \"2016-01-15T13:00:00\", \"2016-01-15T14:00:00\", \"2016-01-15T15:00:00\", \"2016-01-15T16:00:00\", \"2016-01-15T17:00:00\", \"2016-01-15T18:00:00\", \"2016-01-15T19:00:00\", \"2016-01-15T20:00:00\", \"2016-01-15T21:00:00\", \"2016-01-15T22:00:00\", \"2016-01-15T23:00:00\"], \"xaxis\": \"x\", \"y\": [3.9765615265657175, 3.9448128282511368, 3.8430301339411947, 3.7689221617874726, 3.912023005428146, 3.912023005428146, 3.8066624897703196, 3.9448128282511368, 5.459585514144159, 5.331107189371028, 4.8283137373023015, 4.8283137373023015, 5.3471075307174685, 5.281510248231656, 4.148411783492376, 4.037186148382152, 4.037186148382152, 4.58836306767171, 5.628819436182746, 5.393627546352362, 5.452468046375295, 5.438079308923196, 5.386022946967143, 4.148411783492376], \"yaxis\": \"y\"}, {\"hoverlabel\": {\"namelength\": 0}, \"hovertemplate\": \"weekday=Saturday<br>date=%{x}<br>log_energy_consumption=%{y}\", \"legendgroup\": \"weekday=Saturday\", \"line\": {\"color\": \"#19d3f3\", \"dash\": \"solid\"}, \"mode\": \"lines\", \"name\": \"weekday=Saturday\", \"showlegend\": true, \"type\": \"scatter\", \"x\": [\"2016-01-16T00:00:00\", \"2016-01-16T01:00:00\", \"2016-01-16T02:00:00\", \"2016-01-16T03:00:00\", \"2016-01-16T04:00:00\", \"2016-01-16T05:00:00\", \"2016-01-16T06:00:00\", \"2016-01-16T07:00:00\", \"2016-01-16T08:00:00\", \"2016-01-16T09:00:00\", \"2016-01-16T10:00:00\", \"2016-01-16T11:00:00\", \"2016-01-16T12:00:00\", \"2016-01-16T13:00:00\", \"2016-01-16T14:00:00\", \"2016-01-16T15:00:00\", \"2016-01-16T16:00:00\", \"2016-01-16T17:00:00\", \"2016-01-16T18:00:00\", \"2016-01-16T19:00:00\", \"2016-01-16T20:00:00\", \"2016-01-16T21:00:00\", \"2016-01-16T22:00:00\", \"2016-01-16T23:00:00\"], \"xaxis\": \"x\", \"y\": [3.6888794541139363, 3.9765615265657175, 3.8430301339411947, 3.7297014486341915, 3.912023005428146, 3.6888794541139363, 3.9448128282511368, 5.508037897530106, 4.941642422609304, 4.121743536410215, 4.272025739459553, 3.9765615265657175, 4.31748811353631, 4.4620693423474185, 4.272025739459553, 5.339139361068292, 4.31748811353631, 5.579729825986222, 6.159799861927197, 5.970411137910149, 4.773505500807306, 4.787491742782046, 5.135798437050262, 4.007333185232471], \"yaxis\": \"y\"}, {\"hoverlabel\": {\"namelength\": 0}, \"hovertemplate\": \"weekday=Sunday<br>date=%{x}<br>log_energy_consumption=%{y}\", \"legendgroup\": \"weekday=Sunday\", \"line\": {\"color\": \"#FF6692\", \"dash\": \"solid\"}, \"mode\": \"lines\", \"name\": \"weekday=Sunday\", \"showlegend\": true, \"type\": \"scatter\", \"x\": [\"2016-01-17T00:00:00\", \"2016-01-17T01:00:00\", \"2016-01-17T02:00:00\", \"2016-01-17T03:00:00\", \"2016-01-17T04:00:00\", \"2016-01-17T05:00:00\", \"2016-01-17T06:00:00\", \"2016-01-17T07:00:00\", \"2016-01-17T08:00:00\", \"2016-01-17T09:00:00\", \"2016-01-17T10:00:00\", \"2016-01-17T11:00:00\", \"2016-01-17T12:00:00\", \"2016-01-17T13:00:00\", \"2016-01-17T14:00:00\", \"2016-01-17T15:00:00\", \"2016-01-17T16:00:00\", \"2016-01-17T17:00:00\", \"2016-01-17T18:00:00\", \"2016-01-17T19:00:00\", \"2016-01-17T20:00:00\", \"2016-01-17T21:00:00\", \"2016-01-17T22:00:00\"], \"xaxis\": \"x\", \"y\": [3.8430301339411947, 3.9448128282511368, 3.7689221617874726, 3.912023005428146, 3.9448128282511368, 3.7689221617874726, 3.8066624897703196, 5.853159875730801, 5.604575824572753, 5.675611597689505, 4.499809670330265, 5.76309905181262, 4.773505500807306, 5.135798437050262, 4.929666231562589, 4.402645921876617, 4.402645921876617, 6.12029741895095, 5.592229988750454, 4.621699487939302, 4.700480365792417, 4.867534450455582, 4.007333185232471], \"yaxis\": \"y\"}],\n",
              "                        {\"height\": 600, \"legend\": {\"tracegroupgap\": 0}, \"template\": {\"data\": {\"bar\": [{\"error_x\": {\"color\": \"#2a3f5f\"}, \"error_y\": {\"color\": \"#2a3f5f\"}, \"marker\": {\"line\": {\"color\": \"#E5ECF6\", \"width\": 0.5}}, \"type\": \"bar\"}], \"barpolar\": [{\"marker\": {\"line\": {\"color\": \"#E5ECF6\", \"width\": 0.5}}, \"type\": \"barpolar\"}], \"carpet\": [{\"aaxis\": {\"endlinecolor\": \"#2a3f5f\", \"gridcolor\": \"white\", \"linecolor\": \"white\", \"minorgridcolor\": \"white\", \"startlinecolor\": \"#2a3f5f\"}, \"baxis\": {\"endlinecolor\": \"#2a3f5f\", \"gridcolor\": \"white\", \"linecolor\": \"white\", \"minorgridcolor\": \"white\", \"startlinecolor\": \"#2a3f5f\"}, \"type\": \"carpet\"}], \"choropleth\": [{\"colorbar\": {\"outlinewidth\": 0, \"ticks\": \"\"}, \"type\": \"choropleth\"}], \"contour\": [{\"colorbar\": {\"outlinewidth\": 0, \"ticks\": \"\"}, \"colorscale\": [[0.0, \"#0d0887\"], [0.1111111111111111, \"#46039f\"], [0.2222222222222222, \"#7201a8\"], [0.3333333333333333, \"#9c179e\"], [0.4444444444444444, \"#bd3786\"], [0.5555555555555556, \"#d8576b\"], [0.6666666666666666, \"#ed7953\"], [0.7777777777777778, \"#fb9f3a\"], [0.8888888888888888, \"#fdca26\"], [1.0, \"#f0f921\"]], \"type\": \"contour\"}], \"contourcarpet\": [{\"colorbar\": {\"outlinewidth\": 0, \"ticks\": \"\"}, \"type\": \"contourcarpet\"}], \"heatmap\": [{\"colorbar\": {\"outlinewidth\": 0, \"ticks\": \"\"}, \"colorscale\": [[0.0, \"#0d0887\"], [0.1111111111111111, \"#46039f\"], [0.2222222222222222, \"#7201a8\"], [0.3333333333333333, \"#9c179e\"], [0.4444444444444444, \"#bd3786\"], [0.5555555555555556, \"#d8576b\"], [0.6666666666666666, \"#ed7953\"], [0.7777777777777778, \"#fb9f3a\"], [0.8888888888888888, \"#fdca26\"], [1.0, \"#f0f921\"]], \"type\": \"heatmap\"}], \"heatmapgl\": [{\"colorbar\": {\"outlinewidth\": 0, \"ticks\": \"\"}, \"colorscale\": [[0.0, \"#0d0887\"], [0.1111111111111111, \"#46039f\"], [0.2222222222222222, \"#7201a8\"], [0.3333333333333333, \"#9c179e\"], [0.4444444444444444, \"#bd3786\"], [0.5555555555555556, \"#d8576b\"], [0.6666666666666666, \"#ed7953\"], [0.7777777777777778, \"#fb9f3a\"], [0.8888888888888888, \"#fdca26\"], [1.0, \"#f0f921\"]], \"type\": \"heatmapgl\"}], \"histogram\": [{\"marker\": {\"colorbar\": {\"outlinewidth\": 0, \"ticks\": \"\"}}, \"type\": \"histogram\"}], \"histogram2d\": [{\"colorbar\": {\"outlinewidth\": 0, \"ticks\": \"\"}, \"colorscale\": [[0.0, \"#0d0887\"], [0.1111111111111111, \"#46039f\"], [0.2222222222222222, \"#7201a8\"], [0.3333333333333333, \"#9c179e\"], [0.4444444444444444, \"#bd3786\"], [0.5555555555555556, \"#d8576b\"], [0.6666666666666666, \"#ed7953\"], [0.7777777777777778, \"#fb9f3a\"], [0.8888888888888888, \"#fdca26\"], [1.0, \"#f0f921\"]], \"type\": \"histogram2d\"}], \"histogram2dcontour\": [{\"colorbar\": {\"outlinewidth\": 0, \"ticks\": \"\"}, \"colorscale\": [[0.0, \"#0d0887\"], [0.1111111111111111, \"#46039f\"], [0.2222222222222222, \"#7201a8\"], [0.3333333333333333, \"#9c179e\"], [0.4444444444444444, \"#bd3786\"], [0.5555555555555556, \"#d8576b\"], [0.6666666666666666, \"#ed7953\"], [0.7777777777777778, \"#fb9f3a\"], [0.8888888888888888, \"#fdca26\"], [1.0, \"#f0f921\"]], \"type\": \"histogram2dcontour\"}], \"mesh3d\": [{\"colorbar\": {\"outlinewidth\": 0, \"ticks\": \"\"}, \"type\": \"mesh3d\"}], \"parcoords\": [{\"line\": {\"colorbar\": {\"outlinewidth\": 0, \"ticks\": \"\"}}, \"type\": \"parcoords\"}], \"scatter\": [{\"marker\": {\"colorbar\": {\"outlinewidth\": 0, \"ticks\": \"\"}}, \"type\": \"scatter\"}], \"scatter3d\": [{\"line\": {\"colorbar\": {\"outlinewidth\": 0, \"ticks\": \"\"}}, \"marker\": {\"colorbar\": {\"outlinewidth\": 0, \"ticks\": \"\"}}, \"type\": \"scatter3d\"}], \"scattercarpet\": [{\"marker\": {\"colorbar\": {\"outlinewidth\": 0, \"ticks\": \"\"}}, \"type\": \"scattercarpet\"}], \"scattergeo\": [{\"marker\": {\"colorbar\": {\"outlinewidth\": 0, \"ticks\": \"\"}}, \"type\": \"scattergeo\"}], \"scattergl\": [{\"marker\": {\"colorbar\": {\"outlinewidth\": 0, \"ticks\": \"\"}}, \"type\": \"scattergl\"}], \"scattermapbox\": [{\"marker\": {\"colorbar\": {\"outlinewidth\": 0, \"ticks\": \"\"}}, \"type\": \"scattermapbox\"}], \"scatterpolar\": [{\"marker\": {\"colorbar\": {\"outlinewidth\": 0, \"ticks\": \"\"}}, \"type\": \"scatterpolar\"}], \"scatterpolargl\": [{\"marker\": {\"colorbar\": {\"outlinewidth\": 0, \"ticks\": \"\"}}, \"type\": \"scatterpolargl\"}], \"scatterternary\": [{\"marker\": {\"colorbar\": {\"outlinewidth\": 0, \"ticks\": \"\"}}, \"type\": \"scatterternary\"}], \"surface\": [{\"colorbar\": {\"outlinewidth\": 0, \"ticks\": \"\"}, \"colorscale\": [[0.0, \"#0d0887\"], [0.1111111111111111, \"#46039f\"], [0.2222222222222222, \"#7201a8\"], [0.3333333333333333, \"#9c179e\"], [0.4444444444444444, \"#bd3786\"], [0.5555555555555556, \"#d8576b\"], [0.6666666666666666, \"#ed7953\"], [0.7777777777777778, \"#fb9f3a\"], [0.8888888888888888, \"#fdca26\"], [1.0, \"#f0f921\"]], \"type\": \"surface\"}], \"table\": [{\"cells\": {\"fill\": {\"color\": \"#EBF0F8\"}, \"line\": {\"color\": \"white\"}}, \"header\": {\"fill\": {\"color\": \"#C8D4E3\"}, \"line\": {\"color\": \"white\"}}, \"type\": \"table\"}]}, \"layout\": {\"annotationdefaults\": {\"arrowcolor\": \"#2a3f5f\", \"arrowhead\": 0, \"arrowwidth\": 1}, \"colorscale\": {\"diverging\": [[0, \"#8e0152\"], [0.1, \"#c51b7d\"], [0.2, \"#de77ae\"], [0.3, \"#f1b6da\"], [0.4, \"#fde0ef\"], [0.5, \"#f7f7f7\"], [0.6, \"#e6f5d0\"], [0.7, \"#b8e186\"], [0.8, \"#7fbc41\"], [0.9, \"#4d9221\"], [1, \"#276419\"]], \"sequential\": [[0.0, \"#0d0887\"], [0.1111111111111111, \"#46039f\"], [0.2222222222222222, \"#7201a8\"], [0.3333333333333333, \"#9c179e\"], [0.4444444444444444, \"#bd3786\"], [0.5555555555555556, \"#d8576b\"], [0.6666666666666666, \"#ed7953\"], [0.7777777777777778, \"#fb9f3a\"], [0.8888888888888888, \"#fdca26\"], [1.0, \"#f0f921\"]], \"sequentialminus\": [[0.0, \"#0d0887\"], [0.1111111111111111, \"#46039f\"], [0.2222222222222222, \"#7201a8\"], [0.3333333333333333, \"#9c179e\"], [0.4444444444444444, \"#bd3786\"], [0.5555555555555556, \"#d8576b\"], [0.6666666666666666, \"#ed7953\"], [0.7777777777777778, \"#fb9f3a\"], [0.8888888888888888, \"#fdca26\"], [1.0, \"#f0f921\"]]}, \"colorway\": [\"#636efa\", \"#EF553B\", \"#00cc96\", \"#ab63fa\", \"#FFA15A\", \"#19d3f3\", \"#FF6692\", \"#B6E880\", \"#FF97FF\", \"#FECB52\"], \"font\": {\"color\": \"#2a3f5f\"}, \"geo\": {\"bgcolor\": \"white\", \"lakecolor\": \"white\", \"landcolor\": \"#E5ECF6\", \"showlakes\": true, \"showland\": true, \"subunitcolor\": \"white\"}, \"hoverlabel\": {\"align\": \"left\"}, \"hovermode\": \"closest\", \"mapbox\": {\"style\": \"light\"}, \"paper_bgcolor\": \"white\", \"plot_bgcolor\": \"#E5ECF6\", \"polar\": {\"angularaxis\": {\"gridcolor\": \"white\", \"linecolor\": \"white\", \"ticks\": \"\"}, \"bgcolor\": \"#E5ECF6\", \"radialaxis\": {\"gridcolor\": \"white\", \"linecolor\": \"white\", \"ticks\": \"\"}}, \"scene\": {\"xaxis\": {\"backgroundcolor\": \"#E5ECF6\", \"gridcolor\": \"white\", \"gridwidth\": 2, \"linecolor\": \"white\", \"showbackground\": true, \"ticks\": \"\", \"zerolinecolor\": \"white\"}, \"yaxis\": {\"backgroundcolor\": \"#E5ECF6\", \"gridcolor\": \"white\", \"gridwidth\": 2, \"linecolor\": \"white\", \"showbackground\": true, \"ticks\": \"\", \"zerolinecolor\": \"white\"}, \"zaxis\": {\"backgroundcolor\": \"#E5ECF6\", \"gridcolor\": \"white\", \"gridwidth\": 2, \"linecolor\": \"white\", \"showbackground\": true, \"ticks\": \"\", \"zerolinecolor\": \"white\"}}, \"shapedefaults\": {\"line\": {\"color\": \"#2a3f5f\"}}, \"ternary\": {\"aaxis\": {\"gridcolor\": \"white\", \"linecolor\": \"white\", \"ticks\": \"\"}, \"baxis\": {\"gridcolor\": \"white\", \"linecolor\": \"white\", \"ticks\": \"\"}, \"bgcolor\": \"#E5ECF6\", \"caxis\": {\"gridcolor\": \"white\", \"linecolor\": \"white\", \"ticks\": \"\"}}, \"title\": {\"x\": 0.05}, \"xaxis\": {\"automargin\": true, \"gridcolor\": \"white\", \"linecolor\": \"white\", \"ticks\": \"\", \"zerolinecolor\": \"white\", \"zerolinewidth\": 2}, \"yaxis\": {\"automargin\": true, \"gridcolor\": \"white\", \"linecolor\": \"white\", \"ticks\": \"\", \"zerolinecolor\": \"white\", \"zerolinewidth\": 2}}}, \"title\": {\"text\": \"Log of Appliance Energy Consumption vs Time\"}, \"xaxis\": {\"anchor\": \"y\", \"domain\": [0.0, 0.98], \"title\": {\"text\": \"date\"}}, \"yaxis\": {\"anchor\": \"x\", \"domain\": [0.0, 1.0], \"title\": {\"text\": \"log_energy_consumption\"}}},\n",
              "                        {\"responsive\": true}\n",
              "                    ).then(function(){\n",
              "                            \n",
              "var gd = document.getElementById('c2010344-8568-409c-ba21-54ef64565715');\n",
              "var x = new MutationObserver(function (mutations, observer) {{\n",
              "        var display = window.getComputedStyle(gd).display;\n",
              "        if (!display || display === 'none') {{\n",
              "            console.log([gd, 'removed!']);\n",
              "            Plotly.purge(gd);\n",
              "            observer.disconnect();\n",
              "        }}\n",
              "}});\n",
              "\n",
              "// Listen for the removal of the full notebook cells\n",
              "var notebookContainer = gd.closest('#notebook-container');\n",
              "if (notebookContainer) {{\n",
              "    x.observe(notebookContainer, {childList: true});\n",
              "}}\n",
              "\n",
              "// Listen for the clearing of the current output cell\n",
              "var outputEl = gd.closest('.output');\n",
              "if (outputEl) {{\n",
              "    x.observe(outputEl, {childList: true});\n",
              "}}\n",
              "\n",
              "                        })\n",
              "                };\n",
              "                \n",
              "            </script>\n",
              "        </div>\n",
              "</body>\n",
              "</html>"
            ]
          },
          "metadata": {
            "tags": []
          }
        }
      ]
    },
    {
      "cell_type": "markdown",
      "metadata": {
        "id": "aFnQ3txg_2lj",
        "colab_type": "text"
      },
      "source": [
        "# Prepare Training Data"
      ]
    },
    {
      "cell_type": "markdown",
      "metadata": {
        "id": "9gUa6m83NgDn",
        "colab_type": "text"
      },
      "source": [
        "For this example, we will use sliding windows of 10 points per each window (equivalent to 10 hours) to predict each next point. The window size can be altered via the `sequence_length` variable.\n",
        "\n",
        "Min-Max scaling has also been fitted to the training data to aid the convergence of the neural network. "
      ]
    },
    {
      "cell_type": "code",
      "metadata": {
        "id": "aKQHyh5rRVVj",
        "colab_type": "code",
        "colab": {}
      },
      "source": [
        "from sklearn.preprocessing import MinMaxScaler\n",
        "\n",
        "def create_sliding_window(data, sequence_length, stride=1):\n",
        "    X_list, y_list = [], []\n",
        "    for i in range(len(data)):\n",
        "      if (i + sequence_length) < len(data):\n",
        "        X_list.append(data.iloc[i:i+sequence_length:stride, :].values)\n",
        "        y_list.append(data.iloc[i+sequence_length, -1])\n",
        "    return np.array(X_list), np.array(y_list)\n",
        "\n",
        "train_split = 0.7\n",
        "n_train = int(train_split * len(resample_df))\n",
        "n_test = len(resample_df) - n_train\n",
        "\n",
        "features = ['day_of_week', 'hour_of_day', 'log_energy_consumption']\n",
        "feature_array = resample_df[features].values\n",
        "\n",
        "# Fit Scaler only on Training features\n",
        "feature_scaler = MinMaxScaler()\n",
        "feature_scaler.fit(feature_array[:n_train])\n",
        "# Fit Scaler only on Training target values\n",
        "target_scaler = MinMaxScaler()\n",
        "target_scaler.fit(feature_array[:n_train, -1].reshape(-1, 1))\n",
        "\n",
        "# Transfom on both Training and Test data\n",
        "scaled_array = pd.DataFrame(feature_scaler.transform(feature_array),\n",
        "                            columns=features)\n",
        "\n",
        "sequence_length = 10\n",
        "X, y = create_sliding_window(scaled_array, \n",
        "                             sequence_length)\n",
        "\n",
        "X_train = X[:n_train]\n",
        "y_train = y[:n_train]\n",
        "\n",
        "X_test = X[n_train:]\n",
        "y_test = y[n_train:]"
      ],
      "execution_count": 0,
      "outputs": []
    },
    {
      "cell_type": "markdown",
      "metadata": {
        "id": "Ue1JcZm_bgsd",
        "colab_type": "text"
      },
      "source": [
        "# Define Bayesian LSTM Architecture"
      ]
    },
    {
      "cell_type": "markdown",
      "metadata": {
        "id": "VNag-wa-04WZ",
        "colab_type": "text"
      },
      "source": [
        "To demonstrate a simple working example of the Bayesian LSTM, the model as defined in Uber's paper has been used a starting point. The network architecture is as follows:\n",
        "\n",
        "Encoder-Decoder Stage:\n",
        " - 1 uni-directional LSTM layer with 128 hidden units acts as an encoding layer to construct a fixed-dimension embedding state\n",
        " - 1 uni-directional LSTM layer with 32 hidden units acts as a decoding layer to produce predictions at future steps\n",
        " - Dropout is applied at **both** training and inference for both LSTM layers\n",
        "\n",
        "\n",
        " Predictor Stage:\n",
        " - 1 fully-connected output layer with 1 output (for predicting the target value) to produce a single value for the target variable\n",
        "\n",
        "\n",
        "By allowing dropout at both training and testing time, the model simulates random sampling, thus allowing varying predictions that can be used to estimate the underlying distribution of the target value, enabling explicit model uncertainties.\n"
      ]
    },
    {
      "cell_type": "code",
      "metadata": {
        "id": "OgWyOffPbO0b",
        "colab_type": "code",
        "colab": {}
      },
      "source": [
        "import torch\n",
        "import torch.nn as nn\n",
        "import torch.nn.functional as F\n",
        "from torch.autograd import Variable\n",
        "\n",
        "class BayesianLSTM(nn.Module):\n",
        "\n",
        "    def __init__(self, n_features, output_length):\n",
        "\n",
        "        super(BayesianLSTM, self).__init__()\n",
        "\n",
        "        self.hidden_size_1 = 128\n",
        "        self.hidden_size_2 = 32\n",
        "        self.n_layers = 1 # number of (stacked) LSTM layers for each stage\n",
        "\n",
        "        self.lstm1 = nn.LSTM(n_features, \n",
        "                             self.hidden_size_1, \n",
        "                             num_layers=1,\n",
        "                             batch_first=True)\n",
        "        self.lstm2 = nn.LSTM(self.hidden_size_1,\n",
        "                             self.hidden_size_2,\n",
        "                             num_layers=1,\n",
        "                             batch_first=True)\n",
        "        \n",
        "        self.dense = nn.Linear(self.hidden_size_2, output_length)\n",
        "        self.loss_fn = nn.MSELoss()\n",
        "        \n",
        "    def forward(self, x):\n",
        "        batch_size, seq_len, _ = x.size()\n",
        "\n",
        "        hidden = self.init_hidden1(batch_size)\n",
        "        output, _ = self.lstm1(x, hidden)\n",
        "        output = F.dropout(output, p=0.5, training=True)\n",
        "        state = self.init_hidden2(batch_size)\n",
        "        output, state = self.lstm2(output, state)\n",
        "        output = F.dropout(output, p=0.5, training=True)\n",
        "        output = self.dense(state[0].squeeze(0))\n",
        "        \n",
        "        return output\n",
        "        \n",
        "    def init_hidden1(self, batch_size):\n",
        "        hidden_state = Variable(torch.zeros(self.n_layers, batch_size, self.hidden_size_1))\n",
        "        cell_state = Variable(torch.zeros(self.n_layers, batch_size, self.hidden_size_1))\n",
        "        return hidden_state, cell_state\n",
        "    \n",
        "    def init_hidden2(self, batch_size):\n",
        "        hidden_state = Variable(torch.zeros(self.n_layers, batch_size, self.hidden_size_2))\n",
        "        cell_state = Variable(torch.zeros(self.n_layers, batch_size, self.hidden_size_2))\n",
        "        return hidden_state, cell_state\n",
        "    \n",
        "    def loss(self, pred, truth):\n",
        "        return self.loss_fn(pred, truth)\n",
        "\n",
        "    def predict(self, X):\n",
        "        return self(torch.tensor(X, dtype=torch.float32)).view(-1).detach().numpy()"
      ],
      "execution_count": 0,
      "outputs": []
    },
    {
      "cell_type": "markdown",
      "metadata": {
        "id": "DQ8JLm-ShlaU",
        "colab_type": "text"
      },
      "source": [
        "### Begin Training"
      ]
    },
    {
      "cell_type": "markdown",
      "metadata": {
        "id": "015pu48r3X1F",
        "colab_type": "text"
      },
      "source": [
        "To train the Bayesian LSTM, we use the ADAM optimizer along with mini-batch gradient descent (`batch_size = 128`). For quick demonstration purposes, the model is trained for 150 epochs.\n",
        "\n",
        "The Bayesian LSTM is trained on the first 70% of data points, using the aforementioned sliding windows of size 10. The remaining 30% of the dataset is held out purely for testing."
      ]
    },
    {
      "cell_type": "code",
      "metadata": {
        "id": "47X-uO6UhbCy",
        "colab_type": "code",
        "colab": {}
      },
      "source": [
        "n_features = scaled_array.shape[-1]\n",
        "sequence_length = 10\n",
        "output_length = 1\n",
        "\n",
        "bayesian_lstm = BayesianLSTM(n_features=n_features,\n",
        "                             output_length=output_length)\n",
        "\n",
        "criterion = torch.nn.MSELoss()\n",
        "optimizer = torch.optim.Adam(bayesian_lstm.parameters(), lr=0.01)\n",
        "\n",
        "batch_size = 128\n",
        "n_epochs = 150"
      ],
      "execution_count": 0,
      "outputs": []
    },
    {
      "cell_type": "code",
      "metadata": {
        "id": "7iZ__nxaCzZE",
        "colab_type": "code",
        "outputId": "1b6490bb-26c7-4c94-a3c9-37682da49cef",
        "colab": {
          "base_uri": "https://localhost:8080/",
          "height": 272
        }
      },
      "source": [
        "bayesian_lstm.train()\n",
        "\n",
        "for e in range(1, n_epochs+1):\n",
        "    for b in range(0,len(X_train),batch_size):\n",
        "        features = X_train[b:b+batch_size,:,:]\n",
        "        target = y_train[b:b+batch_size]    \n",
        "\n",
        "        X_batch = torch.tensor(features,dtype=torch.float32)    \n",
        "        y_batch = torch.tensor(target,dtype=torch.float32)\n",
        "\n",
        "        output = bayesian_lstm(X_batch) \n",
        "        loss = criterion(output.view(-1), y_batch)  \n",
        "\n",
        "        loss.backward()\n",
        "        optimizer.step()        \n",
        "        optimizer.zero_grad() \n",
        "\n",
        "    if e % 10 == 0:\n",
        "      print('epoch: ', e, 'loss: ', loss.item())"
      ],
      "execution_count": 0,
      "outputs": [
        {
          "output_type": "stream",
          "text": [
            "epoch:  10 loss:  0.01830802857875824\n",
            "epoch:  20 loss:  0.017295634374022484\n",
            "epoch:  30 loss:  0.015891415998339653\n",
            "epoch:  40 loss:  0.013650916516780853\n",
            "epoch:  50 loss:  0.015730736777186394\n",
            "epoch:  60 loss:  0.01517499890178442\n",
            "epoch:  70 loss:  0.01530358288437128\n",
            "epoch:  80 loss:  0.015166507102549076\n",
            "epoch:  90 loss:  0.015249445103108883\n",
            "epoch:  100 loss:  0.014656057581305504\n",
            "epoch:  110 loss:  0.013323427177965641\n",
            "epoch:  120 loss:  0.011527282185852528\n",
            "epoch:  130 loss:  0.011027414351701736\n",
            "epoch:  140 loss:  0.00968537013977766\n",
            "epoch:  150 loss:  0.008140677586197853\n"
          ],
          "name": "stdout"
        }
      ]
    },
    {
      "cell_type": "markdown",
      "metadata": {
        "id": "vUS459C6ro22",
        "colab_type": "text"
      },
      "source": [
        "# Evaluating Model Performance"
      ]
    },
    {
      "cell_type": "markdown",
      "metadata": {
        "id": "iGYj2vTl311y",
        "colab_type": "text"
      },
      "source": [
        "The Bayesian LSTM implemented is shown to produce reasonably accurate and sensible results on both the training and test sets, often comparable to other existing frequentist machine learning and deep learning methods.\n",
        "\n"
      ]
    },
    {
      "cell_type": "code",
      "metadata": {
        "id": "C-1VXE3_VH_0",
        "colab_type": "code",
        "colab": {}
      },
      "source": [
        "offset = sequence_length\n",
        "\n",
        "def inverse_transform(y):\n",
        "  return target_scaler.inverse_transform(y.reshape(-1, 1))\n",
        "\n",
        "training_df = pd.DataFrame()\n",
        "training_df['date'] = resample_df['date'].iloc[offset:n_train + offset:1] \n",
        "training_predictions = bayesian_lstm.predict(X_train)\n",
        "training_df['log_energy_consumption'] = inverse_transform(training_predictions)\n",
        "training_df['source'] = 'Training Prediction'\n",
        "\n",
        "training_truth_df = pd.DataFrame()\n",
        "training_truth_df['date'] = training_df['date']\n",
        "training_truth_df['log_energy_consumption'] = resample_df['log_energy_consumption'].iloc[offset:n_train + offset:1] \n",
        "training_truth_df['source'] = 'True Values'\n",
        "\n",
        "testing_df = pd.DataFrame()\n",
        "testing_df['date'] = resample_df['date'].iloc[n_train + offset::1] \n",
        "testing_predictions = bayesian_lstm.predict(X_test)\n",
        "testing_df['log_energy_consumption'] = inverse_transform(testing_predictions)\n",
        "testing_df['source'] = 'Test Prediction'\n",
        "\n",
        "testing_truth_df = pd.DataFrame()\n",
        "testing_truth_df['date'] = testing_df['date']\n",
        "testing_truth_df['log_energy_consumption'] = resample_df['log_energy_consumption'].iloc[n_train + offset::1] \n",
        "testing_truth_df['source'] = 'True Values'\n",
        "\n",
        "evaluation = pd.concat([training_df, \n",
        "                        testing_df,\n",
        "                        training_truth_df,\n",
        "                        testing_truth_df\n",
        "                        ], axis=0)"
      ],
      "execution_count": 0,
      "outputs": []
    },
    {
      "cell_type": "code",
      "metadata": {
        "id": "uXQJwRO2FZio",
        "colab_type": "code",
        "outputId": "39099fa1-ce91-4ac4-e0af-a91823c67d68",
        "colab": {
          "base_uri": "https://localhost:8080/",
          "height": 617
        }
      },
      "source": [
        "fig = px.line(evaluation.loc[evaluation['date'].between('2016-04-14', '2016-04-23')],\n",
        "                 x=\"date\",\n",
        "                 y=\"log_energy_consumption\",\n",
        "                 color=\"source\",\n",
        "                 title=\"Log of Appliance Energy Consumption in Wh vs Time\")\n",
        "fig.show()"
      ],
      "execution_count": 0,
      "outputs": [
        {
          "output_type": "display_data",
          "data": {
            "text/html": [
              "<html>\n",
              "<head><meta charset=\"utf-8\" /></head>\n",
              "<body>\n",
              "    <div>\n",
              "            <script src=\"https://cdnjs.cloudflare.com/ajax/libs/mathjax/2.7.5/MathJax.js?config=TeX-AMS-MML_SVG\"></script><script type=\"text/javascript\">if (window.MathJax) {MathJax.Hub.Config({SVG: {font: \"STIX-Web\"}});}</script>\n",
              "                <script type=\"text/javascript\">window.PlotlyConfig = {MathJaxConfig: 'local'};</script>\n",
              "        <script src=\"https://cdn.plot.ly/plotly-latest.min.js\"></script>    \n",
              "            <div id=\"420502e6-048c-4a6a-8e21-edb991c44682\" class=\"plotly-graph-div\" style=\"height:600px; width:100%;\"></div>\n",
              "            <script type=\"text/javascript\">\n",
              "                \n",
              "                    window.PLOTLYENV=window.PLOTLYENV || {};\n",
              "                    \n",
              "                if (document.getElementById(\"420502e6-048c-4a6a-8e21-edb991c44682\")) {\n",
              "                    Plotly.newPlot(\n",
              "                        '420502e6-048c-4a6a-8e21-edb991c44682',\n",
              "                        [{\"hoverlabel\": {\"namelength\": 0}, \"hovertemplate\": \"source=Training Prediction<br>date=%{x}<br>log_energy_consumption=%{y}\", \"legendgroup\": \"source=Training Prediction\", \"line\": {\"color\": \"#636efa\", \"dash\": \"solid\"}, \"mode\": \"lines\", \"name\": \"source=Training Prediction\", \"showlegend\": true, \"type\": \"scatter\", \"x\": [\"2016-04-14T00:00:00\", \"2016-04-14T01:00:00\", \"2016-04-14T02:00:00\", \"2016-04-14T03:00:00\", \"2016-04-14T04:00:00\", \"2016-04-14T05:00:00\", \"2016-04-14T06:00:00\", \"2016-04-14T07:00:00\", \"2016-04-14T08:00:00\", \"2016-04-14T09:00:00\", \"2016-04-14T10:00:00\", \"2016-04-14T11:00:00\", \"2016-04-14T12:00:00\", \"2016-04-14T13:00:00\", \"2016-04-14T14:00:00\", \"2016-04-14T15:00:00\", \"2016-04-14T16:00:00\", \"2016-04-14T17:00:00\", \"2016-04-14T18:00:00\", \"2016-04-14T19:00:00\", \"2016-04-14T20:00:00\", \"2016-04-14T21:00:00\", \"2016-04-14T22:00:00\", \"2016-04-14T23:00:00\", \"2016-04-15T00:00:00\", \"2016-04-15T01:00:00\", \"2016-04-15T02:00:00\", \"2016-04-15T03:00:00\", \"2016-04-15T04:00:00\", \"2016-04-15T05:00:00\", \"2016-04-15T06:00:00\", \"2016-04-15T07:00:00\", \"2016-04-15T08:00:00\", \"2016-04-15T09:00:00\", \"2016-04-15T10:00:00\", \"2016-04-15T11:00:00\", \"2016-04-15T12:00:00\", \"2016-04-15T13:00:00\", \"2016-04-15T14:00:00\", \"2016-04-15T15:00:00\", \"2016-04-15T16:00:00\", \"2016-04-15T17:00:00\", \"2016-04-15T18:00:00\", \"2016-04-15T19:00:00\", \"2016-04-15T20:00:00\", \"2016-04-15T21:00:00\", \"2016-04-15T22:00:00\", \"2016-04-15T23:00:00\", \"2016-04-16T00:00:00\", \"2016-04-16T01:00:00\", \"2016-04-16T02:00:00\", \"2016-04-16T03:00:00\", \"2016-04-16T04:00:00\", \"2016-04-16T05:00:00\", \"2016-04-16T06:00:00\", \"2016-04-16T07:00:00\", \"2016-04-16T08:00:00\", \"2016-04-16T09:00:00\", \"2016-04-16T10:00:00\", \"2016-04-16T11:00:00\", \"2016-04-16T12:00:00\", \"2016-04-16T13:00:00\", \"2016-04-16T14:00:00\", \"2016-04-16T15:00:00\", \"2016-04-16T16:00:00\", \"2016-04-16T17:00:00\", \"2016-04-16T18:00:00\", \"2016-04-16T19:00:00\", \"2016-04-16T20:00:00\", \"2016-04-16T21:00:00\", \"2016-04-16T22:00:00\", \"2016-04-16T23:00:00\", \"2016-04-17T00:00:00\", \"2016-04-17T01:00:00\"], \"xaxis\": \"x\", \"y\": [3.9098472595214844, 3.9040744304656982, 3.902177572250366, 3.9291067123413086, 3.945051670074463, 4.015601634979248, 4.530618190765381, 4.724287509918213, 4.769599914550781, 4.530705451965332, 4.483973503112793, 4.707906246185303, 4.40192985534668, 4.256863594055176, 4.380743503570557, 4.516192436218262, 4.80839204788208, 5.8899455070495605, 5.690948486328125, 5.429354667663574, 4.963670253753662, 4.117367744445801, 4.01762580871582, 3.9161758422851562, 3.8971590995788574, 3.9042136669158936, 3.9297239780426025, 3.883798837661743, 3.931130886077881, 4.05735969543457, 4.3583455085754395, 5.45957088470459, 5.640151023864746, 5.177613735198975, 6.164480686187744, 5.02583122253418, 4.567074775695801, 4.246406078338623, 4.171205997467041, 4.212210178375244, 4.319002151489258, 4.417588233947754, 5.0141191482543945, 5.134275913238525, 4.805058002471924, 4.699226379394531, 4.099896430969238, 4.033244609832764, 3.916546583175659, 3.9353251457214355, 3.9095778465270996, 3.8937301635742188, 3.90482759475708, 3.93375563621521, 3.9964792728424072, 4.145430564880371, 4.445082664489746, 4.677784442901611, 5.099343299865723, 5.33812141418457, 5.5421142578125, 5.156581401824951, 5.275717258453369, 4.666861534118652, 6.031371116638184, 5.380952835083008, 4.771856784820557, 4.81512451171875, 4.430230617523193, 4.303582668304443, 4.102717399597168, 3.9616005420684814, 3.9460854530334473, 3.9041149616241455], \"yaxis\": \"y\"}, {\"hoverlabel\": {\"namelength\": 0}, \"hovertemplate\": \"source=Test Prediction<br>date=%{x}<br>log_energy_consumption=%{y}\", \"legendgroup\": \"source=Test Prediction\", \"line\": {\"color\": \"#EF553B\", \"dash\": \"solid\"}, \"mode\": \"lines\", \"name\": \"source=Test Prediction\", \"showlegend\": true, \"type\": \"scatter\", \"x\": [\"2016-04-17T02:00:00\", \"2016-04-17T03:00:00\", \"2016-04-17T04:00:00\", \"2016-04-17T05:00:00\", \"2016-04-17T06:00:00\", \"2016-04-17T07:00:00\", \"2016-04-17T08:00:00\", \"2016-04-17T09:00:00\", \"2016-04-17T10:00:00\", \"2016-04-17T11:00:00\", \"2016-04-17T12:00:00\", \"2016-04-17T13:00:00\", \"2016-04-17T14:00:00\", \"2016-04-17T15:00:00\", \"2016-04-17T16:00:00\", \"2016-04-17T17:00:00\", \"2016-04-17T18:00:00\", \"2016-04-17T19:00:00\", \"2016-04-17T20:00:00\", \"2016-04-17T21:00:00\", \"2016-04-17T22:00:00\", \"2016-04-17T23:00:00\", \"2016-04-18T00:00:00\", \"2016-04-18T01:00:00\", \"2016-04-18T02:00:00\", \"2016-04-18T03:00:00\", \"2016-04-18T04:00:00\", \"2016-04-18T05:00:00\", \"2016-04-18T06:00:00\", \"2016-04-18T07:00:00\", \"2016-04-18T08:00:00\", \"2016-04-18T09:00:00\", \"2016-04-18T10:00:00\", \"2016-04-18T11:00:00\", \"2016-04-18T12:00:00\", \"2016-04-18T13:00:00\", \"2016-04-18T14:00:00\", \"2016-04-18T15:00:00\", \"2016-04-18T16:00:00\", \"2016-04-18T17:00:00\", \"2016-04-18T18:00:00\", \"2016-04-18T19:00:00\", \"2016-04-18T20:00:00\", \"2016-04-18T21:00:00\", \"2016-04-18T22:00:00\", \"2016-04-18T23:00:00\", \"2016-04-19T00:00:00\", \"2016-04-19T01:00:00\", \"2016-04-19T02:00:00\", \"2016-04-19T03:00:00\", \"2016-04-19T04:00:00\", \"2016-04-19T05:00:00\", \"2016-04-19T06:00:00\", \"2016-04-19T07:00:00\", \"2016-04-19T08:00:00\", \"2016-04-19T09:00:00\", \"2016-04-19T10:00:00\", \"2016-04-19T11:00:00\", \"2016-04-19T12:00:00\", \"2016-04-19T13:00:00\", \"2016-04-19T14:00:00\", \"2016-04-19T15:00:00\", \"2016-04-19T16:00:00\", \"2016-04-19T17:00:00\", \"2016-04-19T18:00:00\", \"2016-04-19T19:00:00\", \"2016-04-19T20:00:00\", \"2016-04-19T21:00:00\", \"2016-04-19T22:00:00\", \"2016-04-19T23:00:00\", \"2016-04-20T00:00:00\", \"2016-04-20T01:00:00\", \"2016-04-20T02:00:00\", \"2016-04-20T03:00:00\", \"2016-04-20T04:00:00\", \"2016-04-20T05:00:00\", \"2016-04-20T06:00:00\", \"2016-04-20T07:00:00\", \"2016-04-20T08:00:00\", \"2016-04-20T09:00:00\", \"2016-04-20T10:00:00\", \"2016-04-20T11:00:00\", \"2016-04-20T12:00:00\", \"2016-04-20T13:00:00\", \"2016-04-20T14:00:00\", \"2016-04-20T15:00:00\", \"2016-04-20T16:00:00\", \"2016-04-20T17:00:00\", \"2016-04-20T18:00:00\", \"2016-04-20T19:00:00\", \"2016-04-20T20:00:00\", \"2016-04-20T21:00:00\", \"2016-04-20T22:00:00\", \"2016-04-20T23:00:00\", \"2016-04-21T00:00:00\", \"2016-04-21T01:00:00\", \"2016-04-21T02:00:00\", \"2016-04-21T03:00:00\", \"2016-04-21T04:00:00\", \"2016-04-21T05:00:00\", \"2016-04-21T06:00:00\", \"2016-04-21T07:00:00\", \"2016-04-21T08:00:00\", \"2016-04-21T09:00:00\", \"2016-04-21T10:00:00\", \"2016-04-21T11:00:00\", \"2016-04-21T12:00:00\", \"2016-04-21T13:00:00\", \"2016-04-21T14:00:00\", \"2016-04-21T15:00:00\", \"2016-04-21T16:00:00\", \"2016-04-21T17:00:00\", \"2016-04-21T18:00:00\", \"2016-04-21T19:00:00\", \"2016-04-21T20:00:00\", \"2016-04-21T21:00:00\", \"2016-04-21T22:00:00\", \"2016-04-21T23:00:00\", \"2016-04-22T00:00:00\", \"2016-04-22T01:00:00\", \"2016-04-22T02:00:00\", \"2016-04-22T03:00:00\", \"2016-04-22T04:00:00\", \"2016-04-22T05:00:00\", \"2016-04-22T06:00:00\", \"2016-04-22T07:00:00\", \"2016-04-22T08:00:00\", \"2016-04-22T09:00:00\", \"2016-04-22T10:00:00\", \"2016-04-22T11:00:00\", \"2016-04-22T12:00:00\", \"2016-04-22T13:00:00\", \"2016-04-22T14:00:00\", \"2016-04-22T15:00:00\", \"2016-04-22T16:00:00\", \"2016-04-22T17:00:00\", \"2016-04-22T18:00:00\", \"2016-04-22T19:00:00\", \"2016-04-22T20:00:00\", \"2016-04-22T21:00:00\", \"2016-04-22T22:00:00\", \"2016-04-22T23:00:00\", \"2016-04-23T00:00:00\"], \"xaxis\": \"x\", \"y\": [3.9103214740753174, 3.9172732830047607, 3.9214587211608887, 3.9281046390533447, 4.010127544403076, 4.044083595275879, 4.898186683654785, 4.90199089050293, 5.367919921875, 4.453247547149658, 4.889799118041992, 4.603996276855469, 4.278566360473633, 4.808338642120361, 4.4914655685424805, 5.211841583251953, 5.291935443878174, 4.9862565994262695, 4.501847743988037, 4.165709495544434, 3.926642894744873, 3.9406065940856934, 3.915959358215332, 3.967332124710083, 4.01372766494751, 4.034393787384033, 3.944033622741699, 4.0086822509765625, 4.2604660987854, 4.4439826011657715, 4.236454010009766, 4.000907897949219, 3.9539871215820312, 4.519223690032959, 4.492587089538574, 4.329824447631836, 3.931580066680908, 3.810804843902588, 4.179851055145264, 5.221848964691162, 4.755716323852539, 5.3705220222473145, 4.5537333488464355, 4.517930507659912, 4.061765670776367, 3.9448111057281494, 3.989516496658325, 3.9536917209625244, 3.9215688705444336, 3.8516197204589844, 3.872725009918213, 3.934309482574463, 4.420664310455322, 4.536291599273682, 4.141319274902344, 4.058333873748779, 4.209811210632324, 4.240052700042725, 3.880995273590088, 3.9265589714050293, 3.9255590438842773, 3.7970638275146484, 3.843611001968384, 4.102433681488037, 5.850997447967529, 6.242730617523193, 4.541909217834473, 3.994863271713257, 3.9903321266174316, 3.9712400436401367, 3.923009157180786, 3.883772850036621, 3.8617262840270996, 3.9115633964538574, 3.882317066192627, 4.021620750427246, 4.129375457763672, 4.448790550231934, 5.304271221160889, 4.324987411499023, 4.236834526062012, 4.163091659545898, 4.198913097381592, 4.048842906951904, 4.088653087615967, 4.825100898742676, 5.1883392333984375, 4.396261215209961, 4.967255592346191, 5.487599849700928, 4.792767524719238, 4.641012668609619, 4.112184524536133, 3.890338659286499, 3.907472610473633, 3.864140748977661, 3.9003729820251465, 3.9451656341552734, 3.8831520080566406, 3.930400848388672, 4.459414482116699, 4.457809925079346, 4.3652024269104, 4.1814680099487305, 4.141161918640137, 4.087485313415527, 4.2013444900512695, 4.057158946990967, 4.224482536315918, 4.304934501647949, 4.4200663566589355, 5.130925178527832, 5.919572353363037, 5.4613776206970215, 4.626081943511963, 4.347337245941162, 3.98093843460083, 3.9235808849334717, 3.943816661834717, 3.9855754375457764, 3.955381393432617, 4.0822882652282715, 4.032846450805664, 4.220849514007568, 4.624940395355225, 4.637091159820557, 5.246275424957275, 5.605689525604248, 4.645010471343994, 5.566202163696289, 5.4999613761901855, 5.044023036956787, 5.669552803039551, 4.313765048980713, 4.928014755249023, 4.6581501960754395, 4.775905609130859, 5.305903911590576, 4.609104156494141, 4.171361923217773, 3.9399595260620117, 3.9199953079223633, 3.919973373413086], \"yaxis\": \"y\"}, {\"hoverlabel\": {\"namelength\": 0}, \"hovertemplate\": \"source=True Values<br>date=%{x}<br>log_energy_consumption=%{y}\", \"legendgroup\": \"source=True Values\", \"line\": {\"color\": \"#00cc96\", \"dash\": \"solid\"}, \"mode\": \"lines\", \"name\": \"source=True Values\", \"showlegend\": true, \"type\": \"scatter\", \"x\": [\"2016-04-14T00:00:00\", \"2016-04-14T01:00:00\", \"2016-04-14T02:00:00\", \"2016-04-14T03:00:00\", \"2016-04-14T04:00:00\", \"2016-04-14T05:00:00\", \"2016-04-14T06:00:00\", \"2016-04-14T07:00:00\", \"2016-04-14T08:00:00\", \"2016-04-14T09:00:00\", \"2016-04-14T10:00:00\", \"2016-04-14T11:00:00\", \"2016-04-14T12:00:00\", \"2016-04-14T13:00:00\", \"2016-04-14T14:00:00\", \"2016-04-14T15:00:00\", \"2016-04-14T16:00:00\", \"2016-04-14T17:00:00\", \"2016-04-14T18:00:00\", \"2016-04-14T19:00:00\", \"2016-04-14T20:00:00\", \"2016-04-14T21:00:00\", \"2016-04-14T22:00:00\", \"2016-04-14T23:00:00\", \"2016-04-15T00:00:00\", \"2016-04-15T01:00:00\", \"2016-04-15T02:00:00\", \"2016-04-15T03:00:00\", \"2016-04-15T04:00:00\", \"2016-04-15T05:00:00\", \"2016-04-15T06:00:00\", \"2016-04-15T07:00:00\", \"2016-04-15T08:00:00\", \"2016-04-15T09:00:00\", \"2016-04-15T10:00:00\", \"2016-04-15T11:00:00\", \"2016-04-15T12:00:00\", \"2016-04-15T13:00:00\", \"2016-04-15T14:00:00\", \"2016-04-15T15:00:00\", \"2016-04-15T16:00:00\", \"2016-04-15T17:00:00\", \"2016-04-15T18:00:00\", \"2016-04-15T19:00:00\", \"2016-04-15T20:00:00\", \"2016-04-15T21:00:00\", \"2016-04-15T22:00:00\", \"2016-04-15T23:00:00\", \"2016-04-16T00:00:00\", \"2016-04-16T01:00:00\", \"2016-04-16T02:00:00\", \"2016-04-16T03:00:00\", \"2016-04-16T04:00:00\", \"2016-04-16T05:00:00\", \"2016-04-16T06:00:00\", \"2016-04-16T07:00:00\", \"2016-04-16T08:00:00\", \"2016-04-16T09:00:00\", \"2016-04-16T10:00:00\", \"2016-04-16T11:00:00\", \"2016-04-16T12:00:00\", \"2016-04-16T13:00:00\", \"2016-04-16T14:00:00\", \"2016-04-16T15:00:00\", \"2016-04-16T16:00:00\", \"2016-04-16T17:00:00\", \"2016-04-16T18:00:00\", \"2016-04-16T19:00:00\", \"2016-04-16T20:00:00\", \"2016-04-16T21:00:00\", \"2016-04-16T22:00:00\", \"2016-04-16T23:00:00\", \"2016-04-17T00:00:00\", \"2016-04-17T01:00:00\", \"2016-04-17T02:00:00\", \"2016-04-17T03:00:00\", \"2016-04-17T04:00:00\", \"2016-04-17T05:00:00\", \"2016-04-17T06:00:00\", \"2016-04-17T07:00:00\", \"2016-04-17T08:00:00\", \"2016-04-17T09:00:00\", \"2016-04-17T10:00:00\", \"2016-04-17T11:00:00\", \"2016-04-17T12:00:00\", \"2016-04-17T13:00:00\", \"2016-04-17T14:00:00\", \"2016-04-17T15:00:00\", \"2016-04-17T16:00:00\", \"2016-04-17T17:00:00\", \"2016-04-17T18:00:00\", \"2016-04-17T19:00:00\", \"2016-04-17T20:00:00\", \"2016-04-17T21:00:00\", \"2016-04-17T22:00:00\", \"2016-04-17T23:00:00\", \"2016-04-18T00:00:00\", \"2016-04-18T01:00:00\", \"2016-04-18T02:00:00\", \"2016-04-18T03:00:00\", \"2016-04-18T04:00:00\", \"2016-04-18T05:00:00\", \"2016-04-18T06:00:00\", \"2016-04-18T07:00:00\", \"2016-04-18T08:00:00\", \"2016-04-18T09:00:00\", \"2016-04-18T10:00:00\", \"2016-04-18T11:00:00\", \"2016-04-18T12:00:00\", \"2016-04-18T13:00:00\", \"2016-04-18T14:00:00\", \"2016-04-18T15:00:00\", \"2016-04-18T16:00:00\", \"2016-04-18T17:00:00\", \"2016-04-18T18:00:00\", \"2016-04-18T19:00:00\", \"2016-04-18T20:00:00\", \"2016-04-18T21:00:00\", \"2016-04-18T22:00:00\", \"2016-04-18T23:00:00\", \"2016-04-19T00:00:00\", \"2016-04-19T01:00:00\", \"2016-04-19T02:00:00\", \"2016-04-19T03:00:00\", \"2016-04-19T04:00:00\", \"2016-04-19T05:00:00\", \"2016-04-19T06:00:00\", \"2016-04-19T07:00:00\", \"2016-04-19T08:00:00\", \"2016-04-19T09:00:00\", \"2016-04-19T10:00:00\", \"2016-04-19T11:00:00\", \"2016-04-19T12:00:00\", \"2016-04-19T13:00:00\", \"2016-04-19T14:00:00\", \"2016-04-19T15:00:00\", \"2016-04-19T16:00:00\", \"2016-04-19T17:00:00\", \"2016-04-19T18:00:00\", \"2016-04-19T19:00:00\", \"2016-04-19T20:00:00\", \"2016-04-19T21:00:00\", \"2016-04-19T22:00:00\", \"2016-04-19T23:00:00\", \"2016-04-20T00:00:00\", \"2016-04-20T01:00:00\", \"2016-04-20T02:00:00\", \"2016-04-20T03:00:00\", \"2016-04-20T04:00:00\", \"2016-04-20T05:00:00\", \"2016-04-20T06:00:00\", \"2016-04-20T07:00:00\", \"2016-04-20T08:00:00\", \"2016-04-20T09:00:00\", \"2016-04-20T10:00:00\", \"2016-04-20T11:00:00\", \"2016-04-20T12:00:00\", \"2016-04-20T13:00:00\", \"2016-04-20T14:00:00\", \"2016-04-20T15:00:00\", \"2016-04-20T16:00:00\", \"2016-04-20T17:00:00\", \"2016-04-20T18:00:00\", \"2016-04-20T19:00:00\", \"2016-04-20T20:00:00\", \"2016-04-20T21:00:00\", \"2016-04-20T22:00:00\", \"2016-04-20T23:00:00\", \"2016-04-21T00:00:00\", \"2016-04-21T01:00:00\", \"2016-04-21T02:00:00\", \"2016-04-21T03:00:00\", \"2016-04-21T04:00:00\", \"2016-04-21T05:00:00\", \"2016-04-21T06:00:00\", \"2016-04-21T07:00:00\", \"2016-04-21T08:00:00\", \"2016-04-21T09:00:00\", \"2016-04-21T10:00:00\", \"2016-04-21T11:00:00\", \"2016-04-21T12:00:00\", \"2016-04-21T13:00:00\", \"2016-04-21T14:00:00\", \"2016-04-21T15:00:00\", \"2016-04-21T16:00:00\", \"2016-04-21T17:00:00\", \"2016-04-21T18:00:00\", \"2016-04-21T19:00:00\", \"2016-04-21T20:00:00\", \"2016-04-21T21:00:00\", \"2016-04-21T22:00:00\", \"2016-04-21T23:00:00\", \"2016-04-22T00:00:00\", \"2016-04-22T01:00:00\", \"2016-04-22T02:00:00\", \"2016-04-22T03:00:00\", \"2016-04-22T04:00:00\", \"2016-04-22T05:00:00\", \"2016-04-22T06:00:00\", \"2016-04-22T07:00:00\", \"2016-04-22T08:00:00\", \"2016-04-22T09:00:00\", \"2016-04-22T10:00:00\", \"2016-04-22T11:00:00\", \"2016-04-22T12:00:00\", \"2016-04-22T13:00:00\", \"2016-04-22T14:00:00\", \"2016-04-22T15:00:00\", \"2016-04-22T16:00:00\", \"2016-04-22T17:00:00\", \"2016-04-22T18:00:00\", \"2016-04-22T19:00:00\", \"2016-04-22T20:00:00\", \"2016-04-22T21:00:00\", \"2016-04-22T22:00:00\", \"2016-04-22T23:00:00\", \"2016-04-23T00:00:00\"], \"xaxis\": \"x\", \"y\": [4.007333185232471, 3.9765615265657175, 3.9765615265657175, 3.9765615265657175, 3.9765615265657175, 3.912023005428146, 4.148411783492376, 4.360973225476049, 4.382026634673881, 4.174387269895637, 4.360973225476049, 4.402645921876617, 4.121743536410215, 3.9765615265657175, 4.248495242049359, 4.518158808998462, 4.402645921876617, 5.646624060816253, 5.393627546352362, 5.272999558563747, 4.339467020255086, 4.037186148382152, 3.912023005428146, 3.9765615265657175, 3.9448128282511368, 3.9448128282511368, 4.037186148382152, 3.8781214537524646, 4.007333185232471, 3.9765615265657175, 5.917997395226109, 5.501258210544727, 5.794029352503979, 5.501258210544727, 5.862683757242057, 5.12594614060725, 4.339467020255086, 4.148411783492376, 4.272025739459553, 4.199705077879927, 4.422848629194137, 4.382026634673881, 5.3471075307174685, 4.814890716970161, 4.700480365792417, 4.637960008811082, 4.402645921876617, 4.037186148382152, 3.9765615265657175, 4.007333185232471, 3.912023005428146, 4.037186148382152, 3.8781214537524646, 3.9765615265657175, 3.9765615265657175, 4.174387269895637, 4.637960008811082, 4.953476880256307, 5.675611597689505, 5.681309618804143, 4.685212893661628, 5.452468046375295, 5.487559366186565, 4.7303333289420975, 6.0905554497522125, 5.528105460580915, 4.917544871030244, 4.7303333289420975, 4.621699487939302, 4.553876891600541, 4.148411783492376, 4.007333185232471, 3.9448128282511368, 4.007333185232471, 3.8781214537524646, 4.0661736852554045, 3.8781214537524646, 3.9448128282511368, 3.912023005428146, 4.148411783492376, 4.941642422609304, 4.637960008811082, 6.09807428216624, 4.75932086581535, 4.965172920019499, 4.272025739459553, 4.248495242049359, 4.553876891600541, 5.12594614060725, 5.473670254025898, 4.8012850649143815, 4.814890716970161, 4.499809670330265, 4.360973225476049, 3.9765615265657175, 4.037186148382152, 4.037186148382152, 4.199705077879927, 3.9765615265657175, 3.8430301339411947, 3.8430301339411947, 3.9765615265657175, 4.007333185232471, 3.912023005428146, 3.9765615265657175, 3.912023005428146, 3.9448128282511368, 4.402645921876617, 3.8781214537524646, 3.9765615265657175, 3.6888794541139363, 4.007333185232471, 4.248495242049359, 5.573420656792957, 4.880273476233012, 4.75932086581535, 4.8283137373023015, 4.121743536410215, 3.7297014486341915, 3.9448128282511368, 3.9765615265657175, 3.6463198396951406, 3.9765615265657175, 3.9448128282511368, 3.912023005428146, 4.715518243156957, 4.360973225476049, 4.892852258439873, 3.8781214537524646, 3.9765615265657175, 3.6463198396951406, 3.9448128282511368, 3.9448128282511368, 3.8066624897703196, 3.8781214537524646, 3.912023005428146, 3.9448128282511368, 5.51477192971145, 4.854631045619675, 4.74493212836325, 4.4620693423474185, 4.0943445622221, 3.9448128282511368, 3.6888794541139363, 4.007333185232471, 3.912023005428146, 3.8066624897703196, 3.8781214537524646, 3.9448128282511368, 3.912023005428146, 4.199705077879927, 4.037186148382152, 3.9765615265657175, 4.148411783492376, 4.174387269895637, 3.8066624897703196, 3.8430301339411947, 3.9765615265657175, 5.155216522907363, 4.360973225476049, 4.272025739459553, 5.19295685089021, 5.652489180268651, 4.787491742782046, 4.685212893661628, 4.295015257684252, 3.9765615265657175, 3.7297014486341915, 3.9448128282511368, 3.9765615265657175, 3.8781214537524646, 3.6888794541139363, 3.9765615265657175, 4.2243976904702984, 4.121743536410215, 3.7689221617874726, 3.9448128282511368, 3.9448128282511368, 3.9448128282511368, 4.007333185232471, 3.912023005428146, 4.121743536410215, 4.121743536410215, 4.148411783492376, 4.4620693423474185, 5.306616169362732, 5.19295685089021, 4.854631045619675, 5.1647859739235145, 4.2243976904702984, 4.248495242049359, 4.2243976904702984, 4.121743536410215, 4.121743536410215, 4.2243976904702984, 4.199705077879927, 4.199705077879927, 4.248495242049359, 4.199705077879927, 5.145554611995626, 5.12594614060725, 5.9445476273202305, 5.9872891756975015, 5.579729825986222, 5.84354441703136, 5.634789603169249, 4.481117537318112, 5.622813412122534, 5.675611597689505, 5.9445476273202305, 5.264415814872355, 4.653960350157523, 4.653960350157523, 4.272025739459553, 4.007333185232471, 4.007333185232471, 4.037186148382152], \"yaxis\": \"y\"}],\n",
              "                        {\"height\": 600, \"legend\": {\"tracegroupgap\": 0}, \"template\": {\"data\": {\"bar\": [{\"error_x\": {\"color\": \"#2a3f5f\"}, \"error_y\": {\"color\": \"#2a3f5f\"}, \"marker\": {\"line\": {\"color\": \"#E5ECF6\", \"width\": 0.5}}, \"type\": \"bar\"}], \"barpolar\": [{\"marker\": {\"line\": {\"color\": \"#E5ECF6\", \"width\": 0.5}}, \"type\": \"barpolar\"}], \"carpet\": [{\"aaxis\": {\"endlinecolor\": \"#2a3f5f\", \"gridcolor\": \"white\", \"linecolor\": \"white\", \"minorgridcolor\": \"white\", \"startlinecolor\": \"#2a3f5f\"}, \"baxis\": {\"endlinecolor\": \"#2a3f5f\", \"gridcolor\": \"white\", \"linecolor\": \"white\", \"minorgridcolor\": \"white\", \"startlinecolor\": \"#2a3f5f\"}, \"type\": \"carpet\"}], \"choropleth\": [{\"colorbar\": {\"outlinewidth\": 0, \"ticks\": \"\"}, \"type\": \"choropleth\"}], \"contour\": [{\"colorbar\": {\"outlinewidth\": 0, \"ticks\": \"\"}, \"colorscale\": [[0.0, \"#0d0887\"], [0.1111111111111111, \"#46039f\"], [0.2222222222222222, \"#7201a8\"], [0.3333333333333333, \"#9c179e\"], [0.4444444444444444, \"#bd3786\"], [0.5555555555555556, \"#d8576b\"], [0.6666666666666666, \"#ed7953\"], [0.7777777777777778, \"#fb9f3a\"], [0.8888888888888888, \"#fdca26\"], [1.0, \"#f0f921\"]], \"type\": \"contour\"}], \"contourcarpet\": [{\"colorbar\": {\"outlinewidth\": 0, \"ticks\": \"\"}, \"type\": \"contourcarpet\"}], \"heatmap\": [{\"colorbar\": {\"outlinewidth\": 0, \"ticks\": \"\"}, \"colorscale\": [[0.0, \"#0d0887\"], [0.1111111111111111, \"#46039f\"], [0.2222222222222222, \"#7201a8\"], [0.3333333333333333, \"#9c179e\"], [0.4444444444444444, \"#bd3786\"], [0.5555555555555556, \"#d8576b\"], [0.6666666666666666, \"#ed7953\"], [0.7777777777777778, \"#fb9f3a\"], [0.8888888888888888, \"#fdca26\"], [1.0, \"#f0f921\"]], \"type\": \"heatmap\"}], \"heatmapgl\": [{\"colorbar\": {\"outlinewidth\": 0, \"ticks\": \"\"}, \"colorscale\": [[0.0, \"#0d0887\"], [0.1111111111111111, \"#46039f\"], [0.2222222222222222, \"#7201a8\"], [0.3333333333333333, \"#9c179e\"], [0.4444444444444444, \"#bd3786\"], [0.5555555555555556, \"#d8576b\"], [0.6666666666666666, \"#ed7953\"], [0.7777777777777778, \"#fb9f3a\"], [0.8888888888888888, \"#fdca26\"], [1.0, \"#f0f921\"]], \"type\": \"heatmapgl\"}], \"histogram\": [{\"marker\": {\"colorbar\": {\"outlinewidth\": 0, \"ticks\": \"\"}}, \"type\": \"histogram\"}], \"histogram2d\": [{\"colorbar\": {\"outlinewidth\": 0, \"ticks\": \"\"}, \"colorscale\": [[0.0, \"#0d0887\"], [0.1111111111111111, \"#46039f\"], [0.2222222222222222, \"#7201a8\"], [0.3333333333333333, \"#9c179e\"], [0.4444444444444444, \"#bd3786\"], [0.5555555555555556, \"#d8576b\"], [0.6666666666666666, \"#ed7953\"], [0.7777777777777778, \"#fb9f3a\"], [0.8888888888888888, \"#fdca26\"], [1.0, \"#f0f921\"]], \"type\": \"histogram2d\"}], \"histogram2dcontour\": [{\"colorbar\": {\"outlinewidth\": 0, \"ticks\": \"\"}, \"colorscale\": [[0.0, \"#0d0887\"], [0.1111111111111111, \"#46039f\"], [0.2222222222222222, \"#7201a8\"], [0.3333333333333333, \"#9c179e\"], [0.4444444444444444, \"#bd3786\"], [0.5555555555555556, \"#d8576b\"], [0.6666666666666666, \"#ed7953\"], [0.7777777777777778, \"#fb9f3a\"], [0.8888888888888888, \"#fdca26\"], [1.0, \"#f0f921\"]], \"type\": \"histogram2dcontour\"}], \"mesh3d\": [{\"colorbar\": {\"outlinewidth\": 0, \"ticks\": \"\"}, \"type\": \"mesh3d\"}], \"parcoords\": [{\"line\": {\"colorbar\": {\"outlinewidth\": 0, \"ticks\": \"\"}}, \"type\": \"parcoords\"}], \"scatter\": [{\"marker\": {\"colorbar\": {\"outlinewidth\": 0, \"ticks\": \"\"}}, \"type\": \"scatter\"}], \"scatter3d\": [{\"line\": {\"colorbar\": {\"outlinewidth\": 0, \"ticks\": \"\"}}, \"marker\": {\"colorbar\": {\"outlinewidth\": 0, \"ticks\": \"\"}}, \"type\": \"scatter3d\"}], \"scattercarpet\": [{\"marker\": {\"colorbar\": {\"outlinewidth\": 0, \"ticks\": \"\"}}, \"type\": \"scattercarpet\"}], \"scattergeo\": [{\"marker\": {\"colorbar\": {\"outlinewidth\": 0, \"ticks\": \"\"}}, \"type\": \"scattergeo\"}], \"scattergl\": [{\"marker\": {\"colorbar\": {\"outlinewidth\": 0, \"ticks\": \"\"}}, \"type\": \"scattergl\"}], \"scattermapbox\": [{\"marker\": {\"colorbar\": {\"outlinewidth\": 0, \"ticks\": \"\"}}, \"type\": \"scattermapbox\"}], \"scatterpolar\": [{\"marker\": {\"colorbar\": {\"outlinewidth\": 0, \"ticks\": \"\"}}, \"type\": \"scatterpolar\"}], \"scatterpolargl\": [{\"marker\": {\"colorbar\": {\"outlinewidth\": 0, \"ticks\": \"\"}}, \"type\": \"scatterpolargl\"}], \"scatterternary\": [{\"marker\": {\"colorbar\": {\"outlinewidth\": 0, \"ticks\": \"\"}}, \"type\": \"scatterternary\"}], \"surface\": [{\"colorbar\": {\"outlinewidth\": 0, \"ticks\": \"\"}, \"colorscale\": [[0.0, \"#0d0887\"], [0.1111111111111111, \"#46039f\"], [0.2222222222222222, \"#7201a8\"], [0.3333333333333333, \"#9c179e\"], [0.4444444444444444, \"#bd3786\"], [0.5555555555555556, \"#d8576b\"], [0.6666666666666666, \"#ed7953\"], [0.7777777777777778, \"#fb9f3a\"], [0.8888888888888888, \"#fdca26\"], [1.0, \"#f0f921\"]], \"type\": \"surface\"}], \"table\": [{\"cells\": {\"fill\": {\"color\": \"#EBF0F8\"}, \"line\": {\"color\": \"white\"}}, \"header\": {\"fill\": {\"color\": \"#C8D4E3\"}, \"line\": {\"color\": \"white\"}}, \"type\": \"table\"}]}, \"layout\": {\"annotationdefaults\": {\"arrowcolor\": \"#2a3f5f\", \"arrowhead\": 0, \"arrowwidth\": 1}, \"colorscale\": {\"diverging\": [[0, \"#8e0152\"], [0.1, \"#c51b7d\"], [0.2, \"#de77ae\"], [0.3, \"#f1b6da\"], [0.4, \"#fde0ef\"], [0.5, \"#f7f7f7\"], [0.6, \"#e6f5d0\"], [0.7, \"#b8e186\"], [0.8, \"#7fbc41\"], [0.9, \"#4d9221\"], [1, \"#276419\"]], \"sequential\": [[0.0, \"#0d0887\"], [0.1111111111111111, \"#46039f\"], [0.2222222222222222, \"#7201a8\"], [0.3333333333333333, \"#9c179e\"], [0.4444444444444444, \"#bd3786\"], [0.5555555555555556, \"#d8576b\"], [0.6666666666666666, \"#ed7953\"], [0.7777777777777778, \"#fb9f3a\"], [0.8888888888888888, \"#fdca26\"], [1.0, \"#f0f921\"]], \"sequentialminus\": [[0.0, \"#0d0887\"], [0.1111111111111111, \"#46039f\"], [0.2222222222222222, \"#7201a8\"], [0.3333333333333333, \"#9c179e\"], [0.4444444444444444, \"#bd3786\"], [0.5555555555555556, \"#d8576b\"], [0.6666666666666666, \"#ed7953\"], [0.7777777777777778, \"#fb9f3a\"], [0.8888888888888888, \"#fdca26\"], [1.0, \"#f0f921\"]]}, \"colorway\": [\"#636efa\", \"#EF553B\", \"#00cc96\", \"#ab63fa\", \"#FFA15A\", \"#19d3f3\", \"#FF6692\", \"#B6E880\", \"#FF97FF\", \"#FECB52\"], \"font\": {\"color\": \"#2a3f5f\"}, \"geo\": {\"bgcolor\": \"white\", \"lakecolor\": \"white\", \"landcolor\": \"#E5ECF6\", \"showlakes\": true, \"showland\": true, \"subunitcolor\": \"white\"}, \"hoverlabel\": {\"align\": \"left\"}, \"hovermode\": \"closest\", \"mapbox\": {\"style\": \"light\"}, \"paper_bgcolor\": \"white\", \"plot_bgcolor\": \"#E5ECF6\", \"polar\": {\"angularaxis\": {\"gridcolor\": \"white\", \"linecolor\": \"white\", \"ticks\": \"\"}, \"bgcolor\": \"#E5ECF6\", \"radialaxis\": {\"gridcolor\": \"white\", \"linecolor\": \"white\", \"ticks\": \"\"}}, \"scene\": {\"xaxis\": {\"backgroundcolor\": \"#E5ECF6\", \"gridcolor\": \"white\", \"gridwidth\": 2, \"linecolor\": \"white\", \"showbackground\": true, \"ticks\": \"\", \"zerolinecolor\": \"white\"}, \"yaxis\": {\"backgroundcolor\": \"#E5ECF6\", \"gridcolor\": \"white\", \"gridwidth\": 2, \"linecolor\": \"white\", \"showbackground\": true, \"ticks\": \"\", \"zerolinecolor\": \"white\"}, \"zaxis\": {\"backgroundcolor\": \"#E5ECF6\", \"gridcolor\": \"white\", \"gridwidth\": 2, \"linecolor\": \"white\", \"showbackground\": true, \"ticks\": \"\", \"zerolinecolor\": \"white\"}}, \"shapedefaults\": {\"line\": {\"color\": \"#2a3f5f\"}}, \"ternary\": {\"aaxis\": {\"gridcolor\": \"white\", \"linecolor\": \"white\", \"ticks\": \"\"}, \"baxis\": {\"gridcolor\": \"white\", \"linecolor\": \"white\", \"ticks\": \"\"}, \"bgcolor\": \"#E5ECF6\", \"caxis\": {\"gridcolor\": \"white\", \"linecolor\": \"white\", \"ticks\": \"\"}}, \"title\": {\"x\": 0.05}, \"xaxis\": {\"automargin\": true, \"gridcolor\": \"white\", \"linecolor\": \"white\", \"ticks\": \"\", \"zerolinecolor\": \"white\", \"zerolinewidth\": 2}, \"yaxis\": {\"automargin\": true, \"gridcolor\": \"white\", \"linecolor\": \"white\", \"ticks\": \"\", \"zerolinecolor\": \"white\", \"zerolinewidth\": 2}}}, \"title\": {\"text\": \"Log of Appliance Energy Consumption in Wh vs Time\"}, \"xaxis\": {\"anchor\": \"y\", \"domain\": [0.0, 0.98], \"title\": {\"text\": \"date\"}}, \"yaxis\": {\"anchor\": \"x\", \"domain\": [0.0, 1.0], \"title\": {\"text\": \"log_energy_consumption\"}}},\n",
              "                        {\"responsive\": true}\n",
              "                    ).then(function(){\n",
              "                            \n",
              "var gd = document.getElementById('420502e6-048c-4a6a-8e21-edb991c44682');\n",
              "var x = new MutationObserver(function (mutations, observer) {{\n",
              "        var display = window.getComputedStyle(gd).display;\n",
              "        if (!display || display === 'none') {{\n",
              "            console.log([gd, 'removed!']);\n",
              "            Plotly.purge(gd);\n",
              "            observer.disconnect();\n",
              "        }}\n",
              "}});\n",
              "\n",
              "// Listen for the removal of the full notebook cells\n",
              "var notebookContainer = gd.closest('#notebook-container');\n",
              "if (notebookContainer) {{\n",
              "    x.observe(notebookContainer, {childList: true});\n",
              "}}\n",
              "\n",
              "// Listen for the clearing of the current output cell\n",
              "var outputEl = gd.closest('.output');\n",
              "if (outputEl) {{\n",
              "    x.observe(outputEl, {childList: true});\n",
              "}}\n",
              "\n",
              "                        })\n",
              "                };\n",
              "                \n",
              "            </script>\n",
              "        </div>\n",
              "</body>\n",
              "</html>"
            ]
          },
          "metadata": {
            "tags": []
          }
        }
      ]
    },
    {
      "cell_type": "markdown",
      "metadata": {
        "id": "Jrwiy646yq7t",
        "colab_type": "text"
      },
      "source": [
        "# Uncertainty Quantification"
      ]
    },
    {
      "cell_type": "markdown",
      "metadata": {
        "id": "8FEzMrU147zx",
        "colab_type": "text"
      },
      "source": [
        "The fact that stochastic dropouts are applied after each LSTM layer in the Bayesian LSTM enables users to interpret the model outputs as random samples from the posterior distribution of the target variable. \n",
        "\n",
        "This implies that by running multiple experiments/predictions, can approximate  parameters of the posterioir distribution, namely the mean and the variance, in order to create confidence intervals for each prediction.\n",
        "\n",
        "In this example, we construct 99% confidence intervals that are three standard deviations away from the approximate mean of each prediction."
      ]
    },
    {
      "cell_type": "code",
      "metadata": {
        "id": "Jb4xyVW6DVUV",
        "colab_type": "code",
        "colab": {}
      },
      "source": [
        "n_experiments = 100\n",
        "\n",
        "test_uncertainty_df = pd.DataFrame()\n",
        "test_uncertainty_df['date'] = testing_df['date']\n",
        "\n",
        "for i in range(n_experiments):\n",
        "  experiment_predictions = bayesian_lstm.predict(X_test)\n",
        "  test_uncertainty_df['log_energy_consumption_{}'.format(i)] = inverse_transform(experiment_predictions)\n",
        "\n",
        "log_energy_consumption_df = test_uncertainty_df.filter(like='log_energy_consumption', axis=1)\n",
        "test_uncertainty_df['log_energy_consumption_mean'] = log_energy_consumption_df.mean(axis=1)\n",
        "test_uncertainty_df['log_energy_consumption_std'] = log_energy_consumption_df.std(axis=1)\n",
        "\n",
        "test_uncertainty_df = test_uncertainty_df[['date', 'log_energy_consumption_mean', 'log_energy_consumption_std']]"
      ],
      "execution_count": 0,
      "outputs": []
    },
    {
      "cell_type": "code",
      "metadata": {
        "id": "SNrb70dSdDH0",
        "colab_type": "code",
        "colab": {}
      },
      "source": [
        "test_uncertainty_df['lower_bound'] = test_uncertainty_df['log_energy_consumption_mean'] - 3*test_uncertainty_df['log_energy_consumption_std']\n",
        "test_uncertainty_df['upper_bound'] = test_uncertainty_df['log_energy_consumption_mean'] + 3*test_uncertainty_df['log_energy_consumption_std']"
      ],
      "execution_count": 0,
      "outputs": []
    },
    {
      "cell_type": "code",
      "metadata": {
        "id": "WdHylS8OdEHt",
        "colab_type": "code",
        "outputId": "162d4584-b5aa-4932-a304-0912914e8d3f",
        "colab": {
          "base_uri": "https://localhost:8080/",
          "height": 542
        }
      },
      "source": [
        "import plotly.graph_objects as go\n",
        "\n",
        "test_uncertainty_plot_df = test_uncertainty_df.copy(deep=True)\n",
        "test_uncertainty_plot_df = test_uncertainty_plot_df.loc[test_uncertainty_plot_df['date'].between('2016-05-01', '2016-05-09')]\n",
        "truth_uncertainty_plot_df = testing_truth_df.copy(deep=True)\n",
        "truth_uncertainty_plot_df = truth_uncertainty_plot_df.loc[testing_truth_df['date'].between('2016-05-01', '2016-05-09')]\n",
        "\n",
        "upper_trace = go.Scatter(\n",
        "    x=test_uncertainty_plot_df['date'],\n",
        "    y=test_uncertainty_plot_df['upper_bound'],\n",
        "    mode='lines',\n",
        "    fill=None,\n",
        "    name='99% Upper Confidence Bound'\n",
        "    )\n",
        "lower_trace = go.Scatter(\n",
        "    x=test_uncertainty_plot_df['date'],\n",
        "    y=test_uncertainty_plot_df['lower_bound'],\n",
        "    mode='lines',\n",
        "    fill='tonexty',\n",
        "    fillcolor='rgba(255, 211, 0, 0.5)',\n",
        "    name='99% Lower Confidence Bound'\n",
        "    )\n",
        "real_trace = go.Scatter(\n",
        "    x=truth_uncertainty_plot_df['date'],\n",
        "    y=truth_uncertainty_plot_df['log_energy_consumption'],\n",
        "    mode='lines',\n",
        "    fill=None,\n",
        "    name='Real Values'\n",
        "    )\n",
        "\n",
        "data = [upper_trace, lower_trace, real_trace]\n",
        "\n",
        "fig = go.Figure(data=data)\n",
        "fig.update_layout(title='Uncertainty Quantification for Energy Consumption Test Data',\n",
        "                   xaxis_title='Time',\n",
        "                   yaxis_title='log_energy_consumption (log Wh)')\n",
        "\n",
        "fig.show()"
      ],
      "execution_count": 0,
      "outputs": [
        {
          "output_type": "display_data",
          "data": {
            "text/html": [
              "<html>\n",
              "<head><meta charset=\"utf-8\" /></head>\n",
              "<body>\n",
              "    <div>\n",
              "            <script src=\"https://cdnjs.cloudflare.com/ajax/libs/mathjax/2.7.5/MathJax.js?config=TeX-AMS-MML_SVG\"></script><script type=\"text/javascript\">if (window.MathJax) {MathJax.Hub.Config({SVG: {font: \"STIX-Web\"}});}</script>\n",
              "                <script type=\"text/javascript\">window.PlotlyConfig = {MathJaxConfig: 'local'};</script>\n",
              "        <script src=\"https://cdn.plot.ly/plotly-latest.min.js\"></script>    \n",
              "            <div id=\"54bc88c0-eb48-4998-b68b-510b0a512041\" class=\"plotly-graph-div\" style=\"height:525px; width:100%;\"></div>\n",
              "            <script type=\"text/javascript\">\n",
              "                \n",
              "                    window.PLOTLYENV=window.PLOTLYENV || {};\n",
              "                    \n",
              "                if (document.getElementById(\"54bc88c0-eb48-4998-b68b-510b0a512041\")) {\n",
              "                    Plotly.newPlot(\n",
              "                        '54bc88c0-eb48-4998-b68b-510b0a512041',\n",
              "                        [{\"mode\": \"lines\", \"name\": \"99% Upper Confidence Bound\", \"type\": \"scatter\", \"x\": [\"2016-05-01T00:00:00\", \"2016-05-01T01:00:00\", \"2016-05-01T02:00:00\", \"2016-05-01T03:00:00\", \"2016-05-01T04:00:00\", \"2016-05-01T05:00:00\", \"2016-05-01T06:00:00\", \"2016-05-01T07:00:00\", \"2016-05-01T08:00:00\", \"2016-05-01T09:00:00\", \"2016-05-01T10:00:00\", \"2016-05-01T11:00:00\", \"2016-05-01T12:00:00\", \"2016-05-01T13:00:00\", \"2016-05-01T14:00:00\", \"2016-05-01T15:00:00\", \"2016-05-01T16:00:00\", \"2016-05-01T17:00:00\", \"2016-05-01T18:00:00\", \"2016-05-01T19:00:00\", \"2016-05-01T20:00:00\", \"2016-05-01T21:00:00\", \"2016-05-01T22:00:00\", \"2016-05-01T23:00:00\", \"2016-05-02T00:00:00\", \"2016-05-02T01:00:00\", \"2016-05-02T02:00:00\", \"2016-05-02T03:00:00\", \"2016-05-02T04:00:00\", \"2016-05-02T05:00:00\", \"2016-05-02T06:00:00\", \"2016-05-02T07:00:00\", \"2016-05-02T08:00:00\", \"2016-05-02T09:00:00\", \"2016-05-02T10:00:00\", \"2016-05-02T11:00:00\", \"2016-05-02T12:00:00\", \"2016-05-02T13:00:00\", \"2016-05-02T14:00:00\", \"2016-05-02T15:00:00\", \"2016-05-02T16:00:00\", \"2016-05-02T17:00:00\", \"2016-05-02T18:00:00\", \"2016-05-02T19:00:00\", \"2016-05-02T20:00:00\", \"2016-05-02T21:00:00\", \"2016-05-02T22:00:00\", \"2016-05-02T23:00:00\", \"2016-05-03T00:00:00\", \"2016-05-03T01:00:00\", \"2016-05-03T02:00:00\", \"2016-05-03T03:00:00\", \"2016-05-03T04:00:00\", \"2016-05-03T05:00:00\", \"2016-05-03T06:00:00\", \"2016-05-03T07:00:00\", \"2016-05-03T08:00:00\", \"2016-05-03T09:00:00\", \"2016-05-03T10:00:00\", \"2016-05-03T11:00:00\", \"2016-05-03T12:00:00\", \"2016-05-03T13:00:00\", \"2016-05-03T14:00:00\", \"2016-05-03T15:00:00\", \"2016-05-03T16:00:00\", \"2016-05-03T17:00:00\", \"2016-05-03T18:00:00\", \"2016-05-03T19:00:00\", \"2016-05-03T20:00:00\", \"2016-05-03T21:00:00\", \"2016-05-03T22:00:00\", \"2016-05-03T23:00:00\", \"2016-05-04T00:00:00\", \"2016-05-04T01:00:00\", \"2016-05-04T02:00:00\", \"2016-05-04T03:00:00\", \"2016-05-04T04:00:00\", \"2016-05-04T05:00:00\", \"2016-05-04T06:00:00\", \"2016-05-04T07:00:00\", \"2016-05-04T08:00:00\", \"2016-05-04T09:00:00\", \"2016-05-04T10:00:00\", \"2016-05-04T11:00:00\", \"2016-05-04T12:00:00\", \"2016-05-04T13:00:00\", \"2016-05-04T14:00:00\", \"2016-05-04T15:00:00\", \"2016-05-04T16:00:00\", \"2016-05-04T17:00:00\", \"2016-05-04T18:00:00\", \"2016-05-04T19:00:00\", \"2016-05-04T20:00:00\", \"2016-05-04T21:00:00\", \"2016-05-04T22:00:00\", \"2016-05-04T23:00:00\", \"2016-05-05T00:00:00\", \"2016-05-05T01:00:00\", \"2016-05-05T02:00:00\", \"2016-05-05T03:00:00\", \"2016-05-05T04:00:00\", \"2016-05-05T05:00:00\", \"2016-05-05T06:00:00\", \"2016-05-05T07:00:00\", \"2016-05-05T08:00:00\", \"2016-05-05T09:00:00\", \"2016-05-05T10:00:00\", \"2016-05-05T11:00:00\", \"2016-05-05T12:00:00\", \"2016-05-05T13:00:00\", \"2016-05-05T14:00:00\", \"2016-05-05T15:00:00\", \"2016-05-05T16:00:00\", \"2016-05-05T17:00:00\", \"2016-05-05T18:00:00\", \"2016-05-05T19:00:00\", \"2016-05-05T20:00:00\", \"2016-05-05T21:00:00\", \"2016-05-05T22:00:00\", \"2016-05-05T23:00:00\", \"2016-05-06T00:00:00\", \"2016-05-06T01:00:00\", \"2016-05-06T02:00:00\", \"2016-05-06T03:00:00\", \"2016-05-06T04:00:00\", \"2016-05-06T05:00:00\", \"2016-05-06T06:00:00\", \"2016-05-06T07:00:00\", \"2016-05-06T08:00:00\", \"2016-05-06T09:00:00\", \"2016-05-06T10:00:00\", \"2016-05-06T11:00:00\", \"2016-05-06T12:00:00\", \"2016-05-06T13:00:00\", \"2016-05-06T14:00:00\", \"2016-05-06T15:00:00\", \"2016-05-06T16:00:00\", \"2016-05-06T17:00:00\", \"2016-05-06T18:00:00\", \"2016-05-06T19:00:00\", \"2016-05-06T20:00:00\", \"2016-05-06T21:00:00\", \"2016-05-06T22:00:00\", \"2016-05-06T23:00:00\", \"2016-05-07T00:00:00\", \"2016-05-07T01:00:00\", \"2016-05-07T02:00:00\", \"2016-05-07T03:00:00\", \"2016-05-07T04:00:00\", \"2016-05-07T05:00:00\", \"2016-05-07T06:00:00\", \"2016-05-07T07:00:00\", \"2016-05-07T08:00:00\", \"2016-05-07T09:00:00\", \"2016-05-07T10:00:00\", \"2016-05-07T11:00:00\", \"2016-05-07T12:00:00\", \"2016-05-07T13:00:00\", \"2016-05-07T14:00:00\", \"2016-05-07T15:00:00\", \"2016-05-07T16:00:00\", \"2016-05-07T17:00:00\", \"2016-05-07T18:00:00\", \"2016-05-07T19:00:00\", \"2016-05-07T20:00:00\", \"2016-05-07T21:00:00\", \"2016-05-07T22:00:00\", \"2016-05-07T23:00:00\", \"2016-05-08T00:00:00\", \"2016-05-08T01:00:00\", \"2016-05-08T02:00:00\", \"2016-05-08T03:00:00\", \"2016-05-08T04:00:00\", \"2016-05-08T05:00:00\", \"2016-05-08T06:00:00\", \"2016-05-08T07:00:00\", \"2016-05-08T08:00:00\", \"2016-05-08T09:00:00\", \"2016-05-08T10:00:00\", \"2016-05-08T11:00:00\", \"2016-05-08T12:00:00\", \"2016-05-08T13:00:00\", \"2016-05-08T14:00:00\", \"2016-05-08T15:00:00\", \"2016-05-08T16:00:00\", \"2016-05-08T17:00:00\", \"2016-05-08T18:00:00\", \"2016-05-08T19:00:00\", \"2016-05-08T20:00:00\", \"2016-05-08T21:00:00\", \"2016-05-08T22:00:00\", \"2016-05-08T23:00:00\", \"2016-05-09T00:00:00\"], \"y\": [3.9846744537353516, 3.9713597297668457, 4.048765182495117, 4.045706748962402, 4.0394392013549805, 4.117775917053223, 4.100785255432129, 4.1385817527771, 4.5047688484191895, 4.87568998336792, 4.7714691162109375, 4.828766345977783, 4.814239025115967, 4.928966999053955, 4.671480655670166, 4.695346355438232, 5.2371134757995605, 5.626919746398926, 6.272679805755615, 5.398381233215332, 5.214004993438721, 4.5475358963012695, 4.078980922698975, 3.986090660095215, 3.9756345748901367, 3.9912002086639404, 4.0206618309021, 3.9794042110443115, 3.987417697906494, 4.04719877243042, 4.2842183113098145, 5.57940673828125, 5.270730972290039, 4.3724517822265625, 5.619962692260742, 4.754028797149658, 4.351263523101807, 4.4546661376953125, 4.656132221221924, 4.895150661468506, 5.42903995513916, 5.945547103881836, 5.845256328582764, 5.585419654846191, 5.098827362060547, 4.360229969024658, 4.107741832733154, 4.456768035888672, 4.155967712402344, 4.1033453941345215, 3.965435266494751, 3.9349653720855713, 3.9639062881469727, 4.085862636566162, 4.079136371612549, 4.792702674865723, 4.400558948516846, 4.174116611480713, 4.507893085479736, 4.139372825622559, 4.166985034942627, 4.067917346954346, 4.18720006942749, 4.089560031890869, 4.409644603729248, 4.577139377593994, 6.028994083404541, 6.4622392654418945, 5.264803409576416, 4.385459899902344, 4.201243877410889, 4.029077053070068, 4.020623207092285, 3.9634218215942383, 4.027884006500244, 4.048215389251709, 3.939028024673462, 4.018069744110107, 4.560609340667725, 5.171011447906494, 5.006651878356934, 4.774258136749268, 4.779609203338623, 4.3922953605651855, 4.513860702514648, 4.741507530212402, 4.728654384613037, 4.608445167541504, 5.955986022949219, 4.861530780792236, 6.02321720123291, 5.042834281921387, 4.857727527618408, 4.478460788726807, 4.17559814453125, 4.02109956741333, 4.032660007476807, 3.9794273376464844, 3.978827714920044, 3.9712564945220947, 4.026012420654297, 4.165103435516357, 4.37918758392334, 4.543156623840332, 5.379674911499023, 5.292582988739014, 5.170992851257324, 5.43681001663208, 4.639185905456543, 4.455723285675049, 4.341655731201172, 4.281229019165039, 4.3186845779418945, 5.680934429168701, 5.676676273345947, 6.2451558113098145, 5.476016998291016, 4.139407157897949, 4.164852142333984, 4.114630699157715, 3.9805209636688232, 3.973950147628784, 4.002502918243408, 3.97392201423645, 4.047755241394043, 4.187368869781494, 4.507748603820801, 4.8321003913879395, 5.801620960235596, 5.322879314422607, 5.155448913574219, 5.134035587310791, 5.3617753982543945, 4.6462249755859375, 4.515774250030518, 5.05147647857666, 5.20778226852417, 6.11705207824707, 4.710394859313965, 5.152388095855713, 5.015110492706299, 4.687933444976807, 4.135103225708008, 3.9930875301361084, 3.9774351119995117, 3.9842584133148193, 4.003466606140137, 4.013522624969482, 3.9857518672943115, 4.065402030944824, 4.334525108337402, 4.45811128616333, 5.441269874572754, 5.362497329711914, 4.66306734085083, 5.312568187713623, 5.368195533752441, 4.658411502838135, 4.695895671844482, 4.623356819152832, 4.930204391479492, 6.0655341148376465, 5.437364101409912, 5.103673458099365, 4.98239278793335, 4.592214584350586, 4.065317630767822, 3.9824929237365723, 3.9689977169036865, 4.041175842285156, 4.014948844909668, 4.021697521209717, 4.00728702545166, 4.090686798095703, 4.346712589263916, 4.3112568855285645, 4.916886329650879, 5.27445650100708, 5.813421726226807, 4.502684593200684, 4.333775043487549, 4.312889099121094, 4.168148517608643, 4.161993026733398, 4.468148231506348, 4.3298211097717285, 5.078612804412842, 4.398896217346191, 4.146418571472168, 4.468237400054932, 4.0780558586120605, 4.076657772064209, 4.061721324920654]}, {\"fill\": \"tonexty\", \"fillcolor\": \"rgba(255, 211, 0, 0.5)\", \"mode\": \"lines\", \"name\": \"99% Lower Confidence Bound\", \"type\": \"scatter\", \"x\": [\"2016-05-01T00:00:00\", \"2016-05-01T01:00:00\", \"2016-05-01T02:00:00\", \"2016-05-01T03:00:00\", \"2016-05-01T04:00:00\", \"2016-05-01T05:00:00\", \"2016-05-01T06:00:00\", \"2016-05-01T07:00:00\", \"2016-05-01T08:00:00\", \"2016-05-01T09:00:00\", \"2016-05-01T10:00:00\", \"2016-05-01T11:00:00\", \"2016-05-01T12:00:00\", \"2016-05-01T13:00:00\", \"2016-05-01T14:00:00\", \"2016-05-01T15:00:00\", \"2016-05-01T16:00:00\", \"2016-05-01T17:00:00\", \"2016-05-01T18:00:00\", \"2016-05-01T19:00:00\", \"2016-05-01T20:00:00\", \"2016-05-01T21:00:00\", \"2016-05-01T22:00:00\", \"2016-05-01T23:00:00\", \"2016-05-02T00:00:00\", \"2016-05-02T01:00:00\", \"2016-05-02T02:00:00\", \"2016-05-02T03:00:00\", \"2016-05-02T04:00:00\", \"2016-05-02T05:00:00\", \"2016-05-02T06:00:00\", \"2016-05-02T07:00:00\", \"2016-05-02T08:00:00\", \"2016-05-02T09:00:00\", \"2016-05-02T10:00:00\", \"2016-05-02T11:00:00\", \"2016-05-02T12:00:00\", \"2016-05-02T13:00:00\", \"2016-05-02T14:00:00\", \"2016-05-02T15:00:00\", \"2016-05-02T16:00:00\", \"2016-05-02T17:00:00\", \"2016-05-02T18:00:00\", \"2016-05-02T19:00:00\", \"2016-05-02T20:00:00\", \"2016-05-02T21:00:00\", \"2016-05-02T22:00:00\", \"2016-05-02T23:00:00\", \"2016-05-03T00:00:00\", \"2016-05-03T01:00:00\", \"2016-05-03T02:00:00\", \"2016-05-03T03:00:00\", \"2016-05-03T04:00:00\", \"2016-05-03T05:00:00\", \"2016-05-03T06:00:00\", \"2016-05-03T07:00:00\", \"2016-05-03T08:00:00\", \"2016-05-03T09:00:00\", \"2016-05-03T10:00:00\", \"2016-05-03T11:00:00\", \"2016-05-03T12:00:00\", \"2016-05-03T13:00:00\", \"2016-05-03T14:00:00\", \"2016-05-03T15:00:00\", \"2016-05-03T16:00:00\", \"2016-05-03T17:00:00\", \"2016-05-03T18:00:00\", \"2016-05-03T19:00:00\", \"2016-05-03T20:00:00\", \"2016-05-03T21:00:00\", \"2016-05-03T22:00:00\", \"2016-05-03T23:00:00\", \"2016-05-04T00:00:00\", \"2016-05-04T01:00:00\", \"2016-05-04T02:00:00\", \"2016-05-04T03:00:00\", \"2016-05-04T04:00:00\", \"2016-05-04T05:00:00\", \"2016-05-04T06:00:00\", \"2016-05-04T07:00:00\", \"2016-05-04T08:00:00\", \"2016-05-04T09:00:00\", \"2016-05-04T10:00:00\", \"2016-05-04T11:00:00\", \"2016-05-04T12:00:00\", \"2016-05-04T13:00:00\", \"2016-05-04T14:00:00\", \"2016-05-04T15:00:00\", \"2016-05-04T16:00:00\", \"2016-05-04T17:00:00\", \"2016-05-04T18:00:00\", \"2016-05-04T19:00:00\", \"2016-05-04T20:00:00\", \"2016-05-04T21:00:00\", \"2016-05-04T22:00:00\", \"2016-05-04T23:00:00\", \"2016-05-05T00:00:00\", \"2016-05-05T01:00:00\", \"2016-05-05T02:00:00\", \"2016-05-05T03:00:00\", \"2016-05-05T04:00:00\", \"2016-05-05T05:00:00\", \"2016-05-05T06:00:00\", \"2016-05-05T07:00:00\", \"2016-05-05T08:00:00\", \"2016-05-05T09:00:00\", \"2016-05-05T10:00:00\", \"2016-05-05T11:00:00\", \"2016-05-05T12:00:00\", \"2016-05-05T13:00:00\", \"2016-05-05T14:00:00\", \"2016-05-05T15:00:00\", \"2016-05-05T16:00:00\", \"2016-05-05T17:00:00\", \"2016-05-05T18:00:00\", \"2016-05-05T19:00:00\", \"2016-05-05T20:00:00\", \"2016-05-05T21:00:00\", \"2016-05-05T22:00:00\", \"2016-05-05T23:00:00\", \"2016-05-06T00:00:00\", \"2016-05-06T01:00:00\", \"2016-05-06T02:00:00\", \"2016-05-06T03:00:00\", \"2016-05-06T04:00:00\", \"2016-05-06T05:00:00\", \"2016-05-06T06:00:00\", \"2016-05-06T07:00:00\", \"2016-05-06T08:00:00\", \"2016-05-06T09:00:00\", \"2016-05-06T10:00:00\", \"2016-05-06T11:00:00\", \"2016-05-06T12:00:00\", \"2016-05-06T13:00:00\", \"2016-05-06T14:00:00\", \"2016-05-06T15:00:00\", \"2016-05-06T16:00:00\", \"2016-05-06T17:00:00\", \"2016-05-06T18:00:00\", \"2016-05-06T19:00:00\", \"2016-05-06T20:00:00\", \"2016-05-06T21:00:00\", \"2016-05-06T22:00:00\", \"2016-05-06T23:00:00\", \"2016-05-07T00:00:00\", \"2016-05-07T01:00:00\", \"2016-05-07T02:00:00\", \"2016-05-07T03:00:00\", \"2016-05-07T04:00:00\", \"2016-05-07T05:00:00\", \"2016-05-07T06:00:00\", \"2016-05-07T07:00:00\", \"2016-05-07T08:00:00\", \"2016-05-07T09:00:00\", \"2016-05-07T10:00:00\", \"2016-05-07T11:00:00\", \"2016-05-07T12:00:00\", \"2016-05-07T13:00:00\", \"2016-05-07T14:00:00\", \"2016-05-07T15:00:00\", \"2016-05-07T16:00:00\", \"2016-05-07T17:00:00\", \"2016-05-07T18:00:00\", \"2016-05-07T19:00:00\", \"2016-05-07T20:00:00\", \"2016-05-07T21:00:00\", \"2016-05-07T22:00:00\", \"2016-05-07T23:00:00\", \"2016-05-08T00:00:00\", \"2016-05-08T01:00:00\", \"2016-05-08T02:00:00\", \"2016-05-08T03:00:00\", \"2016-05-08T04:00:00\", \"2016-05-08T05:00:00\", \"2016-05-08T06:00:00\", \"2016-05-08T07:00:00\", \"2016-05-08T08:00:00\", \"2016-05-08T09:00:00\", \"2016-05-08T10:00:00\", \"2016-05-08T11:00:00\", \"2016-05-08T12:00:00\", \"2016-05-08T13:00:00\", \"2016-05-08T14:00:00\", \"2016-05-08T15:00:00\", \"2016-05-08T16:00:00\", \"2016-05-08T17:00:00\", \"2016-05-08T18:00:00\", \"2016-05-08T19:00:00\", \"2016-05-08T20:00:00\", \"2016-05-08T21:00:00\", \"2016-05-08T22:00:00\", \"2016-05-08T23:00:00\", \"2016-05-09T00:00:00\"], \"y\": [3.8690552711486816, 3.8320069313049316, 3.8007395267486572, 3.904614210128784, 3.898369789123535, 3.890554428100586, 3.902482748031616, 3.9445767402648926, 4.060377597808838, 4.430701732635498, 4.101255416870117, 4.145663738250732, 4.419884204864502, 4.354393482208252, 4.102981090545654, 4.3755717277526855, 4.700626850128174, 5.062305450439453, 5.565896511077881, 4.852492332458496, 4.634213924407959, 4.00575065612793, 3.8789854049682617, 3.8510236740112305, 3.855368137359619, 3.835679769515991, 3.817830801010132, 3.8481924533843994, 3.776587963104248, 3.846496343612671, 3.9179110527038574, 4.975262641906738, 4.142229080200195, 3.8917462825775146, 3.990361213684082, 3.6228671073913574, 4.060232639312744, 4.05217170715332, 4.178162097930908, 4.2416605949401855, 4.600478172302246, 5.2808027267456055, 5.316154956817627, 4.828677177429199, 4.552126884460449, 4.025749683380127, 3.91583514213562, 3.9116592407226562, 3.904818296432495, 3.9037508964538574, 3.8606979846954346, 3.7497050762176514, 3.78446102142334, 3.9102230072021484, 3.876248836517334, 4.305663108825684, 4.102001667022705, 3.9710042476654053, 4.064534664154053, 3.938206434249878, 3.9668221473693848, 3.7936718463897705, 3.7065484523773193, 3.8024401664733887, 3.967987537384033, 3.9887728691101074, 5.501291751861572, 5.637831687927246, 4.254522800445557, 3.9486799240112305, 3.913456439971924, 3.8740017414093018, 3.864020347595215, 3.8181939125061035, 3.8070292472839355, 3.879774570465088, 3.8575360774993896, 3.8535449504852295, 4.157656192779541, 4.527757167816162, 3.989952802658081, 4.174757480621338, 4.182155132293701, 4.08938455581665, 4.168824195861816, 4.056248664855957, 4.291255474090576, 4.31755256652832, 5.132566452026367, 4.34766149520874, 5.464897155761719, 4.7457170486450195, 4.523217678070068, 4.194538593292236, 3.9273672103881836, 3.9152731895446777, 3.8806564807891846, 3.875866413116455, 3.8119590282440186, 3.8345420360565186, 3.8812036514282227, 3.971614122390747, 3.9886255264282227, 4.1785173416137695, 4.5623779296875, 4.4256205558776855, 4.130214691162109, 4.771803379058838, 4.1551313400268555, 4.114478588104248, 4.028974533081055, 3.865464925765991, 3.9558160305023193, 4.9529948234558105, 4.986353397369385, 5.501028537750244, 4.472556114196777, 3.856428623199463, 3.7063424587249756, 3.8371620178222656, 3.8299129009246826, 3.8663084506988525, 3.815725564956665, 3.8514015674591064, 3.911348581314087, 3.9813332557678223, 4.129604339599609, 4.379933834075928, 4.932200908660889, 3.7559895515441895, 4.1503753662109375, 4.671240329742432, 4.068538665771484, 4.283890724182129, 4.086160182952881, 4.580617904663086, 4.4292073249816895, 5.580295562744141, 4.183269500732422, 4.739962100982666, 4.556472301483154, 4.440403461456299, 3.9097414016723633, 3.870152711868286, 3.8558568954467773, 3.8720715045928955, 3.864440679550171, 3.864854335784912, 3.883991003036499, 3.918832778930664, 4.087157249450684, 4.2022480964660645, 4.740935325622559, 4.315096855163574, 4.09967565536499, 4.739317417144775, 4.773447036743164, 4.249345302581787, 4.285201549530029, 4.272024154663086, 4.415458679199219, 5.515127658843994, 4.632975101470947, 4.734102725982666, 4.432048320770264, 4.248945236206055, 3.887892007827759, 3.8751730918884277, 3.876228094100952, 3.8583829402923584, 3.857757568359375, 3.8712868690490723, 3.8940067291259766, 3.9515912532806396, 4.055026531219482, 4.048278331756592, 4.270590782165527, 4.721559047698975, 4.775510311126709, 4.045290946960449, 3.97477126121521, 4.056606292724609, 3.918610095977783, 3.9127519130706787, 3.9219818115234375, 3.8691201210021973, 4.4136271476745605, 3.8822202682495117, 3.9248087406158447, 3.9793055057525635, 3.9361865520477295, 3.91477632522583, 3.90716814994812]}, {\"mode\": \"lines\", \"name\": \"Real Values\", \"type\": \"scatter\", \"x\": [\"2016-05-01T00:00:00\", \"2016-05-01T01:00:00\", \"2016-05-01T02:00:00\", \"2016-05-01T03:00:00\", \"2016-05-01T04:00:00\", \"2016-05-01T05:00:00\", \"2016-05-01T06:00:00\", \"2016-05-01T07:00:00\", \"2016-05-01T08:00:00\", \"2016-05-01T09:00:00\", \"2016-05-01T10:00:00\", \"2016-05-01T11:00:00\", \"2016-05-01T12:00:00\", \"2016-05-01T13:00:00\", \"2016-05-01T14:00:00\", \"2016-05-01T15:00:00\", \"2016-05-01T16:00:00\", \"2016-05-01T17:00:00\", \"2016-05-01T18:00:00\", \"2016-05-01T19:00:00\", \"2016-05-01T20:00:00\", \"2016-05-01T21:00:00\", \"2016-05-01T22:00:00\", \"2016-05-01T23:00:00\", \"2016-05-02T00:00:00\", \"2016-05-02T01:00:00\", \"2016-05-02T02:00:00\", \"2016-05-02T03:00:00\", \"2016-05-02T04:00:00\", \"2016-05-02T05:00:00\", \"2016-05-02T06:00:00\", \"2016-05-02T07:00:00\", \"2016-05-02T08:00:00\", \"2016-05-02T09:00:00\", \"2016-05-02T10:00:00\", \"2016-05-02T11:00:00\", \"2016-05-02T12:00:00\", \"2016-05-02T13:00:00\", \"2016-05-02T14:00:00\", \"2016-05-02T15:00:00\", \"2016-05-02T16:00:00\", \"2016-05-02T17:00:00\", \"2016-05-02T18:00:00\", \"2016-05-02T19:00:00\", \"2016-05-02T20:00:00\", \"2016-05-02T21:00:00\", \"2016-05-02T22:00:00\", \"2016-05-02T23:00:00\", \"2016-05-03T00:00:00\", \"2016-05-03T01:00:00\", \"2016-05-03T02:00:00\", \"2016-05-03T03:00:00\", \"2016-05-03T04:00:00\", \"2016-05-03T05:00:00\", \"2016-05-03T06:00:00\", \"2016-05-03T07:00:00\", \"2016-05-03T08:00:00\", \"2016-05-03T09:00:00\", \"2016-05-03T10:00:00\", \"2016-05-03T11:00:00\", \"2016-05-03T12:00:00\", \"2016-05-03T13:00:00\", \"2016-05-03T14:00:00\", \"2016-05-03T15:00:00\", \"2016-05-03T16:00:00\", \"2016-05-03T17:00:00\", \"2016-05-03T18:00:00\", \"2016-05-03T19:00:00\", \"2016-05-03T20:00:00\", \"2016-05-03T21:00:00\", \"2016-05-03T22:00:00\", \"2016-05-03T23:00:00\", \"2016-05-04T00:00:00\", \"2016-05-04T01:00:00\", \"2016-05-04T02:00:00\", \"2016-05-04T03:00:00\", \"2016-05-04T04:00:00\", \"2016-05-04T05:00:00\", \"2016-05-04T06:00:00\", \"2016-05-04T07:00:00\", \"2016-05-04T08:00:00\", \"2016-05-04T09:00:00\", \"2016-05-04T10:00:00\", \"2016-05-04T11:00:00\", \"2016-05-04T12:00:00\", \"2016-05-04T13:00:00\", \"2016-05-04T14:00:00\", \"2016-05-04T15:00:00\", \"2016-05-04T16:00:00\", \"2016-05-04T17:00:00\", \"2016-05-04T18:00:00\", \"2016-05-04T19:00:00\", \"2016-05-04T20:00:00\", \"2016-05-04T21:00:00\", \"2016-05-04T22:00:00\", \"2016-05-04T23:00:00\", \"2016-05-05T00:00:00\", \"2016-05-05T01:00:00\", \"2016-05-05T02:00:00\", \"2016-05-05T03:00:00\", \"2016-05-05T04:00:00\", \"2016-05-05T05:00:00\", \"2016-05-05T06:00:00\", \"2016-05-05T07:00:00\", \"2016-05-05T08:00:00\", \"2016-05-05T09:00:00\", \"2016-05-05T10:00:00\", \"2016-05-05T11:00:00\", \"2016-05-05T12:00:00\", \"2016-05-05T13:00:00\", \"2016-05-05T14:00:00\", \"2016-05-05T15:00:00\", \"2016-05-05T16:00:00\", \"2016-05-05T17:00:00\", \"2016-05-05T18:00:00\", \"2016-05-05T19:00:00\", \"2016-05-05T20:00:00\", \"2016-05-05T21:00:00\", \"2016-05-05T22:00:00\", \"2016-05-05T23:00:00\", \"2016-05-06T00:00:00\", \"2016-05-06T01:00:00\", \"2016-05-06T02:00:00\", \"2016-05-06T03:00:00\", \"2016-05-06T04:00:00\", \"2016-05-06T05:00:00\", \"2016-05-06T06:00:00\", \"2016-05-06T07:00:00\", \"2016-05-06T08:00:00\", \"2016-05-06T09:00:00\", \"2016-05-06T10:00:00\", \"2016-05-06T11:00:00\", \"2016-05-06T12:00:00\", \"2016-05-06T13:00:00\", \"2016-05-06T14:00:00\", \"2016-05-06T15:00:00\", \"2016-05-06T16:00:00\", \"2016-05-06T17:00:00\", \"2016-05-06T18:00:00\", \"2016-05-06T19:00:00\", \"2016-05-06T20:00:00\", \"2016-05-06T21:00:00\", \"2016-05-06T22:00:00\", \"2016-05-06T23:00:00\", \"2016-05-07T00:00:00\", \"2016-05-07T01:00:00\", \"2016-05-07T02:00:00\", \"2016-05-07T03:00:00\", \"2016-05-07T04:00:00\", \"2016-05-07T05:00:00\", \"2016-05-07T06:00:00\", \"2016-05-07T07:00:00\", \"2016-05-07T08:00:00\", \"2016-05-07T09:00:00\", \"2016-05-07T10:00:00\", \"2016-05-07T11:00:00\", \"2016-05-07T12:00:00\", \"2016-05-07T13:00:00\", \"2016-05-07T14:00:00\", \"2016-05-07T15:00:00\", \"2016-05-07T16:00:00\", \"2016-05-07T17:00:00\", \"2016-05-07T18:00:00\", \"2016-05-07T19:00:00\", \"2016-05-07T20:00:00\", \"2016-05-07T21:00:00\", \"2016-05-07T22:00:00\", \"2016-05-07T23:00:00\", \"2016-05-08T00:00:00\", \"2016-05-08T01:00:00\", \"2016-05-08T02:00:00\", \"2016-05-08T03:00:00\", \"2016-05-08T04:00:00\", \"2016-05-08T05:00:00\", \"2016-05-08T06:00:00\", \"2016-05-08T07:00:00\", \"2016-05-08T08:00:00\", \"2016-05-08T09:00:00\", \"2016-05-08T10:00:00\", \"2016-05-08T11:00:00\", \"2016-05-08T12:00:00\", \"2016-05-08T13:00:00\", \"2016-05-08T14:00:00\", \"2016-05-08T15:00:00\", \"2016-05-08T16:00:00\", \"2016-05-08T17:00:00\", \"2016-05-08T18:00:00\", \"2016-05-08T19:00:00\", \"2016-05-08T20:00:00\", \"2016-05-08T21:00:00\", \"2016-05-08T22:00:00\", \"2016-05-08T23:00:00\", \"2016-05-09T00:00:00\"], \"y\": [3.9448128282511368, 4.007333185232471, 3.8781214537524646, 3.7297014486341915, 3.9765615265657175, 3.9448128282511368, 3.9765615265657175, 4.0661736852554045, 4.442651256490317, 4.499809670330265, 4.148411783492376, 4.518158808998462, 4.5712686343124105, 4.360973225476049, 4.685212893661628, 4.653960350157523, 5.3706380281276624, 5.714832310842786, 5.604575824572753, 4.75932086581535, 4.669708707125663, 4.442651256490317, 4.248495242049359, 3.8781214537524646, 4.007333185232471, 3.9448128282511368, 3.6888794541139363, 3.9765615265657175, 3.9448128282511368, 4.637960008811082, 4.339467020255086, 5.135798437050262, 3.9765615265657175, 4.007333185232471, 3.9765615265657175, 3.9448128282511368, 4.402645921876617, 4.402645921876617, 4.382026634673881, 4.402645921876617, 4.653960350157523, 5.579729825986222, 4.841558964052322, 4.90527477843843, 4.700480365792417, 3.9765615265657175, 4.174387269895637, 4.007333185232471, 4.007333185232471, 3.6463198396951406, 3.9765615265657175, 3.9765615265657175, 3.912023005428146, 3.9448128282511368, 4.2243976904702984, 3.912023005428146, 4.007333185232471, 3.6888794541139363, 3.9448128282511368, 3.9765615265657175, 3.9765615265657175, 3.6888794541139363, 4.037186148382152, 3.912023005428146, 4.174387269895637, 5.501258210544727, 4.892852258439873, 4.929666231562589, 4.773505500807306, 4.037186148382152, 4.007333185232471, 3.7297014486341915, 3.9448128282511368, 3.9765615265657175, 4.007333185232471, 3.6463198396951406, 3.912023005428146, 4.199705077879927, 4.74493212836325, 4.0943445622221, 5.1647859739235145, 4.272025739459553, 4.422848629194137, 4.339467020255086, 4.174387269895637, 4.248495242049359, 4.248495242049359, 4.2243976904702984, 4.402645921876617, 4.7303333289420975, 4.892852258439873, 4.715518243156957, 4.605170185988092, 4.31748811353631, 4.007333185232471, 4.007333185232471, 3.6888794541139363, 4.037186148382152, 3.9448128282511368, 4.007333185232471, 3.9448128282511368, 3.6463198396951406, 4.0661736852554045, 5.115995809754082, 5.155216522907363, 4.442651256490317, 4.5712686343124105, 4.481117537318112, 4.637960008811082, 3.7297014486341915, 4.007333185232471, 4.0661736852554045, 3.9448128282511368, 5.314846668499247, 5.085536602269373, 4.58836306767171, 4.58836306767171, 4.272025739459553, 4.037186148382152, 4.007333185232471, 3.7297014486341915, 4.0661736852554045, 3.912023005428146, 4.0661736852554045, 3.912023005428146, 3.9448128282511368, 4.295015257684252, 5.508037897530106, 4.553876891600541, 5.610692051590189, 4.499809670330265, 4.700480365792417, 4.929666231562589, 4.382026634673881, 5.075173815233827, 4.31748811353631, 4.248495242049359, 4.53617731450114, 5.174264717878057, 4.841558964052322, 4.75932086581535, 4.272025739459553, 3.9765615265657175, 4.0661736852554045, 3.9448128282511368, 4.037186148382152, 3.9765615265657175, 4.007333185232471, 4.007333185232471, 3.9448128282511368, 3.9765615265657175, 4.999461993498131, 4.8012850649143815, 5.032614200815031, 5.183654458227897, 5.085536602269373, 4.4620693423474185, 4.31748811353631, 4.481117537318112, 4.637960008811082, 4.518158808998462, 4.422848629194137, 5.652489180268651, 4.787491742782046, 4.4620693423474185, 4.037186148382152, 4.0661736852554045, 4.037186148382152, 4.0661736852554045, 3.9448128282511368, 4.007333185232471, 4.037186148382152, 3.912023005428146, 4.037186148382152, 3.912023005428146, 4.0943445622221, 5.211305989558407, 4.965172920019499, 4.90527477843843, 3.912023005428146, 4.037186148382152, 4.037186148382152, 4.037186148382152, 3.912023005428146, 4.007333185232471, 4.037186148382152, 3.912023005428146, 4.0943445622221, 4.360973225476049, 4.148411783492376, 4.0661736852554045, 3.9765615265657175, 4.007333185232471]}],\n",
              "                        {\"template\": {\"data\": {\"bar\": [{\"error_x\": {\"color\": \"#2a3f5f\"}, \"error_y\": {\"color\": \"#2a3f5f\"}, \"marker\": {\"line\": {\"color\": \"#E5ECF6\", \"width\": 0.5}}, \"type\": \"bar\"}], \"barpolar\": [{\"marker\": {\"line\": {\"color\": \"#E5ECF6\", \"width\": 0.5}}, \"type\": \"barpolar\"}], \"carpet\": [{\"aaxis\": {\"endlinecolor\": \"#2a3f5f\", \"gridcolor\": \"white\", \"linecolor\": \"white\", \"minorgridcolor\": \"white\", \"startlinecolor\": \"#2a3f5f\"}, \"baxis\": {\"endlinecolor\": \"#2a3f5f\", \"gridcolor\": \"white\", \"linecolor\": \"white\", \"minorgridcolor\": \"white\", \"startlinecolor\": \"#2a3f5f\"}, \"type\": \"carpet\"}], \"choropleth\": [{\"colorbar\": {\"outlinewidth\": 0, \"ticks\": \"\"}, \"type\": \"choropleth\"}], \"contour\": [{\"colorbar\": {\"outlinewidth\": 0, \"ticks\": \"\"}, \"colorscale\": [[0.0, \"#0d0887\"], [0.1111111111111111, \"#46039f\"], [0.2222222222222222, \"#7201a8\"], [0.3333333333333333, \"#9c179e\"], [0.4444444444444444, \"#bd3786\"], [0.5555555555555556, \"#d8576b\"], [0.6666666666666666, \"#ed7953\"], [0.7777777777777778, \"#fb9f3a\"], [0.8888888888888888, \"#fdca26\"], [1.0, \"#f0f921\"]], \"type\": \"contour\"}], \"contourcarpet\": [{\"colorbar\": {\"outlinewidth\": 0, \"ticks\": \"\"}, \"type\": \"contourcarpet\"}], \"heatmap\": [{\"colorbar\": {\"outlinewidth\": 0, \"ticks\": \"\"}, \"colorscale\": [[0.0, \"#0d0887\"], [0.1111111111111111, \"#46039f\"], [0.2222222222222222, \"#7201a8\"], [0.3333333333333333, \"#9c179e\"], [0.4444444444444444, \"#bd3786\"], [0.5555555555555556, \"#d8576b\"], [0.6666666666666666, \"#ed7953\"], [0.7777777777777778, \"#fb9f3a\"], [0.8888888888888888, \"#fdca26\"], [1.0, \"#f0f921\"]], \"type\": \"heatmap\"}], \"heatmapgl\": [{\"colorbar\": {\"outlinewidth\": 0, \"ticks\": \"\"}, \"colorscale\": [[0.0, \"#0d0887\"], [0.1111111111111111, \"#46039f\"], [0.2222222222222222, \"#7201a8\"], [0.3333333333333333, \"#9c179e\"], [0.4444444444444444, \"#bd3786\"], [0.5555555555555556, \"#d8576b\"], [0.6666666666666666, \"#ed7953\"], [0.7777777777777778, \"#fb9f3a\"], [0.8888888888888888, \"#fdca26\"], [1.0, \"#f0f921\"]], \"type\": \"heatmapgl\"}], \"histogram\": [{\"marker\": {\"colorbar\": {\"outlinewidth\": 0, \"ticks\": \"\"}}, \"type\": \"histogram\"}], \"histogram2d\": [{\"colorbar\": {\"outlinewidth\": 0, \"ticks\": \"\"}, \"colorscale\": [[0.0, \"#0d0887\"], [0.1111111111111111, \"#46039f\"], [0.2222222222222222, \"#7201a8\"], [0.3333333333333333, \"#9c179e\"], [0.4444444444444444, \"#bd3786\"], [0.5555555555555556, \"#d8576b\"], [0.6666666666666666, \"#ed7953\"], [0.7777777777777778, \"#fb9f3a\"], [0.8888888888888888, \"#fdca26\"], [1.0, \"#f0f921\"]], \"type\": \"histogram2d\"}], \"histogram2dcontour\": [{\"colorbar\": {\"outlinewidth\": 0, \"ticks\": \"\"}, \"colorscale\": [[0.0, \"#0d0887\"], [0.1111111111111111, \"#46039f\"], [0.2222222222222222, \"#7201a8\"], [0.3333333333333333, \"#9c179e\"], [0.4444444444444444, \"#bd3786\"], [0.5555555555555556, \"#d8576b\"], [0.6666666666666666, \"#ed7953\"], [0.7777777777777778, \"#fb9f3a\"], [0.8888888888888888, \"#fdca26\"], [1.0, \"#f0f921\"]], \"type\": \"histogram2dcontour\"}], \"mesh3d\": [{\"colorbar\": {\"outlinewidth\": 0, \"ticks\": \"\"}, \"type\": \"mesh3d\"}], \"parcoords\": [{\"line\": {\"colorbar\": {\"outlinewidth\": 0, \"ticks\": \"\"}}, \"type\": \"parcoords\"}], \"scatter\": [{\"marker\": {\"colorbar\": {\"outlinewidth\": 0, \"ticks\": \"\"}}, \"type\": \"scatter\"}], \"scatter3d\": [{\"line\": {\"colorbar\": {\"outlinewidth\": 0, \"ticks\": \"\"}}, \"marker\": {\"colorbar\": {\"outlinewidth\": 0, \"ticks\": \"\"}}, \"type\": \"scatter3d\"}], \"scattercarpet\": [{\"marker\": {\"colorbar\": {\"outlinewidth\": 0, \"ticks\": \"\"}}, \"type\": \"scattercarpet\"}], \"scattergeo\": [{\"marker\": {\"colorbar\": {\"outlinewidth\": 0, \"ticks\": \"\"}}, \"type\": \"scattergeo\"}], \"scattergl\": [{\"marker\": {\"colorbar\": {\"outlinewidth\": 0, \"ticks\": \"\"}}, \"type\": \"scattergl\"}], \"scattermapbox\": [{\"marker\": {\"colorbar\": {\"outlinewidth\": 0, \"ticks\": \"\"}}, \"type\": \"scattermapbox\"}], \"scatterpolar\": [{\"marker\": {\"colorbar\": {\"outlinewidth\": 0, \"ticks\": \"\"}}, \"type\": \"scatterpolar\"}], \"scatterpolargl\": [{\"marker\": {\"colorbar\": {\"outlinewidth\": 0, \"ticks\": \"\"}}, \"type\": \"scatterpolargl\"}], \"scatterternary\": [{\"marker\": {\"colorbar\": {\"outlinewidth\": 0, \"ticks\": \"\"}}, \"type\": \"scatterternary\"}], \"surface\": [{\"colorbar\": {\"outlinewidth\": 0, \"ticks\": \"\"}, \"colorscale\": [[0.0, \"#0d0887\"], [0.1111111111111111, \"#46039f\"], [0.2222222222222222, \"#7201a8\"], [0.3333333333333333, \"#9c179e\"], [0.4444444444444444, \"#bd3786\"], [0.5555555555555556, \"#d8576b\"], [0.6666666666666666, \"#ed7953\"], [0.7777777777777778, \"#fb9f3a\"], [0.8888888888888888, \"#fdca26\"], [1.0, \"#f0f921\"]], \"type\": \"surface\"}], \"table\": [{\"cells\": {\"fill\": {\"color\": \"#EBF0F8\"}, \"line\": {\"color\": \"white\"}}, \"header\": {\"fill\": {\"color\": \"#C8D4E3\"}, \"line\": {\"color\": \"white\"}}, \"type\": \"table\"}]}, \"layout\": {\"annotationdefaults\": {\"arrowcolor\": \"#2a3f5f\", \"arrowhead\": 0, \"arrowwidth\": 1}, \"colorscale\": {\"diverging\": [[0, \"#8e0152\"], [0.1, \"#c51b7d\"], [0.2, \"#de77ae\"], [0.3, \"#f1b6da\"], [0.4, \"#fde0ef\"], [0.5, \"#f7f7f7\"], [0.6, \"#e6f5d0\"], [0.7, \"#b8e186\"], [0.8, \"#7fbc41\"], [0.9, \"#4d9221\"], [1, \"#276419\"]], \"sequential\": [[0.0, \"#0d0887\"], [0.1111111111111111, \"#46039f\"], [0.2222222222222222, \"#7201a8\"], [0.3333333333333333, \"#9c179e\"], [0.4444444444444444, \"#bd3786\"], [0.5555555555555556, \"#d8576b\"], [0.6666666666666666, \"#ed7953\"], [0.7777777777777778, \"#fb9f3a\"], [0.8888888888888888, \"#fdca26\"], [1.0, \"#f0f921\"]], \"sequentialminus\": [[0.0, \"#0d0887\"], [0.1111111111111111, \"#46039f\"], [0.2222222222222222, \"#7201a8\"], [0.3333333333333333, \"#9c179e\"], [0.4444444444444444, \"#bd3786\"], [0.5555555555555556, \"#d8576b\"], [0.6666666666666666, \"#ed7953\"], [0.7777777777777778, \"#fb9f3a\"], [0.8888888888888888, \"#fdca26\"], [1.0, \"#f0f921\"]]}, \"colorway\": [\"#636efa\", \"#EF553B\", \"#00cc96\", \"#ab63fa\", \"#FFA15A\", \"#19d3f3\", \"#FF6692\", \"#B6E880\", \"#FF97FF\", \"#FECB52\"], \"font\": {\"color\": \"#2a3f5f\"}, \"geo\": {\"bgcolor\": \"white\", \"lakecolor\": \"white\", \"landcolor\": \"#E5ECF6\", \"showlakes\": true, \"showland\": true, \"subunitcolor\": \"white\"}, \"hoverlabel\": {\"align\": \"left\"}, \"hovermode\": \"closest\", \"mapbox\": {\"style\": \"light\"}, \"paper_bgcolor\": \"white\", \"plot_bgcolor\": \"#E5ECF6\", \"polar\": {\"angularaxis\": {\"gridcolor\": \"white\", \"linecolor\": \"white\", \"ticks\": \"\"}, \"bgcolor\": \"#E5ECF6\", \"radialaxis\": {\"gridcolor\": \"white\", \"linecolor\": \"white\", \"ticks\": \"\"}}, \"scene\": {\"xaxis\": {\"backgroundcolor\": \"#E5ECF6\", \"gridcolor\": \"white\", \"gridwidth\": 2, \"linecolor\": \"white\", \"showbackground\": true, \"ticks\": \"\", \"zerolinecolor\": \"white\"}, \"yaxis\": {\"backgroundcolor\": \"#E5ECF6\", \"gridcolor\": \"white\", \"gridwidth\": 2, \"linecolor\": \"white\", \"showbackground\": true, \"ticks\": \"\", \"zerolinecolor\": \"white\"}, \"zaxis\": {\"backgroundcolor\": \"#E5ECF6\", \"gridcolor\": \"white\", \"gridwidth\": 2, \"linecolor\": \"white\", \"showbackground\": true, \"ticks\": \"\", \"zerolinecolor\": \"white\"}}, \"shapedefaults\": {\"line\": {\"color\": \"#2a3f5f\"}}, \"ternary\": {\"aaxis\": {\"gridcolor\": \"white\", \"linecolor\": \"white\", \"ticks\": \"\"}, \"baxis\": {\"gridcolor\": \"white\", \"linecolor\": \"white\", \"ticks\": \"\"}, \"bgcolor\": \"#E5ECF6\", \"caxis\": {\"gridcolor\": \"white\", \"linecolor\": \"white\", \"ticks\": \"\"}}, \"title\": {\"x\": 0.05}, \"xaxis\": {\"automargin\": true, \"gridcolor\": \"white\", \"linecolor\": \"white\", \"ticks\": \"\", \"zerolinecolor\": \"white\", \"zerolinewidth\": 2}, \"yaxis\": {\"automargin\": true, \"gridcolor\": \"white\", \"linecolor\": \"white\", \"ticks\": \"\", \"zerolinecolor\": \"white\", \"zerolinewidth\": 2}}}, \"title\": {\"text\": \"Uncertainty Quantification for Energy Consumption Test Data\"}, \"xaxis\": {\"title\": {\"text\": \"Time\"}}, \"yaxis\": {\"title\": {\"text\": \"log_energy_consumption (log Wh)\"}}},\n",
              "                        {\"responsive\": true}\n",
              "                    ).then(function(){\n",
              "                            \n",
              "var gd = document.getElementById('54bc88c0-eb48-4998-b68b-510b0a512041');\n",
              "var x = new MutationObserver(function (mutations, observer) {{\n",
              "        var display = window.getComputedStyle(gd).display;\n",
              "        if (!display || display === 'none') {{\n",
              "            console.log([gd, 'removed!']);\n",
              "            Plotly.purge(gd);\n",
              "            observer.disconnect();\n",
              "        }}\n",
              "}});\n",
              "\n",
              "// Listen for the removal of the full notebook cells\n",
              "var notebookContainer = gd.closest('#notebook-container');\n",
              "if (notebookContainer) {{\n",
              "    x.observe(notebookContainer, {childList: true});\n",
              "}}\n",
              "\n",
              "// Listen for the clearing of the current output cell\n",
              "var outputEl = gd.closest('.output');\n",
              "if (outputEl) {{\n",
              "    x.observe(outputEl, {childList: true});\n",
              "}}\n",
              "\n",
              "                        })\n",
              "                };\n",
              "                \n",
              "            </script>\n",
              "        </div>\n",
              "</body>\n",
              "</html>"
            ]
          },
          "metadata": {
            "tags": []
          }
        }
      ]
    },
    {
      "cell_type": "markdown",
      "metadata": {
        "id": "7THEK4P96J0S",
        "colab_type": "text"
      },
      "source": [
        "#### Evaluating Uncertainty"
      ]
    },
    {
      "cell_type": "markdown",
      "metadata": {
        "id": "PPuR8L6D6PkL",
        "colab_type": "text"
      },
      "source": [
        "Using multiple experiments above, 99% confidence intervals have been constructed for each the prediction of the target variable (the logarithm of appliance power consumption). While we can visually observe that the model is generally capturing the behavior of the time-series, approximately only 50% of the real data points lie within a 99% confidence interval from the mean prediction value.\n",
        "\n",
        "Despite the relatively low percentage of points within the confidence interval, it must be noted that Bayesian Neural Networks only seek to quantify the epistemic model uncertainty and does not account for aleatoric uncertainty (i.e. noise)."
      ]
    },
    {
      "cell_type": "code",
      "metadata": {
        "id": "mV2_6qekxzLn",
        "colab_type": "code",
        "outputId": "8089bac9-6c77-48fc-9070-6e478d6631ed",
        "colab": {
          "base_uri": "https://localhost:8080/",
          "height": 34
        }
      },
      "source": [
        "bounds_df = pd.DataFrame()\n",
        "\n",
        "# Using 99% confidence bounds\n",
        "bounds_df['lower_bound'] = test_uncertainty_plot_df['lower_bound']\n",
        "bounds_df['prediction'] = test_uncertainty_plot_df['log_energy_consumption_mean']\n",
        "bounds_df['real_value'] = truth_uncertainty_plot_df['log_energy_consumption']\n",
        "bounds_df['upper_bound'] = test_uncertainty_plot_df['upper_bound']\n",
        "\n",
        "bounds_df['contained'] = ((bounds_df['real_value'] >= bounds_df['lower_bound']) &\n",
        "                          (bounds_df['real_value'] <= bounds_df['upper_bound']))\n",
        "\n",
        "print(\"Proportion of points contained within 99% confidence interval:\", \n",
        "      bounds_df['contained'].mean())"
      ],
      "execution_count": 0,
      "outputs": [
        {
          "output_type": "stream",
          "text": [
            "Proportion of points contained within 99% confidence interval: 0.5492227979274611\n"
          ],
          "name": "stdout"
        }
      ]
    },
    {
      "cell_type": "markdown",
      "metadata": {
        "id": "CLrYy9qgxp_C",
        "colab_type": "text"
      },
      "source": [
        "# Conclusions\n",
        "\n",
        "- Bayesian LSTMs have been able to produce comparable performance to their frequentist counterparts (all else being equal)\n",
        "- Stochastic dropout enables users to approximate the posterior distribution of the target variable, \\\n",
        "and thus construct confidence intervals for each prediction \n",
        "- Bayesian Neural Networks only attempt to account for epistemic model uncertainty and do not necessarily address aleatoric uncertainty\n",
        "- Computational overhead for repeated/multiple Bayesian LSTM predictions at inference to construct confidence intervals represent a potential challenge for real-time inference use-cases."
      ]
    }
  ]
}
