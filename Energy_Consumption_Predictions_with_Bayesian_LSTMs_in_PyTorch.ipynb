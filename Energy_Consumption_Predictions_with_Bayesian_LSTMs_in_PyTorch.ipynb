{
  "nbformat": 4,
  "nbformat_minor": 0,
  "metadata": {
    "colab": {
      "name": "Energy Consumption Predictions with Bayesian LSTMs in PyTorch.ipynb",
      "provenance": [],
      "include_colab_link": true
    },
    "kernelspec": {
      "name": "python3",
      "display_name": "Python 3"
    }
  },
  "cells": [
    {
      "cell_type": "markdown",
      "metadata": {
        "id": "view-in-github",
        "colab_type": "text"
      },
      "source": [
        "<a href=\"https://colab.research.google.com/github/PawaritL/BayesianLSTM/blob/master/Energy_Consumption_Predictions_with_Bayesian_LSTMs_in_PyTorch.ipynb\" target=\"_parent\"><img src=\"https://colab.research.google.com/assets/colab-badge.svg\" alt=\"Open In Colab\"/></a>"
      ]
    },
    {
      "cell_type": "markdown",
      "metadata": {
        "id": "VHRshe9Y-Q0Q"
      },
      "source": [
        "# Energy Consumption Predictions with Bayesian LSTMs in PyTorch"
      ]
    },
    {
      "cell_type": "markdown",
      "metadata": {
        "id": "8GGWUqKU1paW"
      },
      "source": [
        "Author: Pawarit Laosunthara\n",
        "\n"
      ]
    },
    {
      "cell_type": "markdown",
      "metadata": {
        "id": "3FQQioKQ-Tkr"
      },
      "source": [
        "# **Important Note for GitHub Readers:**\n",
        "Please click the **Open in Colab** button above in order to view all **interactive visualizations**.\n",
        "\n",
        "This notebook demonstrates an implementation of an (Approximate) Bayesian Recurrent Neural Network in PyTorch, originally inspired by the *Deep and Confident Prediction for Time Series at Uber* (https://arxiv.org/pdf/1709.01907.pdf)\n",
        "\n",
        "<br>\n",
        "\n",
        "In this approach, Monte Carlo dropout is used to **approximate** Bayesian inference, allowing our predictions to have explicit uncertainties and confidence intervals. This property makes Bayesian Neural Networks highly appealing to critical applications requiring uncertainty quantification.\n",
        "The *Appliances energy prediction* dataset used in this example is from the UCI Machine Learning Repository (https://archive.ics.uci.edu/ml/datasets/Appliances+energy+prediction)\n",
        "\n",
        "\n",
        "**Note:** this notebook purely serves to demonstrate the implementation of Bayesian LSTMs (Long Short-Term Memory) networks in PyTorch. Therefore, extensive data exploration and feature engineering is not part of the scope of this investigation."
      ]
    },
    {
      "cell_type": "markdown",
      "metadata": {
        "id": "psI_d17Y_3_9"
      },
      "source": [
        "# Preliminary Data Wrangling"
      ]
    },
    {
      "cell_type": "markdown",
      "metadata": {
        "id": "OFY02qDSAbqI"
      },
      "source": [
        "**Selected Columns:**\n",
        "\n",
        "For simplicity and speed when running this notebook, only temporal and autoregressive features are used.\n",
        "\n",
        "- date time year-month-day hour:minute:second, sampled every 10 minutes \\\n",
        "- Appliances, energy use in Wh for the corresponding 10-minute timestamp \\\n",
        "- day_of_week, where Monday corresponds to 0 \\\n",
        "- hour_of_day\n"
      ]
    },
    {
      "cell_type": "code",
      "metadata": {
        "id": "uWNK0BtB2W0E"
      },
      "source": [
        "import pandas as pd"
      ],
      "execution_count": null,
      "outputs": []
    },
    {
      "cell_type": "code",
      "metadata": {
        "id": "WDYp3nRh-Bpv"
      },
      "source": [
        "energy_df = pd.read_csv('https://archive.ics.uci.edu/ml/machine-learning-databases/00374/energydata_complete.csv')\n",
        "\n",
        "energy_df['date'] = pd.to_datetime(energy_df['date'])\n",
        "\n",
        "energy_df['month'] = energy_df['date'].dt.month.astype(int)\n",
        "energy_df['day_of_month'] = energy_df['date'].dt.day.astype(int)\n",
        "\n",
        "# day_of_week=0 corresponds to Monday\n",
        "energy_df['day_of_week'] = energy_df['date'].dt.dayofweek.astype(int)\n",
        "energy_df['hour_of_day'] = energy_df['date'].dt.hour.astype(int)\n",
        "\n",
        "selected_columns = ['date', 'day_of_week', 'hour_of_day', 'Appliances']\n",
        "energy_df = energy_df[selected_columns]"
      ],
      "execution_count": null,
      "outputs": []
    },
    {
      "cell_type": "code",
      "metadata": {
        "id": "vv4cV2qr-E-8",
        "colab": {
          "base_uri": "https://localhost:8080/",
          "height": 206
        },
        "outputId": "476229ff-04c5-4b20-e035-dc0a6c22e8de"
      },
      "source": [
        "energy_df.head()"
      ],
      "execution_count": null,
      "outputs": [
        {
          "output_type": "execute_result",
          "data": {
            "text/html": [
              "<div>\n",
              "<style scoped>\n",
              "    .dataframe tbody tr th:only-of-type {\n",
              "        vertical-align: middle;\n",
              "    }\n",
              "\n",
              "    .dataframe tbody tr th {\n",
              "        vertical-align: top;\n",
              "    }\n",
              "\n",
              "    .dataframe thead th {\n",
              "        text-align: right;\n",
              "    }\n",
              "</style>\n",
              "<table border=\"1\" class=\"dataframe\">\n",
              "  <thead>\n",
              "    <tr style=\"text-align: right;\">\n",
              "      <th></th>\n",
              "      <th>date</th>\n",
              "      <th>day_of_week</th>\n",
              "      <th>hour_of_day</th>\n",
              "      <th>Appliances</th>\n",
              "    </tr>\n",
              "  </thead>\n",
              "  <tbody>\n",
              "    <tr>\n",
              "      <th>0</th>\n",
              "      <td>2016-01-11 17:00:00</td>\n",
              "      <td>0</td>\n",
              "      <td>17</td>\n",
              "      <td>60</td>\n",
              "    </tr>\n",
              "    <tr>\n",
              "      <th>1</th>\n",
              "      <td>2016-01-11 17:10:00</td>\n",
              "      <td>0</td>\n",
              "      <td>17</td>\n",
              "      <td>60</td>\n",
              "    </tr>\n",
              "    <tr>\n",
              "      <th>2</th>\n",
              "      <td>2016-01-11 17:20:00</td>\n",
              "      <td>0</td>\n",
              "      <td>17</td>\n",
              "      <td>50</td>\n",
              "    </tr>\n",
              "    <tr>\n",
              "      <th>3</th>\n",
              "      <td>2016-01-11 17:30:00</td>\n",
              "      <td>0</td>\n",
              "      <td>17</td>\n",
              "      <td>50</td>\n",
              "    </tr>\n",
              "    <tr>\n",
              "      <th>4</th>\n",
              "      <td>2016-01-11 17:40:00</td>\n",
              "      <td>0</td>\n",
              "      <td>17</td>\n",
              "      <td>60</td>\n",
              "    </tr>\n",
              "  </tbody>\n",
              "</table>\n",
              "</div>"
            ],
            "text/plain": [
              "                 date  day_of_week  hour_of_day  Appliances\n",
              "0 2016-01-11 17:00:00            0           17          60\n",
              "1 2016-01-11 17:10:00            0           17          60\n",
              "2 2016-01-11 17:20:00            0           17          50\n",
              "3 2016-01-11 17:30:00            0           17          50\n",
              "4 2016-01-11 17:40:00            0           17          60"
            ]
          },
          "metadata": {
            "tags": []
          },
          "execution_count": 3
        }
      ]
    },
    {
      "cell_type": "markdown",
      "metadata": {
        "id": "d8BJQAqaJqv7"
      },
      "source": [
        "## Time Series Transformations\n",
        "\n",
        "1. The dataset is to be re-sampled at an hourly rate for more meaningful analytics.\n",
        "\n",
        "2. To alleviate exponential effects, the target variable is log-transformed as per the Uber paper.\n",
        "\n",
        "3. For simplicity and speed when running this notebook, only temporal and autoregressive features, namely `day_of_week`, `hour_of_day`, \\\n",
        "and previous values of `Appliances` are used as features"
      ]
    },
    {
      "cell_type": "code",
      "metadata": {
        "id": "LcXp9XEaJqXO"
      },
      "source": [
        "import numpy as np\n",
        "\n",
        "resample_df = energy_df.set_index('date').resample('1H').mean()\n",
        "resample_df['date'] = resample_df.index\n",
        "resample_df['log_energy_consumption'] = np.log(resample_df['Appliances'])\n",
        "\n",
        "datetime_columns = ['date', 'day_of_week', 'hour_of_day']\n",
        "target_column = 'log_energy_consumption'\n",
        "\n",
        "feature_columns = datetime_columns + ['log_energy_consumption']\n",
        "\n",
        "# For clarity in visualization and presentation, \n",
        "# only consider the first 150 hours of data.\n",
        "resample_df = resample_df[feature_columns]"
      ],
      "execution_count": null,
      "outputs": []
    },
    {
      "cell_type": "code",
      "metadata": {
        "id": "tY1pfEIGDvvc",
        "colab": {
          "base_uri": "https://localhost:8080/",
          "height": 542
        },
        "outputId": "13c8afe6-a03b-460d-cfa3-d6705e6dee42"
      },
      "source": [
        "import plotly.express as px\n",
        "\n",
        "plot_length = 150\n",
        "plot_df = resample_df.copy(deep=True).iloc[:plot_length]\n",
        "plot_df['weekday'] = plot_df['date'].dt.day_name()\n",
        "\n",
        "fig = px.line(plot_df,\n",
        "              x=\"date\",\n",
        "              y=\"log_energy_consumption\", \n",
        "              color=\"weekday\", \n",
        "              title=\"Log of Appliance Energy Consumption vs Time\")\n",
        "fig.show()"
      ],
      "execution_count": null,
      "outputs": [
        {
          "output_type": "display_data",
          "data": {
            "text/html": [
              "<html>\n",
              "<head><meta charset=\"utf-8\" /></head>\n",
              "<body>\n",
              "    <div>\n",
              "            <script src=\"https://cdnjs.cloudflare.com/ajax/libs/mathjax/2.7.5/MathJax.js?config=TeX-AMS-MML_SVG\"></script><script type=\"text/javascript\">if (window.MathJax) {MathJax.Hub.Config({SVG: {font: \"STIX-Web\"}});}</script>\n",
              "                <script type=\"text/javascript\">window.PlotlyConfig = {MathJaxConfig: 'local'};</script>\n",
              "        <script src=\"https://cdn.plot.ly/plotly-latest.min.js\"></script>    \n",
              "            <div id=\"5a003e3a-23fd-4f7e-a5ec-d789069aab77\" class=\"plotly-graph-div\" style=\"height:525px; width:100%;\"></div>\n",
              "            <script type=\"text/javascript\">\n",
              "                \n",
              "                    window.PLOTLYENV=window.PLOTLYENV || {};\n",
              "                    \n",
              "                if (document.getElementById(\"5a003e3a-23fd-4f7e-a5ec-d789069aab77\")) {\n",
              "                    Plotly.newPlot(\n",
              "                        '5a003e3a-23fd-4f7e-a5ec-d789069aab77',\n",
              "                        [{\"hoverlabel\": {\"namelength\": 0}, \"hovertemplate\": \"weekday=Monday<br>date=%{x}<br>log_energy_consumption=%{y}\", \"legendgroup\": \"weekday=Monday\", \"line\": {\"color\": \"#636efa\", \"dash\": \"solid\"}, \"mode\": \"lines\", \"name\": \"weekday=Monday\", \"showlegend\": true, \"type\": \"scatter\", \"x\": [\"2016-01-11T17:00:00\", \"2016-01-11T18:00:00\", \"2016-01-11T19:00:00\", \"2016-01-11T20:00:00\", \"2016-01-11T21:00:00\", \"2016-01-11T22:00:00\", \"2016-01-11T23:00:00\"], \"xaxis\": \"x\", \"y\": [4.007333185232471, 5.174264717878057, 5.155216522907363, 4.8283137373023015, 4.637960008811082, 5.585999438999818, 4.037186148382152], \"yaxis\": \"y\"}, {\"hoverlabel\": {\"namelength\": 0}, \"hovertemplate\": \"weekday=Tuesday<br>date=%{x}<br>log_energy_consumption=%{y}\", \"legendgroup\": \"weekday=Tuesday\", \"line\": {\"color\": \"#EF553B\", \"dash\": \"solid\"}, \"mode\": \"lines\", \"name\": \"weekday=Tuesday\", \"showlegend\": true, \"type\": \"scatter\", \"x\": [\"2016-01-12T00:00:00\", \"2016-01-12T01:00:00\", \"2016-01-12T02:00:00\", \"2016-01-12T03:00:00\", \"2016-01-12T04:00:00\", \"2016-01-12T05:00:00\", \"2016-01-12T06:00:00\", \"2016-01-12T07:00:00\", \"2016-01-12T08:00:00\", \"2016-01-12T09:00:00\", \"2016-01-12T10:00:00\", \"2016-01-12T11:00:00\", \"2016-01-12T12:00:00\", \"2016-01-12T13:00:00\", \"2016-01-12T14:00:00\", \"2016-01-12T15:00:00\", \"2016-01-12T16:00:00\", \"2016-01-12T17:00:00\", \"2016-01-12T18:00:00\", \"2016-01-12T19:00:00\", \"2016-01-12T20:00:00\", \"2016-01-12T21:00:00\", \"2016-01-12T22:00:00\", \"2016-01-12T23:00:00\"], \"xaxis\": \"x\", \"y\": [4.953476880256307, 5.12594614060725, 3.8066624897703196, 3.5553480614894135, 3.8066624897703196, 3.7689221617874726, 3.6888794541139363, 4.037186148382152, 4.4620693423474185, 3.7689221617874726, 5.438079308923196, 4.007333185232471, 5.2293244950610855, 5.02168513028284, 4.917544871030244, 3.6018680771243066, 3.6888794541139363, 5.386022946967143, 4.0661736852554045, 4.007333185232471, 3.9448128282511368, 3.7297014486341915, 3.8430301339411947, 3.7689221617874726], \"yaxis\": \"y\"}, {\"hoverlabel\": {\"namelength\": 0}, \"hovertemplate\": \"weekday=Wednesday<br>date=%{x}<br>log_energy_consumption=%{y}\", \"legendgroup\": \"weekday=Wednesday\", \"line\": {\"color\": \"#00cc96\", \"dash\": \"solid\"}, \"mode\": \"lines\", \"name\": \"weekday=Wednesday\", \"showlegend\": true, \"type\": \"scatter\", \"x\": [\"2016-01-13T00:00:00\", \"2016-01-13T01:00:00\", \"2016-01-13T02:00:00\", \"2016-01-13T03:00:00\", \"2016-01-13T04:00:00\", \"2016-01-13T05:00:00\", \"2016-01-13T06:00:00\", \"2016-01-13T07:00:00\", \"2016-01-13T08:00:00\", \"2016-01-13T09:00:00\", \"2016-01-13T10:00:00\", \"2016-01-13T11:00:00\", \"2016-01-13T12:00:00\", \"2016-01-13T13:00:00\", \"2016-01-13T14:00:00\", \"2016-01-13T15:00:00\", \"2016-01-13T16:00:00\", \"2016-01-13T17:00:00\", \"2016-01-13T18:00:00\", \"2016-01-13T19:00:00\", \"2016-01-13T20:00:00\", \"2016-01-13T21:00:00\", \"2016-01-13T22:00:00\", \"2016-01-13T23:00:00\"], \"xaxis\": \"x\", \"y\": [3.455264602932431, 3.8781214537524646, 3.8066624897703196, 3.455264602932431, 3.8066624897703196, 3.7297014486341915, 4.199705077879927, 4.148411783492376, 5.339139361068292, 5.393627546352362, 4.199705077879927, 4.0943445622221, 3.7297014486341915, 3.5553480614894135, 3.8066624897703196, 3.7297014486341915, 4.382026634673881, 4.5712686343124105, 4.715518243156957, 5.362855887685608, 5.51477192971145, 5.74726758659594, 4.880273476233012, 3.7297014486341915], \"yaxis\": \"y\"}, {\"hoverlabel\": {\"namelength\": 0}, \"hovertemplate\": \"weekday=Thursday<br>date=%{x}<br>log_energy_consumption=%{y}\", \"legendgroup\": \"weekday=Thursday\", \"line\": {\"color\": \"#ab63fa\", \"dash\": \"solid\"}, \"mode\": \"lines\", \"name\": \"weekday=Thursday\", \"showlegend\": true, \"type\": \"scatter\", \"x\": [\"2016-01-14T00:00:00\", \"2016-01-14T01:00:00\", \"2016-01-14T02:00:00\", \"2016-01-14T03:00:00\", \"2016-01-14T04:00:00\", \"2016-01-14T05:00:00\", \"2016-01-14T06:00:00\", \"2016-01-14T07:00:00\", \"2016-01-14T08:00:00\", \"2016-01-14T09:00:00\", \"2016-01-14T10:00:00\", \"2016-01-14T11:00:00\", \"2016-01-14T12:00:00\", \"2016-01-14T13:00:00\", \"2016-01-14T14:00:00\", \"2016-01-14T15:00:00\", \"2016-01-14T16:00:00\", \"2016-01-14T17:00:00\", \"2016-01-14T18:00:00\", \"2016-01-14T19:00:00\", \"2016-01-14T20:00:00\", \"2016-01-14T21:00:00\", \"2016-01-14T22:00:00\", \"2016-01-14T23:00:00\"], \"xaxis\": \"x\", \"y\": [3.8430301339411947, 3.6018680771243066, 3.7689221617874726, 3.8066624897703196, 3.5553480614894135, 3.8066624897703196, 3.6888794541139363, 5.423480509502043, 5.075173815233827, 5.12594614060725, 6.288477946988647, 5.473670254025898, 5.646624060816253, 4.248495242049359, 4.867534450455582, 3.9448128282511368, 5.731181448844316, 6.003887067106539, 5.378360074221573, 5.445299556896682, 4.700480365792417, 4.75932086581535, 3.8781214537524646, 3.6463198396951406], \"yaxis\": \"y\"}, {\"hoverlabel\": {\"namelength\": 0}, \"hovertemplate\": \"weekday=Friday<br>date=%{x}<br>log_energy_consumption=%{y}\", \"legendgroup\": \"weekday=Friday\", \"line\": {\"color\": \"#FFA15A\", \"dash\": \"solid\"}, \"mode\": \"lines\", \"name\": \"weekday=Friday\", \"showlegend\": true, \"type\": \"scatter\", \"x\": [\"2016-01-15T00:00:00\", \"2016-01-15T01:00:00\", \"2016-01-15T02:00:00\", \"2016-01-15T03:00:00\", \"2016-01-15T04:00:00\", \"2016-01-15T05:00:00\", \"2016-01-15T06:00:00\", \"2016-01-15T07:00:00\", \"2016-01-15T08:00:00\", \"2016-01-15T09:00:00\", \"2016-01-15T10:00:00\", \"2016-01-15T11:00:00\", \"2016-01-15T12:00:00\", \"2016-01-15T13:00:00\", \"2016-01-15T14:00:00\", \"2016-01-15T15:00:00\", \"2016-01-15T16:00:00\", \"2016-01-15T17:00:00\", \"2016-01-15T18:00:00\", \"2016-01-15T19:00:00\", \"2016-01-15T20:00:00\", \"2016-01-15T21:00:00\", \"2016-01-15T22:00:00\", \"2016-01-15T23:00:00\"], \"xaxis\": \"x\", \"y\": [3.9765615265657175, 3.9448128282511368, 3.8430301339411947, 3.7689221617874726, 3.912023005428146, 3.912023005428146, 3.8066624897703196, 3.9448128282511368, 5.459585514144159, 5.331107189371028, 4.8283137373023015, 4.8283137373023015, 5.3471075307174685, 5.281510248231656, 4.148411783492376, 4.037186148382152, 4.037186148382152, 4.58836306767171, 5.628819436182746, 5.393627546352362, 5.452468046375295, 5.438079308923196, 5.386022946967143, 4.148411783492376], \"yaxis\": \"y\"}, {\"hoverlabel\": {\"namelength\": 0}, \"hovertemplate\": \"weekday=Saturday<br>date=%{x}<br>log_energy_consumption=%{y}\", \"legendgroup\": \"weekday=Saturday\", \"line\": {\"color\": \"#19d3f3\", \"dash\": \"solid\"}, \"mode\": \"lines\", \"name\": \"weekday=Saturday\", \"showlegend\": true, \"type\": \"scatter\", \"x\": [\"2016-01-16T00:00:00\", \"2016-01-16T01:00:00\", \"2016-01-16T02:00:00\", \"2016-01-16T03:00:00\", \"2016-01-16T04:00:00\", \"2016-01-16T05:00:00\", \"2016-01-16T06:00:00\", \"2016-01-16T07:00:00\", \"2016-01-16T08:00:00\", \"2016-01-16T09:00:00\", \"2016-01-16T10:00:00\", \"2016-01-16T11:00:00\", \"2016-01-16T12:00:00\", \"2016-01-16T13:00:00\", \"2016-01-16T14:00:00\", \"2016-01-16T15:00:00\", \"2016-01-16T16:00:00\", \"2016-01-16T17:00:00\", \"2016-01-16T18:00:00\", \"2016-01-16T19:00:00\", \"2016-01-16T20:00:00\", \"2016-01-16T21:00:00\", \"2016-01-16T22:00:00\", \"2016-01-16T23:00:00\"], \"xaxis\": \"x\", \"y\": [3.6888794541139363, 3.9765615265657175, 3.8430301339411947, 3.7297014486341915, 3.912023005428146, 3.6888794541139363, 3.9448128282511368, 5.508037897530106, 4.941642422609304, 4.121743536410215, 4.272025739459553, 3.9765615265657175, 4.31748811353631, 4.4620693423474185, 4.272025739459553, 5.339139361068292, 4.31748811353631, 5.579729825986222, 6.159799861927197, 5.970411137910149, 4.773505500807306, 4.787491742782046, 5.135798437050262, 4.007333185232471], \"yaxis\": \"y\"}, {\"hoverlabel\": {\"namelength\": 0}, \"hovertemplate\": \"weekday=Sunday<br>date=%{x}<br>log_energy_consumption=%{y}\", \"legendgroup\": \"weekday=Sunday\", \"line\": {\"color\": \"#FF6692\", \"dash\": \"solid\"}, \"mode\": \"lines\", \"name\": \"weekday=Sunday\", \"showlegend\": true, \"type\": \"scatter\", \"x\": [\"2016-01-17T00:00:00\", \"2016-01-17T01:00:00\", \"2016-01-17T02:00:00\", \"2016-01-17T03:00:00\", \"2016-01-17T04:00:00\", \"2016-01-17T05:00:00\", \"2016-01-17T06:00:00\", \"2016-01-17T07:00:00\", \"2016-01-17T08:00:00\", \"2016-01-17T09:00:00\", \"2016-01-17T10:00:00\", \"2016-01-17T11:00:00\", \"2016-01-17T12:00:00\", \"2016-01-17T13:00:00\", \"2016-01-17T14:00:00\", \"2016-01-17T15:00:00\", \"2016-01-17T16:00:00\", \"2016-01-17T17:00:00\", \"2016-01-17T18:00:00\", \"2016-01-17T19:00:00\", \"2016-01-17T20:00:00\", \"2016-01-17T21:00:00\", \"2016-01-17T22:00:00\"], \"xaxis\": \"x\", \"y\": [3.8430301339411947, 3.9448128282511368, 3.7689221617874726, 3.912023005428146, 3.9448128282511368, 3.7689221617874726, 3.8066624897703196, 5.853159875730801, 5.604575824572753, 5.675611597689505, 4.499809670330265, 5.76309905181262, 4.773505500807306, 5.135798437050262, 4.929666231562589, 4.402645921876617, 4.402645921876617, 6.12029741895095, 5.592229988750454, 4.621699487939302, 4.700480365792417, 4.867534450455582, 4.007333185232471], \"yaxis\": \"y\"}],\n",
              "                        {\"legend\": {\"tracegroupgap\": 0}, \"template\": {\"data\": {\"bar\": [{\"error_x\": {\"color\": \"#2a3f5f\"}, \"error_y\": {\"color\": \"#2a3f5f\"}, \"marker\": {\"line\": {\"color\": \"#E5ECF6\", \"width\": 0.5}}, \"type\": \"bar\"}], \"barpolar\": [{\"marker\": {\"line\": {\"color\": \"#E5ECF6\", \"width\": 0.5}}, \"type\": \"barpolar\"}], \"carpet\": [{\"aaxis\": {\"endlinecolor\": \"#2a3f5f\", \"gridcolor\": \"white\", \"linecolor\": \"white\", \"minorgridcolor\": \"white\", \"startlinecolor\": \"#2a3f5f\"}, \"baxis\": {\"endlinecolor\": \"#2a3f5f\", \"gridcolor\": \"white\", \"linecolor\": \"white\", \"minorgridcolor\": \"white\", \"startlinecolor\": \"#2a3f5f\"}, \"type\": \"carpet\"}], \"choropleth\": [{\"colorbar\": {\"outlinewidth\": 0, \"ticks\": \"\"}, \"type\": \"choropleth\"}], \"contour\": [{\"colorbar\": {\"outlinewidth\": 0, \"ticks\": \"\"}, \"colorscale\": [[0.0, \"#0d0887\"], [0.1111111111111111, \"#46039f\"], [0.2222222222222222, \"#7201a8\"], [0.3333333333333333, \"#9c179e\"], [0.4444444444444444, \"#bd3786\"], [0.5555555555555556, \"#d8576b\"], [0.6666666666666666, \"#ed7953\"], [0.7777777777777778, \"#fb9f3a\"], [0.8888888888888888, \"#fdca26\"], [1.0, \"#f0f921\"]], \"type\": \"contour\"}], \"contourcarpet\": [{\"colorbar\": {\"outlinewidth\": 0, \"ticks\": \"\"}, \"type\": \"contourcarpet\"}], \"heatmap\": [{\"colorbar\": {\"outlinewidth\": 0, \"ticks\": \"\"}, \"colorscale\": [[0.0, \"#0d0887\"], [0.1111111111111111, \"#46039f\"], [0.2222222222222222, \"#7201a8\"], [0.3333333333333333, \"#9c179e\"], [0.4444444444444444, \"#bd3786\"], [0.5555555555555556, \"#d8576b\"], [0.6666666666666666, \"#ed7953\"], [0.7777777777777778, \"#fb9f3a\"], [0.8888888888888888, \"#fdca26\"], [1.0, \"#f0f921\"]], \"type\": \"heatmap\"}], \"heatmapgl\": [{\"colorbar\": {\"outlinewidth\": 0, \"ticks\": \"\"}, \"colorscale\": [[0.0, \"#0d0887\"], [0.1111111111111111, \"#46039f\"], [0.2222222222222222, \"#7201a8\"], [0.3333333333333333, \"#9c179e\"], [0.4444444444444444, \"#bd3786\"], [0.5555555555555556, \"#d8576b\"], [0.6666666666666666, \"#ed7953\"], [0.7777777777777778, \"#fb9f3a\"], [0.8888888888888888, \"#fdca26\"], [1.0, \"#f0f921\"]], \"type\": \"heatmapgl\"}], \"histogram\": [{\"marker\": {\"colorbar\": {\"outlinewidth\": 0, \"ticks\": \"\"}}, \"type\": \"histogram\"}], \"histogram2d\": [{\"colorbar\": {\"outlinewidth\": 0, \"ticks\": \"\"}, \"colorscale\": [[0.0, \"#0d0887\"], [0.1111111111111111, \"#46039f\"], [0.2222222222222222, \"#7201a8\"], [0.3333333333333333, \"#9c179e\"], [0.4444444444444444, \"#bd3786\"], [0.5555555555555556, \"#d8576b\"], [0.6666666666666666, \"#ed7953\"], [0.7777777777777778, \"#fb9f3a\"], [0.8888888888888888, \"#fdca26\"], [1.0, \"#f0f921\"]], \"type\": \"histogram2d\"}], \"histogram2dcontour\": [{\"colorbar\": {\"outlinewidth\": 0, \"ticks\": \"\"}, \"colorscale\": [[0.0, \"#0d0887\"], [0.1111111111111111, \"#46039f\"], [0.2222222222222222, \"#7201a8\"], [0.3333333333333333, \"#9c179e\"], [0.4444444444444444, \"#bd3786\"], [0.5555555555555556, \"#d8576b\"], [0.6666666666666666, \"#ed7953\"], [0.7777777777777778, \"#fb9f3a\"], [0.8888888888888888, \"#fdca26\"], [1.0, \"#f0f921\"]], \"type\": \"histogram2dcontour\"}], \"mesh3d\": [{\"colorbar\": {\"outlinewidth\": 0, \"ticks\": \"\"}, \"type\": \"mesh3d\"}], \"parcoords\": [{\"line\": {\"colorbar\": {\"outlinewidth\": 0, \"ticks\": \"\"}}, \"type\": \"parcoords\"}], \"pie\": [{\"automargin\": true, \"type\": \"pie\"}], \"scatter\": [{\"marker\": {\"colorbar\": {\"outlinewidth\": 0, \"ticks\": \"\"}}, \"type\": \"scatter\"}], \"scatter3d\": [{\"line\": {\"colorbar\": {\"outlinewidth\": 0, \"ticks\": \"\"}}, \"marker\": {\"colorbar\": {\"outlinewidth\": 0, \"ticks\": \"\"}}, \"type\": \"scatter3d\"}], \"scattercarpet\": [{\"marker\": {\"colorbar\": {\"outlinewidth\": 0, \"ticks\": \"\"}}, \"type\": \"scattercarpet\"}], \"scattergeo\": [{\"marker\": {\"colorbar\": {\"outlinewidth\": 0, \"ticks\": \"\"}}, \"type\": \"scattergeo\"}], \"scattergl\": [{\"marker\": {\"colorbar\": {\"outlinewidth\": 0, \"ticks\": \"\"}}, \"type\": \"scattergl\"}], \"scattermapbox\": [{\"marker\": {\"colorbar\": {\"outlinewidth\": 0, \"ticks\": \"\"}}, \"type\": \"scattermapbox\"}], \"scatterpolar\": [{\"marker\": {\"colorbar\": {\"outlinewidth\": 0, \"ticks\": \"\"}}, \"type\": \"scatterpolar\"}], \"scatterpolargl\": [{\"marker\": {\"colorbar\": {\"outlinewidth\": 0, \"ticks\": \"\"}}, \"type\": \"scatterpolargl\"}], \"scatterternary\": [{\"marker\": {\"colorbar\": {\"outlinewidth\": 0, \"ticks\": \"\"}}, \"type\": \"scatterternary\"}], \"surface\": [{\"colorbar\": {\"outlinewidth\": 0, \"ticks\": \"\"}, \"colorscale\": [[0.0, \"#0d0887\"], [0.1111111111111111, \"#46039f\"], [0.2222222222222222, \"#7201a8\"], [0.3333333333333333, \"#9c179e\"], [0.4444444444444444, \"#bd3786\"], [0.5555555555555556, \"#d8576b\"], [0.6666666666666666, \"#ed7953\"], [0.7777777777777778, \"#fb9f3a\"], [0.8888888888888888, \"#fdca26\"], [1.0, \"#f0f921\"]], \"type\": \"surface\"}], \"table\": [{\"cells\": {\"fill\": {\"color\": \"#EBF0F8\"}, \"line\": {\"color\": \"white\"}}, \"header\": {\"fill\": {\"color\": \"#C8D4E3\"}, \"line\": {\"color\": \"white\"}}, \"type\": \"table\"}]}, \"layout\": {\"annotationdefaults\": {\"arrowcolor\": \"#2a3f5f\", \"arrowhead\": 0, \"arrowwidth\": 1}, \"coloraxis\": {\"colorbar\": {\"outlinewidth\": 0, \"ticks\": \"\"}}, \"colorscale\": {\"diverging\": [[0, \"#8e0152\"], [0.1, \"#c51b7d\"], [0.2, \"#de77ae\"], [0.3, \"#f1b6da\"], [0.4, \"#fde0ef\"], [0.5, \"#f7f7f7\"], [0.6, \"#e6f5d0\"], [0.7, \"#b8e186\"], [0.8, \"#7fbc41\"], [0.9, \"#4d9221\"], [1, \"#276419\"]], \"sequential\": [[0.0, \"#0d0887\"], [0.1111111111111111, \"#46039f\"], [0.2222222222222222, \"#7201a8\"], [0.3333333333333333, \"#9c179e\"], [0.4444444444444444, \"#bd3786\"], [0.5555555555555556, \"#d8576b\"], [0.6666666666666666, \"#ed7953\"], [0.7777777777777778, \"#fb9f3a\"], [0.8888888888888888, \"#fdca26\"], [1.0, \"#f0f921\"]], \"sequentialminus\": [[0.0, \"#0d0887\"], [0.1111111111111111, \"#46039f\"], [0.2222222222222222, \"#7201a8\"], [0.3333333333333333, \"#9c179e\"], [0.4444444444444444, \"#bd3786\"], [0.5555555555555556, \"#d8576b\"], [0.6666666666666666, \"#ed7953\"], [0.7777777777777778, \"#fb9f3a\"], [0.8888888888888888, \"#fdca26\"], [1.0, \"#f0f921\"]]}, \"colorway\": [\"#636efa\", \"#EF553B\", \"#00cc96\", \"#ab63fa\", \"#FFA15A\", \"#19d3f3\", \"#FF6692\", \"#B6E880\", \"#FF97FF\", \"#FECB52\"], \"font\": {\"color\": \"#2a3f5f\"}, \"geo\": {\"bgcolor\": \"white\", \"lakecolor\": \"white\", \"landcolor\": \"#E5ECF6\", \"showlakes\": true, \"showland\": true, \"subunitcolor\": \"white\"}, \"hoverlabel\": {\"align\": \"left\"}, \"hovermode\": \"closest\", \"mapbox\": {\"style\": \"light\"}, \"paper_bgcolor\": \"white\", \"plot_bgcolor\": \"#E5ECF6\", \"polar\": {\"angularaxis\": {\"gridcolor\": \"white\", \"linecolor\": \"white\", \"ticks\": \"\"}, \"bgcolor\": \"#E5ECF6\", \"radialaxis\": {\"gridcolor\": \"white\", \"linecolor\": \"white\", \"ticks\": \"\"}}, \"scene\": {\"xaxis\": {\"backgroundcolor\": \"#E5ECF6\", \"gridcolor\": \"white\", \"gridwidth\": 2, \"linecolor\": \"white\", \"showbackground\": true, \"ticks\": \"\", \"zerolinecolor\": \"white\"}, \"yaxis\": {\"backgroundcolor\": \"#E5ECF6\", \"gridcolor\": \"white\", \"gridwidth\": 2, \"linecolor\": \"white\", \"showbackground\": true, \"ticks\": \"\", \"zerolinecolor\": \"white\"}, \"zaxis\": {\"backgroundcolor\": \"#E5ECF6\", \"gridcolor\": \"white\", \"gridwidth\": 2, \"linecolor\": \"white\", \"showbackground\": true, \"ticks\": \"\", \"zerolinecolor\": \"white\"}}, \"shapedefaults\": {\"line\": {\"color\": \"#2a3f5f\"}}, \"ternary\": {\"aaxis\": {\"gridcolor\": \"white\", \"linecolor\": \"white\", \"ticks\": \"\"}, \"baxis\": {\"gridcolor\": \"white\", \"linecolor\": \"white\", \"ticks\": \"\"}, \"bgcolor\": \"#E5ECF6\", \"caxis\": {\"gridcolor\": \"white\", \"linecolor\": \"white\", \"ticks\": \"\"}}, \"title\": {\"x\": 0.05}, \"xaxis\": {\"automargin\": true, \"gridcolor\": \"white\", \"linecolor\": \"white\", \"ticks\": \"\", \"title\": {\"standoff\": 15}, \"zerolinecolor\": \"white\", \"zerolinewidth\": 2}, \"yaxis\": {\"automargin\": true, \"gridcolor\": \"white\", \"linecolor\": \"white\", \"ticks\": \"\", \"title\": {\"standoff\": 15}, \"zerolinecolor\": \"white\", \"zerolinewidth\": 2}}}, \"title\": {\"text\": \"Log of Appliance Energy Consumption vs Time\"}, \"xaxis\": {\"anchor\": \"y\", \"domain\": [0.0, 1.0], \"title\": {\"text\": \"date\"}}, \"yaxis\": {\"anchor\": \"x\", \"domain\": [0.0, 1.0], \"title\": {\"text\": \"log_energy_consumption\"}}},\n",
              "                        {\"responsive\": true}\n",
              "                    ).then(function(){\n",
              "                            \n",
              "var gd = document.getElementById('5a003e3a-23fd-4f7e-a5ec-d789069aab77');\n",
              "var x = new MutationObserver(function (mutations, observer) {{\n",
              "        var display = window.getComputedStyle(gd).display;\n",
              "        if (!display || display === 'none') {{\n",
              "            console.log([gd, 'removed!']);\n",
              "            Plotly.purge(gd);\n",
              "            observer.disconnect();\n",
              "        }}\n",
              "}});\n",
              "\n",
              "// Listen for the removal of the full notebook cells\n",
              "var notebookContainer = gd.closest('#notebook-container');\n",
              "if (notebookContainer) {{\n",
              "    x.observe(notebookContainer, {childList: true});\n",
              "}}\n",
              "\n",
              "// Listen for the clearing of the current output cell\n",
              "var outputEl = gd.closest('.output');\n",
              "if (outputEl) {{\n",
              "    x.observe(outputEl, {childList: true});\n",
              "}}\n",
              "\n",
              "                        })\n",
              "                };\n",
              "                \n",
              "            </script>\n",
              "        </div>\n",
              "</body>\n",
              "</html>"
            ]
          },
          "metadata": {
            "tags": []
          }
        }
      ]
    },
    {
      "cell_type": "markdown",
      "metadata": {
        "id": "aFnQ3txg_2lj"
      },
      "source": [
        "# Prepare Training Data"
      ]
    },
    {
      "cell_type": "markdown",
      "metadata": {
        "id": "9gUa6m83NgDn"
      },
      "source": [
        "For this example, we will use sliding windows of 10 points per each window (equivalent to 10 hours) to predict each next point. The window size can be altered via the `sequence_length` variable.\n",
        "\n",
        "Min-Max scaling has also been fitted to the training data to aid the convergence of the neural network. "
      ]
    },
    {
      "cell_type": "code",
      "metadata": {
        "id": "aKQHyh5rRVVj"
      },
      "source": [
        "from sklearn.preprocessing import MinMaxScaler\n",
        "\n",
        "def create_sliding_window(data, sequence_length, stride=1):\n",
        "    X_list, y_list = [], []\n",
        "    for i in range(len(data)):\n",
        "      if (i + sequence_length) < len(data):\n",
        "        X_list.append(data.iloc[i:i+sequence_length:stride, :].values)\n",
        "        y_list.append(data.iloc[i+sequence_length, -1])\n",
        "    return np.array(X_list), np.array(y_list)\n",
        "\n",
        "train_split = 0.7\n",
        "n_train = int(train_split * len(resample_df))\n",
        "n_test = len(resample_df) - n_train\n",
        "\n",
        "features = ['day_of_week', 'hour_of_day', 'log_energy_consumption']\n",
        "feature_array = resample_df[features].values\n",
        "\n",
        "# Fit Scaler only on Training features\n",
        "feature_scaler = MinMaxScaler()\n",
        "feature_scaler.fit(feature_array[:n_train])\n",
        "# Fit Scaler only on Training target values\n",
        "target_scaler = MinMaxScaler()\n",
        "target_scaler.fit(feature_array[:n_train, -1].reshape(-1, 1))\n",
        "\n",
        "# Transfom on both Training and Test data\n",
        "scaled_array = pd.DataFrame(feature_scaler.transform(feature_array),\n",
        "                            columns=features)\n",
        "\n",
        "sequence_length = 10\n",
        "X, y = create_sliding_window(scaled_array, \n",
        "                             sequence_length)\n",
        "\n",
        "X_train = X[:n_train]\n",
        "y_train = y[:n_train]\n",
        "\n",
        "X_test = X[n_train:]\n",
        "y_test = y[n_train:]"
      ],
      "execution_count": null,
      "outputs": []
    },
    {
      "cell_type": "markdown",
      "metadata": {
        "id": "Ue1JcZm_bgsd"
      },
      "source": [
        "# Define Bayesian LSTM Architecture"
      ]
    },
    {
      "cell_type": "markdown",
      "metadata": {
        "id": "VNag-wa-04WZ"
      },
      "source": [
        "To demonstrate a simple working example of the Bayesian LSTM, a model with a similar architecture and size to that in Uber's paper has been used a starting point. The network architecture is as follows:\n",
        "\n",
        "Encoder-Decoder Stage:\n",
        " - A uni-directional LSTM with 2 stacked layers & 128 hidden units acting as an encoding layer to construct a fixed-dimension embedding state\n",
        " - A uni-directional LSTM with 2 stacked layers & 32 hidden units acting as a decoding layer to produce predictions at future steps\n",
        " - Dropout is applied at **both** training and inference for both LSTM layers\n",
        "\n",
        "\n",
        " Predictor Stage:\n",
        " - 1 fully-connected output layer with 1 output (for predicting the target value) to produce a single value for the target variable\n",
        "\n",
        "\n",
        "By allowing dropout at both training and testing time, the model simulates random sampling, thus allowing varying predictions that can be used to estimate the underlying distribution of the target value, enabling explicit model uncertainties.\n"
      ]
    },
    {
      "cell_type": "code",
      "metadata": {
        "id": "OgWyOffPbO0b"
      },
      "source": [
        "import torch\n",
        "import torch.nn as nn\n",
        "import torch.nn.functional as F\n",
        "from torch.autograd import Variable\n",
        "\n",
        "class BayesianLSTM(nn.Module):\n",
        "\n",
        "    def __init__(self, n_features, output_length, batch_size):\n",
        "\n",
        "        super(BayesianLSTM, self).__init__()\n",
        "\n",
        "        self.batch_size = batch_size # user-defined\n",
        "\n",
        "        self.hidden_size_1 = 128 # number of encoder cells (from paper)\n",
        "        self.hidden_size_2 = 32 # number of decoder cells (from paper)\n",
        "        self.stacked_layers = 2 # number of (stacked) LSTM layers for each stage\n",
        "        self.dropout_probability = 0.5 # arbitrary value (the paper suggests that performance is generally stable across all ranges)\n",
        "\n",
        "        self.lstm1 = nn.LSTM(n_features, \n",
        "                             self.hidden_size_1, \n",
        "                             num_layers=self.stacked_layers,\n",
        "                             batch_first=True)\n",
        "        self.lstm2 = nn.LSTM(self.hidden_size_1,\n",
        "                             self.hidden_size_2,\n",
        "                             num_layers=self.stacked_layers,\n",
        "                             batch_first=True)\n",
        "        \n",
        "        self.fc = nn.Linear(self.hidden_size_2, output_length)\n",
        "        self.loss_fn = nn.MSELoss()\n",
        "        \n",
        "    def forward(self, x):\n",
        "        batch_size, seq_len, _ = x.size()\n",
        "\n",
        "        hidden = self.init_hidden1(batch_size)\n",
        "        output, _ = self.lstm1(x, hidden)\n",
        "        output = F.dropout(output, p=self.dropout_probability, training=True)\n",
        "        state = self.init_hidden2(batch_size)\n",
        "        output, state = self.lstm2(output, state)\n",
        "        output = F.dropout(output, p=self.dropout_probability, training=True)\n",
        "        output = output[:, -1, :] # take the last decoder cell's outputs\n",
        "        y_pred = self.fc(output)\n",
        "        return y_pred\n",
        "        \n",
        "    def init_hidden1(self, batch_size):\n",
        "        hidden_state = Variable(torch.zeros(self.stacked_layers, batch_size, self.hidden_size_1))\n",
        "        cell_state = Variable(torch.zeros(self.stacked_layers, batch_size, self.hidden_size_1))\n",
        "        return hidden_state, cell_state\n",
        "    \n",
        "    def init_hidden2(self, batch_size):\n",
        "        hidden_state = Variable(torch.zeros(self.stacked_layers, batch_size, self.hidden_size_2))\n",
        "        cell_state = Variable(torch.zeros(self.stacked_layers, batch_size, self.hidden_size_2))\n",
        "        return hidden_state, cell_state\n",
        "    \n",
        "    def loss(self, pred, truth):\n",
        "        return self.loss_fn(pred, truth)\n",
        "\n",
        "    def predict(self, X):\n",
        "        return self(torch.tensor(X, dtype=torch.float32)).view(-1).detach().numpy()"
      ],
      "execution_count": null,
      "outputs": []
    },
    {
      "cell_type": "markdown",
      "metadata": {
        "id": "DQ8JLm-ShlaU"
      },
      "source": [
        "### Begin Training"
      ]
    },
    {
      "cell_type": "markdown",
      "metadata": {
        "id": "015pu48r3X1F"
      },
      "source": [
        "To train the Bayesian LSTM, we use the ADAM optimizer along with mini-batch gradient descent (`batch_size = 128`). For quick demonstration purposes, the model is trained for 150 epochs.\n",
        "\n",
        "The Bayesian LSTM is trained on the first 70% of data points, using the aforementioned sliding windows of size 10. The remaining 30% of the dataset is held out purely for testing."
      ]
    },
    {
      "cell_type": "code",
      "metadata": {
        "id": "47X-uO6UhbCy"
      },
      "source": [
        "n_features = scaled_array.shape[-1]\n",
        "sequence_length = 10\n",
        "output_length = 1\n",
        "\n",
        "batch_size = 128\n",
        "n_epochs = 150\n",
        "learning_rate = 0.01\n",
        "\n",
        "bayesian_lstm = BayesianLSTM(n_features=n_features,\n",
        "                             output_length=output_length,\n",
        "                             batch_size = batch_size)\n",
        "\n",
        "criterion = torch.nn.MSELoss()\n",
        "optimizer = torch.optim.Adam(bayesian_lstm.parameters(), lr=learning_rate)"
      ],
      "execution_count": null,
      "outputs": []
    },
    {
      "cell_type": "code",
      "metadata": {
        "id": "7iZ__nxaCzZE",
        "colab": {
          "base_uri": "https://localhost:8080/"
        },
        "outputId": "915e737a-6235-4842-b7fe-e94648a86cfb"
      },
      "source": [
        "bayesian_lstm.train()\n",
        "\n",
        "for e in range(1, n_epochs+1):\n",
        "    for b in range(0, len(X_train), batch_size):\n",
        "        features = X_train[b:b+batch_size,:,:]\n",
        "        target = y_train[b:b+batch_size]    \n",
        "\n",
        "        X_batch = torch.tensor(features,dtype=torch.float32)    \n",
        "        y_batch = torch.tensor(target,dtype=torch.float32)\n",
        "\n",
        "        output = bayesian_lstm(X_batch)\n",
        "        loss = criterion(output.view(-1), y_batch)  \n",
        "\n",
        "        loss.backward()\n",
        "        optimizer.step()        \n",
        "        optimizer.zero_grad() \n",
        "\n",
        "    if e % 10 == 0:\n",
        "      print('epoch', e, 'loss: ', loss.item())"
      ],
      "execution_count": null,
      "outputs": [
        {
          "output_type": "stream",
          "text": [
            "epoch 10 loss:  0.021331658586859703\n",
            "epoch 20 loss:  0.01902003400027752\n",
            "epoch 30 loss:  0.01965978927910328\n",
            "epoch 40 loss:  0.017205342650413513\n",
            "epoch 50 loss:  0.01645931601524353\n",
            "epoch 60 loss:  0.017352448776364326\n",
            "epoch 70 loss:  0.011554614640772343\n",
            "epoch 80 loss:  0.013196350075304508\n",
            "epoch 90 loss:  0.0104022566229105\n",
            "epoch 100 loss:  0.008596537634730339\n",
            "epoch 110 loss:  0.00793543178588152\n",
            "epoch 120 loss:  0.006831762846559286\n",
            "epoch 130 loss:  0.007397405803203583\n",
            "epoch 140 loss:  0.0039006543811410666\n",
            "epoch 150 loss:  0.004320652689784765\n"
          ],
          "name": "stdout"
        }
      ]
    },
    {
      "cell_type": "markdown",
      "metadata": {
        "id": "vUS459C6ro22"
      },
      "source": [
        "# Evaluating Model Performance"
      ]
    },
    {
      "cell_type": "markdown",
      "metadata": {
        "id": "iGYj2vTl311y"
      },
      "source": [
        "The Bayesian LSTM implemented is shown to produce reasonably accurate and sensible results on both the training and test sets, often comparable to other existing frequentist machine learning and deep learning methods.\n",
        "\n"
      ]
    },
    {
      "cell_type": "code",
      "metadata": {
        "id": "C-1VXE3_VH_0"
      },
      "source": [
        "offset = sequence_length\n",
        "\n",
        "def inverse_transform(y):\n",
        "  return target_scaler.inverse_transform(y.reshape(-1, 1))\n",
        "\n",
        "training_df = pd.DataFrame()\n",
        "training_df['date'] = resample_df['date'].iloc[offset:n_train + offset:1] \n",
        "training_predictions = bayesian_lstm.predict(X_train)\n",
        "training_df['log_energy_consumption'] = inverse_transform(training_predictions)\n",
        "training_df['source'] = 'Training Prediction'\n",
        "\n",
        "training_truth_df = pd.DataFrame()\n",
        "training_truth_df['date'] = training_df['date']\n",
        "training_truth_df['log_energy_consumption'] = resample_df['log_energy_consumption'].iloc[offset:n_train + offset:1] \n",
        "training_truth_df['source'] = 'True Values'\n",
        "\n",
        "testing_df = pd.DataFrame()\n",
        "testing_df['date'] = resample_df['date'].iloc[n_train + offset::1] \n",
        "testing_predictions = bayesian_lstm.predict(X_test)\n",
        "testing_df['log_energy_consumption'] = inverse_transform(testing_predictions)\n",
        "testing_df['source'] = 'Test Prediction'\n",
        "\n",
        "testing_truth_df = pd.DataFrame()\n",
        "testing_truth_df['date'] = testing_df['date']\n",
        "testing_truth_df['log_energy_consumption'] = resample_df['log_energy_consumption'].iloc[n_train + offset::1] \n",
        "testing_truth_df['source'] = 'True Values'\n",
        "\n",
        "evaluation = pd.concat([training_df, \n",
        "                        testing_df,\n",
        "                        training_truth_df,\n",
        "                        testing_truth_df\n",
        "                        ], axis=0)"
      ],
      "execution_count": null,
      "outputs": []
    },
    {
      "cell_type": "code",
      "metadata": {
        "id": "uXQJwRO2FZio",
        "colab": {
          "base_uri": "https://localhost:8080/",
          "height": 542
        },
        "outputId": "0b953344-92e2-481f-e4fd-e10af64fd424"
      },
      "source": [
        "fig = px.line(evaluation.loc[evaluation['date'].between('2016-04-14', '2016-04-23')],\n",
        "                 x=\"date\",\n",
        "                 y=\"log_energy_consumption\",\n",
        "                 color=\"source\",\n",
        "                 title=\"Log of Appliance Energy Consumption in Wh vs Time\")\n",
        "fig.show()"
      ],
      "execution_count": null,
      "outputs": [
        {
          "output_type": "display_data",
          "data": {
            "text/html": [
              "<html>\n",
              "<head><meta charset=\"utf-8\" /></head>\n",
              "<body>\n",
              "    <div>\n",
              "            <script src=\"https://cdnjs.cloudflare.com/ajax/libs/mathjax/2.7.5/MathJax.js?config=TeX-AMS-MML_SVG\"></script><script type=\"text/javascript\">if (window.MathJax) {MathJax.Hub.Config({SVG: {font: \"STIX-Web\"}});}</script>\n",
              "                <script type=\"text/javascript\">window.PlotlyConfig = {MathJaxConfig: 'local'};</script>\n",
              "        <script src=\"https://cdn.plot.ly/plotly-latest.min.js\"></script>    \n",
              "            <div id=\"a28e1c0f-060f-4484-ba54-c7a232ed10e4\" class=\"plotly-graph-div\" style=\"height:525px; width:100%;\"></div>\n",
              "            <script type=\"text/javascript\">\n",
              "                \n",
              "                    window.PLOTLYENV=window.PLOTLYENV || {};\n",
              "                    \n",
              "                if (document.getElementById(\"a28e1c0f-060f-4484-ba54-c7a232ed10e4\")) {\n",
              "                    Plotly.newPlot(\n",
              "                        'a28e1c0f-060f-4484-ba54-c7a232ed10e4',\n",
              "                        [{\"hoverlabel\": {\"namelength\": 0}, \"hovertemplate\": \"source=Training Prediction<br>date=%{x}<br>log_energy_consumption=%{y}\", \"legendgroup\": \"source=Training Prediction\", \"line\": {\"color\": \"#636efa\", \"dash\": \"solid\"}, \"mode\": \"lines\", \"name\": \"source=Training Prediction\", \"showlegend\": true, \"type\": \"scatter\", \"x\": [\"2016-04-14T00:00:00\", \"2016-04-14T01:00:00\", \"2016-04-14T02:00:00\", \"2016-04-14T03:00:00\", \"2016-04-14T04:00:00\", \"2016-04-14T05:00:00\", \"2016-04-14T06:00:00\", \"2016-04-14T07:00:00\", \"2016-04-14T08:00:00\", \"2016-04-14T09:00:00\", \"2016-04-14T10:00:00\", \"2016-04-14T11:00:00\", \"2016-04-14T12:00:00\", \"2016-04-14T13:00:00\", \"2016-04-14T14:00:00\", \"2016-04-14T15:00:00\", \"2016-04-14T16:00:00\", \"2016-04-14T17:00:00\", \"2016-04-14T18:00:00\", \"2016-04-14T19:00:00\", \"2016-04-14T20:00:00\", \"2016-04-14T21:00:00\", \"2016-04-14T22:00:00\", \"2016-04-14T23:00:00\", \"2016-04-15T00:00:00\", \"2016-04-15T01:00:00\", \"2016-04-15T02:00:00\", \"2016-04-15T03:00:00\", \"2016-04-15T04:00:00\", \"2016-04-15T05:00:00\", \"2016-04-15T06:00:00\", \"2016-04-15T07:00:00\", \"2016-04-15T08:00:00\", \"2016-04-15T09:00:00\", \"2016-04-15T10:00:00\", \"2016-04-15T11:00:00\", \"2016-04-15T12:00:00\", \"2016-04-15T13:00:00\", \"2016-04-15T14:00:00\", \"2016-04-15T15:00:00\", \"2016-04-15T16:00:00\", \"2016-04-15T17:00:00\", \"2016-04-15T18:00:00\", \"2016-04-15T19:00:00\", \"2016-04-15T20:00:00\", \"2016-04-15T21:00:00\", \"2016-04-15T22:00:00\", \"2016-04-15T23:00:00\", \"2016-04-16T00:00:00\", \"2016-04-16T01:00:00\", \"2016-04-16T02:00:00\", \"2016-04-16T03:00:00\", \"2016-04-16T04:00:00\", \"2016-04-16T05:00:00\", \"2016-04-16T06:00:00\", \"2016-04-16T07:00:00\", \"2016-04-16T08:00:00\", \"2016-04-16T09:00:00\", \"2016-04-16T10:00:00\", \"2016-04-16T11:00:00\", \"2016-04-16T12:00:00\", \"2016-04-16T13:00:00\", \"2016-04-16T14:00:00\", \"2016-04-16T15:00:00\", \"2016-04-16T16:00:00\", \"2016-04-16T17:00:00\", \"2016-04-16T18:00:00\", \"2016-04-16T19:00:00\", \"2016-04-16T20:00:00\", \"2016-04-16T21:00:00\", \"2016-04-16T22:00:00\", \"2016-04-16T23:00:00\", \"2016-04-17T00:00:00\", \"2016-04-17T01:00:00\"], \"xaxis\": \"x\", \"y\": [4.071311950683594, 4.049533843994141, 4.03235387802124, 3.9898841381073, 3.9790215492248535, 4.148952484130859, 4.231900691986084, 4.454267978668213, 4.6664018630981445, 4.164807319641113, 4.370513916015625, 4.439789295196533, 4.043328285217285, 4.2099289894104, 4.296288967132568, 4.601147174835205, 4.4566216468811035, 5.4273834228515625, 5.421423435211182, 5.157153129577637, 4.510514736175537, 4.11500358581543, 4.1194167137146, 4.063874244689941, 4.060586452484131, 4.064456939697266, 3.964595317840576, 3.9109046459198, 4.0413641929626465, 4.02471399307251, 5.347300052642822, 5.059589385986328, 5.714723110198975, 5.69682502746582, 5.8728814125061035, 4.919814586639404, 4.237748146057129, 4.415579319000244, 4.288396835327148, 4.064138889312744, 4.496583938598633, 4.494297981262207, 5.249332427978516, 5.088499069213867, 4.67204475402832, 4.705250263214111, 4.481660842895508, 3.937237024307251, 3.975217580795288, 3.8828482627868652, 3.8854994773864746, 4.101906776428223, 4.105829238891602, 3.82407808303833, 3.7368645668029785, 4.082602500915527, 4.787394046783447, 4.998282432556152, 5.672642230987549, 5.764869689941406, 4.715259075164795, 5.349053859710693, 5.545049667358398, 5.123201847076416, 6.530150890350342, 5.23172664642334, 5.178494930267334, 5.02847957611084, 4.661181449890137, 4.539638519287109, 4.165611267089844, 3.887241840362549, 4.025654315948486, 3.8093936443328857], \"yaxis\": \"y\"}, {\"hoverlabel\": {\"namelength\": 0}, \"hovertemplate\": \"source=Test Prediction<br>date=%{x}<br>log_energy_consumption=%{y}\", \"legendgroup\": \"source=Test Prediction\", \"line\": {\"color\": \"#EF553B\", \"dash\": \"solid\"}, \"mode\": \"lines\", \"name\": \"source=Test Prediction\", \"showlegend\": true, \"type\": \"scatter\", \"x\": [\"2016-04-17T02:00:00\", \"2016-04-17T03:00:00\", \"2016-04-17T04:00:00\", \"2016-04-17T05:00:00\", \"2016-04-17T06:00:00\", \"2016-04-17T07:00:00\", \"2016-04-17T08:00:00\", \"2016-04-17T09:00:00\", \"2016-04-17T10:00:00\", \"2016-04-17T11:00:00\", \"2016-04-17T12:00:00\", \"2016-04-17T13:00:00\", \"2016-04-17T14:00:00\", \"2016-04-17T15:00:00\", \"2016-04-17T16:00:00\", \"2016-04-17T17:00:00\", \"2016-04-17T18:00:00\", \"2016-04-17T19:00:00\", \"2016-04-17T20:00:00\", \"2016-04-17T21:00:00\", \"2016-04-17T22:00:00\", \"2016-04-17T23:00:00\", \"2016-04-18T00:00:00\", \"2016-04-18T01:00:00\", \"2016-04-18T02:00:00\", \"2016-04-18T03:00:00\", \"2016-04-18T04:00:00\", \"2016-04-18T05:00:00\", \"2016-04-18T06:00:00\", \"2016-04-18T07:00:00\", \"2016-04-18T08:00:00\", \"2016-04-18T09:00:00\", \"2016-04-18T10:00:00\", \"2016-04-18T11:00:00\", \"2016-04-18T12:00:00\", \"2016-04-18T13:00:00\", \"2016-04-18T14:00:00\", \"2016-04-18T15:00:00\", \"2016-04-18T16:00:00\", \"2016-04-18T17:00:00\", \"2016-04-18T18:00:00\", \"2016-04-18T19:00:00\", \"2016-04-18T20:00:00\", \"2016-04-18T21:00:00\", \"2016-04-18T22:00:00\", \"2016-04-18T23:00:00\", \"2016-04-19T00:00:00\", \"2016-04-19T01:00:00\", \"2016-04-19T02:00:00\", \"2016-04-19T03:00:00\", \"2016-04-19T04:00:00\", \"2016-04-19T05:00:00\", \"2016-04-19T06:00:00\", \"2016-04-19T07:00:00\", \"2016-04-19T08:00:00\", \"2016-04-19T09:00:00\", \"2016-04-19T10:00:00\", \"2016-04-19T11:00:00\", \"2016-04-19T12:00:00\", \"2016-04-19T13:00:00\", \"2016-04-19T14:00:00\", \"2016-04-19T15:00:00\", \"2016-04-19T16:00:00\", \"2016-04-19T17:00:00\", \"2016-04-19T18:00:00\", \"2016-04-19T19:00:00\", \"2016-04-19T20:00:00\", \"2016-04-19T21:00:00\", \"2016-04-19T22:00:00\", \"2016-04-19T23:00:00\", \"2016-04-20T00:00:00\", \"2016-04-20T01:00:00\", \"2016-04-20T02:00:00\", \"2016-04-20T03:00:00\", \"2016-04-20T04:00:00\", \"2016-04-20T05:00:00\", \"2016-04-20T06:00:00\", \"2016-04-20T07:00:00\", \"2016-04-20T08:00:00\", \"2016-04-20T09:00:00\", \"2016-04-20T10:00:00\", \"2016-04-20T11:00:00\", \"2016-04-20T12:00:00\", \"2016-04-20T13:00:00\", \"2016-04-20T14:00:00\", \"2016-04-20T15:00:00\", \"2016-04-20T16:00:00\", \"2016-04-20T17:00:00\", \"2016-04-20T18:00:00\", \"2016-04-20T19:00:00\", \"2016-04-20T20:00:00\", \"2016-04-20T21:00:00\", \"2016-04-20T22:00:00\", \"2016-04-20T23:00:00\", \"2016-04-21T00:00:00\", \"2016-04-21T01:00:00\", \"2016-04-21T02:00:00\", \"2016-04-21T03:00:00\", \"2016-04-21T04:00:00\", \"2016-04-21T05:00:00\", \"2016-04-21T06:00:00\", \"2016-04-21T07:00:00\", \"2016-04-21T08:00:00\", \"2016-04-21T09:00:00\", \"2016-04-21T10:00:00\", \"2016-04-21T11:00:00\", \"2016-04-21T12:00:00\", \"2016-04-21T13:00:00\", \"2016-04-21T14:00:00\", \"2016-04-21T15:00:00\", \"2016-04-21T16:00:00\", \"2016-04-21T17:00:00\", \"2016-04-21T18:00:00\", \"2016-04-21T19:00:00\", \"2016-04-21T20:00:00\", \"2016-04-21T21:00:00\", \"2016-04-21T22:00:00\", \"2016-04-21T23:00:00\", \"2016-04-22T00:00:00\", \"2016-04-22T01:00:00\", \"2016-04-22T02:00:00\", \"2016-04-22T03:00:00\", \"2016-04-22T04:00:00\", \"2016-04-22T05:00:00\", \"2016-04-22T06:00:00\", \"2016-04-22T07:00:00\", \"2016-04-22T08:00:00\", \"2016-04-22T09:00:00\", \"2016-04-22T10:00:00\", \"2016-04-22T11:00:00\", \"2016-04-22T12:00:00\", \"2016-04-22T13:00:00\", \"2016-04-22T14:00:00\", \"2016-04-22T15:00:00\", \"2016-04-22T16:00:00\", \"2016-04-22T17:00:00\", \"2016-04-22T18:00:00\", \"2016-04-22T19:00:00\", \"2016-04-22T20:00:00\", \"2016-04-22T21:00:00\", \"2016-04-22T22:00:00\", \"2016-04-22T23:00:00\", \"2016-04-23T00:00:00\"], \"xaxis\": \"x\", \"y\": [3.846729278564453, 3.7890326976776123, 3.800753116607666, 3.80324125289917, 4.0107102394104, 4.144126892089844, 4.508336544036865, 5.124961853027344, 6.109856128692627, 5.222375392913818, 4.636430263519287, 4.94541597366333, 4.787722110748291, 4.560028553009033, 4.733906269073486, 5.658514499664307, 5.158309459686279, 4.763972282409668, 4.795607566833496, 4.134037971496582, 4.089143753051758, 3.9253759384155273, 3.850090503692627, 3.991638660430908, 4.065402030944824, 4.046813011169434, 3.8179259300231934, 4.031732559204102, 4.052524566650391, 4.125004768371582, 4.16081428527832, 3.980137586593628, 4.316503524780273, 3.9640913009643555, 4.288815021514893, 5.214829921722412, 3.785490036010742, 3.939945936203003, 4.077991962432861, 4.527745723724365, 5.575916767120361, 4.870102405548096, 4.698535442352295, 4.361247539520264, 4.0238542556762695, 3.9891881942749023, 3.8581860065460205, 4.062454700469971, 3.8792765140533447, 3.999856472015381, 3.9948923587799072, 4.176387310028076, 5.140435695648193, 4.98025369644165, 4.417407989501953, 4.028335094451904, 4.206305027008057, 4.096395969390869, 3.9738378524780273, 3.7975711822509766, 4.034839153289795, 3.7930409908294678, 3.8043735027313232, 4.053182601928711, 5.058597564697266, 5.107814788818359, 4.834970474243164, 4.241646766662598, 3.8369643688201904, 3.9775047302246094, 4.0258612632751465, 3.8295559883117676, 3.593930721282959, 3.9619076251983643, 3.7888078689575195, 3.7066705226898193, 3.9452805519104004, 4.539631366729736, 4.744251728057861, 3.871689558029175, 3.9253129959106445, 4.185694694519043, 4.252623081207275, 3.880554437637329, 4.125554084777832, 5.132245063781738, 5.029510021209717, 4.23491907119751, 4.867934703826904, 5.3460774421691895, 4.658329963684082, 4.958756923675537, 4.181533336639404, 3.9996824264526367, 3.938552141189575, 3.8867008686065674, 3.8625967502593994, 3.9398648738861084, 3.705785036087036, 3.8267359733581543, 4.156833648681641, 4.240119457244873, 4.01341438293457, 4.182750225067139, 4.159144878387451, 4.031356334686279, 4.242674827575684, 4.028075218200684, 3.886601448059082, 4.27933406829834, 4.803062438964844, 4.541365146636963, 5.654858112335205, 5.51384162902832, 4.900040149688721, 4.5095295906066895, 4.115225791931152, 4.02531099319458, 3.8103978633880615, 3.919243812561035, 4.016668796539307, 4.090002059936523, 4.177785873413086, 4.039950847625732, 4.514692783355713, 4.356667995452881, 5.251067638397217, 6.054249286651611, 5.61944580078125, 5.70045280456543, 5.966816425323486, 5.492482662200928, 5.257201671600342, 4.326365947723389, 4.981011867523193, 4.982935428619385, 5.341693878173828, 4.837292671203613, 5.042408466339111, 4.170253276824951, 4.312564373016357, 3.9762635231018066, 3.8060302734375], \"yaxis\": \"y\"}, {\"hoverlabel\": {\"namelength\": 0}, \"hovertemplate\": \"source=True Values<br>date=%{x}<br>log_energy_consumption=%{y}\", \"legendgroup\": \"source=True Values\", \"line\": {\"color\": \"#00cc96\", \"dash\": \"solid\"}, \"mode\": \"lines\", \"name\": \"source=True Values\", \"showlegend\": true, \"type\": \"scatter\", \"x\": [\"2016-04-14T00:00:00\", \"2016-04-14T01:00:00\", \"2016-04-14T02:00:00\", \"2016-04-14T03:00:00\", \"2016-04-14T04:00:00\", \"2016-04-14T05:00:00\", \"2016-04-14T06:00:00\", \"2016-04-14T07:00:00\", \"2016-04-14T08:00:00\", \"2016-04-14T09:00:00\", \"2016-04-14T10:00:00\", \"2016-04-14T11:00:00\", \"2016-04-14T12:00:00\", \"2016-04-14T13:00:00\", \"2016-04-14T14:00:00\", \"2016-04-14T15:00:00\", \"2016-04-14T16:00:00\", \"2016-04-14T17:00:00\", \"2016-04-14T18:00:00\", \"2016-04-14T19:00:00\", \"2016-04-14T20:00:00\", \"2016-04-14T21:00:00\", \"2016-04-14T22:00:00\", \"2016-04-14T23:00:00\", \"2016-04-15T00:00:00\", \"2016-04-15T01:00:00\", \"2016-04-15T02:00:00\", \"2016-04-15T03:00:00\", \"2016-04-15T04:00:00\", \"2016-04-15T05:00:00\", \"2016-04-15T06:00:00\", \"2016-04-15T07:00:00\", \"2016-04-15T08:00:00\", \"2016-04-15T09:00:00\", \"2016-04-15T10:00:00\", \"2016-04-15T11:00:00\", \"2016-04-15T12:00:00\", \"2016-04-15T13:00:00\", \"2016-04-15T14:00:00\", \"2016-04-15T15:00:00\", \"2016-04-15T16:00:00\", \"2016-04-15T17:00:00\", \"2016-04-15T18:00:00\", \"2016-04-15T19:00:00\", \"2016-04-15T20:00:00\", \"2016-04-15T21:00:00\", \"2016-04-15T22:00:00\", \"2016-04-15T23:00:00\", \"2016-04-16T00:00:00\", \"2016-04-16T01:00:00\", \"2016-04-16T02:00:00\", \"2016-04-16T03:00:00\", \"2016-04-16T04:00:00\", \"2016-04-16T05:00:00\", \"2016-04-16T06:00:00\", \"2016-04-16T07:00:00\", \"2016-04-16T08:00:00\", \"2016-04-16T09:00:00\", \"2016-04-16T10:00:00\", \"2016-04-16T11:00:00\", \"2016-04-16T12:00:00\", \"2016-04-16T13:00:00\", \"2016-04-16T14:00:00\", \"2016-04-16T15:00:00\", \"2016-04-16T16:00:00\", \"2016-04-16T17:00:00\", \"2016-04-16T18:00:00\", \"2016-04-16T19:00:00\", \"2016-04-16T20:00:00\", \"2016-04-16T21:00:00\", \"2016-04-16T22:00:00\", \"2016-04-16T23:00:00\", \"2016-04-17T00:00:00\", \"2016-04-17T01:00:00\", \"2016-04-17T02:00:00\", \"2016-04-17T03:00:00\", \"2016-04-17T04:00:00\", \"2016-04-17T05:00:00\", \"2016-04-17T06:00:00\", \"2016-04-17T07:00:00\", \"2016-04-17T08:00:00\", \"2016-04-17T09:00:00\", \"2016-04-17T10:00:00\", \"2016-04-17T11:00:00\", \"2016-04-17T12:00:00\", \"2016-04-17T13:00:00\", \"2016-04-17T14:00:00\", \"2016-04-17T15:00:00\", \"2016-04-17T16:00:00\", \"2016-04-17T17:00:00\", \"2016-04-17T18:00:00\", \"2016-04-17T19:00:00\", \"2016-04-17T20:00:00\", \"2016-04-17T21:00:00\", \"2016-04-17T22:00:00\", \"2016-04-17T23:00:00\", \"2016-04-18T00:00:00\", \"2016-04-18T01:00:00\", \"2016-04-18T02:00:00\", \"2016-04-18T03:00:00\", \"2016-04-18T04:00:00\", \"2016-04-18T05:00:00\", \"2016-04-18T06:00:00\", \"2016-04-18T07:00:00\", \"2016-04-18T08:00:00\", \"2016-04-18T09:00:00\", \"2016-04-18T10:00:00\", \"2016-04-18T11:00:00\", \"2016-04-18T12:00:00\", \"2016-04-18T13:00:00\", \"2016-04-18T14:00:00\", \"2016-04-18T15:00:00\", \"2016-04-18T16:00:00\", \"2016-04-18T17:00:00\", \"2016-04-18T18:00:00\", \"2016-04-18T19:00:00\", \"2016-04-18T20:00:00\", \"2016-04-18T21:00:00\", \"2016-04-18T22:00:00\", \"2016-04-18T23:00:00\", \"2016-04-19T00:00:00\", \"2016-04-19T01:00:00\", \"2016-04-19T02:00:00\", \"2016-04-19T03:00:00\", \"2016-04-19T04:00:00\", \"2016-04-19T05:00:00\", \"2016-04-19T06:00:00\", \"2016-04-19T07:00:00\", \"2016-04-19T08:00:00\", \"2016-04-19T09:00:00\", \"2016-04-19T10:00:00\", \"2016-04-19T11:00:00\", \"2016-04-19T12:00:00\", \"2016-04-19T13:00:00\", \"2016-04-19T14:00:00\", \"2016-04-19T15:00:00\", \"2016-04-19T16:00:00\", \"2016-04-19T17:00:00\", \"2016-04-19T18:00:00\", \"2016-04-19T19:00:00\", \"2016-04-19T20:00:00\", \"2016-04-19T21:00:00\", \"2016-04-19T22:00:00\", \"2016-04-19T23:00:00\", \"2016-04-20T00:00:00\", \"2016-04-20T01:00:00\", \"2016-04-20T02:00:00\", \"2016-04-20T03:00:00\", \"2016-04-20T04:00:00\", \"2016-04-20T05:00:00\", \"2016-04-20T06:00:00\", \"2016-04-20T07:00:00\", \"2016-04-20T08:00:00\", \"2016-04-20T09:00:00\", \"2016-04-20T10:00:00\", \"2016-04-20T11:00:00\", \"2016-04-20T12:00:00\", \"2016-04-20T13:00:00\", \"2016-04-20T14:00:00\", \"2016-04-20T15:00:00\", \"2016-04-20T16:00:00\", \"2016-04-20T17:00:00\", \"2016-04-20T18:00:00\", \"2016-04-20T19:00:00\", \"2016-04-20T20:00:00\", \"2016-04-20T21:00:00\", \"2016-04-20T22:00:00\", \"2016-04-20T23:00:00\", \"2016-04-21T00:00:00\", \"2016-04-21T01:00:00\", \"2016-04-21T02:00:00\", \"2016-04-21T03:00:00\", \"2016-04-21T04:00:00\", \"2016-04-21T05:00:00\", \"2016-04-21T06:00:00\", \"2016-04-21T07:00:00\", \"2016-04-21T08:00:00\", \"2016-04-21T09:00:00\", \"2016-04-21T10:00:00\", \"2016-04-21T11:00:00\", \"2016-04-21T12:00:00\", \"2016-04-21T13:00:00\", \"2016-04-21T14:00:00\", \"2016-04-21T15:00:00\", \"2016-04-21T16:00:00\", \"2016-04-21T17:00:00\", \"2016-04-21T18:00:00\", \"2016-04-21T19:00:00\", \"2016-04-21T20:00:00\", \"2016-04-21T21:00:00\", \"2016-04-21T22:00:00\", \"2016-04-21T23:00:00\", \"2016-04-22T00:00:00\", \"2016-04-22T01:00:00\", \"2016-04-22T02:00:00\", \"2016-04-22T03:00:00\", \"2016-04-22T04:00:00\", \"2016-04-22T05:00:00\", \"2016-04-22T06:00:00\", \"2016-04-22T07:00:00\", \"2016-04-22T08:00:00\", \"2016-04-22T09:00:00\", \"2016-04-22T10:00:00\", \"2016-04-22T11:00:00\", \"2016-04-22T12:00:00\", \"2016-04-22T13:00:00\", \"2016-04-22T14:00:00\", \"2016-04-22T15:00:00\", \"2016-04-22T16:00:00\", \"2016-04-22T17:00:00\", \"2016-04-22T18:00:00\", \"2016-04-22T19:00:00\", \"2016-04-22T20:00:00\", \"2016-04-22T21:00:00\", \"2016-04-22T22:00:00\", \"2016-04-22T23:00:00\", \"2016-04-23T00:00:00\"], \"xaxis\": \"x\", \"y\": [4.007333185232471, 3.9765615265657175, 3.9765615265657175, 3.9765615265657175, 3.9765615265657175, 3.912023005428146, 4.148411783492376, 4.360973225476049, 4.382026634673881, 4.174387269895637, 4.360973225476049, 4.402645921876617, 4.121743536410215, 3.9765615265657175, 4.248495242049359, 4.518158808998462, 4.402645921876617, 5.646624060816253, 5.393627546352362, 5.272999558563747, 4.339467020255086, 4.037186148382152, 3.912023005428146, 3.9765615265657175, 3.9448128282511368, 3.9448128282511368, 4.037186148382152, 3.8781214537524646, 4.007333185232471, 3.9765615265657175, 5.917997395226109, 5.501258210544727, 5.794029352503979, 5.501258210544727, 5.862683757242057, 5.12594614060725, 4.339467020255086, 4.148411783492376, 4.272025739459553, 4.199705077879927, 4.422848629194137, 4.382026634673881, 5.3471075307174685, 4.814890716970161, 4.700480365792417, 4.637960008811082, 4.402645921876617, 4.037186148382152, 3.9765615265657175, 4.007333185232471, 3.912023005428146, 4.037186148382152, 3.8781214537524646, 3.9765615265657175, 3.9765615265657175, 4.174387269895637, 4.637960008811082, 4.953476880256307, 5.675611597689505, 5.681309618804143, 4.685212893661628, 5.452468046375295, 5.487559366186565, 4.7303333289420975, 6.0905554497522125, 5.528105460580915, 4.917544871030244, 4.7303333289420975, 4.621699487939302, 4.553876891600541, 4.148411783492376, 4.007333185232471, 3.9448128282511368, 4.007333185232471, 3.8781214537524646, 4.0661736852554045, 3.8781214537524646, 3.9448128282511368, 3.912023005428146, 4.148411783492376, 4.941642422609304, 4.637960008811082, 6.09807428216624, 4.75932086581535, 4.965172920019499, 4.272025739459553, 4.248495242049359, 4.553876891600541, 5.12594614060725, 5.473670254025898, 4.8012850649143815, 4.814890716970161, 4.499809670330265, 4.360973225476049, 3.9765615265657175, 4.037186148382152, 4.037186148382152, 4.199705077879927, 3.9765615265657175, 3.8430301339411947, 3.8430301339411947, 3.9765615265657175, 4.007333185232471, 3.912023005428146, 3.9765615265657175, 3.912023005428146, 3.9448128282511368, 4.402645921876617, 3.8781214537524646, 3.9765615265657175, 3.6888794541139363, 4.007333185232471, 4.248495242049359, 5.573420656792957, 4.880273476233012, 4.75932086581535, 4.8283137373023015, 4.121743536410215, 3.7297014486341915, 3.9448128282511368, 3.9765615265657175, 3.6463198396951406, 3.9765615265657175, 3.9448128282511368, 3.912023005428146, 4.715518243156957, 4.360973225476049, 4.892852258439873, 3.8781214537524646, 3.9765615265657175, 3.6463198396951406, 3.9448128282511368, 3.9448128282511368, 3.8066624897703196, 3.8781214537524646, 3.912023005428146, 3.9448128282511368, 5.51477192971145, 4.854631045619675, 4.74493212836325, 4.4620693423474185, 4.0943445622221, 3.9448128282511368, 3.6888794541139363, 4.007333185232471, 3.912023005428146, 3.8066624897703196, 3.8781214537524646, 3.9448128282511368, 3.912023005428146, 4.199705077879927, 4.037186148382152, 3.9765615265657175, 4.148411783492376, 4.174387269895637, 3.8066624897703196, 3.8430301339411947, 3.9765615265657175, 5.155216522907363, 4.360973225476049, 4.272025739459553, 5.19295685089021, 5.652489180268651, 4.787491742782046, 4.685212893661628, 4.295015257684252, 3.9765615265657175, 3.7297014486341915, 3.9448128282511368, 3.9765615265657175, 3.8781214537524646, 3.6888794541139363, 3.9765615265657175, 4.2243976904702984, 4.121743536410215, 3.7689221617874726, 3.9448128282511368, 3.9448128282511368, 3.9448128282511368, 4.007333185232471, 3.912023005428146, 4.121743536410215, 4.121743536410215, 4.148411783492376, 4.4620693423474185, 5.306616169362732, 5.19295685089021, 4.854631045619675, 5.1647859739235145, 4.2243976904702984, 4.248495242049359, 4.2243976904702984, 4.121743536410215, 4.121743536410215, 4.2243976904702984, 4.199705077879927, 4.199705077879927, 4.248495242049359, 4.199705077879927, 5.145554611995626, 5.12594614060725, 5.9445476273202305, 5.9872891756975015, 5.579729825986222, 5.84354441703136, 5.634789603169249, 4.481117537318112, 5.622813412122534, 5.675611597689505, 5.9445476273202305, 5.264415814872355, 4.653960350157523, 4.653960350157523, 4.272025739459553, 4.007333185232471, 4.007333185232471, 4.037186148382152], \"yaxis\": \"y\"}],\n",
              "                        {\"legend\": {\"tracegroupgap\": 0}, \"template\": {\"data\": {\"bar\": [{\"error_x\": {\"color\": \"#2a3f5f\"}, \"error_y\": {\"color\": \"#2a3f5f\"}, \"marker\": {\"line\": {\"color\": \"#E5ECF6\", \"width\": 0.5}}, \"type\": \"bar\"}], \"barpolar\": [{\"marker\": {\"line\": {\"color\": \"#E5ECF6\", \"width\": 0.5}}, \"type\": \"barpolar\"}], \"carpet\": [{\"aaxis\": {\"endlinecolor\": \"#2a3f5f\", \"gridcolor\": \"white\", \"linecolor\": \"white\", \"minorgridcolor\": \"white\", \"startlinecolor\": \"#2a3f5f\"}, \"baxis\": {\"endlinecolor\": \"#2a3f5f\", \"gridcolor\": \"white\", \"linecolor\": \"white\", \"minorgridcolor\": \"white\", \"startlinecolor\": \"#2a3f5f\"}, \"type\": \"carpet\"}], \"choropleth\": [{\"colorbar\": {\"outlinewidth\": 0, \"ticks\": \"\"}, \"type\": \"choropleth\"}], \"contour\": [{\"colorbar\": {\"outlinewidth\": 0, \"ticks\": \"\"}, \"colorscale\": [[0.0, \"#0d0887\"], [0.1111111111111111, \"#46039f\"], [0.2222222222222222, \"#7201a8\"], [0.3333333333333333, \"#9c179e\"], [0.4444444444444444, \"#bd3786\"], [0.5555555555555556, \"#d8576b\"], [0.6666666666666666, \"#ed7953\"], [0.7777777777777778, \"#fb9f3a\"], [0.8888888888888888, \"#fdca26\"], [1.0, \"#f0f921\"]], \"type\": \"contour\"}], \"contourcarpet\": [{\"colorbar\": {\"outlinewidth\": 0, \"ticks\": \"\"}, \"type\": \"contourcarpet\"}], \"heatmap\": [{\"colorbar\": {\"outlinewidth\": 0, \"ticks\": \"\"}, \"colorscale\": [[0.0, \"#0d0887\"], [0.1111111111111111, \"#46039f\"], [0.2222222222222222, \"#7201a8\"], [0.3333333333333333, \"#9c179e\"], [0.4444444444444444, \"#bd3786\"], [0.5555555555555556, \"#d8576b\"], [0.6666666666666666, \"#ed7953\"], [0.7777777777777778, \"#fb9f3a\"], [0.8888888888888888, \"#fdca26\"], [1.0, \"#f0f921\"]], \"type\": \"heatmap\"}], \"heatmapgl\": [{\"colorbar\": {\"outlinewidth\": 0, \"ticks\": \"\"}, \"colorscale\": [[0.0, \"#0d0887\"], [0.1111111111111111, \"#46039f\"], [0.2222222222222222, \"#7201a8\"], [0.3333333333333333, \"#9c179e\"], [0.4444444444444444, \"#bd3786\"], [0.5555555555555556, \"#d8576b\"], [0.6666666666666666, \"#ed7953\"], [0.7777777777777778, \"#fb9f3a\"], [0.8888888888888888, \"#fdca26\"], [1.0, \"#f0f921\"]], \"type\": \"heatmapgl\"}], \"histogram\": [{\"marker\": {\"colorbar\": {\"outlinewidth\": 0, \"ticks\": \"\"}}, \"type\": \"histogram\"}], \"histogram2d\": [{\"colorbar\": {\"outlinewidth\": 0, \"ticks\": \"\"}, \"colorscale\": [[0.0, \"#0d0887\"], [0.1111111111111111, \"#46039f\"], [0.2222222222222222, \"#7201a8\"], [0.3333333333333333, \"#9c179e\"], [0.4444444444444444, \"#bd3786\"], [0.5555555555555556, \"#d8576b\"], [0.6666666666666666, \"#ed7953\"], [0.7777777777777778, \"#fb9f3a\"], [0.8888888888888888, \"#fdca26\"], [1.0, \"#f0f921\"]], \"type\": \"histogram2d\"}], \"histogram2dcontour\": [{\"colorbar\": {\"outlinewidth\": 0, \"ticks\": \"\"}, \"colorscale\": [[0.0, \"#0d0887\"], [0.1111111111111111, \"#46039f\"], [0.2222222222222222, \"#7201a8\"], [0.3333333333333333, \"#9c179e\"], [0.4444444444444444, \"#bd3786\"], [0.5555555555555556, \"#d8576b\"], [0.6666666666666666, \"#ed7953\"], [0.7777777777777778, \"#fb9f3a\"], [0.8888888888888888, \"#fdca26\"], [1.0, \"#f0f921\"]], \"type\": \"histogram2dcontour\"}], \"mesh3d\": [{\"colorbar\": {\"outlinewidth\": 0, \"ticks\": \"\"}, \"type\": \"mesh3d\"}], \"parcoords\": [{\"line\": {\"colorbar\": {\"outlinewidth\": 0, \"ticks\": \"\"}}, \"type\": \"parcoords\"}], \"pie\": [{\"automargin\": true, \"type\": \"pie\"}], \"scatter\": [{\"marker\": {\"colorbar\": {\"outlinewidth\": 0, \"ticks\": \"\"}}, \"type\": \"scatter\"}], \"scatter3d\": [{\"line\": {\"colorbar\": {\"outlinewidth\": 0, \"ticks\": \"\"}}, \"marker\": {\"colorbar\": {\"outlinewidth\": 0, \"ticks\": \"\"}}, \"type\": \"scatter3d\"}], \"scattercarpet\": [{\"marker\": {\"colorbar\": {\"outlinewidth\": 0, \"ticks\": \"\"}}, \"type\": \"scattercarpet\"}], \"scattergeo\": [{\"marker\": {\"colorbar\": {\"outlinewidth\": 0, \"ticks\": \"\"}}, \"type\": \"scattergeo\"}], \"scattergl\": [{\"marker\": {\"colorbar\": {\"outlinewidth\": 0, \"ticks\": \"\"}}, \"type\": \"scattergl\"}], \"scattermapbox\": [{\"marker\": {\"colorbar\": {\"outlinewidth\": 0, \"ticks\": \"\"}}, \"type\": \"scattermapbox\"}], \"scatterpolar\": [{\"marker\": {\"colorbar\": {\"outlinewidth\": 0, \"ticks\": \"\"}}, \"type\": \"scatterpolar\"}], \"scatterpolargl\": [{\"marker\": {\"colorbar\": {\"outlinewidth\": 0, \"ticks\": \"\"}}, \"type\": \"scatterpolargl\"}], \"scatterternary\": [{\"marker\": {\"colorbar\": {\"outlinewidth\": 0, \"ticks\": \"\"}}, \"type\": \"scatterternary\"}], \"surface\": [{\"colorbar\": {\"outlinewidth\": 0, \"ticks\": \"\"}, \"colorscale\": [[0.0, \"#0d0887\"], [0.1111111111111111, \"#46039f\"], [0.2222222222222222, \"#7201a8\"], [0.3333333333333333, \"#9c179e\"], [0.4444444444444444, \"#bd3786\"], [0.5555555555555556, \"#d8576b\"], [0.6666666666666666, \"#ed7953\"], [0.7777777777777778, \"#fb9f3a\"], [0.8888888888888888, \"#fdca26\"], [1.0, \"#f0f921\"]], \"type\": \"surface\"}], \"table\": [{\"cells\": {\"fill\": {\"color\": \"#EBF0F8\"}, \"line\": {\"color\": \"white\"}}, \"header\": {\"fill\": {\"color\": \"#C8D4E3\"}, \"line\": {\"color\": \"white\"}}, \"type\": \"table\"}]}, \"layout\": {\"annotationdefaults\": {\"arrowcolor\": \"#2a3f5f\", \"arrowhead\": 0, \"arrowwidth\": 1}, \"coloraxis\": {\"colorbar\": {\"outlinewidth\": 0, \"ticks\": \"\"}}, \"colorscale\": {\"diverging\": [[0, \"#8e0152\"], [0.1, \"#c51b7d\"], [0.2, \"#de77ae\"], [0.3, \"#f1b6da\"], [0.4, \"#fde0ef\"], [0.5, \"#f7f7f7\"], [0.6, \"#e6f5d0\"], [0.7, \"#b8e186\"], [0.8, \"#7fbc41\"], [0.9, \"#4d9221\"], [1, \"#276419\"]], \"sequential\": [[0.0, \"#0d0887\"], [0.1111111111111111, \"#46039f\"], [0.2222222222222222, \"#7201a8\"], [0.3333333333333333, \"#9c179e\"], [0.4444444444444444, \"#bd3786\"], [0.5555555555555556, \"#d8576b\"], [0.6666666666666666, \"#ed7953\"], [0.7777777777777778, \"#fb9f3a\"], [0.8888888888888888, \"#fdca26\"], [1.0, \"#f0f921\"]], \"sequentialminus\": [[0.0, \"#0d0887\"], [0.1111111111111111, \"#46039f\"], [0.2222222222222222, \"#7201a8\"], [0.3333333333333333, \"#9c179e\"], [0.4444444444444444, \"#bd3786\"], [0.5555555555555556, \"#d8576b\"], [0.6666666666666666, \"#ed7953\"], [0.7777777777777778, \"#fb9f3a\"], [0.8888888888888888, \"#fdca26\"], [1.0, \"#f0f921\"]]}, \"colorway\": [\"#636efa\", \"#EF553B\", \"#00cc96\", \"#ab63fa\", \"#FFA15A\", \"#19d3f3\", \"#FF6692\", \"#B6E880\", \"#FF97FF\", \"#FECB52\"], \"font\": {\"color\": \"#2a3f5f\"}, \"geo\": {\"bgcolor\": \"white\", \"lakecolor\": \"white\", \"landcolor\": \"#E5ECF6\", \"showlakes\": true, \"showland\": true, \"subunitcolor\": \"white\"}, \"hoverlabel\": {\"align\": \"left\"}, \"hovermode\": \"closest\", \"mapbox\": {\"style\": \"light\"}, \"paper_bgcolor\": \"white\", \"plot_bgcolor\": \"#E5ECF6\", \"polar\": {\"angularaxis\": {\"gridcolor\": \"white\", \"linecolor\": \"white\", \"ticks\": \"\"}, \"bgcolor\": \"#E5ECF6\", \"radialaxis\": {\"gridcolor\": \"white\", \"linecolor\": \"white\", \"ticks\": \"\"}}, \"scene\": {\"xaxis\": {\"backgroundcolor\": \"#E5ECF6\", \"gridcolor\": \"white\", \"gridwidth\": 2, \"linecolor\": \"white\", \"showbackground\": true, \"ticks\": \"\", \"zerolinecolor\": \"white\"}, \"yaxis\": {\"backgroundcolor\": \"#E5ECF6\", \"gridcolor\": \"white\", \"gridwidth\": 2, \"linecolor\": \"white\", \"showbackground\": true, \"ticks\": \"\", \"zerolinecolor\": \"white\"}, \"zaxis\": {\"backgroundcolor\": \"#E5ECF6\", \"gridcolor\": \"white\", \"gridwidth\": 2, \"linecolor\": \"white\", \"showbackground\": true, \"ticks\": \"\", \"zerolinecolor\": \"white\"}}, \"shapedefaults\": {\"line\": {\"color\": \"#2a3f5f\"}}, \"ternary\": {\"aaxis\": {\"gridcolor\": \"white\", \"linecolor\": \"white\", \"ticks\": \"\"}, \"baxis\": {\"gridcolor\": \"white\", \"linecolor\": \"white\", \"ticks\": \"\"}, \"bgcolor\": \"#E5ECF6\", \"caxis\": {\"gridcolor\": \"white\", \"linecolor\": \"white\", \"ticks\": \"\"}}, \"title\": {\"x\": 0.05}, \"xaxis\": {\"automargin\": true, \"gridcolor\": \"white\", \"linecolor\": \"white\", \"ticks\": \"\", \"title\": {\"standoff\": 15}, \"zerolinecolor\": \"white\", \"zerolinewidth\": 2}, \"yaxis\": {\"automargin\": true, \"gridcolor\": \"white\", \"linecolor\": \"white\", \"ticks\": \"\", \"title\": {\"standoff\": 15}, \"zerolinecolor\": \"white\", \"zerolinewidth\": 2}}}, \"title\": {\"text\": \"Log of Appliance Energy Consumption in Wh vs Time\"}, \"xaxis\": {\"anchor\": \"y\", \"domain\": [0.0, 1.0], \"title\": {\"text\": \"date\"}}, \"yaxis\": {\"anchor\": \"x\", \"domain\": [0.0, 1.0], \"title\": {\"text\": \"log_energy_consumption\"}}},\n",
              "                        {\"responsive\": true}\n",
              "                    ).then(function(){\n",
              "                            \n",
              "var gd = document.getElementById('a28e1c0f-060f-4484-ba54-c7a232ed10e4');\n",
              "var x = new MutationObserver(function (mutations, observer) {{\n",
              "        var display = window.getComputedStyle(gd).display;\n",
              "        if (!display || display === 'none') {{\n",
              "            console.log([gd, 'removed!']);\n",
              "            Plotly.purge(gd);\n",
              "            observer.disconnect();\n",
              "        }}\n",
              "}});\n",
              "\n",
              "// Listen for the removal of the full notebook cells\n",
              "var notebookContainer = gd.closest('#notebook-container');\n",
              "if (notebookContainer) {{\n",
              "    x.observe(notebookContainer, {childList: true});\n",
              "}}\n",
              "\n",
              "// Listen for the clearing of the current output cell\n",
              "var outputEl = gd.closest('.output');\n",
              "if (outputEl) {{\n",
              "    x.observe(outputEl, {childList: true});\n",
              "}}\n",
              "\n",
              "                        })\n",
              "                };\n",
              "                \n",
              "            </script>\n",
              "        </div>\n",
              "</body>\n",
              "</html>"
            ]
          },
          "metadata": {
            "tags": []
          }
        }
      ]
    },
    {
      "cell_type": "markdown",
      "metadata": {
        "id": "Jrwiy646yq7t"
      },
      "source": [
        "# Uncertainty Quantification"
      ]
    },
    {
      "cell_type": "markdown",
      "metadata": {
        "id": "8FEzMrU147zx"
      },
      "source": [
        "The fact that stochastic dropouts are applied after each LSTM layer in the Bayesian LSTM enables users to interpret the model outputs as random samples from the posterior distribution of the target variable. \n",
        "\n",
        "This implies that by running multiple experiments/predictions, can approximate  parameters of the posterioir distribution, namely the mean and the variance, in order to create confidence intervals for each prediction.\n",
        "\n",
        "In this example, we construct 99% confidence intervals that are three standard deviations away from the approximate mean of each prediction."
      ]
    },
    {
      "cell_type": "code",
      "metadata": {
        "id": "Jb4xyVW6DVUV"
      },
      "source": [
        "n_experiments = 100\n",
        "\n",
        "test_uncertainty_df = pd.DataFrame()\n",
        "test_uncertainty_df['date'] = testing_df['date']\n",
        "\n",
        "for i in range(n_experiments):\n",
        "  experiment_predictions = bayesian_lstm.predict(X_test)\n",
        "  test_uncertainty_df['log_energy_consumption_{}'.format(i)] = inverse_transform(experiment_predictions)\n",
        "\n",
        "log_energy_consumption_df = test_uncertainty_df.filter(like='log_energy_consumption', axis=1)\n",
        "test_uncertainty_df['log_energy_consumption_mean'] = log_energy_consumption_df.mean(axis=1)\n",
        "test_uncertainty_df['log_energy_consumption_std'] = log_energy_consumption_df.std(axis=1)\n",
        "\n",
        "test_uncertainty_df = test_uncertainty_df[['date', 'log_energy_consumption_mean', 'log_energy_consumption_std']]"
      ],
      "execution_count": null,
      "outputs": []
    },
    {
      "cell_type": "code",
      "metadata": {
        "id": "SNrb70dSdDH0"
      },
      "source": [
        "test_uncertainty_df['lower_bound'] = test_uncertainty_df['log_energy_consumption_mean'] - 3*test_uncertainty_df['log_energy_consumption_std']\n",
        "test_uncertainty_df['upper_bound'] = test_uncertainty_df['log_energy_consumption_mean'] + 3*test_uncertainty_df['log_energy_consumption_std']"
      ],
      "execution_count": null,
      "outputs": []
    },
    {
      "cell_type": "code",
      "metadata": {
        "id": "WdHylS8OdEHt",
        "colab": {
          "base_uri": "https://localhost:8080/",
          "height": 542
        },
        "outputId": "a366f060-d302-40e9-d065-19cdefcbddfb"
      },
      "source": [
        "import plotly.graph_objects as go\n",
        "\n",
        "test_uncertainty_plot_df = test_uncertainty_df.copy(deep=True)\n",
        "test_uncertainty_plot_df = test_uncertainty_plot_df.loc[test_uncertainty_plot_df['date'].between('2016-05-01', '2016-05-09')]\n",
        "truth_uncertainty_plot_df = testing_truth_df.copy(deep=True)\n",
        "truth_uncertainty_plot_df = truth_uncertainty_plot_df.loc[testing_truth_df['date'].between('2016-05-01', '2016-05-09')]\n",
        "\n",
        "upper_trace = go.Scatter(\n",
        "    x=test_uncertainty_plot_df['date'],\n",
        "    y=test_uncertainty_plot_df['upper_bound'],\n",
        "    mode='lines',\n",
        "    fill=None,\n",
        "    name='99% Upper Confidence Bound'\n",
        "    )\n",
        "lower_trace = go.Scatter(\n",
        "    x=test_uncertainty_plot_df['date'],\n",
        "    y=test_uncertainty_plot_df['lower_bound'],\n",
        "    mode='lines',\n",
        "    fill='tonexty',\n",
        "    fillcolor='rgba(255, 211, 0, 0.1)',\n",
        "    name='99% Lower Confidence Bound'\n",
        "    )\n",
        "real_trace = go.Scatter(\n",
        "    x=truth_uncertainty_plot_df['date'],\n",
        "    y=truth_uncertainty_plot_df['log_energy_consumption'],\n",
        "    mode='lines',\n",
        "    fill=None,\n",
        "    name='Real Values'\n",
        "    )\n",
        "\n",
        "data = [upper_trace, lower_trace, real_trace]\n",
        "\n",
        "fig = go.Figure(data=data)\n",
        "fig.update_layout(title='Uncertainty Quantification for Energy Consumption Test Data',\n",
        "                   xaxis_title='Time',\n",
        "                   yaxis_title='log_energy_consumption (log Wh)')\n",
        "\n",
        "fig.show()"
      ],
      "execution_count": null,
      "outputs": [
        {
          "output_type": "display_data",
          "data": {
            "text/html": [
              "<html>\n",
              "<head><meta charset=\"utf-8\" /></head>\n",
              "<body>\n",
              "    <div>\n",
              "            <script src=\"https://cdnjs.cloudflare.com/ajax/libs/mathjax/2.7.5/MathJax.js?config=TeX-AMS-MML_SVG\"></script><script type=\"text/javascript\">if (window.MathJax) {MathJax.Hub.Config({SVG: {font: \"STIX-Web\"}});}</script>\n",
              "                <script type=\"text/javascript\">window.PlotlyConfig = {MathJaxConfig: 'local'};</script>\n",
              "        <script src=\"https://cdn.plot.ly/plotly-latest.min.js\"></script>    \n",
              "            <div id=\"37fe3b73-c18b-4826-88eb-0e9876f7e18f\" class=\"plotly-graph-div\" style=\"height:525px; width:100%;\"></div>\n",
              "            <script type=\"text/javascript\">\n",
              "                \n",
              "                    window.PLOTLYENV=window.PLOTLYENV || {};\n",
              "                    \n",
              "                if (document.getElementById(\"37fe3b73-c18b-4826-88eb-0e9876f7e18f\")) {\n",
              "                    Plotly.newPlot(\n",
              "                        '37fe3b73-c18b-4826-88eb-0e9876f7e18f',\n",
              "                        [{\"mode\": \"lines\", \"name\": \"99% Upper Confidence Bound\", \"type\": \"scatter\", \"x\": [\"2016-05-01T00:00:00\", \"2016-05-01T01:00:00\", \"2016-05-01T02:00:00\", \"2016-05-01T03:00:00\", \"2016-05-01T04:00:00\", \"2016-05-01T05:00:00\", \"2016-05-01T06:00:00\", \"2016-05-01T07:00:00\", \"2016-05-01T08:00:00\", \"2016-05-01T09:00:00\", \"2016-05-01T10:00:00\", \"2016-05-01T11:00:00\", \"2016-05-01T12:00:00\", \"2016-05-01T13:00:00\", \"2016-05-01T14:00:00\", \"2016-05-01T15:00:00\", \"2016-05-01T16:00:00\", \"2016-05-01T17:00:00\", \"2016-05-01T18:00:00\", \"2016-05-01T19:00:00\", \"2016-05-01T20:00:00\", \"2016-05-01T21:00:00\", \"2016-05-01T22:00:00\", \"2016-05-01T23:00:00\", \"2016-05-02T00:00:00\", \"2016-05-02T01:00:00\", \"2016-05-02T02:00:00\", \"2016-05-02T03:00:00\", \"2016-05-02T04:00:00\", \"2016-05-02T05:00:00\", \"2016-05-02T06:00:00\", \"2016-05-02T07:00:00\", \"2016-05-02T08:00:00\", \"2016-05-02T09:00:00\", \"2016-05-02T10:00:00\", \"2016-05-02T11:00:00\", \"2016-05-02T12:00:00\", \"2016-05-02T13:00:00\", \"2016-05-02T14:00:00\", \"2016-05-02T15:00:00\", \"2016-05-02T16:00:00\", \"2016-05-02T17:00:00\", \"2016-05-02T18:00:00\", \"2016-05-02T19:00:00\", \"2016-05-02T20:00:00\", \"2016-05-02T21:00:00\", \"2016-05-02T22:00:00\", \"2016-05-02T23:00:00\", \"2016-05-03T00:00:00\", \"2016-05-03T01:00:00\", \"2016-05-03T02:00:00\", \"2016-05-03T03:00:00\", \"2016-05-03T04:00:00\", \"2016-05-03T05:00:00\", \"2016-05-03T06:00:00\", \"2016-05-03T07:00:00\", \"2016-05-03T08:00:00\", \"2016-05-03T09:00:00\", \"2016-05-03T10:00:00\", \"2016-05-03T11:00:00\", \"2016-05-03T12:00:00\", \"2016-05-03T13:00:00\", \"2016-05-03T14:00:00\", \"2016-05-03T15:00:00\", \"2016-05-03T16:00:00\", \"2016-05-03T17:00:00\", \"2016-05-03T18:00:00\", \"2016-05-03T19:00:00\", \"2016-05-03T20:00:00\", \"2016-05-03T21:00:00\", \"2016-05-03T22:00:00\", \"2016-05-03T23:00:00\", \"2016-05-04T00:00:00\", \"2016-05-04T01:00:00\", \"2016-05-04T02:00:00\", \"2016-05-04T03:00:00\", \"2016-05-04T04:00:00\", \"2016-05-04T05:00:00\", \"2016-05-04T06:00:00\", \"2016-05-04T07:00:00\", \"2016-05-04T08:00:00\", \"2016-05-04T09:00:00\", \"2016-05-04T10:00:00\", \"2016-05-04T11:00:00\", \"2016-05-04T12:00:00\", \"2016-05-04T13:00:00\", \"2016-05-04T14:00:00\", \"2016-05-04T15:00:00\", \"2016-05-04T16:00:00\", \"2016-05-04T17:00:00\", \"2016-05-04T18:00:00\", \"2016-05-04T19:00:00\", \"2016-05-04T20:00:00\", \"2016-05-04T21:00:00\", \"2016-05-04T22:00:00\", \"2016-05-04T23:00:00\", \"2016-05-05T00:00:00\", \"2016-05-05T01:00:00\", \"2016-05-05T02:00:00\", \"2016-05-05T03:00:00\", \"2016-05-05T04:00:00\", \"2016-05-05T05:00:00\", \"2016-05-05T06:00:00\", \"2016-05-05T07:00:00\", \"2016-05-05T08:00:00\", \"2016-05-05T09:00:00\", \"2016-05-05T10:00:00\", \"2016-05-05T11:00:00\", \"2016-05-05T12:00:00\", \"2016-05-05T13:00:00\", \"2016-05-05T14:00:00\", \"2016-05-05T15:00:00\", \"2016-05-05T16:00:00\", \"2016-05-05T17:00:00\", \"2016-05-05T18:00:00\", \"2016-05-05T19:00:00\", \"2016-05-05T20:00:00\", \"2016-05-05T21:00:00\", \"2016-05-05T22:00:00\", \"2016-05-05T23:00:00\", \"2016-05-06T00:00:00\", \"2016-05-06T01:00:00\", \"2016-05-06T02:00:00\", \"2016-05-06T03:00:00\", \"2016-05-06T04:00:00\", \"2016-05-06T05:00:00\", \"2016-05-06T06:00:00\", \"2016-05-06T07:00:00\", \"2016-05-06T08:00:00\", \"2016-05-06T09:00:00\", \"2016-05-06T10:00:00\", \"2016-05-06T11:00:00\", \"2016-05-06T12:00:00\", \"2016-05-06T13:00:00\", \"2016-05-06T14:00:00\", \"2016-05-06T15:00:00\", \"2016-05-06T16:00:00\", \"2016-05-06T17:00:00\", \"2016-05-06T18:00:00\", \"2016-05-06T19:00:00\", \"2016-05-06T20:00:00\", \"2016-05-06T21:00:00\", \"2016-05-06T22:00:00\", \"2016-05-06T23:00:00\", \"2016-05-07T00:00:00\", \"2016-05-07T01:00:00\", \"2016-05-07T02:00:00\", \"2016-05-07T03:00:00\", \"2016-05-07T04:00:00\", \"2016-05-07T05:00:00\", \"2016-05-07T06:00:00\", \"2016-05-07T07:00:00\", \"2016-05-07T08:00:00\", \"2016-05-07T09:00:00\", \"2016-05-07T10:00:00\", \"2016-05-07T11:00:00\", \"2016-05-07T12:00:00\", \"2016-05-07T13:00:00\", \"2016-05-07T14:00:00\", \"2016-05-07T15:00:00\", \"2016-05-07T16:00:00\", \"2016-05-07T17:00:00\", \"2016-05-07T18:00:00\", \"2016-05-07T19:00:00\", \"2016-05-07T20:00:00\", \"2016-05-07T21:00:00\", \"2016-05-07T22:00:00\", \"2016-05-07T23:00:00\", \"2016-05-08T00:00:00\", \"2016-05-08T01:00:00\", \"2016-05-08T02:00:00\", \"2016-05-08T03:00:00\", \"2016-05-08T04:00:00\", \"2016-05-08T05:00:00\", \"2016-05-08T06:00:00\", \"2016-05-08T07:00:00\", \"2016-05-08T08:00:00\", \"2016-05-08T09:00:00\", \"2016-05-08T10:00:00\", \"2016-05-08T11:00:00\", \"2016-05-08T12:00:00\", \"2016-05-08T13:00:00\", \"2016-05-08T14:00:00\", \"2016-05-08T15:00:00\", \"2016-05-08T16:00:00\", \"2016-05-08T17:00:00\", \"2016-05-08T18:00:00\", \"2016-05-08T19:00:00\", \"2016-05-08T20:00:00\", \"2016-05-08T21:00:00\", \"2016-05-08T22:00:00\", \"2016-05-08T23:00:00\", \"2016-05-09T00:00:00\"], \"y\": [4.170261859893799, 4.197155952453613, 4.127540588378906, 4.132317543029785, 4.144563674926758, 4.0932722091674805, 4.100139141082764, 4.977869510650635, 4.539700031280518, 5.83540678024292, 5.225558757781982, 4.528736591339111, 4.662059783935547, 6.1019606590271, 4.398575305938721, 5.27042293548584, 4.765939712524414, 5.469687461853027, 6.542372703552246, 5.135253429412842, 4.724652290344238, 4.360000133514404, 4.341171741485596, 4.355228900909424, 4.173304557800293, 4.165194511413574, 4.16829776763916, 4.1497883796691895, 4.102635860443115, 4.116765975952148, 4.40821647644043, 5.236602783203125, 5.026801109313965, 4.919135093688965, 4.544601917266846, 4.27147912979126, 4.278684616088867, 4.363646507263184, 5.250148773193359, 5.986412525177002, 4.786556720733643, 5.508400917053223, 6.4429755210876465, 6.409348487854004, 5.279505729675293, 4.675379753112793, 4.251123428344727, 4.2400641441345215, 4.230375289916992, 4.221512317657471, 4.154334545135498, 4.172966957092285, 4.167754173278809, 4.221184253692627, 4.472243309020996, 5.212205410003662, 4.673907279968262, 4.263371467590332, 4.235156536102295, 4.194887161254883, 4.160679340362549, 4.296967029571533, 4.135621547698975, 4.18942928314209, 4.693431377410889, 4.458897113800049, 5.699306011199951, 5.228577136993408, 5.248769760131836, 4.674951553344727, 4.204605579376221, 4.230759143829346, 4.164932727813721, 4.1543450355529785, 4.098632335662842, 4.1813154220581055, 4.174655437469482, 4.152581691741943, 4.375995635986328, 5.680325508117676, 4.872909069061279, 5.03670597076416, 5.934216022491455, 4.596822261810303, 4.5994391441345215, 4.673202037811279, 4.450693130493164, 5.397465229034424, 5.38817024230957, 4.866931915283203, 6.151374816894531, 5.259137153625488, 5.054712772369385, 4.857873439788818, 4.349742412567139, 4.19073486328125, 4.216177463531494, 4.188451766967773, 4.177813529968262, 4.195652961730957, 4.198043346405029, 4.267920970916748, 4.180428504943848, 4.264304161071777, 5.795153617858887, 4.90660285949707, 6.796728610992432, 5.473059177398682, 5.182666778564453, 5.006106853485107, 4.653302192687988, 5.244871616363525, 4.708464622497559, 6.304981231689453, 5.40110445022583, 6.020026206970215, 5.221940994262695, 4.312814235687256, 4.193704605102539, 4.173707962036133, 4.221719741821289, 4.198517322540283, 4.158640384674072, 4.157543659210205, 4.101343154907227, 4.268170356750488, 4.288552761077881, 4.526310920715332, 6.043712615966797, 5.400608539581299, 6.11761474609375, 4.842476844787598, 5.5343499183654785, 4.939723491668701, 5.534935474395752, 5.1927032470703125, 6.33713960647583, 5.88740348815918, 4.8502702713012695, 5.279398441314697, 5.8782525062561035, 4.8555474281311035, 4.325179576873779, 4.1968159675598145, 4.203192710876465, 4.176355838775635, 4.188838481903076, 4.122995376586914, 4.192882537841797, 4.213069915771484, 4.68393611907959, 4.338071823120117, 5.771915912628174, 6.4344000816345215, 5.182650089263916, 5.72533655166626, 5.591362953186035, 4.843579292297363, 4.832403182983398, 4.8039140701293945, 6.024867534637451, 6.265989303588867, 5.301967144012451, 5.427180290222168, 5.2150092124938965, 5.028569221496582, 4.471858978271484, 4.195261001586914, 4.185366153717041, 4.145359039306641, 4.167901039123535, 4.141568660736084, 4.160379409790039, 4.182566165924072, 5.200201511383057, 4.413815498352051, 4.586212635040283, 5.751150131225586, 6.268855094909668, 4.851171493530273, 4.94378137588501, 4.241830348968506, 4.1906538009643555, 4.342731475830078, 4.313211917877197, 4.592904567718506, 5.205539703369141, 4.403106689453125, 4.469280242919922, 4.565767765045166, 4.340533256530762, 4.1827569007873535, 4.154587268829346]}, {\"fill\": \"tonexty\", \"fillcolor\": \"rgba(255, 211, 0, 0.1)\", \"mode\": \"lines\", \"name\": \"99% Lower Confidence Bound\", \"type\": \"scatter\", \"x\": [\"2016-05-01T00:00:00\", \"2016-05-01T01:00:00\", \"2016-05-01T02:00:00\", \"2016-05-01T03:00:00\", \"2016-05-01T04:00:00\", \"2016-05-01T05:00:00\", \"2016-05-01T06:00:00\", \"2016-05-01T07:00:00\", \"2016-05-01T08:00:00\", \"2016-05-01T09:00:00\", \"2016-05-01T10:00:00\", \"2016-05-01T11:00:00\", \"2016-05-01T12:00:00\", \"2016-05-01T13:00:00\", \"2016-05-01T14:00:00\", \"2016-05-01T15:00:00\", \"2016-05-01T16:00:00\", \"2016-05-01T17:00:00\", \"2016-05-01T18:00:00\", \"2016-05-01T19:00:00\", \"2016-05-01T20:00:00\", \"2016-05-01T21:00:00\", \"2016-05-01T22:00:00\", \"2016-05-01T23:00:00\", \"2016-05-02T00:00:00\", \"2016-05-02T01:00:00\", \"2016-05-02T02:00:00\", \"2016-05-02T03:00:00\", \"2016-05-02T04:00:00\", \"2016-05-02T05:00:00\", \"2016-05-02T06:00:00\", \"2016-05-02T07:00:00\", \"2016-05-02T08:00:00\", \"2016-05-02T09:00:00\", \"2016-05-02T10:00:00\", \"2016-05-02T11:00:00\", \"2016-05-02T12:00:00\", \"2016-05-02T13:00:00\", \"2016-05-02T14:00:00\", \"2016-05-02T15:00:00\", \"2016-05-02T16:00:00\", \"2016-05-02T17:00:00\", \"2016-05-02T18:00:00\", \"2016-05-02T19:00:00\", \"2016-05-02T20:00:00\", \"2016-05-02T21:00:00\", \"2016-05-02T22:00:00\", \"2016-05-02T23:00:00\", \"2016-05-03T00:00:00\", \"2016-05-03T01:00:00\", \"2016-05-03T02:00:00\", \"2016-05-03T03:00:00\", \"2016-05-03T04:00:00\", \"2016-05-03T05:00:00\", \"2016-05-03T06:00:00\", \"2016-05-03T07:00:00\", \"2016-05-03T08:00:00\", \"2016-05-03T09:00:00\", \"2016-05-03T10:00:00\", \"2016-05-03T11:00:00\", \"2016-05-03T12:00:00\", \"2016-05-03T13:00:00\", \"2016-05-03T14:00:00\", \"2016-05-03T15:00:00\", \"2016-05-03T16:00:00\", \"2016-05-03T17:00:00\", \"2016-05-03T18:00:00\", \"2016-05-03T19:00:00\", \"2016-05-03T20:00:00\", \"2016-05-03T21:00:00\", \"2016-05-03T22:00:00\", \"2016-05-03T23:00:00\", \"2016-05-04T00:00:00\", \"2016-05-04T01:00:00\", \"2016-05-04T02:00:00\", \"2016-05-04T03:00:00\", \"2016-05-04T04:00:00\", \"2016-05-04T05:00:00\", \"2016-05-04T06:00:00\", \"2016-05-04T07:00:00\", \"2016-05-04T08:00:00\", \"2016-05-04T09:00:00\", \"2016-05-04T10:00:00\", \"2016-05-04T11:00:00\", \"2016-05-04T12:00:00\", \"2016-05-04T13:00:00\", \"2016-05-04T14:00:00\", \"2016-05-04T15:00:00\", \"2016-05-04T16:00:00\", \"2016-05-04T17:00:00\", \"2016-05-04T18:00:00\", \"2016-05-04T19:00:00\", \"2016-05-04T20:00:00\", \"2016-05-04T21:00:00\", \"2016-05-04T22:00:00\", \"2016-05-04T23:00:00\", \"2016-05-05T00:00:00\", \"2016-05-05T01:00:00\", \"2016-05-05T02:00:00\", \"2016-05-05T03:00:00\", \"2016-05-05T04:00:00\", \"2016-05-05T05:00:00\", \"2016-05-05T06:00:00\", \"2016-05-05T07:00:00\", \"2016-05-05T08:00:00\", \"2016-05-05T09:00:00\", \"2016-05-05T10:00:00\", \"2016-05-05T11:00:00\", \"2016-05-05T12:00:00\", \"2016-05-05T13:00:00\", \"2016-05-05T14:00:00\", \"2016-05-05T15:00:00\", \"2016-05-05T16:00:00\", \"2016-05-05T17:00:00\", \"2016-05-05T18:00:00\", \"2016-05-05T19:00:00\", \"2016-05-05T20:00:00\", \"2016-05-05T21:00:00\", \"2016-05-05T22:00:00\", \"2016-05-05T23:00:00\", \"2016-05-06T00:00:00\", \"2016-05-06T01:00:00\", \"2016-05-06T02:00:00\", \"2016-05-06T03:00:00\", \"2016-05-06T04:00:00\", \"2016-05-06T05:00:00\", \"2016-05-06T06:00:00\", \"2016-05-06T07:00:00\", \"2016-05-06T08:00:00\", \"2016-05-06T09:00:00\", \"2016-05-06T10:00:00\", \"2016-05-06T11:00:00\", \"2016-05-06T12:00:00\", \"2016-05-06T13:00:00\", \"2016-05-06T14:00:00\", \"2016-05-06T15:00:00\", \"2016-05-06T16:00:00\", \"2016-05-06T17:00:00\", \"2016-05-06T18:00:00\", \"2016-05-06T19:00:00\", \"2016-05-06T20:00:00\", \"2016-05-06T21:00:00\", \"2016-05-06T22:00:00\", \"2016-05-06T23:00:00\", \"2016-05-07T00:00:00\", \"2016-05-07T01:00:00\", \"2016-05-07T02:00:00\", \"2016-05-07T03:00:00\", \"2016-05-07T04:00:00\", \"2016-05-07T05:00:00\", \"2016-05-07T06:00:00\", \"2016-05-07T07:00:00\", \"2016-05-07T08:00:00\", \"2016-05-07T09:00:00\", \"2016-05-07T10:00:00\", \"2016-05-07T11:00:00\", \"2016-05-07T12:00:00\", \"2016-05-07T13:00:00\", \"2016-05-07T14:00:00\", \"2016-05-07T15:00:00\", \"2016-05-07T16:00:00\", \"2016-05-07T17:00:00\", \"2016-05-07T18:00:00\", \"2016-05-07T19:00:00\", \"2016-05-07T20:00:00\", \"2016-05-07T21:00:00\", \"2016-05-07T22:00:00\", \"2016-05-07T23:00:00\", \"2016-05-08T00:00:00\", \"2016-05-08T01:00:00\", \"2016-05-08T02:00:00\", \"2016-05-08T03:00:00\", \"2016-05-08T04:00:00\", \"2016-05-08T05:00:00\", \"2016-05-08T06:00:00\", \"2016-05-08T07:00:00\", \"2016-05-08T08:00:00\", \"2016-05-08T09:00:00\", \"2016-05-08T10:00:00\", \"2016-05-08T11:00:00\", \"2016-05-08T12:00:00\", \"2016-05-08T13:00:00\", \"2016-05-08T14:00:00\", \"2016-05-08T15:00:00\", \"2016-05-08T16:00:00\", \"2016-05-08T17:00:00\", \"2016-05-08T18:00:00\", \"2016-05-08T19:00:00\", \"2016-05-08T20:00:00\", \"2016-05-08T21:00:00\", \"2016-05-08T22:00:00\", \"2016-05-08T23:00:00\", \"2016-05-09T00:00:00\"], \"y\": [3.6681454181671143, 3.595691204071045, 3.4441022872924805, 3.4518420696258545, 3.5302581787109375, 3.501007556915283, 3.5712382793426514, 4.041906833648682, 4.0087409019470215, 4.599865436553955, 4.328121662139893, 3.765470027923584, 4.093305587768555, 4.755636692047119, 3.597363233566284, 4.443819046020508, 4.272003173828125, 4.665151596069336, 4.9517316818237305, 4.529459476470947, 4.064523696899414, 3.8592276573181152, 3.9171736240386963, 3.889958620071411, 3.734811544418335, 3.625946044921875, 3.5676231384277344, 3.6210989952087402, 3.396799087524414, 3.4825878143310547, 3.464312791824341, 4.3101654052734375, 4.275210380554199, 3.93550968170166, 3.7843594551086426, 3.7618143558502197, 3.8077220916748047, 3.6370275020599365, 4.519597053527832, 4.64574670791626, 4.344624996185303, 4.6417083740234375, 4.918156147003174, 4.9728240966796875, 4.532896995544434, 4.063614845275879, 3.8194525241851807, 3.8009610176086426, 3.66483211517334, 3.6221978664398193, 3.5267233848571777, 3.6966474056243896, 3.4908666610717773, 3.7372758388519287, 3.9239492416381836, 4.331151485443115, 4.043365478515625, 3.4913909435272217, 3.6302738189697266, 3.6271910667419434, 3.611217498779297, 3.739793300628662, 3.540383815765381, 3.6759259700775146, 3.6357760429382324, 3.900883913040161, 4.682469844818115, 4.5845818519592285, 4.566804885864258, 4.020841598510742, 3.7858774662017822, 3.6313347816467285, 3.6674153804779053, 3.633246898651123, 3.3733410835266113, 3.601775884628296, 3.631263494491577, 3.6761388778686523, 3.7671260833740234, 4.635693550109863, 3.7326016426086426, 4.271075248718262, 4.699343204498291, 3.8239433765411377, 4.029548168182373, 4.06055212020874, 4.006814956665039, 4.536561489105225, 4.540780067443848, 4.290803909301758, 4.832887649536133, 4.573939323425293, 4.5048041343688965, 4.3957905769348145, 3.8718552589416504, 3.770814895629883, 3.7580130100250244, 3.6256637573242188, 3.5092196464538574, 3.4664430618286133, 3.6155271530151367, 3.82047700881958, 3.7107934951782227, 3.7717342376708984, 4.669857025146484, 3.985592842102051, 5.150302410125732, 4.573112964630127, 4.458062171936035, 4.3321852684021, 3.6268043518066406, 4.350953578948975, 4.286420822143555, 4.8473405838012695, 4.413364887237549, 4.722803115844727, 4.560949325561523, 3.8705241680145264, 3.592611074447632, 3.670959949493408, 3.7350802421569824, 3.6579065322875977, 3.5566587448120117, 3.55049467086792, 3.6523475646972656, 3.742304563522339, 3.7833454608917236, 4.126699447631836, 4.801349639892578, 4.0827107429504395, 4.650759696960449, 4.132803916931152, 4.382726192474365, 4.329723834991455, 4.5091166496276855, 4.435876846313477, 4.603072643280029, 4.737265586853027, 4.2989959716796875, 4.582852840423584, 4.743720531463623, 4.4224066734313965, 3.8872227668762207, 3.687803030014038, 3.710933208465576, 3.683073043823242, 3.540036201477051, 3.6703968048095703, 3.6600592136383057, 3.801006317138672, 4.037205696105957, 3.956902503967285, 4.590240001678467, 4.997653484344482, 4.41504430770874, 4.663675785064697, 4.542165756225586, 4.224501609802246, 4.322928428649902, 4.308717727661133, 4.8075337409973145, 4.911008834838867, 4.532144069671631, 4.624833106994629, 4.555251598358154, 4.468315124511719, 3.7626218795776367, 3.793560028076172, 3.740164279937744, 3.713237762451172, 3.5824825763702393, 3.591649055480957, 3.6899750232696533, 3.713493824005127, 4.336538791656494, 4.031325340270996, 4.1022257804870605, 4.608585357666016, 4.779231071472168, 4.188154220581055, 3.6102139949798584, 3.638397216796875, 3.7171590328216553, 3.9911317825317383, 3.9348318576812744, 4.124660015106201, 4.285840034484863, 3.8378102779388428, 3.8119189739227295, 3.988422155380249, 3.806321144104004, 3.670078754425049, 3.6917502880096436]}, {\"mode\": \"lines\", \"name\": \"Real Values\", \"type\": \"scatter\", \"x\": [\"2016-05-01T00:00:00\", \"2016-05-01T01:00:00\", \"2016-05-01T02:00:00\", \"2016-05-01T03:00:00\", \"2016-05-01T04:00:00\", \"2016-05-01T05:00:00\", \"2016-05-01T06:00:00\", \"2016-05-01T07:00:00\", \"2016-05-01T08:00:00\", \"2016-05-01T09:00:00\", \"2016-05-01T10:00:00\", \"2016-05-01T11:00:00\", \"2016-05-01T12:00:00\", \"2016-05-01T13:00:00\", \"2016-05-01T14:00:00\", \"2016-05-01T15:00:00\", \"2016-05-01T16:00:00\", \"2016-05-01T17:00:00\", \"2016-05-01T18:00:00\", \"2016-05-01T19:00:00\", \"2016-05-01T20:00:00\", \"2016-05-01T21:00:00\", \"2016-05-01T22:00:00\", \"2016-05-01T23:00:00\", \"2016-05-02T00:00:00\", \"2016-05-02T01:00:00\", \"2016-05-02T02:00:00\", \"2016-05-02T03:00:00\", \"2016-05-02T04:00:00\", \"2016-05-02T05:00:00\", \"2016-05-02T06:00:00\", \"2016-05-02T07:00:00\", \"2016-05-02T08:00:00\", \"2016-05-02T09:00:00\", \"2016-05-02T10:00:00\", \"2016-05-02T11:00:00\", \"2016-05-02T12:00:00\", \"2016-05-02T13:00:00\", \"2016-05-02T14:00:00\", \"2016-05-02T15:00:00\", \"2016-05-02T16:00:00\", \"2016-05-02T17:00:00\", \"2016-05-02T18:00:00\", \"2016-05-02T19:00:00\", \"2016-05-02T20:00:00\", \"2016-05-02T21:00:00\", \"2016-05-02T22:00:00\", \"2016-05-02T23:00:00\", \"2016-05-03T00:00:00\", \"2016-05-03T01:00:00\", \"2016-05-03T02:00:00\", \"2016-05-03T03:00:00\", \"2016-05-03T04:00:00\", \"2016-05-03T05:00:00\", \"2016-05-03T06:00:00\", \"2016-05-03T07:00:00\", \"2016-05-03T08:00:00\", \"2016-05-03T09:00:00\", \"2016-05-03T10:00:00\", \"2016-05-03T11:00:00\", \"2016-05-03T12:00:00\", \"2016-05-03T13:00:00\", \"2016-05-03T14:00:00\", \"2016-05-03T15:00:00\", \"2016-05-03T16:00:00\", \"2016-05-03T17:00:00\", \"2016-05-03T18:00:00\", \"2016-05-03T19:00:00\", \"2016-05-03T20:00:00\", \"2016-05-03T21:00:00\", \"2016-05-03T22:00:00\", \"2016-05-03T23:00:00\", \"2016-05-04T00:00:00\", \"2016-05-04T01:00:00\", \"2016-05-04T02:00:00\", \"2016-05-04T03:00:00\", \"2016-05-04T04:00:00\", \"2016-05-04T05:00:00\", \"2016-05-04T06:00:00\", \"2016-05-04T07:00:00\", \"2016-05-04T08:00:00\", \"2016-05-04T09:00:00\", \"2016-05-04T10:00:00\", \"2016-05-04T11:00:00\", \"2016-05-04T12:00:00\", \"2016-05-04T13:00:00\", \"2016-05-04T14:00:00\", \"2016-05-04T15:00:00\", \"2016-05-04T16:00:00\", \"2016-05-04T17:00:00\", \"2016-05-04T18:00:00\", \"2016-05-04T19:00:00\", \"2016-05-04T20:00:00\", \"2016-05-04T21:00:00\", \"2016-05-04T22:00:00\", \"2016-05-04T23:00:00\", \"2016-05-05T00:00:00\", \"2016-05-05T01:00:00\", \"2016-05-05T02:00:00\", \"2016-05-05T03:00:00\", \"2016-05-05T04:00:00\", \"2016-05-05T05:00:00\", \"2016-05-05T06:00:00\", \"2016-05-05T07:00:00\", \"2016-05-05T08:00:00\", \"2016-05-05T09:00:00\", \"2016-05-05T10:00:00\", \"2016-05-05T11:00:00\", \"2016-05-05T12:00:00\", \"2016-05-05T13:00:00\", \"2016-05-05T14:00:00\", \"2016-05-05T15:00:00\", \"2016-05-05T16:00:00\", \"2016-05-05T17:00:00\", \"2016-05-05T18:00:00\", \"2016-05-05T19:00:00\", \"2016-05-05T20:00:00\", \"2016-05-05T21:00:00\", \"2016-05-05T22:00:00\", \"2016-05-05T23:00:00\", \"2016-05-06T00:00:00\", \"2016-05-06T01:00:00\", \"2016-05-06T02:00:00\", \"2016-05-06T03:00:00\", \"2016-05-06T04:00:00\", \"2016-05-06T05:00:00\", \"2016-05-06T06:00:00\", \"2016-05-06T07:00:00\", \"2016-05-06T08:00:00\", \"2016-05-06T09:00:00\", \"2016-05-06T10:00:00\", \"2016-05-06T11:00:00\", \"2016-05-06T12:00:00\", \"2016-05-06T13:00:00\", \"2016-05-06T14:00:00\", \"2016-05-06T15:00:00\", \"2016-05-06T16:00:00\", \"2016-05-06T17:00:00\", \"2016-05-06T18:00:00\", \"2016-05-06T19:00:00\", \"2016-05-06T20:00:00\", \"2016-05-06T21:00:00\", \"2016-05-06T22:00:00\", \"2016-05-06T23:00:00\", \"2016-05-07T00:00:00\", \"2016-05-07T01:00:00\", \"2016-05-07T02:00:00\", \"2016-05-07T03:00:00\", \"2016-05-07T04:00:00\", \"2016-05-07T05:00:00\", \"2016-05-07T06:00:00\", \"2016-05-07T07:00:00\", \"2016-05-07T08:00:00\", \"2016-05-07T09:00:00\", \"2016-05-07T10:00:00\", \"2016-05-07T11:00:00\", \"2016-05-07T12:00:00\", \"2016-05-07T13:00:00\", \"2016-05-07T14:00:00\", \"2016-05-07T15:00:00\", \"2016-05-07T16:00:00\", \"2016-05-07T17:00:00\", \"2016-05-07T18:00:00\", \"2016-05-07T19:00:00\", \"2016-05-07T20:00:00\", \"2016-05-07T21:00:00\", \"2016-05-07T22:00:00\", \"2016-05-07T23:00:00\", \"2016-05-08T00:00:00\", \"2016-05-08T01:00:00\", \"2016-05-08T02:00:00\", \"2016-05-08T03:00:00\", \"2016-05-08T04:00:00\", \"2016-05-08T05:00:00\", \"2016-05-08T06:00:00\", \"2016-05-08T07:00:00\", \"2016-05-08T08:00:00\", \"2016-05-08T09:00:00\", \"2016-05-08T10:00:00\", \"2016-05-08T11:00:00\", \"2016-05-08T12:00:00\", \"2016-05-08T13:00:00\", \"2016-05-08T14:00:00\", \"2016-05-08T15:00:00\", \"2016-05-08T16:00:00\", \"2016-05-08T17:00:00\", \"2016-05-08T18:00:00\", \"2016-05-08T19:00:00\", \"2016-05-08T20:00:00\", \"2016-05-08T21:00:00\", \"2016-05-08T22:00:00\", \"2016-05-08T23:00:00\", \"2016-05-09T00:00:00\"], \"y\": [3.9448128282511368, 4.007333185232471, 3.8781214537524646, 3.7297014486341915, 3.9765615265657175, 3.9448128282511368, 3.9765615265657175, 4.0661736852554045, 4.442651256490317, 4.499809670330265, 4.148411783492376, 4.518158808998462, 4.5712686343124105, 4.360973225476049, 4.685212893661628, 4.653960350157523, 5.3706380281276624, 5.714832310842786, 5.604575824572753, 4.75932086581535, 4.669708707125663, 4.442651256490317, 4.248495242049359, 3.8781214537524646, 4.007333185232471, 3.9448128282511368, 3.6888794541139363, 3.9765615265657175, 3.9448128282511368, 4.637960008811082, 4.339467020255086, 5.135798437050262, 3.9765615265657175, 4.007333185232471, 3.9765615265657175, 3.9448128282511368, 4.402645921876617, 4.402645921876617, 4.382026634673881, 4.402645921876617, 4.653960350157523, 5.579729825986222, 4.841558964052322, 4.90527477843843, 4.700480365792417, 3.9765615265657175, 4.174387269895637, 4.007333185232471, 4.007333185232471, 3.6463198396951406, 3.9765615265657175, 3.9765615265657175, 3.912023005428146, 3.9448128282511368, 4.2243976904702984, 3.912023005428146, 4.007333185232471, 3.6888794541139363, 3.9448128282511368, 3.9765615265657175, 3.9765615265657175, 3.6888794541139363, 4.037186148382152, 3.912023005428146, 4.174387269895637, 5.501258210544727, 4.892852258439873, 4.929666231562589, 4.773505500807306, 4.037186148382152, 4.007333185232471, 3.7297014486341915, 3.9448128282511368, 3.9765615265657175, 4.007333185232471, 3.6463198396951406, 3.912023005428146, 4.199705077879927, 4.74493212836325, 4.0943445622221, 5.1647859739235145, 4.272025739459553, 4.422848629194137, 4.339467020255086, 4.174387269895637, 4.248495242049359, 4.248495242049359, 4.2243976904702984, 4.402645921876617, 4.7303333289420975, 4.892852258439873, 4.715518243156957, 4.605170185988092, 4.31748811353631, 4.007333185232471, 4.007333185232471, 3.6888794541139363, 4.037186148382152, 3.9448128282511368, 4.007333185232471, 3.9448128282511368, 3.6463198396951406, 4.0661736852554045, 5.115995809754082, 5.155216522907363, 4.442651256490317, 4.5712686343124105, 4.481117537318112, 4.637960008811082, 3.7297014486341915, 4.007333185232471, 4.0661736852554045, 3.9448128282511368, 5.314846668499247, 5.085536602269373, 4.58836306767171, 4.58836306767171, 4.272025739459553, 4.037186148382152, 4.007333185232471, 3.7297014486341915, 4.0661736852554045, 3.912023005428146, 4.0661736852554045, 3.912023005428146, 3.9448128282511368, 4.295015257684252, 5.508037897530106, 4.553876891600541, 5.610692051590189, 4.499809670330265, 4.700480365792417, 4.929666231562589, 4.382026634673881, 5.075173815233827, 4.31748811353631, 4.248495242049359, 4.53617731450114, 5.174264717878057, 4.841558964052322, 4.75932086581535, 4.272025739459553, 3.9765615265657175, 4.0661736852554045, 3.9448128282511368, 4.037186148382152, 3.9765615265657175, 4.007333185232471, 4.007333185232471, 3.9448128282511368, 3.9765615265657175, 4.999461993498131, 4.8012850649143815, 5.032614200815031, 5.183654458227897, 5.085536602269373, 4.4620693423474185, 4.31748811353631, 4.481117537318112, 4.637960008811082, 4.518158808998462, 4.422848629194137, 5.652489180268651, 4.787491742782046, 4.4620693423474185, 4.037186148382152, 4.0661736852554045, 4.037186148382152, 4.0661736852554045, 3.9448128282511368, 4.007333185232471, 4.037186148382152, 3.912023005428146, 4.037186148382152, 3.912023005428146, 4.0943445622221, 5.211305989558407, 4.965172920019499, 4.90527477843843, 3.912023005428146, 4.037186148382152, 4.037186148382152, 4.037186148382152, 3.912023005428146, 4.007333185232471, 4.037186148382152, 3.912023005428146, 4.0943445622221, 4.360973225476049, 4.148411783492376, 4.0661736852554045, 3.9765615265657175, 4.007333185232471]}],\n",
              "                        {\"template\": {\"data\": {\"bar\": [{\"error_x\": {\"color\": \"#2a3f5f\"}, \"error_y\": {\"color\": \"#2a3f5f\"}, \"marker\": {\"line\": {\"color\": \"#E5ECF6\", \"width\": 0.5}}, \"type\": \"bar\"}], \"barpolar\": [{\"marker\": {\"line\": {\"color\": \"#E5ECF6\", \"width\": 0.5}}, \"type\": \"barpolar\"}], \"carpet\": [{\"aaxis\": {\"endlinecolor\": \"#2a3f5f\", \"gridcolor\": \"white\", \"linecolor\": \"white\", \"minorgridcolor\": \"white\", \"startlinecolor\": \"#2a3f5f\"}, \"baxis\": {\"endlinecolor\": \"#2a3f5f\", \"gridcolor\": \"white\", \"linecolor\": \"white\", \"minorgridcolor\": \"white\", \"startlinecolor\": \"#2a3f5f\"}, \"type\": \"carpet\"}], \"choropleth\": [{\"colorbar\": {\"outlinewidth\": 0, \"ticks\": \"\"}, \"type\": \"choropleth\"}], \"contour\": [{\"colorbar\": {\"outlinewidth\": 0, \"ticks\": \"\"}, \"colorscale\": [[0.0, \"#0d0887\"], [0.1111111111111111, \"#46039f\"], [0.2222222222222222, \"#7201a8\"], [0.3333333333333333, \"#9c179e\"], [0.4444444444444444, \"#bd3786\"], [0.5555555555555556, \"#d8576b\"], [0.6666666666666666, \"#ed7953\"], [0.7777777777777778, \"#fb9f3a\"], [0.8888888888888888, \"#fdca26\"], [1.0, \"#f0f921\"]], \"type\": \"contour\"}], \"contourcarpet\": [{\"colorbar\": {\"outlinewidth\": 0, \"ticks\": \"\"}, \"type\": \"contourcarpet\"}], \"heatmap\": [{\"colorbar\": {\"outlinewidth\": 0, \"ticks\": \"\"}, \"colorscale\": [[0.0, \"#0d0887\"], [0.1111111111111111, \"#46039f\"], [0.2222222222222222, \"#7201a8\"], [0.3333333333333333, \"#9c179e\"], [0.4444444444444444, \"#bd3786\"], [0.5555555555555556, \"#d8576b\"], [0.6666666666666666, \"#ed7953\"], [0.7777777777777778, \"#fb9f3a\"], [0.8888888888888888, \"#fdca26\"], [1.0, \"#f0f921\"]], \"type\": \"heatmap\"}], \"heatmapgl\": [{\"colorbar\": {\"outlinewidth\": 0, \"ticks\": \"\"}, \"colorscale\": [[0.0, \"#0d0887\"], [0.1111111111111111, \"#46039f\"], [0.2222222222222222, \"#7201a8\"], [0.3333333333333333, \"#9c179e\"], [0.4444444444444444, \"#bd3786\"], [0.5555555555555556, \"#d8576b\"], [0.6666666666666666, \"#ed7953\"], [0.7777777777777778, \"#fb9f3a\"], [0.8888888888888888, \"#fdca26\"], [1.0, \"#f0f921\"]], \"type\": \"heatmapgl\"}], \"histogram\": [{\"marker\": {\"colorbar\": {\"outlinewidth\": 0, \"ticks\": \"\"}}, \"type\": \"histogram\"}], \"histogram2d\": [{\"colorbar\": {\"outlinewidth\": 0, \"ticks\": \"\"}, \"colorscale\": [[0.0, \"#0d0887\"], [0.1111111111111111, \"#46039f\"], [0.2222222222222222, \"#7201a8\"], [0.3333333333333333, \"#9c179e\"], [0.4444444444444444, \"#bd3786\"], [0.5555555555555556, \"#d8576b\"], [0.6666666666666666, \"#ed7953\"], [0.7777777777777778, \"#fb9f3a\"], [0.8888888888888888, \"#fdca26\"], [1.0, \"#f0f921\"]], \"type\": \"histogram2d\"}], \"histogram2dcontour\": [{\"colorbar\": {\"outlinewidth\": 0, \"ticks\": \"\"}, \"colorscale\": [[0.0, \"#0d0887\"], [0.1111111111111111, \"#46039f\"], [0.2222222222222222, \"#7201a8\"], [0.3333333333333333, \"#9c179e\"], [0.4444444444444444, \"#bd3786\"], [0.5555555555555556, \"#d8576b\"], [0.6666666666666666, \"#ed7953\"], [0.7777777777777778, \"#fb9f3a\"], [0.8888888888888888, \"#fdca26\"], [1.0, \"#f0f921\"]], \"type\": \"histogram2dcontour\"}], \"mesh3d\": [{\"colorbar\": {\"outlinewidth\": 0, \"ticks\": \"\"}, \"type\": \"mesh3d\"}], \"parcoords\": [{\"line\": {\"colorbar\": {\"outlinewidth\": 0, \"ticks\": \"\"}}, \"type\": \"parcoords\"}], \"pie\": [{\"automargin\": true, \"type\": \"pie\"}], \"scatter\": [{\"marker\": {\"colorbar\": {\"outlinewidth\": 0, \"ticks\": \"\"}}, \"type\": \"scatter\"}], \"scatter3d\": [{\"line\": {\"colorbar\": {\"outlinewidth\": 0, \"ticks\": \"\"}}, \"marker\": {\"colorbar\": {\"outlinewidth\": 0, \"ticks\": \"\"}}, \"type\": \"scatter3d\"}], \"scattercarpet\": [{\"marker\": {\"colorbar\": {\"outlinewidth\": 0, \"ticks\": \"\"}}, \"type\": \"scattercarpet\"}], \"scattergeo\": [{\"marker\": {\"colorbar\": {\"outlinewidth\": 0, \"ticks\": \"\"}}, \"type\": \"scattergeo\"}], \"scattergl\": [{\"marker\": {\"colorbar\": {\"outlinewidth\": 0, \"ticks\": \"\"}}, \"type\": \"scattergl\"}], \"scattermapbox\": [{\"marker\": {\"colorbar\": {\"outlinewidth\": 0, \"ticks\": \"\"}}, \"type\": \"scattermapbox\"}], \"scatterpolar\": [{\"marker\": {\"colorbar\": {\"outlinewidth\": 0, \"ticks\": \"\"}}, \"type\": \"scatterpolar\"}], \"scatterpolargl\": [{\"marker\": {\"colorbar\": {\"outlinewidth\": 0, \"ticks\": \"\"}}, \"type\": \"scatterpolargl\"}], \"scatterternary\": [{\"marker\": {\"colorbar\": {\"outlinewidth\": 0, \"ticks\": \"\"}}, \"type\": \"scatterternary\"}], \"surface\": [{\"colorbar\": {\"outlinewidth\": 0, \"ticks\": \"\"}, \"colorscale\": [[0.0, \"#0d0887\"], [0.1111111111111111, \"#46039f\"], [0.2222222222222222, \"#7201a8\"], [0.3333333333333333, \"#9c179e\"], [0.4444444444444444, \"#bd3786\"], [0.5555555555555556, \"#d8576b\"], [0.6666666666666666, \"#ed7953\"], [0.7777777777777778, \"#fb9f3a\"], [0.8888888888888888, \"#fdca26\"], [1.0, \"#f0f921\"]], \"type\": \"surface\"}], \"table\": [{\"cells\": {\"fill\": {\"color\": \"#EBF0F8\"}, \"line\": {\"color\": \"white\"}}, \"header\": {\"fill\": {\"color\": \"#C8D4E3\"}, \"line\": {\"color\": \"white\"}}, \"type\": \"table\"}]}, \"layout\": {\"annotationdefaults\": {\"arrowcolor\": \"#2a3f5f\", \"arrowhead\": 0, \"arrowwidth\": 1}, \"coloraxis\": {\"colorbar\": {\"outlinewidth\": 0, \"ticks\": \"\"}}, \"colorscale\": {\"diverging\": [[0, \"#8e0152\"], [0.1, \"#c51b7d\"], [0.2, \"#de77ae\"], [0.3, \"#f1b6da\"], [0.4, \"#fde0ef\"], [0.5, \"#f7f7f7\"], [0.6, \"#e6f5d0\"], [0.7, \"#b8e186\"], [0.8, \"#7fbc41\"], [0.9, \"#4d9221\"], [1, \"#276419\"]], \"sequential\": [[0.0, \"#0d0887\"], [0.1111111111111111, \"#46039f\"], [0.2222222222222222, \"#7201a8\"], [0.3333333333333333, \"#9c179e\"], [0.4444444444444444, \"#bd3786\"], [0.5555555555555556, \"#d8576b\"], [0.6666666666666666, \"#ed7953\"], [0.7777777777777778, \"#fb9f3a\"], [0.8888888888888888, \"#fdca26\"], [1.0, \"#f0f921\"]], \"sequentialminus\": [[0.0, \"#0d0887\"], [0.1111111111111111, \"#46039f\"], [0.2222222222222222, \"#7201a8\"], [0.3333333333333333, \"#9c179e\"], [0.4444444444444444, \"#bd3786\"], [0.5555555555555556, \"#d8576b\"], [0.6666666666666666, \"#ed7953\"], [0.7777777777777778, \"#fb9f3a\"], [0.8888888888888888, \"#fdca26\"], [1.0, \"#f0f921\"]]}, \"colorway\": [\"#636efa\", \"#EF553B\", \"#00cc96\", \"#ab63fa\", \"#FFA15A\", \"#19d3f3\", \"#FF6692\", \"#B6E880\", \"#FF97FF\", \"#FECB52\"], \"font\": {\"color\": \"#2a3f5f\"}, \"geo\": {\"bgcolor\": \"white\", \"lakecolor\": \"white\", \"landcolor\": \"#E5ECF6\", \"showlakes\": true, \"showland\": true, \"subunitcolor\": \"white\"}, \"hoverlabel\": {\"align\": \"left\"}, \"hovermode\": \"closest\", \"mapbox\": {\"style\": \"light\"}, \"paper_bgcolor\": \"white\", \"plot_bgcolor\": \"#E5ECF6\", \"polar\": {\"angularaxis\": {\"gridcolor\": \"white\", \"linecolor\": \"white\", \"ticks\": \"\"}, \"bgcolor\": \"#E5ECF6\", \"radialaxis\": {\"gridcolor\": \"white\", \"linecolor\": \"white\", \"ticks\": \"\"}}, \"scene\": {\"xaxis\": {\"backgroundcolor\": \"#E5ECF6\", \"gridcolor\": \"white\", \"gridwidth\": 2, \"linecolor\": \"white\", \"showbackground\": true, \"ticks\": \"\", \"zerolinecolor\": \"white\"}, \"yaxis\": {\"backgroundcolor\": \"#E5ECF6\", \"gridcolor\": \"white\", \"gridwidth\": 2, \"linecolor\": \"white\", \"showbackground\": true, \"ticks\": \"\", \"zerolinecolor\": \"white\"}, \"zaxis\": {\"backgroundcolor\": \"#E5ECF6\", \"gridcolor\": \"white\", \"gridwidth\": 2, \"linecolor\": \"white\", \"showbackground\": true, \"ticks\": \"\", \"zerolinecolor\": \"white\"}}, \"shapedefaults\": {\"line\": {\"color\": \"#2a3f5f\"}}, \"ternary\": {\"aaxis\": {\"gridcolor\": \"white\", \"linecolor\": \"white\", \"ticks\": \"\"}, \"baxis\": {\"gridcolor\": \"white\", \"linecolor\": \"white\", \"ticks\": \"\"}, \"bgcolor\": \"#E5ECF6\", \"caxis\": {\"gridcolor\": \"white\", \"linecolor\": \"white\", \"ticks\": \"\"}}, \"title\": {\"x\": 0.05}, \"xaxis\": {\"automargin\": true, \"gridcolor\": \"white\", \"linecolor\": \"white\", \"ticks\": \"\", \"title\": {\"standoff\": 15}, \"zerolinecolor\": \"white\", \"zerolinewidth\": 2}, \"yaxis\": {\"automargin\": true, \"gridcolor\": \"white\", \"linecolor\": \"white\", \"ticks\": \"\", \"title\": {\"standoff\": 15}, \"zerolinecolor\": \"white\", \"zerolinewidth\": 2}}}, \"title\": {\"text\": \"Uncertainty Quantification for Energy Consumption Test Data\"}, \"xaxis\": {\"title\": {\"text\": \"Time\"}}, \"yaxis\": {\"title\": {\"text\": \"log_energy_consumption (log Wh)\"}}},\n",
              "                        {\"responsive\": true}\n",
              "                    ).then(function(){\n",
              "                            \n",
              "var gd = document.getElementById('37fe3b73-c18b-4826-88eb-0e9876f7e18f');\n",
              "var x = new MutationObserver(function (mutations, observer) {{\n",
              "        var display = window.getComputedStyle(gd).display;\n",
              "        if (!display || display === 'none') {{\n",
              "            console.log([gd, 'removed!']);\n",
              "            Plotly.purge(gd);\n",
              "            observer.disconnect();\n",
              "        }}\n",
              "}});\n",
              "\n",
              "// Listen for the removal of the full notebook cells\n",
              "var notebookContainer = gd.closest('#notebook-container');\n",
              "if (notebookContainer) {{\n",
              "    x.observe(notebookContainer, {childList: true});\n",
              "}}\n",
              "\n",
              "// Listen for the clearing of the current output cell\n",
              "var outputEl = gd.closest('.output');\n",
              "if (outputEl) {{\n",
              "    x.observe(outputEl, {childList: true});\n",
              "}}\n",
              "\n",
              "                        })\n",
              "                };\n",
              "                \n",
              "            </script>\n",
              "        </div>\n",
              "</body>\n",
              "</html>"
            ]
          },
          "metadata": {
            "tags": []
          }
        }
      ]
    },
    {
      "cell_type": "markdown",
      "metadata": {
        "id": "7THEK4P96J0S"
      },
      "source": [
        "#### Evaluating Uncertainty"
      ]
    },
    {
      "cell_type": "markdown",
      "metadata": {
        "id": "PPuR8L6D6PkL"
      },
      "source": [
        "Using multiple experiments above, 99% confidence intervals have been constructed for each the prediction of the target variable (the logarithm of appliance power consumption). While we can visually observe that the model is generally capturing the behavior of the time-series, approximately only 50% of the real data points lie within a 99% confidence interval from the mean prediction value.\n",
        "\n",
        "Despite the relatively low percentage of points within the confidence interval, it must be noted that Bayesian Neural Networks only seek to quantify the epistemic model uncertainty and does not account for aleatoric uncertainty (i.e. noise)."
      ]
    },
    {
      "cell_type": "code",
      "metadata": {
        "id": "mV2_6qekxzLn",
        "colab": {
          "base_uri": "https://localhost:8080/"
        },
        "outputId": "31c0cd39-7eb6-4b7d-9f75-f139678ab76f"
      },
      "source": [
        "bounds_df = pd.DataFrame()\n",
        "\n",
        "# Using 99% confidence bounds\n",
        "bounds_df['lower_bound'] = test_uncertainty_plot_df['lower_bound']\n",
        "bounds_df['prediction'] = test_uncertainty_plot_df['log_energy_consumption_mean']\n",
        "bounds_df['real_value'] = truth_uncertainty_plot_df['log_energy_consumption']\n",
        "bounds_df['upper_bound'] = test_uncertainty_plot_df['upper_bound']\n",
        "\n",
        "bounds_df['contained'] = ((bounds_df['real_value'] >= bounds_df['lower_bound']) &\n",
        "                          (bounds_df['real_value'] <= bounds_df['upper_bound']))\n",
        "\n",
        "print(\"Proportion of points contained within 99% confidence interval:\", \n",
        "      bounds_df['contained'].mean())"
      ],
      "execution_count": null,
      "outputs": [
        {
          "output_type": "stream",
          "text": [
            "Proportion of points contained within 99% confidence interval: 0.6632124352331606\n"
          ],
          "name": "stdout"
        }
      ]
    },
    {
      "cell_type": "markdown",
      "metadata": {
        "id": "CLrYy9qgxp_C"
      },
      "source": [
        "# Conclusions\n",
        "\n",
        "- Bayesian LSTMs have been able to produce comparable performance to their frequentist counterparts (all else being equal)\n",
        "- Stochastic dropout enables users to approximate the posterior distribution of the target variable, \\\n",
        "and thus construct confidence intervals for each prediction \n",
        "- Bayesian Neural Networks only attempt to account for epistemic model uncertainty and do not necessarily address aleatoric uncertainty\n",
        "- Computational overhead for repeated/multiple Bayesian LSTM predictions at inference to construct confidence intervals represent a potential challenge for real-time inference use-cases."
      ]
    }
  ]
}