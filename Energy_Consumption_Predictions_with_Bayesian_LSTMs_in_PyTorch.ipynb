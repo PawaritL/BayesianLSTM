{
  "nbformat": 4,
  "nbformat_minor": 0,
  "metadata": {
    "colab": {
      "name": "Energy Consumption Predictions with Bayesian LSTMs in PyTorch.ipynb",
      "provenance": [],
      "collapsed_sections": [],
      "include_colab_link": true
    },
    "kernelspec": {
      "name": "python3",
      "display_name": "Python 3"
    }
  },
  "cells": [
    {
      "cell_type": "markdown",
      "metadata": {
        "id": "view-in-github",
        "colab_type": "text"
      },
      "source": [
        "<a href=\"https://colab.research.google.com/github/PawaritL/BayesianLSTM/blob/master/Energy_Consumption_Predictions_with_Bayesian_LSTMs_in_PyTorch.ipynb\" target=\"_parent\"><img src=\"https://colab.research.google.com/assets/colab-badge.svg\" alt=\"Open In Colab\"/></a>"
      ]
    },
    {
      "cell_type": "markdown",
      "metadata": {
        "id": "VHRshe9Y-Q0Q",
        "colab_type": "text"
      },
      "source": [
        "# Energy Consumption Predictions with Bayesian LSTMs in PyTorch"
      ]
    },
    {
      "cell_type": "markdown",
      "metadata": {
        "id": "8GGWUqKU1paW",
        "colab_type": "text"
      },
      "source": [
        "Author: Pawarit Laosunthara\n",
        "\n"
      ]
    },
    {
      "cell_type": "markdown",
      "metadata": {
        "id": "3FQQioKQ-Tkr",
        "colab_type": "text"
      },
      "source": [
        "This notebook demonstrates an implementation of an (Approximate) Bayesian Recurrent Neural Network in PyTorch, originally inspired by the *Deep and Confident Prediction for Time Series at Uber* (https://arxiv.org/pdf/1709.01907.pdf)\n",
        "\n",
        "<br>\n",
        "\n",
        "In this approach, Monte Carlo dropout is used to **approximate** Bayesian inference, allowing our predictions to have explicit uncertainties and confidence intervals. This property makes Bayesian Neural Networks highly appealing to critical applications requiring uncertainty quantification.\n",
        "The *Appliances energy prediction* dataset used in this example is from the UCI Machine Learning Repository (https://archive.ics.uci.edu/ml/datasets/Appliances+energy+prediction)\n",
        "\n",
        "<br>\n",
        "\n",
        "**Note:** this notebook purely serves to demonstrate the implementation of Bayesian LSTMs (Long Short-Term Memory) networks in PyTorch. Therefore, extensive data exploration and feature engineering is not part of the scope of this investigation."
      ]
    },
    {
      "cell_type": "markdown",
      "metadata": {
        "id": "psI_d17Y_3_9",
        "colab_type": "text"
      },
      "source": [
        "# Preliminary Data Wrangling"
      ]
    },
    {
      "cell_type": "markdown",
      "metadata": {
        "id": "OFY02qDSAbqI",
        "colab_type": "text"
      },
      "source": [
        "**Selected Columns:**\n",
        "\n",
        "- date time year-month-day hour:minute:second, sampled every 10 minutes \\\n",
        "- Appliances, energy use in Wh for the corresponding 10-minute timestamp \\\n",
        "- day_of_week, where Monday corresponds to 0 \\\n",
        "- hour_of_day\n"
      ]
    },
    {
      "cell_type": "code",
      "metadata": {
        "id": "uWNK0BtB2W0E",
        "colab_type": "code",
        "colab": {}
      },
      "source": [
        "import pandas as pd"
      ],
      "execution_count": 0,
      "outputs": []
    },
    {
      "cell_type": "code",
      "metadata": {
        "id": "WDYp3nRh-Bpv",
        "colab_type": "code",
        "colab": {}
      },
      "source": [
        "energy_df = pd.read_csv('https://archive.ics.uci.edu/ml/machine-learning-databases/00374/energydata_complete.csv')\n",
        "\n",
        "energy_df['date'] = pd.to_datetime(energy_df['date'])\n",
        "\n",
        "energy_df['month'] = energy_df['date'].dt.month.astype(int)\n",
        "energy_df['day_of_month'] = energy_df['date'].dt.day.astype(int)\n",
        "\n",
        "# day_of_week=0 corresponds to Monday\n",
        "energy_df['day_of_week'] = energy_df['date'].dt.dayofweek.astype(int)\n",
        "energy_df['hour_of_day'] = energy_df['date'].dt.hour.astype(int)\n",
        "\n",
        "selected_columns = ['date', 'day_of_week', 'hour_of_day', 'Appliances']\n",
        "energy_df = energy_df[selected_columns]"
      ],
      "execution_count": 0,
      "outputs": []
    },
    {
      "cell_type": "code",
      "metadata": {
        "id": "vv4cV2qr-E-8",
        "colab_type": "code",
        "outputId": "6ad33caf-8d84-4a36-ac62-795cbebdc124",
        "colab": {
          "base_uri": "https://localhost:8080/",
          "height": 204
        }
      },
      "source": [
        "energy_df.head()"
      ],
      "execution_count": 0,
      "outputs": [
        {
          "output_type": "execute_result",
          "data": {
            "text/html": [
              "<div>\n",
              "<style scoped>\n",
              "    .dataframe tbody tr th:only-of-type {\n",
              "        vertical-align: middle;\n",
              "    }\n",
              "\n",
              "    .dataframe tbody tr th {\n",
              "        vertical-align: top;\n",
              "    }\n",
              "\n",
              "    .dataframe thead th {\n",
              "        text-align: right;\n",
              "    }\n",
              "</style>\n",
              "<table border=\"1\" class=\"dataframe\">\n",
              "  <thead>\n",
              "    <tr style=\"text-align: right;\">\n",
              "      <th></th>\n",
              "      <th>date</th>\n",
              "      <th>day_of_week</th>\n",
              "      <th>hour_of_day</th>\n",
              "      <th>Appliances</th>\n",
              "    </tr>\n",
              "  </thead>\n",
              "  <tbody>\n",
              "    <tr>\n",
              "      <th>0</th>\n",
              "      <td>2016-01-11 17:00:00</td>\n",
              "      <td>0</td>\n",
              "      <td>17</td>\n",
              "      <td>60</td>\n",
              "    </tr>\n",
              "    <tr>\n",
              "      <th>1</th>\n",
              "      <td>2016-01-11 17:10:00</td>\n",
              "      <td>0</td>\n",
              "      <td>17</td>\n",
              "      <td>60</td>\n",
              "    </tr>\n",
              "    <tr>\n",
              "      <th>2</th>\n",
              "      <td>2016-01-11 17:20:00</td>\n",
              "      <td>0</td>\n",
              "      <td>17</td>\n",
              "      <td>50</td>\n",
              "    </tr>\n",
              "    <tr>\n",
              "      <th>3</th>\n",
              "      <td>2016-01-11 17:30:00</td>\n",
              "      <td>0</td>\n",
              "      <td>17</td>\n",
              "      <td>50</td>\n",
              "    </tr>\n",
              "    <tr>\n",
              "      <th>4</th>\n",
              "      <td>2016-01-11 17:40:00</td>\n",
              "      <td>0</td>\n",
              "      <td>17</td>\n",
              "      <td>60</td>\n",
              "    </tr>\n",
              "  </tbody>\n",
              "</table>\n",
              "</div>"
            ],
            "text/plain": [
              "                 date  day_of_week  hour_of_day  Appliances\n",
              "0 2016-01-11 17:00:00            0           17          60\n",
              "1 2016-01-11 17:10:00            0           17          60\n",
              "2 2016-01-11 17:20:00            0           17          50\n",
              "3 2016-01-11 17:30:00            0           17          50\n",
              "4 2016-01-11 17:40:00            0           17          60"
            ]
          },
          "metadata": {
            "tags": []
          },
          "execution_count": 3
        }
      ]
    },
    {
      "cell_type": "markdown",
      "metadata": {
        "id": "d8BJQAqaJqv7",
        "colab_type": "text"
      },
      "source": [
        "## Time Series Transformations\n",
        "\n",
        "1. The dataset is to be re-sampled at an hourly rate for more meaningful analytics.\n",
        "\n",
        "2. To alleviate exponential effects, the target variable is log-transformed as per the Uber paper.\n",
        "\n",
        "3. For simplicit, only temporal and autoregressive features, namely `day_of_week`, `hour_of_day`, \\\n",
        "and previous values of `Appliances` are used as features"
      ]
    },
    {
      "cell_type": "code",
      "metadata": {
        "id": "LcXp9XEaJqXO",
        "colab_type": "code",
        "colab": {}
      },
      "source": [
        "import numpy as np\n",
        "\n",
        "resample_df = energy_df.set_index('date').resample('1H').mean()\n",
        "resample_df['date'] = resample_df.index\n",
        "resample_df['log_appliances'] = np.log(resample_df['Appliances'])\n",
        "\n",
        "datetime_columns = ['date', 'day_of_week', 'hour_of_day']\n",
        "target_column = 'log_appliances'\n",
        "\n",
        "feature_columns = datetime_columns + ['log_appliances']\n",
        "\n",
        "# For clarity in visualization and presentation, \n",
        "# only consider the first 150 hours of data.\n",
        "resample_df = resample_df[feature_columns]"
      ],
      "execution_count": 0,
      "outputs": []
    },
    {
      "cell_type": "code",
      "metadata": {
        "id": "tY1pfEIGDvvc",
        "colab_type": "code",
        "outputId": "36bf3cee-5b24-4d1c-989d-2154eabb211b",
        "colab": {
          "base_uri": "https://localhost:8080/",
          "height": 617
        }
      },
      "source": [
        "import plotly.express as px\n",
        "\n",
        "plot_length = 150\n",
        "plot_df = resample_df.copy(deep=True).iloc[:plot_length]\n",
        "plot_df['weekday'] = plot_df['date'].dt.weekday_name\n",
        "\n",
        "fig = px.line(plot_df,\n",
        "              x=\"date\",\n",
        "              y=\"log_appliances\", \n",
        "              color=\"weekday\", \n",
        "              title=\"Log of Appliance Energy Consumption in Wh vs Time\")\n",
        "fig.show()"
      ],
      "execution_count": 0,
      "outputs": [
        {
          "output_type": "display_data",
          "data": {
            "text/html": [
              "<html>\n",
              "<head><meta charset=\"utf-8\" /></head>\n",
              "<body>\n",
              "    <div>\n",
              "            <script src=\"https://cdnjs.cloudflare.com/ajax/libs/mathjax/2.7.5/MathJax.js?config=TeX-AMS-MML_SVG\"></script><script type=\"text/javascript\">if (window.MathJax) {MathJax.Hub.Config({SVG: {font: \"STIX-Web\"}});}</script>\n",
              "                <script type=\"text/javascript\">window.PlotlyConfig = {MathJaxConfig: 'local'};</script>\n",
              "        <script src=\"https://cdn.plot.ly/plotly-latest.min.js\"></script>    \n",
              "            <div id=\"3aedca71-350d-409f-92e5-bb0b2c372c56\" class=\"plotly-graph-div\" style=\"height:600px; width:100%;\"></div>\n",
              "            <script type=\"text/javascript\">\n",
              "                \n",
              "                    window.PLOTLYENV=window.PLOTLYENV || {};\n",
              "                    \n",
              "                if (document.getElementById(\"3aedca71-350d-409f-92e5-bb0b2c372c56\")) {\n",
              "                    Plotly.newPlot(\n",
              "                        '3aedca71-350d-409f-92e5-bb0b2c372c56',\n",
              "                        [{\"hoverlabel\": {\"namelength\": 0}, \"hovertemplate\": \"weekday=Monday<br>date=%{x}<br>log_appliances=%{y}\", \"legendgroup\": \"weekday=Monday\", \"line\": {\"color\": \"#636efa\", \"dash\": \"solid\"}, \"mode\": \"lines\", \"name\": \"weekday=Monday\", \"showlegend\": true, \"type\": \"scatter\", \"x\": [\"2016-01-11T17:00:00\", \"2016-01-11T18:00:00\", \"2016-01-11T19:00:00\", \"2016-01-11T20:00:00\", \"2016-01-11T21:00:00\", \"2016-01-11T22:00:00\", \"2016-01-11T23:00:00\"], \"xaxis\": \"x\", \"y\": [4.007333185232471, 5.174264717878057, 5.155216522907363, 4.8283137373023015, 4.637960008811082, 5.585999438999818, 4.037186148382152], \"yaxis\": \"y\"}, {\"hoverlabel\": {\"namelength\": 0}, \"hovertemplate\": \"weekday=Tuesday<br>date=%{x}<br>log_appliances=%{y}\", \"legendgroup\": \"weekday=Tuesday\", \"line\": {\"color\": \"#EF553B\", \"dash\": \"solid\"}, \"mode\": \"lines\", \"name\": \"weekday=Tuesday\", \"showlegend\": true, \"type\": \"scatter\", \"x\": [\"2016-01-12T00:00:00\", \"2016-01-12T01:00:00\", \"2016-01-12T02:00:00\", \"2016-01-12T03:00:00\", \"2016-01-12T04:00:00\", \"2016-01-12T05:00:00\", \"2016-01-12T06:00:00\", \"2016-01-12T07:00:00\", \"2016-01-12T08:00:00\", \"2016-01-12T09:00:00\", \"2016-01-12T10:00:00\", \"2016-01-12T11:00:00\", \"2016-01-12T12:00:00\", \"2016-01-12T13:00:00\", \"2016-01-12T14:00:00\", \"2016-01-12T15:00:00\", \"2016-01-12T16:00:00\", \"2016-01-12T17:00:00\", \"2016-01-12T18:00:00\", \"2016-01-12T19:00:00\", \"2016-01-12T20:00:00\", \"2016-01-12T21:00:00\", \"2016-01-12T22:00:00\", \"2016-01-12T23:00:00\"], \"xaxis\": \"x\", \"y\": [4.953476880256307, 5.12594614060725, 3.8066624897703196, 3.5553480614894135, 3.8066624897703196, 3.7689221617874726, 3.6888794541139363, 4.037186148382152, 4.4620693423474185, 3.7689221617874726, 5.438079308923196, 4.007333185232471, 5.2293244950610855, 5.02168513028284, 4.917544871030244, 3.6018680771243066, 3.6888794541139363, 5.386022946967143, 4.0661736852554045, 4.007333185232471, 3.9448128282511368, 3.7297014486341915, 3.8430301339411947, 3.7689221617874726], \"yaxis\": \"y\"}, {\"hoverlabel\": {\"namelength\": 0}, \"hovertemplate\": \"weekday=Wednesday<br>date=%{x}<br>log_appliances=%{y}\", \"legendgroup\": \"weekday=Wednesday\", \"line\": {\"color\": \"#00cc96\", \"dash\": \"solid\"}, \"mode\": \"lines\", \"name\": \"weekday=Wednesday\", \"showlegend\": true, \"type\": \"scatter\", \"x\": [\"2016-01-13T00:00:00\", \"2016-01-13T01:00:00\", \"2016-01-13T02:00:00\", \"2016-01-13T03:00:00\", \"2016-01-13T04:00:00\", \"2016-01-13T05:00:00\", \"2016-01-13T06:00:00\", \"2016-01-13T07:00:00\", \"2016-01-13T08:00:00\", \"2016-01-13T09:00:00\", \"2016-01-13T10:00:00\", \"2016-01-13T11:00:00\", \"2016-01-13T12:00:00\", \"2016-01-13T13:00:00\", \"2016-01-13T14:00:00\", \"2016-01-13T15:00:00\", \"2016-01-13T16:00:00\", \"2016-01-13T17:00:00\", \"2016-01-13T18:00:00\", \"2016-01-13T19:00:00\", \"2016-01-13T20:00:00\", \"2016-01-13T21:00:00\", \"2016-01-13T22:00:00\", \"2016-01-13T23:00:00\"], \"xaxis\": \"x\", \"y\": [3.455264602932431, 3.8781214537524646, 3.8066624897703196, 3.455264602932431, 3.8066624897703196, 3.7297014486341915, 4.199705077879927, 4.148411783492376, 5.339139361068292, 5.393627546352362, 4.199705077879927, 4.0943445622221, 3.7297014486341915, 3.5553480614894135, 3.8066624897703196, 3.7297014486341915, 4.382026634673881, 4.5712686343124105, 4.715518243156957, 5.362855887685608, 5.51477192971145, 5.74726758659594, 4.880273476233012, 3.7297014486341915], \"yaxis\": \"y\"}, {\"hoverlabel\": {\"namelength\": 0}, \"hovertemplate\": \"weekday=Thursday<br>date=%{x}<br>log_appliances=%{y}\", \"legendgroup\": \"weekday=Thursday\", \"line\": {\"color\": \"#ab63fa\", \"dash\": \"solid\"}, \"mode\": \"lines\", \"name\": \"weekday=Thursday\", \"showlegend\": true, \"type\": \"scatter\", \"x\": [\"2016-01-14T00:00:00\", \"2016-01-14T01:00:00\", \"2016-01-14T02:00:00\", \"2016-01-14T03:00:00\", \"2016-01-14T04:00:00\", \"2016-01-14T05:00:00\", \"2016-01-14T06:00:00\", \"2016-01-14T07:00:00\", \"2016-01-14T08:00:00\", \"2016-01-14T09:00:00\", \"2016-01-14T10:00:00\", \"2016-01-14T11:00:00\", \"2016-01-14T12:00:00\", \"2016-01-14T13:00:00\", \"2016-01-14T14:00:00\", \"2016-01-14T15:00:00\", \"2016-01-14T16:00:00\", \"2016-01-14T17:00:00\", \"2016-01-14T18:00:00\", \"2016-01-14T19:00:00\", \"2016-01-14T20:00:00\", \"2016-01-14T21:00:00\", \"2016-01-14T22:00:00\", \"2016-01-14T23:00:00\"], \"xaxis\": \"x\", \"y\": [3.8430301339411947, 3.6018680771243066, 3.7689221617874726, 3.8066624897703196, 3.5553480614894135, 3.8066624897703196, 3.6888794541139363, 5.423480509502043, 5.075173815233827, 5.12594614060725, 6.288477946988647, 5.473670254025898, 5.646624060816253, 4.248495242049359, 4.867534450455582, 3.9448128282511368, 5.731181448844316, 6.003887067106539, 5.378360074221573, 5.445299556896682, 4.700480365792417, 4.75932086581535, 3.8781214537524646, 3.6463198396951406], \"yaxis\": \"y\"}, {\"hoverlabel\": {\"namelength\": 0}, \"hovertemplate\": \"weekday=Friday<br>date=%{x}<br>log_appliances=%{y}\", \"legendgroup\": \"weekday=Friday\", \"line\": {\"color\": \"#FFA15A\", \"dash\": \"solid\"}, \"mode\": \"lines\", \"name\": \"weekday=Friday\", \"showlegend\": true, \"type\": \"scatter\", \"x\": [\"2016-01-15T00:00:00\", \"2016-01-15T01:00:00\", \"2016-01-15T02:00:00\", \"2016-01-15T03:00:00\", \"2016-01-15T04:00:00\", \"2016-01-15T05:00:00\", \"2016-01-15T06:00:00\", \"2016-01-15T07:00:00\", \"2016-01-15T08:00:00\", \"2016-01-15T09:00:00\", \"2016-01-15T10:00:00\", \"2016-01-15T11:00:00\", \"2016-01-15T12:00:00\", \"2016-01-15T13:00:00\", \"2016-01-15T14:00:00\", \"2016-01-15T15:00:00\", \"2016-01-15T16:00:00\", \"2016-01-15T17:00:00\", \"2016-01-15T18:00:00\", \"2016-01-15T19:00:00\", \"2016-01-15T20:00:00\", \"2016-01-15T21:00:00\", \"2016-01-15T22:00:00\", \"2016-01-15T23:00:00\"], \"xaxis\": \"x\", \"y\": [3.9765615265657175, 3.9448128282511368, 3.8430301339411947, 3.7689221617874726, 3.912023005428146, 3.912023005428146, 3.8066624897703196, 3.9448128282511368, 5.459585514144159, 5.331107189371028, 4.8283137373023015, 4.8283137373023015, 5.3471075307174685, 5.281510248231656, 4.148411783492376, 4.037186148382152, 4.037186148382152, 4.58836306767171, 5.628819436182746, 5.393627546352362, 5.452468046375295, 5.438079308923196, 5.386022946967143, 4.148411783492376], \"yaxis\": \"y\"}, {\"hoverlabel\": {\"namelength\": 0}, \"hovertemplate\": \"weekday=Saturday<br>date=%{x}<br>log_appliances=%{y}\", \"legendgroup\": \"weekday=Saturday\", \"line\": {\"color\": \"#19d3f3\", \"dash\": \"solid\"}, \"mode\": \"lines\", \"name\": \"weekday=Saturday\", \"showlegend\": true, \"type\": \"scatter\", \"x\": [\"2016-01-16T00:00:00\", \"2016-01-16T01:00:00\", \"2016-01-16T02:00:00\", \"2016-01-16T03:00:00\", \"2016-01-16T04:00:00\", \"2016-01-16T05:00:00\", \"2016-01-16T06:00:00\", \"2016-01-16T07:00:00\", \"2016-01-16T08:00:00\", \"2016-01-16T09:00:00\", \"2016-01-16T10:00:00\", \"2016-01-16T11:00:00\", \"2016-01-16T12:00:00\", \"2016-01-16T13:00:00\", \"2016-01-16T14:00:00\", \"2016-01-16T15:00:00\", \"2016-01-16T16:00:00\", \"2016-01-16T17:00:00\", \"2016-01-16T18:00:00\", \"2016-01-16T19:00:00\", \"2016-01-16T20:00:00\", \"2016-01-16T21:00:00\", \"2016-01-16T22:00:00\", \"2016-01-16T23:00:00\"], \"xaxis\": \"x\", \"y\": [3.6888794541139363, 3.9765615265657175, 3.8430301339411947, 3.7297014486341915, 3.912023005428146, 3.6888794541139363, 3.9448128282511368, 5.508037897530106, 4.941642422609304, 4.121743536410215, 4.272025739459553, 3.9765615265657175, 4.31748811353631, 4.4620693423474185, 4.272025739459553, 5.339139361068292, 4.31748811353631, 5.579729825986222, 6.159799861927197, 5.970411137910149, 4.773505500807306, 4.787491742782046, 5.135798437050262, 4.007333185232471], \"yaxis\": \"y\"}, {\"hoverlabel\": {\"namelength\": 0}, \"hovertemplate\": \"weekday=Sunday<br>date=%{x}<br>log_appliances=%{y}\", \"legendgroup\": \"weekday=Sunday\", \"line\": {\"color\": \"#FF6692\", \"dash\": \"solid\"}, \"mode\": \"lines\", \"name\": \"weekday=Sunday\", \"showlegend\": true, \"type\": \"scatter\", \"x\": [\"2016-01-17T00:00:00\", \"2016-01-17T01:00:00\", \"2016-01-17T02:00:00\", \"2016-01-17T03:00:00\", \"2016-01-17T04:00:00\", \"2016-01-17T05:00:00\", \"2016-01-17T06:00:00\", \"2016-01-17T07:00:00\", \"2016-01-17T08:00:00\", \"2016-01-17T09:00:00\", \"2016-01-17T10:00:00\", \"2016-01-17T11:00:00\", \"2016-01-17T12:00:00\", \"2016-01-17T13:00:00\", \"2016-01-17T14:00:00\", \"2016-01-17T15:00:00\", \"2016-01-17T16:00:00\", \"2016-01-17T17:00:00\", \"2016-01-17T18:00:00\", \"2016-01-17T19:00:00\", \"2016-01-17T20:00:00\", \"2016-01-17T21:00:00\", \"2016-01-17T22:00:00\"], \"xaxis\": \"x\", \"y\": [3.8430301339411947, 3.9448128282511368, 3.7689221617874726, 3.912023005428146, 3.9448128282511368, 3.7689221617874726, 3.8066624897703196, 5.853159875730801, 5.604575824572753, 5.675611597689505, 4.499809670330265, 5.76309905181262, 4.773505500807306, 5.135798437050262, 4.929666231562589, 4.402645921876617, 4.402645921876617, 6.12029741895095, 5.592229988750454, 4.621699487939302, 4.700480365792417, 4.867534450455582, 4.007333185232471], \"yaxis\": \"y\"}],\n",
              "                        {\"height\": 600, \"legend\": {\"tracegroupgap\": 0}, \"template\": {\"data\": {\"bar\": [{\"error_x\": {\"color\": \"#2a3f5f\"}, \"error_y\": {\"color\": \"#2a3f5f\"}, \"marker\": {\"line\": {\"color\": \"#E5ECF6\", \"width\": 0.5}}, \"type\": \"bar\"}], \"barpolar\": [{\"marker\": {\"line\": {\"color\": \"#E5ECF6\", \"width\": 0.5}}, \"type\": \"barpolar\"}], \"carpet\": [{\"aaxis\": {\"endlinecolor\": \"#2a3f5f\", \"gridcolor\": \"white\", \"linecolor\": \"white\", \"minorgridcolor\": \"white\", \"startlinecolor\": \"#2a3f5f\"}, \"baxis\": {\"endlinecolor\": \"#2a3f5f\", \"gridcolor\": \"white\", \"linecolor\": \"white\", \"minorgridcolor\": \"white\", \"startlinecolor\": \"#2a3f5f\"}, \"type\": \"carpet\"}], \"choropleth\": [{\"colorbar\": {\"outlinewidth\": 0, \"ticks\": \"\"}, \"type\": \"choropleth\"}], \"contour\": [{\"colorbar\": {\"outlinewidth\": 0, \"ticks\": \"\"}, \"colorscale\": [[0.0, \"#0d0887\"], [0.1111111111111111, \"#46039f\"], [0.2222222222222222, \"#7201a8\"], [0.3333333333333333, \"#9c179e\"], [0.4444444444444444, \"#bd3786\"], [0.5555555555555556, \"#d8576b\"], [0.6666666666666666, \"#ed7953\"], [0.7777777777777778, \"#fb9f3a\"], [0.8888888888888888, \"#fdca26\"], [1.0, \"#f0f921\"]], \"type\": \"contour\"}], \"contourcarpet\": [{\"colorbar\": {\"outlinewidth\": 0, \"ticks\": \"\"}, \"type\": \"contourcarpet\"}], \"heatmap\": [{\"colorbar\": {\"outlinewidth\": 0, \"ticks\": \"\"}, \"colorscale\": [[0.0, \"#0d0887\"], [0.1111111111111111, \"#46039f\"], [0.2222222222222222, \"#7201a8\"], [0.3333333333333333, \"#9c179e\"], [0.4444444444444444, \"#bd3786\"], [0.5555555555555556, \"#d8576b\"], [0.6666666666666666, \"#ed7953\"], [0.7777777777777778, \"#fb9f3a\"], [0.8888888888888888, \"#fdca26\"], [1.0, \"#f0f921\"]], \"type\": \"heatmap\"}], \"heatmapgl\": [{\"colorbar\": {\"outlinewidth\": 0, \"ticks\": \"\"}, \"colorscale\": [[0.0, \"#0d0887\"], [0.1111111111111111, \"#46039f\"], [0.2222222222222222, \"#7201a8\"], [0.3333333333333333, \"#9c179e\"], [0.4444444444444444, \"#bd3786\"], [0.5555555555555556, \"#d8576b\"], [0.6666666666666666, \"#ed7953\"], [0.7777777777777778, \"#fb9f3a\"], [0.8888888888888888, \"#fdca26\"], [1.0, \"#f0f921\"]], \"type\": \"heatmapgl\"}], \"histogram\": [{\"marker\": {\"colorbar\": {\"outlinewidth\": 0, \"ticks\": \"\"}}, \"type\": \"histogram\"}], \"histogram2d\": [{\"colorbar\": {\"outlinewidth\": 0, \"ticks\": \"\"}, \"colorscale\": [[0.0, \"#0d0887\"], [0.1111111111111111, \"#46039f\"], [0.2222222222222222, \"#7201a8\"], [0.3333333333333333, \"#9c179e\"], [0.4444444444444444, \"#bd3786\"], [0.5555555555555556, \"#d8576b\"], [0.6666666666666666, \"#ed7953\"], [0.7777777777777778, \"#fb9f3a\"], [0.8888888888888888, \"#fdca26\"], [1.0, \"#f0f921\"]], \"type\": \"histogram2d\"}], \"histogram2dcontour\": [{\"colorbar\": {\"outlinewidth\": 0, \"ticks\": \"\"}, \"colorscale\": [[0.0, \"#0d0887\"], [0.1111111111111111, \"#46039f\"], [0.2222222222222222, \"#7201a8\"], [0.3333333333333333, \"#9c179e\"], [0.4444444444444444, \"#bd3786\"], [0.5555555555555556, \"#d8576b\"], [0.6666666666666666, \"#ed7953\"], [0.7777777777777778, \"#fb9f3a\"], [0.8888888888888888, \"#fdca26\"], [1.0, \"#f0f921\"]], \"type\": \"histogram2dcontour\"}], \"mesh3d\": [{\"colorbar\": {\"outlinewidth\": 0, \"ticks\": \"\"}, \"type\": \"mesh3d\"}], \"parcoords\": [{\"line\": {\"colorbar\": {\"outlinewidth\": 0, \"ticks\": \"\"}}, \"type\": \"parcoords\"}], \"scatter\": [{\"marker\": {\"colorbar\": {\"outlinewidth\": 0, \"ticks\": \"\"}}, \"type\": \"scatter\"}], \"scatter3d\": [{\"line\": {\"colorbar\": {\"outlinewidth\": 0, \"ticks\": \"\"}}, \"marker\": {\"colorbar\": {\"outlinewidth\": 0, \"ticks\": \"\"}}, \"type\": \"scatter3d\"}], \"scattercarpet\": [{\"marker\": {\"colorbar\": {\"outlinewidth\": 0, \"ticks\": \"\"}}, \"type\": \"scattercarpet\"}], \"scattergeo\": [{\"marker\": {\"colorbar\": {\"outlinewidth\": 0, \"ticks\": \"\"}}, \"type\": \"scattergeo\"}], \"scattergl\": [{\"marker\": {\"colorbar\": {\"outlinewidth\": 0, \"ticks\": \"\"}}, \"type\": \"scattergl\"}], \"scattermapbox\": [{\"marker\": {\"colorbar\": {\"outlinewidth\": 0, \"ticks\": \"\"}}, \"type\": \"scattermapbox\"}], \"scatterpolar\": [{\"marker\": {\"colorbar\": {\"outlinewidth\": 0, \"ticks\": \"\"}}, \"type\": \"scatterpolar\"}], \"scatterpolargl\": [{\"marker\": {\"colorbar\": {\"outlinewidth\": 0, \"ticks\": \"\"}}, \"type\": \"scatterpolargl\"}], \"scatterternary\": [{\"marker\": {\"colorbar\": {\"outlinewidth\": 0, \"ticks\": \"\"}}, \"type\": \"scatterternary\"}], \"surface\": [{\"colorbar\": {\"outlinewidth\": 0, \"ticks\": \"\"}, \"colorscale\": [[0.0, \"#0d0887\"], [0.1111111111111111, \"#46039f\"], [0.2222222222222222, \"#7201a8\"], [0.3333333333333333, \"#9c179e\"], [0.4444444444444444, \"#bd3786\"], [0.5555555555555556, \"#d8576b\"], [0.6666666666666666, \"#ed7953\"], [0.7777777777777778, \"#fb9f3a\"], [0.8888888888888888, \"#fdca26\"], [1.0, \"#f0f921\"]], \"type\": \"surface\"}], \"table\": [{\"cells\": {\"fill\": {\"color\": \"#EBF0F8\"}, \"line\": {\"color\": \"white\"}}, \"header\": {\"fill\": {\"color\": \"#C8D4E3\"}, \"line\": {\"color\": \"white\"}}, \"type\": \"table\"}]}, \"layout\": {\"annotationdefaults\": {\"arrowcolor\": \"#2a3f5f\", \"arrowhead\": 0, \"arrowwidth\": 1}, \"colorscale\": {\"diverging\": [[0, \"#8e0152\"], [0.1, \"#c51b7d\"], [0.2, \"#de77ae\"], [0.3, \"#f1b6da\"], [0.4, \"#fde0ef\"], [0.5, \"#f7f7f7\"], [0.6, \"#e6f5d0\"], [0.7, \"#b8e186\"], [0.8, \"#7fbc41\"], [0.9, \"#4d9221\"], [1, \"#276419\"]], \"sequential\": [[0.0, \"#0d0887\"], [0.1111111111111111, \"#46039f\"], [0.2222222222222222, \"#7201a8\"], [0.3333333333333333, \"#9c179e\"], [0.4444444444444444, \"#bd3786\"], [0.5555555555555556, \"#d8576b\"], [0.6666666666666666, \"#ed7953\"], [0.7777777777777778, \"#fb9f3a\"], [0.8888888888888888, \"#fdca26\"], [1.0, \"#f0f921\"]], \"sequentialminus\": [[0.0, \"#0d0887\"], [0.1111111111111111, \"#46039f\"], [0.2222222222222222, \"#7201a8\"], [0.3333333333333333, \"#9c179e\"], [0.4444444444444444, \"#bd3786\"], [0.5555555555555556, \"#d8576b\"], [0.6666666666666666, \"#ed7953\"], [0.7777777777777778, \"#fb9f3a\"], [0.8888888888888888, \"#fdca26\"], [1.0, \"#f0f921\"]]}, \"colorway\": [\"#636efa\", \"#EF553B\", \"#00cc96\", \"#ab63fa\", \"#FFA15A\", \"#19d3f3\", \"#FF6692\", \"#B6E880\", \"#FF97FF\", \"#FECB52\"], \"font\": {\"color\": \"#2a3f5f\"}, \"geo\": {\"bgcolor\": \"white\", \"lakecolor\": \"white\", \"landcolor\": \"#E5ECF6\", \"showlakes\": true, \"showland\": true, \"subunitcolor\": \"white\"}, \"hoverlabel\": {\"align\": \"left\"}, \"hovermode\": \"closest\", \"mapbox\": {\"style\": \"light\"}, \"paper_bgcolor\": \"white\", \"plot_bgcolor\": \"#E5ECF6\", \"polar\": {\"angularaxis\": {\"gridcolor\": \"white\", \"linecolor\": \"white\", \"ticks\": \"\"}, \"bgcolor\": \"#E5ECF6\", \"radialaxis\": {\"gridcolor\": \"white\", \"linecolor\": \"white\", \"ticks\": \"\"}}, \"scene\": {\"xaxis\": {\"backgroundcolor\": \"#E5ECF6\", \"gridcolor\": \"white\", \"gridwidth\": 2, \"linecolor\": \"white\", \"showbackground\": true, \"ticks\": \"\", \"zerolinecolor\": \"white\"}, \"yaxis\": {\"backgroundcolor\": \"#E5ECF6\", \"gridcolor\": \"white\", \"gridwidth\": 2, \"linecolor\": \"white\", \"showbackground\": true, \"ticks\": \"\", \"zerolinecolor\": \"white\"}, \"zaxis\": {\"backgroundcolor\": \"#E5ECF6\", \"gridcolor\": \"white\", \"gridwidth\": 2, \"linecolor\": \"white\", \"showbackground\": true, \"ticks\": \"\", \"zerolinecolor\": \"white\"}}, \"shapedefaults\": {\"line\": {\"color\": \"#2a3f5f\"}}, \"ternary\": {\"aaxis\": {\"gridcolor\": \"white\", \"linecolor\": \"white\", \"ticks\": \"\"}, \"baxis\": {\"gridcolor\": \"white\", \"linecolor\": \"white\", \"ticks\": \"\"}, \"bgcolor\": \"#E5ECF6\", \"caxis\": {\"gridcolor\": \"white\", \"linecolor\": \"white\", \"ticks\": \"\"}}, \"title\": {\"x\": 0.05}, \"xaxis\": {\"automargin\": true, \"gridcolor\": \"white\", \"linecolor\": \"white\", \"ticks\": \"\", \"zerolinecolor\": \"white\", \"zerolinewidth\": 2}, \"yaxis\": {\"automargin\": true, \"gridcolor\": \"white\", \"linecolor\": \"white\", \"ticks\": \"\", \"zerolinecolor\": \"white\", \"zerolinewidth\": 2}}}, \"title\": {\"text\": \"Log of Appliance Energy Consumption in Wh vs Time\"}, \"xaxis\": {\"anchor\": \"y\", \"domain\": [0.0, 0.98], \"title\": {\"text\": \"date\"}}, \"yaxis\": {\"anchor\": \"x\", \"domain\": [0.0, 1.0], \"title\": {\"text\": \"log_appliances\"}}},\n",
              "                        {\"responsive\": true}\n",
              "                    ).then(function(){\n",
              "                            \n",
              "var gd = document.getElementById('3aedca71-350d-409f-92e5-bb0b2c372c56');\n",
              "var x = new MutationObserver(function (mutations, observer) {{\n",
              "        var display = window.getComputedStyle(gd).display;\n",
              "        if (!display || display === 'none') {{\n",
              "            console.log([gd, 'removed!']);\n",
              "            Plotly.purge(gd);\n",
              "            observer.disconnect();\n",
              "        }}\n",
              "}});\n",
              "\n",
              "// Listen for the removal of the full notebook cells\n",
              "var notebookContainer = gd.closest('#notebook-container');\n",
              "if (notebookContainer) {{\n",
              "    x.observe(notebookContainer, {childList: true});\n",
              "}}\n",
              "\n",
              "// Listen for the clearing of the current output cell\n",
              "var outputEl = gd.closest('.output');\n",
              "if (outputEl) {{\n",
              "    x.observe(outputEl, {childList: true});\n",
              "}}\n",
              "\n",
              "                        })\n",
              "                };\n",
              "                \n",
              "            </script>\n",
              "        </div>\n",
              "</body>\n",
              "</html>"
            ]
          },
          "metadata": {
            "tags": []
          }
        }
      ]
    },
    {
      "cell_type": "markdown",
      "metadata": {
        "id": "aFnQ3txg_2lj",
        "colab_type": "text"
      },
      "source": [
        "# Prepare Training Data"
      ]
    },
    {
      "cell_type": "markdown",
      "metadata": {
        "id": "9gUa6m83NgDn",
        "colab_type": "text"
      },
      "source": [
        "For this example, we will use sliding windows of 10 points per each window (equivalent to 10 hours) to predict each next point. The window size can be altered via the `sequence_length` variable.\n",
        "\n",
        "Min-Max scaling has also been fitted to the training data to aid the convergence of the neural network. "
      ]
    },
    {
      "cell_type": "code",
      "metadata": {
        "id": "aKQHyh5rRVVj",
        "colab_type": "code",
        "colab": {}
      },
      "source": [
        "from sklearn.preprocessing import MinMaxScaler\n",
        "\n",
        "def create_sliding_window(data, sequence_length, stride=1):\n",
        "    X_list, y_list = [], []\n",
        "    for i in range(len(data)):\n",
        "      if (i + sequence_length) < len(data):\n",
        "        X_list.append(data.iloc[i:i+sequence_length:stride, :].values)\n",
        "        y_list.append(data.iloc[i+sequence_length, -1])\n",
        "    return np.array(X_list), np.array(y_list)\n",
        "\n",
        "train_split = 0.7\n",
        "n_train = int(train_split * len(resample_df))\n",
        "n_test = len(resample_df) - n_train\n",
        "\n",
        "features = ['day_of_week', 'hour_of_day', 'log_appliances']\n",
        "feature_array = resample_df[features].values\n",
        "\n",
        "# Fit Scaler only on Training features\n",
        "feature_scaler = MinMaxScaler()\n",
        "feature_scaler.fit(feature_array[:n_train])\n",
        "# Fit Scaler only on Training target values\n",
        "target_scaler = MinMaxScaler()\n",
        "target_scaler.fit(feature_array[:n_train, -1].reshape(-1, 1))\n",
        "\n",
        "# Transfom on both Training and Test data\n",
        "scaled_array = pd.DataFrame(feature_scaler.transform(feature_array),\n",
        "                            columns=features)\n",
        "\n",
        "sequence_length = 10\n",
        "X, y = create_sliding_window(scaled_array, \n",
        "                             sequence_length)\n",
        "\n",
        "X_train = X[:n_train]\n",
        "y_train = y[:n_train]\n",
        "\n",
        "X_test = X[n_train:]\n",
        "y_test = y[n_train:]"
      ],
      "execution_count": 0,
      "outputs": []
    },
    {
      "cell_type": "markdown",
      "metadata": {
        "id": "Ue1JcZm_bgsd",
        "colab_type": "text"
      },
      "source": [
        "# Define Bayesian LSTM Architecture"
      ]
    },
    {
      "cell_type": "markdown",
      "metadata": {
        "id": "VNag-wa-04WZ",
        "colab_type": "text"
      },
      "source": [
        "To demonstrate a simple working example of the Bayesian LSTM, the model as defined in Uber's paper has been used a starting point. The network architecture is as follows:\n",
        " - 1 uni-directional LSTM layer with 128 hidden units\n",
        " - 1 uni-directional LSTM layer with 1/4 the number of hidden units (32) compared to the previous layer\n",
        " - Dropout is applied at **both** training and inference for both LSTM layers\n",
        " - 1 fully-connected output layer with 1 output (for predicting the target value)\n",
        "\n",
        " By allowing dropout at both training and testing time, the model simulates random sampling, thus allowing varying predictions that can be used to estimate the underlying distribution of the target value, enabling explicit model uncertainties.\n"
      ]
    },
    {
      "cell_type": "code",
      "metadata": {
        "id": "OgWyOffPbO0b",
        "colab_type": "code",
        "colab": {}
      },
      "source": [
        "import torch\n",
        "import torch.nn as nn\n",
        "import torch.nn.functional as F\n",
        "from torch.autograd import Variable\n",
        "\n",
        "class BayesianLSTM(nn.Module):\n",
        "    def __init__(self, n_features, output_length):\n",
        "        super(BayesianLSTM, self).__init__()\n",
        "\n",
        "        self.hidden_size = 128\n",
        "        self.n_layers = 1 # number of (stacked) LSTM layers\n",
        "\n",
        "        self.lstm1 = nn.LSTM(n_features, \n",
        "                             self.hidden_size, \n",
        "                             num_layers=1,\n",
        "                             batch_first=True)\n",
        "        self.lstm2 = nn.LSTM(self.hidden_size,\n",
        "                             self.hidden_size // 4,\n",
        "                             num_layers=1,\n",
        "                             batch_first=True)\n",
        "        self.dense = nn.Linear(self.hidden_size // 4, output_length)\n",
        "        self.loss_fn = nn.MSELoss()\n",
        "        \n",
        "    def forward(self, x):\n",
        "        batch_size, seq_len, _ = x.size()\n",
        "\n",
        "        hidden = self.init_hidden1(batch_size)\n",
        "        output, _ = self.lstm1(x, hidden)\n",
        "        output = F.dropout(output, p=0.5, training=True)\n",
        "        state = self.init_hidden2(batch_size)\n",
        "        output, state = self.lstm2(output, state)\n",
        "        output = F.dropout(output, p=0.5, training=True)\n",
        "        output = self.dense(state[0].squeeze(0))\n",
        "        \n",
        "        return output\n",
        "        \n",
        "    def init_hidden1(self, batch_size):\n",
        "        hidden_state = Variable(torch.zeros(self.n_layers, batch_size, self.hidden_size))\n",
        "        cell_state = Variable(torch.zeros(self.n_layers, batch_size, self.hidden_size))\n",
        "        return hidden_state, cell_state\n",
        "    \n",
        "    def init_hidden2(self, batch_size):\n",
        "        hidden_state = Variable(torch.zeros(self.n_layers, batch_size, self.hidden_size//4))\n",
        "        cell_state = Variable(torch.zeros(self.n_layers, batch_size, self.hidden_size//4))\n",
        "        return hidden_state, cell_state\n",
        "    \n",
        "    def loss(self, pred, truth):\n",
        "        return self.loss_fn(pred, truth)"
      ],
      "execution_count": 0,
      "outputs": []
    },
    {
      "cell_type": "markdown",
      "metadata": {
        "id": "DQ8JLm-ShlaU",
        "colab_type": "text"
      },
      "source": [
        "### Begin Training"
      ]
    },
    {
      "cell_type": "markdown",
      "metadata": {
        "id": "015pu48r3X1F",
        "colab_type": "text"
      },
      "source": [
        "To train the Bayesian LSTM, we use the ADAM optimizer along with mini-batch gradient descent (`batch_size = 128`). For quick demonstration purposes, the model is trained for 150 epochs.\n",
        "\n",
        "The Bayesian LSTM is trained on the first 70% of data points, using the aforementioned sliding windows of size 10. The remaining 30% of the dataset is held out purely for testing."
      ]
    },
    {
      "cell_type": "code",
      "metadata": {
        "id": "47X-uO6UhbCy",
        "colab_type": "code",
        "colab": {}
      },
      "source": [
        "n_features = scaled_array.shape[-1]\n",
        "sequence_length = 10\n",
        "output_length = 1\n",
        "\n",
        "bayesian_lstm = BayesianLSTM(n_features=n_features,\n",
        "                             output_length=output_length)\n",
        "\n",
        "criterion = torch.nn.MSELoss()\n",
        "optimizer = torch.optim.Adam(bayesian_lstm.parameters(), lr=0.01)\n",
        "\n",
        "batch_size = 128\n",
        "n_epochs = 150"
      ],
      "execution_count": 0,
      "outputs": []
    },
    {
      "cell_type": "code",
      "metadata": {
        "id": "7iZ__nxaCzZE",
        "colab_type": "code",
        "outputId": "c3123d91-cda2-4236-867a-3c3b4da0a57f",
        "colab": {
          "base_uri": "https://localhost:8080/",
          "height": 272
        }
      },
      "source": [
        "bayesian_lstm.train()\n",
        "\n",
        "for e in range(1, n_epochs+1):\n",
        "    for b in range(0,len(X_train),batch_size):\n",
        "        features = X_train[b:b+batch_size,:,:]\n",
        "        target = y_train[b:b+batch_size]    \n",
        "\n",
        "        X_batch = torch.tensor(features,dtype=torch.float32)    \n",
        "        y_batch = torch.tensor(target,dtype=torch.float32)\n",
        "\n",
        "        output = bayesian_lstm(X_batch) \n",
        "        loss = criterion(output.view(-1), y_batch)  \n",
        "\n",
        "        loss.backward()\n",
        "        optimizer.step()        \n",
        "        optimizer.zero_grad() \n",
        "\n",
        "    if e % 10 == 0:\n",
        "      print('epoch: ', e, 'loss: ', loss.item())"
      ],
      "execution_count": 0,
      "outputs": [
        {
          "output_type": "stream",
          "text": [
            "epoch:  10 loss:  0.017353834584355354\n",
            "epoch:  20 loss:  0.017157455906271935\n",
            "epoch:  30 loss:  0.016448838636279106\n",
            "epoch:  40 loss:  0.018004873767495155\n",
            "epoch:  50 loss:  0.014940242283046246\n",
            "epoch:  60 loss:  0.016107942909002304\n",
            "epoch:  70 loss:  0.014568977989256382\n",
            "epoch:  80 loss:  0.014127906411886215\n",
            "epoch:  90 loss:  0.01565316505730152\n",
            "epoch:  100 loss:  0.01567941904067993\n",
            "epoch:  110 loss:  0.012498130090534687\n",
            "epoch:  120 loss:  0.011276859790086746\n",
            "epoch:  130 loss:  0.00990995205938816\n",
            "epoch:  140 loss:  0.009433594532310963\n",
            "epoch:  150 loss:  0.012290856800973415\n"
          ],
          "name": "stdout"
        }
      ]
    },
    {
      "cell_type": "markdown",
      "metadata": {
        "id": "vUS459C6ro22",
        "colab_type": "text"
      },
      "source": [
        "# Evaluating Model Performance"
      ]
    },
    {
      "cell_type": "markdown",
      "metadata": {
        "id": "iGYj2vTl311y",
        "colab_type": "text"
      },
      "source": [
        "The Bayesian LSTM implemented is shown to produce reasonably accurate and sensible results on both the training and test sets, often comparable to other existing frequentist machine learning and deep learning methods.\n",
        "\n"
      ]
    },
    {
      "cell_type": "code",
      "metadata": {
        "id": "C-1VXE3_VH_0",
        "colab_type": "code",
        "colab": {}
      },
      "source": [
        "offset = sequence_length\n",
        "\n",
        "training_df = pd.DataFrame()\n",
        "training_df['date'] = resample_df['date'].iloc[offset:n_train + offset:1] \n",
        "training_predictions = bayesian_lstm(torch.tensor(X_train, dtype=torch.float32)).view(-1).detach().numpy()\n",
        "training_df['log_appliances'] = target_scaler.inverse_transform(training_predictions.reshape(-1, 1))\n",
        "training_df['source'] = 'Training Prediction'\n",
        "\n",
        "training_truth_df = pd.DataFrame()\n",
        "training_truth_df['date'] = training_df['date']\n",
        "training_truth_df['log_appliances'] = resample_df['log_appliances'].iloc[offset:n_train + offset:1] \n",
        "training_truth_df['source'] = 'True Values'\n",
        "\n",
        "testing_df = pd.DataFrame()\n",
        "testing_df['date'] = resample_df['date'].iloc[n_train + offset::1] \n",
        "testing_predictions = bayesian_lstm(torch.tensor(X_test, dtype=torch.float32)).view(-1).detach().numpy()\n",
        "testing_df['log_appliances'] = target_scaler.inverse_transform(testing_predictions.reshape(-1, 1))\n",
        "testing_df['source'] = 'Test Prediction'\n",
        "\n",
        "testing_truth_df = pd.DataFrame()\n",
        "testing_truth_df['date'] = testing_df['date']\n",
        "testing_truth_df['log_appliances'] = resample_df['log_appliances'].iloc[n_train + offset::1] \n",
        "testing_truth_df['source'] = 'True Values'\n",
        "\n",
        "evaluation = pd.concat([training_df, \n",
        "                        training_truth_df,\n",
        "                        testing_df,\n",
        "                        testing_truth_df\n",
        "                        ], axis=0)"
      ],
      "execution_count": 0,
      "outputs": []
    },
    {
      "cell_type": "code",
      "metadata": {
        "id": "uXQJwRO2FZio",
        "colab_type": "code",
        "outputId": "336d591f-e18b-4607-b977-63b2970be80f",
        "colab": {
          "base_uri": "https://localhost:8080/",
          "height": 617
        }
      },
      "source": [
        "fig = px.line(evaluation.loc[evaluation['date'].between('2016-04-14', '2016-04-23')],\n",
        "                 x=\"date\",\n",
        "                 y=\"log_appliances\",\n",
        "                 color=\"source\",\n",
        "                 title=\"Log of Appliance Energy Consumption in Wh vs Time\")\n",
        "fig.show()"
      ],
      "execution_count": 0,
      "outputs": [
        {
          "output_type": "display_data",
          "data": {
            "text/html": [
              "<html>\n",
              "<head><meta charset=\"utf-8\" /></head>\n",
              "<body>\n",
              "    <div>\n",
              "            <script src=\"https://cdnjs.cloudflare.com/ajax/libs/mathjax/2.7.5/MathJax.js?config=TeX-AMS-MML_SVG\"></script><script type=\"text/javascript\">if (window.MathJax) {MathJax.Hub.Config({SVG: {font: \"STIX-Web\"}});}</script>\n",
              "                <script type=\"text/javascript\">window.PlotlyConfig = {MathJaxConfig: 'local'};</script>\n",
              "        <script src=\"https://cdn.plot.ly/plotly-latest.min.js\"></script>    \n",
              "            <div id=\"f7f54e7c-dd72-4503-9dc6-c6d1250e00af\" class=\"plotly-graph-div\" style=\"height:600px; width:100%;\"></div>\n",
              "            <script type=\"text/javascript\">\n",
              "                \n",
              "                    window.PLOTLYENV=window.PLOTLYENV || {};\n",
              "                    \n",
              "                if (document.getElementById(\"f7f54e7c-dd72-4503-9dc6-c6d1250e00af\")) {\n",
              "                    Plotly.newPlot(\n",
              "                        'f7f54e7c-dd72-4503-9dc6-c6d1250e00af',\n",
              "                        [{\"hoverlabel\": {\"namelength\": 0}, \"hovertemplate\": \"source=Training Prediction<br>date=%{x}<br>log_appliances=%{y}\", \"legendgroup\": \"source=Training Prediction\", \"line\": {\"color\": \"#636efa\", \"dash\": \"solid\"}, \"mode\": \"lines\", \"name\": \"source=Training Prediction\", \"showlegend\": true, \"type\": \"scatter\", \"x\": [\"2016-04-14T00:00:00\", \"2016-04-14T01:00:00\", \"2016-04-14T02:00:00\", \"2016-04-14T03:00:00\", \"2016-04-14T04:00:00\", \"2016-04-14T05:00:00\", \"2016-04-14T06:00:00\", \"2016-04-14T07:00:00\", \"2016-04-14T08:00:00\", \"2016-04-14T09:00:00\", \"2016-04-14T10:00:00\", \"2016-04-14T11:00:00\", \"2016-04-14T12:00:00\", \"2016-04-14T13:00:00\", \"2016-04-14T14:00:00\", \"2016-04-14T15:00:00\", \"2016-04-14T16:00:00\", \"2016-04-14T17:00:00\", \"2016-04-14T18:00:00\", \"2016-04-14T19:00:00\", \"2016-04-14T20:00:00\", \"2016-04-14T21:00:00\", \"2016-04-14T22:00:00\", \"2016-04-14T23:00:00\", \"2016-04-15T00:00:00\", \"2016-04-15T01:00:00\", \"2016-04-15T02:00:00\", \"2016-04-15T03:00:00\", \"2016-04-15T04:00:00\", \"2016-04-15T05:00:00\", \"2016-04-15T06:00:00\", \"2016-04-15T07:00:00\", \"2016-04-15T08:00:00\", \"2016-04-15T09:00:00\", \"2016-04-15T10:00:00\", \"2016-04-15T11:00:00\", \"2016-04-15T12:00:00\", \"2016-04-15T13:00:00\", \"2016-04-15T14:00:00\", \"2016-04-15T15:00:00\", \"2016-04-15T16:00:00\", \"2016-04-15T17:00:00\", \"2016-04-15T18:00:00\", \"2016-04-15T19:00:00\", \"2016-04-15T20:00:00\", \"2016-04-15T21:00:00\", \"2016-04-15T22:00:00\", \"2016-04-15T23:00:00\", \"2016-04-16T00:00:00\", \"2016-04-16T01:00:00\", \"2016-04-16T02:00:00\", \"2016-04-16T03:00:00\", \"2016-04-16T04:00:00\", \"2016-04-16T05:00:00\", \"2016-04-16T06:00:00\", \"2016-04-16T07:00:00\", \"2016-04-16T08:00:00\", \"2016-04-16T09:00:00\", \"2016-04-16T10:00:00\", \"2016-04-16T11:00:00\", \"2016-04-16T12:00:00\", \"2016-04-16T13:00:00\", \"2016-04-16T14:00:00\", \"2016-04-16T15:00:00\", \"2016-04-16T16:00:00\", \"2016-04-16T17:00:00\", \"2016-04-16T18:00:00\", \"2016-04-16T19:00:00\", \"2016-04-16T20:00:00\", \"2016-04-16T21:00:00\", \"2016-04-16T22:00:00\", \"2016-04-16T23:00:00\", \"2016-04-17T00:00:00\", \"2016-04-17T01:00:00\"], \"xaxis\": \"x\", \"y\": [3.8712751865386963, 3.917853832244873, 3.897341012954712, 3.9253346920013428, 3.9197030067443848, 3.9490156173706055, 4.238277435302734, 4.595691204071045, 4.599862098693848, 4.3928751945495605, 4.45238733291626, 4.406209945678711, 4.308981418609619, 4.120852947235107, 4.231410980224609, 4.326033115386963, 4.518560409545898, 4.774611949920654, 4.855790138244629, 5.0819220542907715, 4.924854278564453, 4.016969680786133, 3.8696000576019287, 3.8664824962615967, 3.906365156173706, 3.9044597148895264, 3.8309919834136963, 3.917308807373047, 3.9827561378479004, 3.9962682723999023, 4.002948760986328, 5.357696533203125, 5.294836044311523, 5.093568325042725, 5.583393096923828, 5.273331642150879, 4.8667802810668945, 4.827670097351074, 4.199810981750488, 4.187900066375732, 4.732910633087158, 4.786430835723877, 5.30101203918457, 5.414675712585449, 4.713653087615967, 4.562939643859863, 3.9554812908172607, 3.8920397758483887, 3.924683094024658, 3.8918063640594482, 3.8595669269561768, 3.884762763977051, 3.8571383953094482, 3.872107744216919, 3.941936492919922, 4.054320812225342, 4.6697797775268555, 4.972372055053711, 5.467163562774658, 5.140507221221924, 5.466029167175293, 4.786515235900879, 5.35714864730835, 4.814477920532227, 5.561102390289307, 4.9960808753967285, 4.876409530639648, 4.887743949890137, 4.87694787979126, 4.324021816253662, 3.980309009552002, 3.9424524307250977, 3.917660713195801, 3.8695437908172607], \"yaxis\": \"y\"}, {\"hoverlabel\": {\"namelength\": 0}, \"hovertemplate\": \"source=True Values<br>date=%{x}<br>log_appliances=%{y}\", \"legendgroup\": \"source=True Values\", \"line\": {\"color\": \"#EF553B\", \"dash\": \"solid\"}, \"mode\": \"lines\", \"name\": \"source=True Values\", \"showlegend\": true, \"type\": \"scatter\", \"x\": [\"2016-04-14T00:00:00\", \"2016-04-14T01:00:00\", \"2016-04-14T02:00:00\", \"2016-04-14T03:00:00\", \"2016-04-14T04:00:00\", \"2016-04-14T05:00:00\", \"2016-04-14T06:00:00\", \"2016-04-14T07:00:00\", \"2016-04-14T08:00:00\", \"2016-04-14T09:00:00\", \"2016-04-14T10:00:00\", \"2016-04-14T11:00:00\", \"2016-04-14T12:00:00\", \"2016-04-14T13:00:00\", \"2016-04-14T14:00:00\", \"2016-04-14T15:00:00\", \"2016-04-14T16:00:00\", \"2016-04-14T17:00:00\", \"2016-04-14T18:00:00\", \"2016-04-14T19:00:00\", \"2016-04-14T20:00:00\", \"2016-04-14T21:00:00\", \"2016-04-14T22:00:00\", \"2016-04-14T23:00:00\", \"2016-04-15T00:00:00\", \"2016-04-15T01:00:00\", \"2016-04-15T02:00:00\", \"2016-04-15T03:00:00\", \"2016-04-15T04:00:00\", \"2016-04-15T05:00:00\", \"2016-04-15T06:00:00\", \"2016-04-15T07:00:00\", \"2016-04-15T08:00:00\", \"2016-04-15T09:00:00\", \"2016-04-15T10:00:00\", \"2016-04-15T11:00:00\", \"2016-04-15T12:00:00\", \"2016-04-15T13:00:00\", \"2016-04-15T14:00:00\", \"2016-04-15T15:00:00\", \"2016-04-15T16:00:00\", \"2016-04-15T17:00:00\", \"2016-04-15T18:00:00\", \"2016-04-15T19:00:00\", \"2016-04-15T20:00:00\", \"2016-04-15T21:00:00\", \"2016-04-15T22:00:00\", \"2016-04-15T23:00:00\", \"2016-04-16T00:00:00\", \"2016-04-16T01:00:00\", \"2016-04-16T02:00:00\", \"2016-04-16T03:00:00\", \"2016-04-16T04:00:00\", \"2016-04-16T05:00:00\", \"2016-04-16T06:00:00\", \"2016-04-16T07:00:00\", \"2016-04-16T08:00:00\", \"2016-04-16T09:00:00\", \"2016-04-16T10:00:00\", \"2016-04-16T11:00:00\", \"2016-04-16T12:00:00\", \"2016-04-16T13:00:00\", \"2016-04-16T14:00:00\", \"2016-04-16T15:00:00\", \"2016-04-16T16:00:00\", \"2016-04-16T17:00:00\", \"2016-04-16T18:00:00\", \"2016-04-16T19:00:00\", \"2016-04-16T20:00:00\", \"2016-04-16T21:00:00\", \"2016-04-16T22:00:00\", \"2016-04-16T23:00:00\", \"2016-04-17T00:00:00\", \"2016-04-17T01:00:00\", \"2016-04-17T02:00:00\", \"2016-04-17T03:00:00\", \"2016-04-17T04:00:00\", \"2016-04-17T05:00:00\", \"2016-04-17T06:00:00\", \"2016-04-17T07:00:00\", \"2016-04-17T08:00:00\", \"2016-04-17T09:00:00\", \"2016-04-17T10:00:00\", \"2016-04-17T11:00:00\", \"2016-04-17T12:00:00\", \"2016-04-17T13:00:00\", \"2016-04-17T14:00:00\", \"2016-04-17T15:00:00\", \"2016-04-17T16:00:00\", \"2016-04-17T17:00:00\", \"2016-04-17T18:00:00\", \"2016-04-17T19:00:00\", \"2016-04-17T20:00:00\", \"2016-04-17T21:00:00\", \"2016-04-17T22:00:00\", \"2016-04-17T23:00:00\", \"2016-04-18T00:00:00\", \"2016-04-18T01:00:00\", \"2016-04-18T02:00:00\", \"2016-04-18T03:00:00\", \"2016-04-18T04:00:00\", \"2016-04-18T05:00:00\", \"2016-04-18T06:00:00\", \"2016-04-18T07:00:00\", \"2016-04-18T08:00:00\", \"2016-04-18T09:00:00\", \"2016-04-18T10:00:00\", \"2016-04-18T11:00:00\", \"2016-04-18T12:00:00\", \"2016-04-18T13:00:00\", \"2016-04-18T14:00:00\", \"2016-04-18T15:00:00\", \"2016-04-18T16:00:00\", \"2016-04-18T17:00:00\", \"2016-04-18T18:00:00\", \"2016-04-18T19:00:00\", \"2016-04-18T20:00:00\", \"2016-04-18T21:00:00\", \"2016-04-18T22:00:00\", \"2016-04-18T23:00:00\", \"2016-04-19T00:00:00\", \"2016-04-19T01:00:00\", \"2016-04-19T02:00:00\", \"2016-04-19T03:00:00\", \"2016-04-19T04:00:00\", \"2016-04-19T05:00:00\", \"2016-04-19T06:00:00\", \"2016-04-19T07:00:00\", \"2016-04-19T08:00:00\", \"2016-04-19T09:00:00\", \"2016-04-19T10:00:00\", \"2016-04-19T11:00:00\", \"2016-04-19T12:00:00\", \"2016-04-19T13:00:00\", \"2016-04-19T14:00:00\", \"2016-04-19T15:00:00\", \"2016-04-19T16:00:00\", \"2016-04-19T17:00:00\", \"2016-04-19T18:00:00\", \"2016-04-19T19:00:00\", \"2016-04-19T20:00:00\", \"2016-04-19T21:00:00\", \"2016-04-19T22:00:00\", \"2016-04-19T23:00:00\", \"2016-04-20T00:00:00\", \"2016-04-20T01:00:00\", \"2016-04-20T02:00:00\", \"2016-04-20T03:00:00\", \"2016-04-20T04:00:00\", \"2016-04-20T05:00:00\", \"2016-04-20T06:00:00\", \"2016-04-20T07:00:00\", \"2016-04-20T08:00:00\", \"2016-04-20T09:00:00\", \"2016-04-20T10:00:00\", \"2016-04-20T11:00:00\", \"2016-04-20T12:00:00\", \"2016-04-20T13:00:00\", \"2016-04-20T14:00:00\", \"2016-04-20T15:00:00\", \"2016-04-20T16:00:00\", \"2016-04-20T17:00:00\", \"2016-04-20T18:00:00\", \"2016-04-20T19:00:00\", \"2016-04-20T20:00:00\", \"2016-04-20T21:00:00\", \"2016-04-20T22:00:00\", \"2016-04-20T23:00:00\", \"2016-04-21T00:00:00\", \"2016-04-21T01:00:00\", \"2016-04-21T02:00:00\", \"2016-04-21T03:00:00\", \"2016-04-21T04:00:00\", \"2016-04-21T05:00:00\", \"2016-04-21T06:00:00\", \"2016-04-21T07:00:00\", \"2016-04-21T08:00:00\", \"2016-04-21T09:00:00\", \"2016-04-21T10:00:00\", \"2016-04-21T11:00:00\", \"2016-04-21T12:00:00\", \"2016-04-21T13:00:00\", \"2016-04-21T14:00:00\", \"2016-04-21T15:00:00\", \"2016-04-21T16:00:00\", \"2016-04-21T17:00:00\", \"2016-04-21T18:00:00\", \"2016-04-21T19:00:00\", \"2016-04-21T20:00:00\", \"2016-04-21T21:00:00\", \"2016-04-21T22:00:00\", \"2016-04-21T23:00:00\", \"2016-04-22T00:00:00\", \"2016-04-22T01:00:00\", \"2016-04-22T02:00:00\", \"2016-04-22T03:00:00\", \"2016-04-22T04:00:00\", \"2016-04-22T05:00:00\", \"2016-04-22T06:00:00\", \"2016-04-22T07:00:00\", \"2016-04-22T08:00:00\", \"2016-04-22T09:00:00\", \"2016-04-22T10:00:00\", \"2016-04-22T11:00:00\", \"2016-04-22T12:00:00\", \"2016-04-22T13:00:00\", \"2016-04-22T14:00:00\", \"2016-04-22T15:00:00\", \"2016-04-22T16:00:00\", \"2016-04-22T17:00:00\", \"2016-04-22T18:00:00\", \"2016-04-22T19:00:00\", \"2016-04-22T20:00:00\", \"2016-04-22T21:00:00\", \"2016-04-22T22:00:00\", \"2016-04-22T23:00:00\", \"2016-04-23T00:00:00\"], \"xaxis\": \"x\", \"y\": [4.007333185232471, 3.9765615265657175, 3.9765615265657175, 3.9765615265657175, 3.9765615265657175, 3.912023005428146, 4.148411783492376, 4.360973225476049, 4.382026634673881, 4.174387269895637, 4.360973225476049, 4.402645921876617, 4.121743536410215, 3.9765615265657175, 4.248495242049359, 4.518158808998462, 4.402645921876617, 5.646624060816253, 5.393627546352362, 5.272999558563747, 4.339467020255086, 4.037186148382152, 3.912023005428146, 3.9765615265657175, 3.9448128282511368, 3.9448128282511368, 4.037186148382152, 3.8781214537524646, 4.007333185232471, 3.9765615265657175, 5.917997395226109, 5.501258210544727, 5.794029352503979, 5.501258210544727, 5.862683757242057, 5.12594614060725, 4.339467020255086, 4.148411783492376, 4.272025739459553, 4.199705077879927, 4.422848629194137, 4.382026634673881, 5.3471075307174685, 4.814890716970161, 4.700480365792417, 4.637960008811082, 4.402645921876617, 4.037186148382152, 3.9765615265657175, 4.007333185232471, 3.912023005428146, 4.037186148382152, 3.8781214537524646, 3.9765615265657175, 3.9765615265657175, 4.174387269895637, 4.637960008811082, 4.953476880256307, 5.675611597689505, 5.681309618804143, 4.685212893661628, 5.452468046375295, 5.487559366186565, 4.7303333289420975, 6.0905554497522125, 5.528105460580915, 4.917544871030244, 4.7303333289420975, 4.621699487939302, 4.553876891600541, 4.148411783492376, 4.007333185232471, 3.9448128282511368, 4.007333185232471, 3.8781214537524646, 4.0661736852554045, 3.8781214537524646, 3.9448128282511368, 3.912023005428146, 4.148411783492376, 4.941642422609304, 4.637960008811082, 6.09807428216624, 4.75932086581535, 4.965172920019499, 4.272025739459553, 4.248495242049359, 4.553876891600541, 5.12594614060725, 5.473670254025898, 4.8012850649143815, 4.814890716970161, 4.499809670330265, 4.360973225476049, 3.9765615265657175, 4.037186148382152, 4.037186148382152, 4.199705077879927, 3.9765615265657175, 3.8430301339411947, 3.8430301339411947, 3.9765615265657175, 4.007333185232471, 3.912023005428146, 3.9765615265657175, 3.912023005428146, 3.9448128282511368, 4.402645921876617, 3.8781214537524646, 3.9765615265657175, 3.6888794541139363, 4.007333185232471, 4.248495242049359, 5.573420656792957, 4.880273476233012, 4.75932086581535, 4.8283137373023015, 4.121743536410215, 3.7297014486341915, 3.9448128282511368, 3.9765615265657175, 3.6463198396951406, 3.9765615265657175, 3.9448128282511368, 3.912023005428146, 4.715518243156957, 4.360973225476049, 4.892852258439873, 3.8781214537524646, 3.9765615265657175, 3.6463198396951406, 3.9448128282511368, 3.9448128282511368, 3.8066624897703196, 3.8781214537524646, 3.912023005428146, 3.9448128282511368, 5.51477192971145, 4.854631045619675, 4.74493212836325, 4.4620693423474185, 4.0943445622221, 3.9448128282511368, 3.6888794541139363, 4.007333185232471, 3.912023005428146, 3.8066624897703196, 3.8781214537524646, 3.9448128282511368, 3.912023005428146, 4.199705077879927, 4.037186148382152, 3.9765615265657175, 4.148411783492376, 4.174387269895637, 3.8066624897703196, 3.8430301339411947, 3.9765615265657175, 5.155216522907363, 4.360973225476049, 4.272025739459553, 5.19295685089021, 5.652489180268651, 4.787491742782046, 4.685212893661628, 4.295015257684252, 3.9765615265657175, 3.7297014486341915, 3.9448128282511368, 3.9765615265657175, 3.8781214537524646, 3.6888794541139363, 3.9765615265657175, 4.2243976904702984, 4.121743536410215, 3.7689221617874726, 3.9448128282511368, 3.9448128282511368, 3.9448128282511368, 4.007333185232471, 3.912023005428146, 4.121743536410215, 4.121743536410215, 4.148411783492376, 4.4620693423474185, 5.306616169362732, 5.19295685089021, 4.854631045619675, 5.1647859739235145, 4.2243976904702984, 4.248495242049359, 4.2243976904702984, 4.121743536410215, 4.121743536410215, 4.2243976904702984, 4.199705077879927, 4.199705077879927, 4.248495242049359, 4.199705077879927, 5.145554611995626, 5.12594614060725, 5.9445476273202305, 5.9872891756975015, 5.579729825986222, 5.84354441703136, 5.634789603169249, 4.481117537318112, 5.622813412122534, 5.675611597689505, 5.9445476273202305, 5.264415814872355, 4.653960350157523, 4.653960350157523, 4.272025739459553, 4.007333185232471, 4.007333185232471, 4.037186148382152], \"yaxis\": \"y\"}, {\"hoverlabel\": {\"namelength\": 0}, \"hovertemplate\": \"source=Test Prediction<br>date=%{x}<br>log_appliances=%{y}\", \"legendgroup\": \"source=Test Prediction\", \"line\": {\"color\": \"#00cc96\", \"dash\": \"solid\"}, \"mode\": \"lines\", \"name\": \"source=Test Prediction\", \"showlegend\": true, \"type\": \"scatter\", \"x\": [\"2016-04-17T02:00:00\", \"2016-04-17T03:00:00\", \"2016-04-17T04:00:00\", \"2016-04-17T05:00:00\", \"2016-04-17T06:00:00\", \"2016-04-17T07:00:00\", \"2016-04-17T08:00:00\", \"2016-04-17T09:00:00\", \"2016-04-17T10:00:00\", \"2016-04-17T11:00:00\", \"2016-04-17T12:00:00\", \"2016-04-17T13:00:00\", \"2016-04-17T14:00:00\", \"2016-04-17T15:00:00\", \"2016-04-17T16:00:00\", \"2016-04-17T17:00:00\", \"2016-04-17T18:00:00\", \"2016-04-17T19:00:00\", \"2016-04-17T20:00:00\", \"2016-04-17T21:00:00\", \"2016-04-17T22:00:00\", \"2016-04-17T23:00:00\", \"2016-04-18T00:00:00\", \"2016-04-18T01:00:00\", \"2016-04-18T02:00:00\", \"2016-04-18T03:00:00\", \"2016-04-18T04:00:00\", \"2016-04-18T05:00:00\", \"2016-04-18T06:00:00\", \"2016-04-18T07:00:00\", \"2016-04-18T08:00:00\", \"2016-04-18T09:00:00\", \"2016-04-18T10:00:00\", \"2016-04-18T11:00:00\", \"2016-04-18T12:00:00\", \"2016-04-18T13:00:00\", \"2016-04-18T14:00:00\", \"2016-04-18T15:00:00\", \"2016-04-18T16:00:00\", \"2016-04-18T17:00:00\", \"2016-04-18T18:00:00\", \"2016-04-18T19:00:00\", \"2016-04-18T20:00:00\", \"2016-04-18T21:00:00\", \"2016-04-18T22:00:00\", \"2016-04-18T23:00:00\", \"2016-04-19T00:00:00\", \"2016-04-19T01:00:00\", \"2016-04-19T02:00:00\", \"2016-04-19T03:00:00\", \"2016-04-19T04:00:00\", \"2016-04-19T05:00:00\", \"2016-04-19T06:00:00\", \"2016-04-19T07:00:00\", \"2016-04-19T08:00:00\", \"2016-04-19T09:00:00\", \"2016-04-19T10:00:00\", \"2016-04-19T11:00:00\", \"2016-04-19T12:00:00\", \"2016-04-19T13:00:00\", \"2016-04-19T14:00:00\", \"2016-04-19T15:00:00\", \"2016-04-19T16:00:00\", \"2016-04-19T17:00:00\", \"2016-04-19T18:00:00\", \"2016-04-19T19:00:00\", \"2016-04-19T20:00:00\", \"2016-04-19T21:00:00\", \"2016-04-19T22:00:00\", \"2016-04-19T23:00:00\", \"2016-04-20T00:00:00\", \"2016-04-20T01:00:00\", \"2016-04-20T02:00:00\", \"2016-04-20T03:00:00\", \"2016-04-20T04:00:00\", \"2016-04-20T05:00:00\", \"2016-04-20T06:00:00\", \"2016-04-20T07:00:00\", \"2016-04-20T08:00:00\", \"2016-04-20T09:00:00\", \"2016-04-20T10:00:00\", \"2016-04-20T11:00:00\", \"2016-04-20T12:00:00\", \"2016-04-20T13:00:00\", \"2016-04-20T14:00:00\", \"2016-04-20T15:00:00\", \"2016-04-20T16:00:00\", \"2016-04-20T17:00:00\", \"2016-04-20T18:00:00\", \"2016-04-20T19:00:00\", \"2016-04-20T20:00:00\", \"2016-04-20T21:00:00\", \"2016-04-20T22:00:00\", \"2016-04-20T23:00:00\", \"2016-04-21T00:00:00\", \"2016-04-21T01:00:00\", \"2016-04-21T02:00:00\", \"2016-04-21T03:00:00\", \"2016-04-21T04:00:00\", \"2016-04-21T05:00:00\", \"2016-04-21T06:00:00\", \"2016-04-21T07:00:00\", \"2016-04-21T08:00:00\", \"2016-04-21T09:00:00\", \"2016-04-21T10:00:00\", \"2016-04-21T11:00:00\", \"2016-04-21T12:00:00\", \"2016-04-21T13:00:00\", \"2016-04-21T14:00:00\", \"2016-04-21T15:00:00\", \"2016-04-21T16:00:00\", \"2016-04-21T17:00:00\", \"2016-04-21T18:00:00\", \"2016-04-21T19:00:00\", \"2016-04-21T20:00:00\", \"2016-04-21T21:00:00\", \"2016-04-21T22:00:00\", \"2016-04-21T23:00:00\", \"2016-04-22T00:00:00\", \"2016-04-22T01:00:00\", \"2016-04-22T02:00:00\", \"2016-04-22T03:00:00\", \"2016-04-22T04:00:00\", \"2016-04-22T05:00:00\", \"2016-04-22T06:00:00\", \"2016-04-22T07:00:00\", \"2016-04-22T08:00:00\", \"2016-04-22T09:00:00\", \"2016-04-22T10:00:00\", \"2016-04-22T11:00:00\", \"2016-04-22T12:00:00\", \"2016-04-22T13:00:00\", \"2016-04-22T14:00:00\", \"2016-04-22T15:00:00\", \"2016-04-22T16:00:00\", \"2016-04-22T17:00:00\", \"2016-04-22T18:00:00\", \"2016-04-22T19:00:00\", \"2016-04-22T20:00:00\", \"2016-04-22T21:00:00\", \"2016-04-22T22:00:00\", \"2016-04-22T23:00:00\", \"2016-04-23T00:00:00\"], \"xaxis\": \"x\", \"y\": [3.864537000656128, 3.8862192630767822, 3.8889522552490234, 3.9242546558380127, 3.9281492233276367, 3.9845986366271973, 4.659206390380859, 5.29626989364624, 5.55745267868042, 5.065359592437744, 4.860884189605713, 4.572828769683838, 4.472731590270996, 4.342334747314453, 4.288947582244873, 5.168899059295654, 4.731926918029785, 4.47465181350708, 4.276809215545654, 4.0860209465026855, 4.0002007484436035, 3.9098117351531982, 3.9875309467315674, 3.9052999019622803, 3.960890531539917, 3.888024091720581, 3.932305097579956, 3.8741767406463623, 4.033690452575684, 5.112715721130371, 3.9757609367370605, 3.9286327362060547, 3.9799039363861084, 3.8299596309661865, 4.033017635345459, 4.326903343200684, 3.968665361404419, 3.905756950378418, 4.052225589752197, 4.137959957122803, 4.950606346130371, 4.707505702972412, 4.5199785232543945, 4.026959419250488, 3.8908610343933105, 3.874055862426758, 3.8075177669525146, 3.8795230388641357, 3.8525068759918213, 3.816469669342041, 3.869913101196289, 3.937936305999756, 4.113595008850098, 4.9581475257873535, 4.030978202819824, 4.143784046173096, 4.07292366027832, 3.9019432067871094, 4.085137844085693, 3.9735758304595947, 3.9874799251556396, 4.229270935058594, 3.9472343921661377, 4.777024745941162, 5.352629661560059, 5.334489822387695, 5.638369560241699, 3.9616305828094482, 3.8647332191467285, 3.9171245098114014, 3.840883731842041, 3.823035478591919, 3.863922357559204, 3.7987020015716553, 3.8172295093536377, 3.843938112258911, 4.051578521728516, 4.478930950164795, 4.930574893951416, 4.183019161224365, 4.127346515655518, 4.320255756378174, 4.158725261688232, 4.111397743225098, 4.168449401855469, 5.042945861816406, 4.953738212585449, 5.006311893463135, 4.33756685256958, 5.636986255645752, 4.136465549468994, 4.406452655792236, 3.9141485691070557, 3.934271812438965, 3.8056468963623047, 3.909485340118408, 3.8737905025482178, 3.8050570487976074, 3.8357560634613037, 3.8235645294189453, 4.01273775100708, 4.454043388366699, 4.529692649841309, 4.2267842292785645, 4.085011959075928, 3.947075366973877, 4.109032154083252, 4.307669639587402, 4.328292369842529, 4.187936305999756, 4.318697452545166, 4.8162665367126465, 5.4495649337768555, 4.949946403503418, 4.759765148162842, 4.03510856628418, 3.892673969268799, 3.9159181118011475, 3.9078197479248047, 3.9226348400115967, 3.9227426052093506, 4.11068058013916, 4.010826110839844, 4.15067720413208, 4.263514518737793, 4.43499755859375, 5.042943477630615, 5.126464366912842, 5.1704864501953125, 5.446409225463867, 5.227874755859375, 5.161022186279297, 5.4774885177612305, 4.7693257331848145, 5.473974704742432, 5.23787260055542, 5.322450637817383, 5.740224361419678, 4.6884846687316895, 3.9692494869232178, 3.9621946811676025, 3.934492349624634, 3.91940975189209], \"yaxis\": \"y\"}],\n",
              "                        {\"height\": 600, \"legend\": {\"tracegroupgap\": 0}, \"template\": {\"data\": {\"bar\": [{\"error_x\": {\"color\": \"#2a3f5f\"}, \"error_y\": {\"color\": \"#2a3f5f\"}, \"marker\": {\"line\": {\"color\": \"#E5ECF6\", \"width\": 0.5}}, \"type\": \"bar\"}], \"barpolar\": [{\"marker\": {\"line\": {\"color\": \"#E5ECF6\", \"width\": 0.5}}, \"type\": \"barpolar\"}], \"carpet\": [{\"aaxis\": {\"endlinecolor\": \"#2a3f5f\", \"gridcolor\": \"white\", \"linecolor\": \"white\", \"minorgridcolor\": \"white\", \"startlinecolor\": \"#2a3f5f\"}, \"baxis\": {\"endlinecolor\": \"#2a3f5f\", \"gridcolor\": \"white\", \"linecolor\": \"white\", \"minorgridcolor\": \"white\", \"startlinecolor\": \"#2a3f5f\"}, \"type\": \"carpet\"}], \"choropleth\": [{\"colorbar\": {\"outlinewidth\": 0, \"ticks\": \"\"}, \"type\": \"choropleth\"}], \"contour\": [{\"colorbar\": {\"outlinewidth\": 0, \"ticks\": \"\"}, \"colorscale\": [[0.0, \"#0d0887\"], [0.1111111111111111, \"#46039f\"], [0.2222222222222222, \"#7201a8\"], [0.3333333333333333, \"#9c179e\"], [0.4444444444444444, \"#bd3786\"], [0.5555555555555556, \"#d8576b\"], [0.6666666666666666, \"#ed7953\"], [0.7777777777777778, \"#fb9f3a\"], [0.8888888888888888, \"#fdca26\"], [1.0, \"#f0f921\"]], \"type\": \"contour\"}], \"contourcarpet\": [{\"colorbar\": {\"outlinewidth\": 0, \"ticks\": \"\"}, \"type\": \"contourcarpet\"}], \"heatmap\": [{\"colorbar\": {\"outlinewidth\": 0, \"ticks\": \"\"}, \"colorscale\": [[0.0, \"#0d0887\"], [0.1111111111111111, \"#46039f\"], [0.2222222222222222, \"#7201a8\"], [0.3333333333333333, \"#9c179e\"], [0.4444444444444444, \"#bd3786\"], [0.5555555555555556, \"#d8576b\"], [0.6666666666666666, \"#ed7953\"], [0.7777777777777778, \"#fb9f3a\"], [0.8888888888888888, \"#fdca26\"], [1.0, \"#f0f921\"]], \"type\": \"heatmap\"}], \"heatmapgl\": [{\"colorbar\": {\"outlinewidth\": 0, \"ticks\": \"\"}, \"colorscale\": [[0.0, \"#0d0887\"], [0.1111111111111111, \"#46039f\"], [0.2222222222222222, \"#7201a8\"], [0.3333333333333333, \"#9c179e\"], [0.4444444444444444, \"#bd3786\"], [0.5555555555555556, \"#d8576b\"], [0.6666666666666666, \"#ed7953\"], [0.7777777777777778, \"#fb9f3a\"], [0.8888888888888888, \"#fdca26\"], [1.0, \"#f0f921\"]], \"type\": \"heatmapgl\"}], \"histogram\": [{\"marker\": {\"colorbar\": {\"outlinewidth\": 0, \"ticks\": \"\"}}, \"type\": \"histogram\"}], \"histogram2d\": [{\"colorbar\": {\"outlinewidth\": 0, \"ticks\": \"\"}, \"colorscale\": [[0.0, \"#0d0887\"], [0.1111111111111111, \"#46039f\"], [0.2222222222222222, \"#7201a8\"], [0.3333333333333333, \"#9c179e\"], [0.4444444444444444, \"#bd3786\"], [0.5555555555555556, \"#d8576b\"], [0.6666666666666666, \"#ed7953\"], [0.7777777777777778, \"#fb9f3a\"], [0.8888888888888888, \"#fdca26\"], [1.0, \"#f0f921\"]], \"type\": \"histogram2d\"}], \"histogram2dcontour\": [{\"colorbar\": {\"outlinewidth\": 0, \"ticks\": \"\"}, \"colorscale\": [[0.0, \"#0d0887\"], [0.1111111111111111, \"#46039f\"], [0.2222222222222222, \"#7201a8\"], [0.3333333333333333, \"#9c179e\"], [0.4444444444444444, \"#bd3786\"], [0.5555555555555556, \"#d8576b\"], [0.6666666666666666, \"#ed7953\"], [0.7777777777777778, \"#fb9f3a\"], [0.8888888888888888, \"#fdca26\"], [1.0, \"#f0f921\"]], \"type\": \"histogram2dcontour\"}], \"mesh3d\": [{\"colorbar\": {\"outlinewidth\": 0, \"ticks\": \"\"}, \"type\": \"mesh3d\"}], \"parcoords\": [{\"line\": {\"colorbar\": {\"outlinewidth\": 0, \"ticks\": \"\"}}, \"type\": \"parcoords\"}], \"scatter\": [{\"marker\": {\"colorbar\": {\"outlinewidth\": 0, \"ticks\": \"\"}}, \"type\": \"scatter\"}], \"scatter3d\": [{\"line\": {\"colorbar\": {\"outlinewidth\": 0, \"ticks\": \"\"}}, \"marker\": {\"colorbar\": {\"outlinewidth\": 0, \"ticks\": \"\"}}, \"type\": \"scatter3d\"}], \"scattercarpet\": [{\"marker\": {\"colorbar\": {\"outlinewidth\": 0, \"ticks\": \"\"}}, \"type\": \"scattercarpet\"}], \"scattergeo\": [{\"marker\": {\"colorbar\": {\"outlinewidth\": 0, \"ticks\": \"\"}}, \"type\": \"scattergeo\"}], \"scattergl\": [{\"marker\": {\"colorbar\": {\"outlinewidth\": 0, \"ticks\": \"\"}}, \"type\": \"scattergl\"}], \"scattermapbox\": [{\"marker\": {\"colorbar\": {\"outlinewidth\": 0, \"ticks\": \"\"}}, \"type\": \"scattermapbox\"}], \"scatterpolar\": [{\"marker\": {\"colorbar\": {\"outlinewidth\": 0, \"ticks\": \"\"}}, \"type\": \"scatterpolar\"}], \"scatterpolargl\": [{\"marker\": {\"colorbar\": {\"outlinewidth\": 0, \"ticks\": \"\"}}, \"type\": \"scatterpolargl\"}], \"scatterternary\": [{\"marker\": {\"colorbar\": {\"outlinewidth\": 0, \"ticks\": \"\"}}, \"type\": \"scatterternary\"}], \"surface\": [{\"colorbar\": {\"outlinewidth\": 0, \"ticks\": \"\"}, \"colorscale\": [[0.0, \"#0d0887\"], [0.1111111111111111, \"#46039f\"], [0.2222222222222222, \"#7201a8\"], [0.3333333333333333, \"#9c179e\"], [0.4444444444444444, \"#bd3786\"], [0.5555555555555556, \"#d8576b\"], [0.6666666666666666, \"#ed7953\"], [0.7777777777777778, \"#fb9f3a\"], [0.8888888888888888, \"#fdca26\"], [1.0, \"#f0f921\"]], \"type\": \"surface\"}], \"table\": [{\"cells\": {\"fill\": {\"color\": \"#EBF0F8\"}, \"line\": {\"color\": \"white\"}}, \"header\": {\"fill\": {\"color\": \"#C8D4E3\"}, \"line\": {\"color\": \"white\"}}, \"type\": \"table\"}]}, \"layout\": {\"annotationdefaults\": {\"arrowcolor\": \"#2a3f5f\", \"arrowhead\": 0, \"arrowwidth\": 1}, \"colorscale\": {\"diverging\": [[0, \"#8e0152\"], [0.1, \"#c51b7d\"], [0.2, \"#de77ae\"], [0.3, \"#f1b6da\"], [0.4, \"#fde0ef\"], [0.5, \"#f7f7f7\"], [0.6, \"#e6f5d0\"], [0.7, \"#b8e186\"], [0.8, \"#7fbc41\"], [0.9, \"#4d9221\"], [1, \"#276419\"]], \"sequential\": [[0.0, \"#0d0887\"], [0.1111111111111111, \"#46039f\"], [0.2222222222222222, \"#7201a8\"], [0.3333333333333333, \"#9c179e\"], [0.4444444444444444, \"#bd3786\"], [0.5555555555555556, \"#d8576b\"], [0.6666666666666666, \"#ed7953\"], [0.7777777777777778, \"#fb9f3a\"], [0.8888888888888888, \"#fdca26\"], [1.0, \"#f0f921\"]], \"sequentialminus\": [[0.0, \"#0d0887\"], [0.1111111111111111, \"#46039f\"], [0.2222222222222222, \"#7201a8\"], [0.3333333333333333, \"#9c179e\"], [0.4444444444444444, \"#bd3786\"], [0.5555555555555556, \"#d8576b\"], [0.6666666666666666, \"#ed7953\"], [0.7777777777777778, \"#fb9f3a\"], [0.8888888888888888, \"#fdca26\"], [1.0, \"#f0f921\"]]}, \"colorway\": [\"#636efa\", \"#EF553B\", \"#00cc96\", \"#ab63fa\", \"#FFA15A\", \"#19d3f3\", \"#FF6692\", \"#B6E880\", \"#FF97FF\", \"#FECB52\"], \"font\": {\"color\": \"#2a3f5f\"}, \"geo\": {\"bgcolor\": \"white\", \"lakecolor\": \"white\", \"landcolor\": \"#E5ECF6\", \"showlakes\": true, \"showland\": true, \"subunitcolor\": \"white\"}, \"hoverlabel\": {\"align\": \"left\"}, \"hovermode\": \"closest\", \"mapbox\": {\"style\": \"light\"}, \"paper_bgcolor\": \"white\", \"plot_bgcolor\": \"#E5ECF6\", \"polar\": {\"angularaxis\": {\"gridcolor\": \"white\", \"linecolor\": \"white\", \"ticks\": \"\"}, \"bgcolor\": \"#E5ECF6\", \"radialaxis\": {\"gridcolor\": \"white\", \"linecolor\": \"white\", \"ticks\": \"\"}}, \"scene\": {\"xaxis\": {\"backgroundcolor\": \"#E5ECF6\", \"gridcolor\": \"white\", \"gridwidth\": 2, \"linecolor\": \"white\", \"showbackground\": true, \"ticks\": \"\", \"zerolinecolor\": \"white\"}, \"yaxis\": {\"backgroundcolor\": \"#E5ECF6\", \"gridcolor\": \"white\", \"gridwidth\": 2, \"linecolor\": \"white\", \"showbackground\": true, \"ticks\": \"\", \"zerolinecolor\": \"white\"}, \"zaxis\": {\"backgroundcolor\": \"#E5ECF6\", \"gridcolor\": \"white\", \"gridwidth\": 2, \"linecolor\": \"white\", \"showbackground\": true, \"ticks\": \"\", \"zerolinecolor\": \"white\"}}, \"shapedefaults\": {\"line\": {\"color\": \"#2a3f5f\"}}, \"ternary\": {\"aaxis\": {\"gridcolor\": \"white\", \"linecolor\": \"white\", \"ticks\": \"\"}, \"baxis\": {\"gridcolor\": \"white\", \"linecolor\": \"white\", \"ticks\": \"\"}, \"bgcolor\": \"#E5ECF6\", \"caxis\": {\"gridcolor\": \"white\", \"linecolor\": \"white\", \"ticks\": \"\"}}, \"title\": {\"x\": 0.05}, \"xaxis\": {\"automargin\": true, \"gridcolor\": \"white\", \"linecolor\": \"white\", \"ticks\": \"\", \"zerolinecolor\": \"white\", \"zerolinewidth\": 2}, \"yaxis\": {\"automargin\": true, \"gridcolor\": \"white\", \"linecolor\": \"white\", \"ticks\": \"\", \"zerolinecolor\": \"white\", \"zerolinewidth\": 2}}}, \"title\": {\"text\": \"Log of Appliance Energy Consumption in Wh vs Time\"}, \"xaxis\": {\"anchor\": \"y\", \"domain\": [0.0, 0.98], \"title\": {\"text\": \"date\"}}, \"yaxis\": {\"anchor\": \"x\", \"domain\": [0.0, 1.0], \"title\": {\"text\": \"log_appliances\"}}},\n",
              "                        {\"responsive\": true}\n",
              "                    ).then(function(){\n",
              "                            \n",
              "var gd = document.getElementById('f7f54e7c-dd72-4503-9dc6-c6d1250e00af');\n",
              "var x = new MutationObserver(function (mutations, observer) {{\n",
              "        var display = window.getComputedStyle(gd).display;\n",
              "        if (!display || display === 'none') {{\n",
              "            console.log([gd, 'removed!']);\n",
              "            Plotly.purge(gd);\n",
              "            observer.disconnect();\n",
              "        }}\n",
              "}});\n",
              "\n",
              "// Listen for the removal of the full notebook cells\n",
              "var notebookContainer = gd.closest('#notebook-container');\n",
              "if (notebookContainer) {{\n",
              "    x.observe(notebookContainer, {childList: true});\n",
              "}}\n",
              "\n",
              "// Listen for the clearing of the current output cell\n",
              "var outputEl = gd.closest('.output');\n",
              "if (outputEl) {{\n",
              "    x.observe(outputEl, {childList: true});\n",
              "}}\n",
              "\n",
              "                        })\n",
              "                };\n",
              "                \n",
              "            </script>\n",
              "        </div>\n",
              "</body>\n",
              "</html>"
            ]
          },
          "metadata": {
            "tags": []
          }
        }
      ]
    },
    {
      "cell_type": "markdown",
      "metadata": {
        "id": "Jrwiy646yq7t",
        "colab_type": "text"
      },
      "source": [
        "# Uncertainty Quantification"
      ]
    },
    {
      "cell_type": "markdown",
      "metadata": {
        "id": "8FEzMrU147zx",
        "colab_type": "text"
      },
      "source": [
        "The fact that stochastic dropouts are applied after each LSTM layer in the Bayesian LSTM enables users to interpret the model outputs as random samples from the posterior distribution of the target variable. \n",
        "\n",
        "This implies that by running multiple experiments/predictions, can approximate  parameters of the posterioir distribution, namely the mean and the variance, in order to create confidence intervals for each prediction.\n",
        "\n",
        "In this example, we construct 99% confidence intervals that are three standard deviations away from the approximate mean of each prediction."
      ]
    },
    {
      "cell_type": "code",
      "metadata": {
        "id": "Jb4xyVW6DVUV",
        "colab_type": "code",
        "colab": {}
      },
      "source": [
        "n_experiments = 100\n",
        "\n",
        "test_uncertainty_df = pd.DataFrame()\n",
        "test_uncertainty_df['date'] = testing_df['date']\n",
        "\n",
        "for i in range(n_experiments):\n",
        "  experiment_predictions = bayesian_lstm(torch.tensor(X_test, dtype=torch.float32)).view(-1).detach().numpy()\n",
        "  test_uncertainty_df['log_appliances_{}'.format(i)] = target_scaler.inverse_transform(experiment_predictions.reshape(-1, 1))\n",
        "\n",
        "log_appliances_df = test_uncertainty_df.filter(like='log_appliances', axis=1)\n",
        "test_uncertainty_df['log_appliances_mean'] = log_appliances_df.mean(axis=1)\n",
        "test_uncertainty_df['log_appliances_std'] = log_appliances_df.std(axis=1)\n",
        "\n",
        "test_uncertainty_df = test_uncertainty_df[['date', 'log_appliances_mean', 'log_appliances_std']]"
      ],
      "execution_count": 0,
      "outputs": []
    },
    {
      "cell_type": "code",
      "metadata": {
        "id": "SNrb70dSdDH0",
        "colab_type": "code",
        "colab": {}
      },
      "source": [
        "test_uncertainty_df['lower_bound'] = test_uncertainty_df['log_appliances_mean'] - 3*test_uncertainty_df['log_appliances_std']\n",
        "test_uncertainty_df['upper_bound'] = test_uncertainty_df['log_appliances_mean'] + 3*test_uncertainty_df['log_appliances_std']"
      ],
      "execution_count": 0,
      "outputs": []
    },
    {
      "cell_type": "code",
      "metadata": {
        "id": "WdHylS8OdEHt",
        "colab_type": "code",
        "outputId": "3ad96999-dfbb-4fc9-8838-b0f9fa0a6340",
        "colab": {
          "base_uri": "https://localhost:8080/",
          "height": 542
        }
      },
      "source": [
        "import plotly.graph_objects as go\n",
        "\n",
        "test_uncertainty_plot_df = test_uncertainty_df.copy(deep=True)\n",
        "test_uncertainty_plot_df = test_uncertainty_plot_df.loc[test_uncertainty_plot_df['date'].between('2016-05-01', '2016-05-09')]\n",
        "truth_uncertainty_plot_df = testing_truth_df.copy(deep=True)\n",
        "truth_uncertainty_plot_df = truth_uncertainty_plot_df.loc[testing_truth_df['date'].between('2016-05-01', '2016-05-09')]\n",
        "\n",
        "upper_trace = go.Scatter(\n",
        "    x=test_uncertainty_plot_df['date'],\n",
        "    y=test_uncertainty_plot_df['upper_bound'],\n",
        "    mode='lines',\n",
        "    fill=None,\n",
        "    name='99% Upper Confidence Bound'\n",
        "    )\n",
        "lower_trace = go.Scatter(\n",
        "    x=test_uncertainty_plot_df['date'],\n",
        "    y=test_uncertainty_plot_df['lower_bound'],\n",
        "    mode='lines',\n",
        "    fill='tonexty',\n",
        "    fillcolor='rgba(255, 211, 0, 0.5)',\n",
        "    name='99% Lower Confidence Bound'\n",
        "    )\n",
        "real_trace = go.Scatter(\n",
        "    x=truth_uncertainty_plot_df['date'],\n",
        "    y=truth_uncertainty_plot_df['log_appliances'],\n",
        "    mode='lines',\n",
        "    fill=None,\n",
        "    name='Real Values'\n",
        "    )\n",
        "\n",
        "data = [upper_trace, lower_trace, real_trace]\n",
        "\n",
        "fig = go.Figure(data=data)\n",
        "fig.update_layout(title='Uncertainty Quantification for Energy Consumption Test Data',\n",
        "                   xaxis_title='Time',\n",
        "                   yaxis_title='log_appliances (log Wh)')\n",
        "\n",
        "fig.show()"
      ],
      "execution_count": 0,
      "outputs": [
        {
          "output_type": "display_data",
          "data": {
            "text/html": [
              "<html>\n",
              "<head><meta charset=\"utf-8\" /></head>\n",
              "<body>\n",
              "    <div>\n",
              "            <script src=\"https://cdnjs.cloudflare.com/ajax/libs/mathjax/2.7.5/MathJax.js?config=TeX-AMS-MML_SVG\"></script><script type=\"text/javascript\">if (window.MathJax) {MathJax.Hub.Config({SVG: {font: \"STIX-Web\"}});}</script>\n",
              "                <script type=\"text/javascript\">window.PlotlyConfig = {MathJaxConfig: 'local'};</script>\n",
              "        <script src=\"https://cdn.plot.ly/plotly-latest.min.js\"></script>    \n",
              "            <div id=\"929f1c0c-e4e6-4222-8ad3-be2a2737dc76\" class=\"plotly-graph-div\" style=\"height:525px; width:100%;\"></div>\n",
              "            <script type=\"text/javascript\">\n",
              "                \n",
              "                    window.PLOTLYENV=window.PLOTLYENV || {};\n",
              "                    \n",
              "                if (document.getElementById(\"929f1c0c-e4e6-4222-8ad3-be2a2737dc76\")) {\n",
              "                    Plotly.newPlot(\n",
              "                        '929f1c0c-e4e6-4222-8ad3-be2a2737dc76',\n",
              "                        [{\"mode\": \"lines\", \"name\": \"99% Upper Confidence Bound\", \"type\": \"scatter\", \"x\": [\"2016-05-01T00:00:00\", \"2016-05-01T01:00:00\", \"2016-05-01T02:00:00\", \"2016-05-01T03:00:00\", \"2016-05-01T04:00:00\", \"2016-05-01T05:00:00\", \"2016-05-01T06:00:00\", \"2016-05-01T07:00:00\", \"2016-05-01T08:00:00\", \"2016-05-01T09:00:00\", \"2016-05-01T10:00:00\", \"2016-05-01T11:00:00\", \"2016-05-01T12:00:00\", \"2016-05-01T13:00:00\", \"2016-05-01T14:00:00\", \"2016-05-01T15:00:00\", \"2016-05-01T16:00:00\", \"2016-05-01T17:00:00\", \"2016-05-01T18:00:00\", \"2016-05-01T19:00:00\", \"2016-05-01T20:00:00\", \"2016-05-01T21:00:00\", \"2016-05-01T22:00:00\", \"2016-05-01T23:00:00\", \"2016-05-02T00:00:00\", \"2016-05-02T01:00:00\", \"2016-05-02T02:00:00\", \"2016-05-02T03:00:00\", \"2016-05-02T04:00:00\", \"2016-05-02T05:00:00\", \"2016-05-02T06:00:00\", \"2016-05-02T07:00:00\", \"2016-05-02T08:00:00\", \"2016-05-02T09:00:00\", \"2016-05-02T10:00:00\", \"2016-05-02T11:00:00\", \"2016-05-02T12:00:00\", \"2016-05-02T13:00:00\", \"2016-05-02T14:00:00\", \"2016-05-02T15:00:00\", \"2016-05-02T16:00:00\", \"2016-05-02T17:00:00\", \"2016-05-02T18:00:00\", \"2016-05-02T19:00:00\", \"2016-05-02T20:00:00\", \"2016-05-02T21:00:00\", \"2016-05-02T22:00:00\", \"2016-05-02T23:00:00\", \"2016-05-03T00:00:00\", \"2016-05-03T01:00:00\", \"2016-05-03T02:00:00\", \"2016-05-03T03:00:00\", \"2016-05-03T04:00:00\", \"2016-05-03T05:00:00\", \"2016-05-03T06:00:00\", \"2016-05-03T07:00:00\", \"2016-05-03T08:00:00\", \"2016-05-03T09:00:00\", \"2016-05-03T10:00:00\", \"2016-05-03T11:00:00\", \"2016-05-03T12:00:00\", \"2016-05-03T13:00:00\", \"2016-05-03T14:00:00\", \"2016-05-03T15:00:00\", \"2016-05-03T16:00:00\", \"2016-05-03T17:00:00\", \"2016-05-03T18:00:00\", \"2016-05-03T19:00:00\", \"2016-05-03T20:00:00\", \"2016-05-03T21:00:00\", \"2016-05-03T22:00:00\", \"2016-05-03T23:00:00\", \"2016-05-04T00:00:00\", \"2016-05-04T01:00:00\", \"2016-05-04T02:00:00\", \"2016-05-04T03:00:00\", \"2016-05-04T04:00:00\", \"2016-05-04T05:00:00\", \"2016-05-04T06:00:00\", \"2016-05-04T07:00:00\", \"2016-05-04T08:00:00\", \"2016-05-04T09:00:00\", \"2016-05-04T10:00:00\", \"2016-05-04T11:00:00\", \"2016-05-04T12:00:00\", \"2016-05-04T13:00:00\", \"2016-05-04T14:00:00\", \"2016-05-04T15:00:00\", \"2016-05-04T16:00:00\", \"2016-05-04T17:00:00\", \"2016-05-04T18:00:00\", \"2016-05-04T19:00:00\", \"2016-05-04T20:00:00\", \"2016-05-04T21:00:00\", \"2016-05-04T22:00:00\", \"2016-05-04T23:00:00\", \"2016-05-05T00:00:00\", \"2016-05-05T01:00:00\", \"2016-05-05T02:00:00\", \"2016-05-05T03:00:00\", \"2016-05-05T04:00:00\", \"2016-05-05T05:00:00\", \"2016-05-05T06:00:00\", \"2016-05-05T07:00:00\", \"2016-05-05T08:00:00\", \"2016-05-05T09:00:00\", \"2016-05-05T10:00:00\", \"2016-05-05T11:00:00\", \"2016-05-05T12:00:00\", \"2016-05-05T13:00:00\", \"2016-05-05T14:00:00\", \"2016-05-05T15:00:00\", \"2016-05-05T16:00:00\", \"2016-05-05T17:00:00\", \"2016-05-05T18:00:00\", \"2016-05-05T19:00:00\", \"2016-05-05T20:00:00\", \"2016-05-05T21:00:00\", \"2016-05-05T22:00:00\", \"2016-05-05T23:00:00\", \"2016-05-06T00:00:00\", \"2016-05-06T01:00:00\", \"2016-05-06T02:00:00\", \"2016-05-06T03:00:00\", \"2016-05-06T04:00:00\", \"2016-05-06T05:00:00\", \"2016-05-06T06:00:00\", \"2016-05-06T07:00:00\", \"2016-05-06T08:00:00\", \"2016-05-06T09:00:00\", \"2016-05-06T10:00:00\", \"2016-05-06T11:00:00\", \"2016-05-06T12:00:00\", \"2016-05-06T13:00:00\", \"2016-05-06T14:00:00\", \"2016-05-06T15:00:00\", \"2016-05-06T16:00:00\", \"2016-05-06T17:00:00\", \"2016-05-06T18:00:00\", \"2016-05-06T19:00:00\", \"2016-05-06T20:00:00\", \"2016-05-06T21:00:00\", \"2016-05-06T22:00:00\", \"2016-05-06T23:00:00\", \"2016-05-07T00:00:00\", \"2016-05-07T01:00:00\", \"2016-05-07T02:00:00\", \"2016-05-07T03:00:00\", \"2016-05-07T04:00:00\", \"2016-05-07T05:00:00\", \"2016-05-07T06:00:00\", \"2016-05-07T07:00:00\", \"2016-05-07T08:00:00\", \"2016-05-07T09:00:00\", \"2016-05-07T10:00:00\", \"2016-05-07T11:00:00\", \"2016-05-07T12:00:00\", \"2016-05-07T13:00:00\", \"2016-05-07T14:00:00\", \"2016-05-07T15:00:00\", \"2016-05-07T16:00:00\", \"2016-05-07T17:00:00\", \"2016-05-07T18:00:00\", \"2016-05-07T19:00:00\", \"2016-05-07T20:00:00\", \"2016-05-07T21:00:00\", \"2016-05-07T22:00:00\", \"2016-05-07T23:00:00\", \"2016-05-08T00:00:00\", \"2016-05-08T01:00:00\", \"2016-05-08T02:00:00\", \"2016-05-08T03:00:00\", \"2016-05-08T04:00:00\", \"2016-05-08T05:00:00\", \"2016-05-08T06:00:00\", \"2016-05-08T07:00:00\", \"2016-05-08T08:00:00\", \"2016-05-08T09:00:00\", \"2016-05-08T10:00:00\", \"2016-05-08T11:00:00\", \"2016-05-08T12:00:00\", \"2016-05-08T13:00:00\", \"2016-05-08T14:00:00\", \"2016-05-08T15:00:00\", \"2016-05-08T16:00:00\", \"2016-05-08T17:00:00\", \"2016-05-08T18:00:00\", \"2016-05-08T19:00:00\", \"2016-05-08T20:00:00\", \"2016-05-08T21:00:00\", \"2016-05-08T22:00:00\", \"2016-05-08T23:00:00\", \"2016-05-09T00:00:00\"], \"y\": [3.984365463256836, 3.9576056003570557, 3.9521267414093018, 3.932008981704712, 3.935957670211792, 3.9369089603424072, 3.9534645080566406, 4.22719144821167, 4.499854564666748, 5.203113079071045, 4.840419769287109, 4.731320381164551, 4.860970497131348, 4.603133678436279, 4.218776226043701, 4.804845333099365, 5.280790328979492, 5.454630374908447, 5.917357444763184, 5.349158763885498, 4.710715293884277, 4.4165520668029785, 4.1552300453186035, 4.023631572723389, 3.993267059326172, 3.979620933532715, 3.9703571796417236, 3.894134759902954, 3.888519525527954, 3.887373208999634, 4.508434772491455, 5.662881374359131, 4.831525802612305, 4.341245651245117, 4.197563171386719, 5.041582107543945, 4.441469669342041, 4.3292365074157715, 4.4854230880737305, 4.576211452484131, 4.574070453643799, 5.645297527313232, 5.617709636688232, 5.429059028625488, 5.341857433319092, 4.2266364097595215, 4.0551018714904785, 4.1246232986450195, 4.095055103302002, 4.028618335723877, 3.9649293422698975, 3.913282632827759, 3.8665149211883545, 3.989642858505249, 4.228604793548584, 5.186183452606201, 4.180858135223389, 4.246662139892578, 4.161706447601318, 4.240922451019287, 4.06326961517334, 4.197933197021484, 4.230884552001953, 4.248848915100098, 4.190567493438721, 5.082605361938477, 5.3989081382751465, 5.476716041564941, 5.773324012756348, 4.073591709136963, 3.990671157836914, 3.952451229095459, 3.9228456020355225, 3.9252407550811768, 3.945678234100342, 3.9980993270874023, 3.8969063758850098, 3.968074321746826, 4.2265095710754395, 5.092789173126221, 5.361315727233887, 4.45728063583374, 4.688042163848877, 4.451627731323242, 4.306309223175049, 4.27926778793335, 4.441659450531006, 4.509034156799316, 4.463804244995117, 4.979257583618164, 5.8387250900268555, 4.8389739990234375, 4.582996368408203, 4.327666759490967, 4.0436296463012695, 3.991682291030884, 3.9743244647979736, 3.954392671585083, 3.9160356521606445, 3.8999829292297363, 3.9323890209198, 3.9779250621795654, 4.033198833465576, 4.280067443847656, 5.517181873321533, 5.417864799499512, 4.786730766296387, 5.042071342468262, 4.734417915344238, 4.395739555358887, 4.093494415283203, 4.286456108093262, 4.602751731872559, 5.557448387145996, 5.609844207763672, 5.132989883422852, 4.915213108062744, 4.081057071685791, 3.996127128601074, 3.9987223148345947, 3.9585323333740234, 3.931121349334717, 3.9534616470336914, 3.931882858276367, 3.956563949584961, 3.986187696456909, 4.142104148864746, 4.67716646194458, 5.664492130279541, 5.395608901977539, 5.172120571136475, 5.1709885597229, 4.396541595458984, 4.748573303222656, 4.640103816986084, 5.246736526489258, 4.815547943115234, 5.097686290740967, 4.290029525756836, 4.82961893081665, 4.70147705078125, 4.478569507598877, 4.069707870483398, 3.941028594970703, 3.9502272605895996, 3.9666295051574707, 3.9464101791381836, 3.9706802368164062, 3.9784128665924072, 4.0057854652404785, 4.122560024261475, 4.21480655670166, 5.546482086181641, 5.232675552368164, 5.523834705352783, 5.322954177856445, 5.054192543029785, 4.426957607269287, 4.329288959503174, 4.654891014099121, 5.249299049377441, 5.177170276641846, 4.810849666595459, 4.985184669494629, 4.965977668762207, 4.645086288452148, 4.00907039642334, 3.9377012252807617, 3.9550600051879883, 3.964301586151123, 3.979017972946167, 3.9941089153289795, 3.9979772567749023, 3.989314079284668, 4.114050388336182, 4.166581153869629, 4.790878772735596, 5.6389875411987305, 5.998701572418213, 5.115405082702637, 4.69114875793457, 4.262616157531738, 4.315101146697998, 4.181586742401123, 4.846101760864258, 4.623838901519775, 4.675941467285156, 4.087208271026611, 4.329529762268066, 4.249018669128418, 4.049614429473877, 4.049182891845703, 4.004606246948242]}, {\"fill\": \"tonexty\", \"fillcolor\": \"rgba(255, 211, 0, 0.5)\", \"mode\": \"lines\", \"name\": \"99% Lower Confidence Bound\", \"type\": \"scatter\", \"x\": [\"2016-05-01T00:00:00\", \"2016-05-01T01:00:00\", \"2016-05-01T02:00:00\", \"2016-05-01T03:00:00\", \"2016-05-01T04:00:00\", \"2016-05-01T05:00:00\", \"2016-05-01T06:00:00\", \"2016-05-01T07:00:00\", \"2016-05-01T08:00:00\", \"2016-05-01T09:00:00\", \"2016-05-01T10:00:00\", \"2016-05-01T11:00:00\", \"2016-05-01T12:00:00\", \"2016-05-01T13:00:00\", \"2016-05-01T14:00:00\", \"2016-05-01T15:00:00\", \"2016-05-01T16:00:00\", \"2016-05-01T17:00:00\", \"2016-05-01T18:00:00\", \"2016-05-01T19:00:00\", \"2016-05-01T20:00:00\", \"2016-05-01T21:00:00\", \"2016-05-01T22:00:00\", \"2016-05-01T23:00:00\", \"2016-05-02T00:00:00\", \"2016-05-02T01:00:00\", \"2016-05-02T02:00:00\", \"2016-05-02T03:00:00\", \"2016-05-02T04:00:00\", \"2016-05-02T05:00:00\", \"2016-05-02T06:00:00\", \"2016-05-02T07:00:00\", \"2016-05-02T08:00:00\", \"2016-05-02T09:00:00\", \"2016-05-02T10:00:00\", \"2016-05-02T11:00:00\", \"2016-05-02T12:00:00\", \"2016-05-02T13:00:00\", \"2016-05-02T14:00:00\", \"2016-05-02T15:00:00\", \"2016-05-02T16:00:00\", \"2016-05-02T17:00:00\", \"2016-05-02T18:00:00\", \"2016-05-02T19:00:00\", \"2016-05-02T20:00:00\", \"2016-05-02T21:00:00\", \"2016-05-02T22:00:00\", \"2016-05-02T23:00:00\", \"2016-05-03T00:00:00\", \"2016-05-03T01:00:00\", \"2016-05-03T02:00:00\", \"2016-05-03T03:00:00\", \"2016-05-03T04:00:00\", \"2016-05-03T05:00:00\", \"2016-05-03T06:00:00\", \"2016-05-03T07:00:00\", \"2016-05-03T08:00:00\", \"2016-05-03T09:00:00\", \"2016-05-03T10:00:00\", \"2016-05-03T11:00:00\", \"2016-05-03T12:00:00\", \"2016-05-03T13:00:00\", \"2016-05-03T14:00:00\", \"2016-05-03T15:00:00\", \"2016-05-03T16:00:00\", \"2016-05-03T17:00:00\", \"2016-05-03T18:00:00\", \"2016-05-03T19:00:00\", \"2016-05-03T20:00:00\", \"2016-05-03T21:00:00\", \"2016-05-03T22:00:00\", \"2016-05-03T23:00:00\", \"2016-05-04T00:00:00\", \"2016-05-04T01:00:00\", \"2016-05-04T02:00:00\", \"2016-05-04T03:00:00\", \"2016-05-04T04:00:00\", \"2016-05-04T05:00:00\", \"2016-05-04T06:00:00\", \"2016-05-04T07:00:00\", \"2016-05-04T08:00:00\", \"2016-05-04T09:00:00\", \"2016-05-04T10:00:00\", \"2016-05-04T11:00:00\", \"2016-05-04T12:00:00\", \"2016-05-04T13:00:00\", \"2016-05-04T14:00:00\", \"2016-05-04T15:00:00\", \"2016-05-04T16:00:00\", \"2016-05-04T17:00:00\", \"2016-05-04T18:00:00\", \"2016-05-04T19:00:00\", \"2016-05-04T20:00:00\", \"2016-05-04T21:00:00\", \"2016-05-04T22:00:00\", \"2016-05-04T23:00:00\", \"2016-05-05T00:00:00\", \"2016-05-05T01:00:00\", \"2016-05-05T02:00:00\", \"2016-05-05T03:00:00\", \"2016-05-05T04:00:00\", \"2016-05-05T05:00:00\", \"2016-05-05T06:00:00\", \"2016-05-05T07:00:00\", \"2016-05-05T08:00:00\", \"2016-05-05T09:00:00\", \"2016-05-05T10:00:00\", \"2016-05-05T11:00:00\", \"2016-05-05T12:00:00\", \"2016-05-05T13:00:00\", \"2016-05-05T14:00:00\", \"2016-05-05T15:00:00\", \"2016-05-05T16:00:00\", \"2016-05-05T17:00:00\", \"2016-05-05T18:00:00\", \"2016-05-05T19:00:00\", \"2016-05-05T20:00:00\", \"2016-05-05T21:00:00\", \"2016-05-05T22:00:00\", \"2016-05-05T23:00:00\", \"2016-05-06T00:00:00\", \"2016-05-06T01:00:00\", \"2016-05-06T02:00:00\", \"2016-05-06T03:00:00\", \"2016-05-06T04:00:00\", \"2016-05-06T05:00:00\", \"2016-05-06T06:00:00\", \"2016-05-06T07:00:00\", \"2016-05-06T08:00:00\", \"2016-05-06T09:00:00\", \"2016-05-06T10:00:00\", \"2016-05-06T11:00:00\", \"2016-05-06T12:00:00\", \"2016-05-06T13:00:00\", \"2016-05-06T14:00:00\", \"2016-05-06T15:00:00\", \"2016-05-06T16:00:00\", \"2016-05-06T17:00:00\", \"2016-05-06T18:00:00\", \"2016-05-06T19:00:00\", \"2016-05-06T20:00:00\", \"2016-05-06T21:00:00\", \"2016-05-06T22:00:00\", \"2016-05-06T23:00:00\", \"2016-05-07T00:00:00\", \"2016-05-07T01:00:00\", \"2016-05-07T02:00:00\", \"2016-05-07T03:00:00\", \"2016-05-07T04:00:00\", \"2016-05-07T05:00:00\", \"2016-05-07T06:00:00\", \"2016-05-07T07:00:00\", \"2016-05-07T08:00:00\", \"2016-05-07T09:00:00\", \"2016-05-07T10:00:00\", \"2016-05-07T11:00:00\", \"2016-05-07T12:00:00\", \"2016-05-07T13:00:00\", \"2016-05-07T14:00:00\", \"2016-05-07T15:00:00\", \"2016-05-07T16:00:00\", \"2016-05-07T17:00:00\", \"2016-05-07T18:00:00\", \"2016-05-07T19:00:00\", \"2016-05-07T20:00:00\", \"2016-05-07T21:00:00\", \"2016-05-07T22:00:00\", \"2016-05-07T23:00:00\", \"2016-05-08T00:00:00\", \"2016-05-08T01:00:00\", \"2016-05-08T02:00:00\", \"2016-05-08T03:00:00\", \"2016-05-08T04:00:00\", \"2016-05-08T05:00:00\", \"2016-05-08T06:00:00\", \"2016-05-08T07:00:00\", \"2016-05-08T08:00:00\", \"2016-05-08T09:00:00\", \"2016-05-08T10:00:00\", \"2016-05-08T11:00:00\", \"2016-05-08T12:00:00\", \"2016-05-08T13:00:00\", \"2016-05-08T14:00:00\", \"2016-05-08T15:00:00\", \"2016-05-08T16:00:00\", \"2016-05-08T17:00:00\", \"2016-05-08T18:00:00\", \"2016-05-08T19:00:00\", \"2016-05-08T20:00:00\", \"2016-05-08T21:00:00\", \"2016-05-08T22:00:00\", \"2016-05-08T23:00:00\", \"2016-05-09T00:00:00\"], \"y\": [3.8714208602905273, 3.798841714859009, 3.8291990756988525, 3.813674211502075, 3.7897889614105225, 3.7430074214935303, 3.775569438934326, 3.914062023162842, 3.986558437347412, 4.57732629776001, 4.340488433837891, 4.300213813781738, 4.493101119995117, 4.150963306427002, 3.961521625518799, 4.325784206390381, 4.742653846740723, 4.7495198249816895, 5.078006744384766, 4.710867404937744, 4.251077651977539, 4.05050802230835, 3.905458927154541, 3.873375415802002, 3.8509836196899414, 3.842186450958252, 3.8084542751312256, 3.7034881114959717, 3.6858394145965576, 3.6838467121124268, 3.8350863456726074, 4.916580677032471, 3.8560402393341064, 3.8348827362060547, 3.8898656368255615, 3.7524728775024414, 3.809882640838623, 3.960289478302002, 4.125576972961426, 4.185818195343018, 4.111724376678467, 5.10426664352417, 5.0810980796813965, 4.7078857421875, 4.6508402824401855, 3.9316840171813965, 3.875669479370117, 3.8477065563201904, 3.8709514141082764, 3.877455949783325, 3.802074670791626, 3.752178907394409, 3.706801176071167, 3.803497552871704, 3.84303617477417, 4.715712070465088, 3.9571568965911865, 3.9606590270996094, 3.873802661895752, 3.703293800354004, 3.8284804821014404, 3.9243814945220947, 3.932375192642212, 3.982431650161743, 3.9432883262634277, 4.532262802124023, 4.940652370452881, 4.131585121154785, 5.036272048950195, 3.908137083053589, 3.8312158584594727, 3.753889560699463, 3.777395486831665, 3.7368061542510986, 3.7920827865600586, 3.758481025695801, 3.762040138244629, 3.7221813201904297, 3.8279166221618652, 4.494601726531982, 4.478738784790039, 4.026011943817139, 3.97676420211792, 3.9956588745117188, 3.9974281787872314, 4.005565166473389, 4.118469715118408, 4.196226119995117, 3.963200330734253, 4.472742080688477, 5.352865219116211, 4.565214157104492, 4.3408918380737305, 4.013265132904053, 3.8834750652313232, 3.868621587753296, 3.865018606185913, 3.8185737133026123, 3.7569141387939453, 3.7766709327697754, 3.78322434425354, 3.8581058979034424, 3.8984169960021973, 3.963914155960083, 4.892882823944092, 4.717883110046387, 4.095544815063477, 4.4252777099609375, 4.186716079711914, 3.983091354370117, 3.8991329669952393, 3.9572229385375977, 3.814622163772583, 4.9875383377075195, 5.115877151489258, 4.548663139343262, 4.38818883895874, 3.821834087371826, 3.7784852981567383, 3.8319618701934814, 3.831867218017578, 3.82450532913208, 3.789511203765869, 3.8233580589294434, 3.8200411796569824, 3.8670074939727783, 3.9610204696655273, 4.2622599601745605, 5.026992321014404, 4.668240547180176, 4.162045001983643, 4.43727445602417, 4.050995826721191, 4.355865478515625, 4.0360493659973145, 4.399121284484863, 4.195019721984863, 4.426657199859619, 3.916499137878418, 4.351820468902588, 4.445365905761719, 4.182248592376709, 3.856828212738037, 3.8247923851013184, 3.825296401977539, 3.828951358795166, 3.8000783920288086, 3.804037094116211, 3.831552267074585, 3.8724188804626465, 3.9204485416412354, 3.985814332962036, 4.909748077392578, 4.522157669067383, 4.654133319854736, 4.504517555236816, 4.497434616088867, 4.125941753387451, 4.0106635093688965, 4.31505012512207, 4.7510480880737305, 4.462810039520264, 4.3360915184021, 4.644208908081055, 4.570730209350586, 4.272426605224609, 3.851456880569458, 3.8113765716552734, 3.8185014724731445, 3.8226327896118164, 3.8054349422454834, 3.814875364303589, 3.836872100830078, 3.8574271202087402, 3.888871431350708, 3.8923397064208984, 4.25201940536499, 5.046969413757324, 5.07854700088501, 4.380462646484375, 4.192248344421387, 3.880941152572632, 3.837250232696533, 3.929861545562744, 4.042908668518066, 3.984555721282959, 3.745677947998047, 3.882723093032837, 3.7280819416046143, 3.9343271255493164, 3.8899409770965576, 3.862222909927368, 3.8724377155303955]}, {\"mode\": \"lines\", \"name\": \"Real Values\", \"type\": \"scatter\", \"x\": [\"2016-05-01T00:00:00\", \"2016-05-01T01:00:00\", \"2016-05-01T02:00:00\", \"2016-05-01T03:00:00\", \"2016-05-01T04:00:00\", \"2016-05-01T05:00:00\", \"2016-05-01T06:00:00\", \"2016-05-01T07:00:00\", \"2016-05-01T08:00:00\", \"2016-05-01T09:00:00\", \"2016-05-01T10:00:00\", \"2016-05-01T11:00:00\", \"2016-05-01T12:00:00\", \"2016-05-01T13:00:00\", \"2016-05-01T14:00:00\", \"2016-05-01T15:00:00\", \"2016-05-01T16:00:00\", \"2016-05-01T17:00:00\", \"2016-05-01T18:00:00\", \"2016-05-01T19:00:00\", \"2016-05-01T20:00:00\", \"2016-05-01T21:00:00\", \"2016-05-01T22:00:00\", \"2016-05-01T23:00:00\", \"2016-05-02T00:00:00\", \"2016-05-02T01:00:00\", \"2016-05-02T02:00:00\", \"2016-05-02T03:00:00\", \"2016-05-02T04:00:00\", \"2016-05-02T05:00:00\", \"2016-05-02T06:00:00\", \"2016-05-02T07:00:00\", \"2016-05-02T08:00:00\", \"2016-05-02T09:00:00\", \"2016-05-02T10:00:00\", \"2016-05-02T11:00:00\", \"2016-05-02T12:00:00\", \"2016-05-02T13:00:00\", \"2016-05-02T14:00:00\", \"2016-05-02T15:00:00\", \"2016-05-02T16:00:00\", \"2016-05-02T17:00:00\", \"2016-05-02T18:00:00\", \"2016-05-02T19:00:00\", \"2016-05-02T20:00:00\", \"2016-05-02T21:00:00\", \"2016-05-02T22:00:00\", \"2016-05-02T23:00:00\", \"2016-05-03T00:00:00\", \"2016-05-03T01:00:00\", \"2016-05-03T02:00:00\", \"2016-05-03T03:00:00\", \"2016-05-03T04:00:00\", \"2016-05-03T05:00:00\", \"2016-05-03T06:00:00\", \"2016-05-03T07:00:00\", \"2016-05-03T08:00:00\", \"2016-05-03T09:00:00\", \"2016-05-03T10:00:00\", \"2016-05-03T11:00:00\", \"2016-05-03T12:00:00\", \"2016-05-03T13:00:00\", \"2016-05-03T14:00:00\", \"2016-05-03T15:00:00\", \"2016-05-03T16:00:00\", \"2016-05-03T17:00:00\", \"2016-05-03T18:00:00\", \"2016-05-03T19:00:00\", \"2016-05-03T20:00:00\", \"2016-05-03T21:00:00\", \"2016-05-03T22:00:00\", \"2016-05-03T23:00:00\", \"2016-05-04T00:00:00\", \"2016-05-04T01:00:00\", \"2016-05-04T02:00:00\", \"2016-05-04T03:00:00\", \"2016-05-04T04:00:00\", \"2016-05-04T05:00:00\", \"2016-05-04T06:00:00\", \"2016-05-04T07:00:00\", \"2016-05-04T08:00:00\", \"2016-05-04T09:00:00\", \"2016-05-04T10:00:00\", \"2016-05-04T11:00:00\", \"2016-05-04T12:00:00\", \"2016-05-04T13:00:00\", \"2016-05-04T14:00:00\", \"2016-05-04T15:00:00\", \"2016-05-04T16:00:00\", \"2016-05-04T17:00:00\", \"2016-05-04T18:00:00\", \"2016-05-04T19:00:00\", \"2016-05-04T20:00:00\", \"2016-05-04T21:00:00\", \"2016-05-04T22:00:00\", \"2016-05-04T23:00:00\", \"2016-05-05T00:00:00\", \"2016-05-05T01:00:00\", \"2016-05-05T02:00:00\", \"2016-05-05T03:00:00\", \"2016-05-05T04:00:00\", \"2016-05-05T05:00:00\", \"2016-05-05T06:00:00\", \"2016-05-05T07:00:00\", \"2016-05-05T08:00:00\", \"2016-05-05T09:00:00\", \"2016-05-05T10:00:00\", \"2016-05-05T11:00:00\", \"2016-05-05T12:00:00\", \"2016-05-05T13:00:00\", \"2016-05-05T14:00:00\", \"2016-05-05T15:00:00\", \"2016-05-05T16:00:00\", \"2016-05-05T17:00:00\", \"2016-05-05T18:00:00\", \"2016-05-05T19:00:00\", \"2016-05-05T20:00:00\", \"2016-05-05T21:00:00\", \"2016-05-05T22:00:00\", \"2016-05-05T23:00:00\", \"2016-05-06T00:00:00\", \"2016-05-06T01:00:00\", \"2016-05-06T02:00:00\", \"2016-05-06T03:00:00\", \"2016-05-06T04:00:00\", \"2016-05-06T05:00:00\", \"2016-05-06T06:00:00\", \"2016-05-06T07:00:00\", \"2016-05-06T08:00:00\", \"2016-05-06T09:00:00\", \"2016-05-06T10:00:00\", \"2016-05-06T11:00:00\", \"2016-05-06T12:00:00\", \"2016-05-06T13:00:00\", \"2016-05-06T14:00:00\", \"2016-05-06T15:00:00\", \"2016-05-06T16:00:00\", \"2016-05-06T17:00:00\", \"2016-05-06T18:00:00\", \"2016-05-06T19:00:00\", \"2016-05-06T20:00:00\", \"2016-05-06T21:00:00\", \"2016-05-06T22:00:00\", \"2016-05-06T23:00:00\", \"2016-05-07T00:00:00\", \"2016-05-07T01:00:00\", \"2016-05-07T02:00:00\", \"2016-05-07T03:00:00\", \"2016-05-07T04:00:00\", \"2016-05-07T05:00:00\", \"2016-05-07T06:00:00\", \"2016-05-07T07:00:00\", \"2016-05-07T08:00:00\", \"2016-05-07T09:00:00\", \"2016-05-07T10:00:00\", \"2016-05-07T11:00:00\", \"2016-05-07T12:00:00\", \"2016-05-07T13:00:00\", \"2016-05-07T14:00:00\", \"2016-05-07T15:00:00\", \"2016-05-07T16:00:00\", \"2016-05-07T17:00:00\", \"2016-05-07T18:00:00\", \"2016-05-07T19:00:00\", \"2016-05-07T20:00:00\", \"2016-05-07T21:00:00\", \"2016-05-07T22:00:00\", \"2016-05-07T23:00:00\", \"2016-05-08T00:00:00\", \"2016-05-08T01:00:00\", \"2016-05-08T02:00:00\", \"2016-05-08T03:00:00\", \"2016-05-08T04:00:00\", \"2016-05-08T05:00:00\", \"2016-05-08T06:00:00\", \"2016-05-08T07:00:00\", \"2016-05-08T08:00:00\", \"2016-05-08T09:00:00\", \"2016-05-08T10:00:00\", \"2016-05-08T11:00:00\", \"2016-05-08T12:00:00\", \"2016-05-08T13:00:00\", \"2016-05-08T14:00:00\", \"2016-05-08T15:00:00\", \"2016-05-08T16:00:00\", \"2016-05-08T17:00:00\", \"2016-05-08T18:00:00\", \"2016-05-08T19:00:00\", \"2016-05-08T20:00:00\", \"2016-05-08T21:00:00\", \"2016-05-08T22:00:00\", \"2016-05-08T23:00:00\", \"2016-05-09T00:00:00\"], \"y\": [3.9448128282511368, 4.007333185232471, 3.8781214537524646, 3.7297014486341915, 3.9765615265657175, 3.9448128282511368, 3.9765615265657175, 4.0661736852554045, 4.442651256490317, 4.499809670330265, 4.148411783492376, 4.518158808998462, 4.5712686343124105, 4.360973225476049, 4.685212893661628, 4.653960350157523, 5.3706380281276624, 5.714832310842786, 5.604575824572753, 4.75932086581535, 4.669708707125663, 4.442651256490317, 4.248495242049359, 3.8781214537524646, 4.007333185232471, 3.9448128282511368, 3.6888794541139363, 3.9765615265657175, 3.9448128282511368, 4.637960008811082, 4.339467020255086, 5.135798437050262, 3.9765615265657175, 4.007333185232471, 3.9765615265657175, 3.9448128282511368, 4.402645921876617, 4.402645921876617, 4.382026634673881, 4.402645921876617, 4.653960350157523, 5.579729825986222, 4.841558964052322, 4.90527477843843, 4.700480365792417, 3.9765615265657175, 4.174387269895637, 4.007333185232471, 4.007333185232471, 3.6463198396951406, 3.9765615265657175, 3.9765615265657175, 3.912023005428146, 3.9448128282511368, 4.2243976904702984, 3.912023005428146, 4.007333185232471, 3.6888794541139363, 3.9448128282511368, 3.9765615265657175, 3.9765615265657175, 3.6888794541139363, 4.037186148382152, 3.912023005428146, 4.174387269895637, 5.501258210544727, 4.892852258439873, 4.929666231562589, 4.773505500807306, 4.037186148382152, 4.007333185232471, 3.7297014486341915, 3.9448128282511368, 3.9765615265657175, 4.007333185232471, 3.6463198396951406, 3.912023005428146, 4.199705077879927, 4.74493212836325, 4.0943445622221, 5.1647859739235145, 4.272025739459553, 4.422848629194137, 4.339467020255086, 4.174387269895637, 4.248495242049359, 4.248495242049359, 4.2243976904702984, 4.402645921876617, 4.7303333289420975, 4.892852258439873, 4.715518243156957, 4.605170185988092, 4.31748811353631, 4.007333185232471, 4.007333185232471, 3.6888794541139363, 4.037186148382152, 3.9448128282511368, 4.007333185232471, 3.9448128282511368, 3.6463198396951406, 4.0661736852554045, 5.115995809754082, 5.155216522907363, 4.442651256490317, 4.5712686343124105, 4.481117537318112, 4.637960008811082, 3.7297014486341915, 4.007333185232471, 4.0661736852554045, 3.9448128282511368, 5.314846668499247, 5.085536602269373, 4.58836306767171, 4.58836306767171, 4.272025739459553, 4.037186148382152, 4.007333185232471, 3.7297014486341915, 4.0661736852554045, 3.912023005428146, 4.0661736852554045, 3.912023005428146, 3.9448128282511368, 4.295015257684252, 5.508037897530106, 4.553876891600541, 5.610692051590189, 4.499809670330265, 4.700480365792417, 4.929666231562589, 4.382026634673881, 5.075173815233827, 4.31748811353631, 4.248495242049359, 4.53617731450114, 5.174264717878057, 4.841558964052322, 4.75932086581535, 4.272025739459553, 3.9765615265657175, 4.0661736852554045, 3.9448128282511368, 4.037186148382152, 3.9765615265657175, 4.007333185232471, 4.007333185232471, 3.9448128282511368, 3.9765615265657175, 4.999461993498131, 4.8012850649143815, 5.032614200815031, 5.183654458227897, 5.085536602269373, 4.4620693423474185, 4.31748811353631, 4.481117537318112, 4.637960008811082, 4.518158808998462, 4.422848629194137, 5.652489180268651, 4.787491742782046, 4.4620693423474185, 4.037186148382152, 4.0661736852554045, 4.037186148382152, 4.0661736852554045, 3.9448128282511368, 4.007333185232471, 4.037186148382152, 3.912023005428146, 4.037186148382152, 3.912023005428146, 4.0943445622221, 5.211305989558407, 4.965172920019499, 4.90527477843843, 3.912023005428146, 4.037186148382152, 4.037186148382152, 4.037186148382152, 3.912023005428146, 4.007333185232471, 4.037186148382152, 3.912023005428146, 4.0943445622221, 4.360973225476049, 4.148411783492376, 4.0661736852554045, 3.9765615265657175, 4.007333185232471]}],\n",
              "                        {\"template\": {\"data\": {\"bar\": [{\"error_x\": {\"color\": \"#2a3f5f\"}, \"error_y\": {\"color\": \"#2a3f5f\"}, \"marker\": {\"line\": {\"color\": \"#E5ECF6\", \"width\": 0.5}}, \"type\": \"bar\"}], \"barpolar\": [{\"marker\": {\"line\": {\"color\": \"#E5ECF6\", \"width\": 0.5}}, \"type\": \"barpolar\"}], \"carpet\": [{\"aaxis\": {\"endlinecolor\": \"#2a3f5f\", \"gridcolor\": \"white\", \"linecolor\": \"white\", \"minorgridcolor\": \"white\", \"startlinecolor\": \"#2a3f5f\"}, \"baxis\": {\"endlinecolor\": \"#2a3f5f\", \"gridcolor\": \"white\", \"linecolor\": \"white\", \"minorgridcolor\": \"white\", \"startlinecolor\": \"#2a3f5f\"}, \"type\": \"carpet\"}], \"choropleth\": [{\"colorbar\": {\"outlinewidth\": 0, \"ticks\": \"\"}, \"type\": \"choropleth\"}], \"contour\": [{\"colorbar\": {\"outlinewidth\": 0, \"ticks\": \"\"}, \"colorscale\": [[0.0, \"#0d0887\"], [0.1111111111111111, \"#46039f\"], [0.2222222222222222, \"#7201a8\"], [0.3333333333333333, \"#9c179e\"], [0.4444444444444444, \"#bd3786\"], [0.5555555555555556, \"#d8576b\"], [0.6666666666666666, \"#ed7953\"], [0.7777777777777778, \"#fb9f3a\"], [0.8888888888888888, \"#fdca26\"], [1.0, \"#f0f921\"]], \"type\": \"contour\"}], \"contourcarpet\": [{\"colorbar\": {\"outlinewidth\": 0, \"ticks\": \"\"}, \"type\": \"contourcarpet\"}], \"heatmap\": [{\"colorbar\": {\"outlinewidth\": 0, \"ticks\": \"\"}, \"colorscale\": [[0.0, \"#0d0887\"], [0.1111111111111111, \"#46039f\"], [0.2222222222222222, \"#7201a8\"], [0.3333333333333333, \"#9c179e\"], [0.4444444444444444, \"#bd3786\"], [0.5555555555555556, \"#d8576b\"], [0.6666666666666666, \"#ed7953\"], [0.7777777777777778, \"#fb9f3a\"], [0.8888888888888888, \"#fdca26\"], [1.0, \"#f0f921\"]], \"type\": \"heatmap\"}], \"heatmapgl\": [{\"colorbar\": {\"outlinewidth\": 0, \"ticks\": \"\"}, \"colorscale\": [[0.0, \"#0d0887\"], [0.1111111111111111, \"#46039f\"], [0.2222222222222222, \"#7201a8\"], [0.3333333333333333, \"#9c179e\"], [0.4444444444444444, \"#bd3786\"], [0.5555555555555556, \"#d8576b\"], [0.6666666666666666, \"#ed7953\"], [0.7777777777777778, \"#fb9f3a\"], [0.8888888888888888, \"#fdca26\"], [1.0, \"#f0f921\"]], \"type\": \"heatmapgl\"}], \"histogram\": [{\"marker\": {\"colorbar\": {\"outlinewidth\": 0, \"ticks\": \"\"}}, \"type\": \"histogram\"}], \"histogram2d\": [{\"colorbar\": {\"outlinewidth\": 0, \"ticks\": \"\"}, \"colorscale\": [[0.0, \"#0d0887\"], [0.1111111111111111, \"#46039f\"], [0.2222222222222222, \"#7201a8\"], [0.3333333333333333, \"#9c179e\"], [0.4444444444444444, \"#bd3786\"], [0.5555555555555556, \"#d8576b\"], [0.6666666666666666, \"#ed7953\"], [0.7777777777777778, \"#fb9f3a\"], [0.8888888888888888, \"#fdca26\"], [1.0, \"#f0f921\"]], \"type\": \"histogram2d\"}], \"histogram2dcontour\": [{\"colorbar\": {\"outlinewidth\": 0, \"ticks\": \"\"}, \"colorscale\": [[0.0, \"#0d0887\"], [0.1111111111111111, \"#46039f\"], [0.2222222222222222, \"#7201a8\"], [0.3333333333333333, \"#9c179e\"], [0.4444444444444444, \"#bd3786\"], [0.5555555555555556, \"#d8576b\"], [0.6666666666666666, \"#ed7953\"], [0.7777777777777778, \"#fb9f3a\"], [0.8888888888888888, \"#fdca26\"], [1.0, \"#f0f921\"]], \"type\": \"histogram2dcontour\"}], \"mesh3d\": [{\"colorbar\": {\"outlinewidth\": 0, \"ticks\": \"\"}, \"type\": \"mesh3d\"}], \"parcoords\": [{\"line\": {\"colorbar\": {\"outlinewidth\": 0, \"ticks\": \"\"}}, \"type\": \"parcoords\"}], \"scatter\": [{\"marker\": {\"colorbar\": {\"outlinewidth\": 0, \"ticks\": \"\"}}, \"type\": \"scatter\"}], \"scatter3d\": [{\"line\": {\"colorbar\": {\"outlinewidth\": 0, \"ticks\": \"\"}}, \"marker\": {\"colorbar\": {\"outlinewidth\": 0, \"ticks\": \"\"}}, \"type\": \"scatter3d\"}], \"scattercarpet\": [{\"marker\": {\"colorbar\": {\"outlinewidth\": 0, \"ticks\": \"\"}}, \"type\": \"scattercarpet\"}], \"scattergeo\": [{\"marker\": {\"colorbar\": {\"outlinewidth\": 0, \"ticks\": \"\"}}, \"type\": \"scattergeo\"}], \"scattergl\": [{\"marker\": {\"colorbar\": {\"outlinewidth\": 0, \"ticks\": \"\"}}, \"type\": \"scattergl\"}], \"scattermapbox\": [{\"marker\": {\"colorbar\": {\"outlinewidth\": 0, \"ticks\": \"\"}}, \"type\": \"scattermapbox\"}], \"scatterpolar\": [{\"marker\": {\"colorbar\": {\"outlinewidth\": 0, \"ticks\": \"\"}}, \"type\": \"scatterpolar\"}], \"scatterpolargl\": [{\"marker\": {\"colorbar\": {\"outlinewidth\": 0, \"ticks\": \"\"}}, \"type\": \"scatterpolargl\"}], \"scatterternary\": [{\"marker\": {\"colorbar\": {\"outlinewidth\": 0, \"ticks\": \"\"}}, \"type\": \"scatterternary\"}], \"surface\": [{\"colorbar\": {\"outlinewidth\": 0, \"ticks\": \"\"}, \"colorscale\": [[0.0, \"#0d0887\"], [0.1111111111111111, \"#46039f\"], [0.2222222222222222, \"#7201a8\"], [0.3333333333333333, \"#9c179e\"], [0.4444444444444444, \"#bd3786\"], [0.5555555555555556, \"#d8576b\"], [0.6666666666666666, \"#ed7953\"], [0.7777777777777778, \"#fb9f3a\"], [0.8888888888888888, \"#fdca26\"], [1.0, \"#f0f921\"]], \"type\": \"surface\"}], \"table\": [{\"cells\": {\"fill\": {\"color\": \"#EBF0F8\"}, \"line\": {\"color\": \"white\"}}, \"header\": {\"fill\": {\"color\": \"#C8D4E3\"}, \"line\": {\"color\": \"white\"}}, \"type\": \"table\"}]}, \"layout\": {\"annotationdefaults\": {\"arrowcolor\": \"#2a3f5f\", \"arrowhead\": 0, \"arrowwidth\": 1}, \"colorscale\": {\"diverging\": [[0, \"#8e0152\"], [0.1, \"#c51b7d\"], [0.2, \"#de77ae\"], [0.3, \"#f1b6da\"], [0.4, \"#fde0ef\"], [0.5, \"#f7f7f7\"], [0.6, \"#e6f5d0\"], [0.7, \"#b8e186\"], [0.8, \"#7fbc41\"], [0.9, \"#4d9221\"], [1, \"#276419\"]], \"sequential\": [[0.0, \"#0d0887\"], [0.1111111111111111, \"#46039f\"], [0.2222222222222222, \"#7201a8\"], [0.3333333333333333, \"#9c179e\"], [0.4444444444444444, \"#bd3786\"], [0.5555555555555556, \"#d8576b\"], [0.6666666666666666, \"#ed7953\"], [0.7777777777777778, \"#fb9f3a\"], [0.8888888888888888, \"#fdca26\"], [1.0, \"#f0f921\"]], \"sequentialminus\": [[0.0, \"#0d0887\"], [0.1111111111111111, \"#46039f\"], [0.2222222222222222, \"#7201a8\"], [0.3333333333333333, \"#9c179e\"], [0.4444444444444444, \"#bd3786\"], [0.5555555555555556, \"#d8576b\"], [0.6666666666666666, \"#ed7953\"], [0.7777777777777778, \"#fb9f3a\"], [0.8888888888888888, \"#fdca26\"], [1.0, \"#f0f921\"]]}, \"colorway\": [\"#636efa\", \"#EF553B\", \"#00cc96\", \"#ab63fa\", \"#FFA15A\", \"#19d3f3\", \"#FF6692\", \"#B6E880\", \"#FF97FF\", \"#FECB52\"], \"font\": {\"color\": \"#2a3f5f\"}, \"geo\": {\"bgcolor\": \"white\", \"lakecolor\": \"white\", \"landcolor\": \"#E5ECF6\", \"showlakes\": true, \"showland\": true, \"subunitcolor\": \"white\"}, \"hoverlabel\": {\"align\": \"left\"}, \"hovermode\": \"closest\", \"mapbox\": {\"style\": \"light\"}, \"paper_bgcolor\": \"white\", \"plot_bgcolor\": \"#E5ECF6\", \"polar\": {\"angularaxis\": {\"gridcolor\": \"white\", \"linecolor\": \"white\", \"ticks\": \"\"}, \"bgcolor\": \"#E5ECF6\", \"radialaxis\": {\"gridcolor\": \"white\", \"linecolor\": \"white\", \"ticks\": \"\"}}, \"scene\": {\"xaxis\": {\"backgroundcolor\": \"#E5ECF6\", \"gridcolor\": \"white\", \"gridwidth\": 2, \"linecolor\": \"white\", \"showbackground\": true, \"ticks\": \"\", \"zerolinecolor\": \"white\"}, \"yaxis\": {\"backgroundcolor\": \"#E5ECF6\", \"gridcolor\": \"white\", \"gridwidth\": 2, \"linecolor\": \"white\", \"showbackground\": true, \"ticks\": \"\", \"zerolinecolor\": \"white\"}, \"zaxis\": {\"backgroundcolor\": \"#E5ECF6\", \"gridcolor\": \"white\", \"gridwidth\": 2, \"linecolor\": \"white\", \"showbackground\": true, \"ticks\": \"\", \"zerolinecolor\": \"white\"}}, \"shapedefaults\": {\"line\": {\"color\": \"#2a3f5f\"}}, \"ternary\": {\"aaxis\": {\"gridcolor\": \"white\", \"linecolor\": \"white\", \"ticks\": \"\"}, \"baxis\": {\"gridcolor\": \"white\", \"linecolor\": \"white\", \"ticks\": \"\"}, \"bgcolor\": \"#E5ECF6\", \"caxis\": {\"gridcolor\": \"white\", \"linecolor\": \"white\", \"ticks\": \"\"}}, \"title\": {\"x\": 0.05}, \"xaxis\": {\"automargin\": true, \"gridcolor\": \"white\", \"linecolor\": \"white\", \"ticks\": \"\", \"zerolinecolor\": \"white\", \"zerolinewidth\": 2}, \"yaxis\": {\"automargin\": true, \"gridcolor\": \"white\", \"linecolor\": \"white\", \"ticks\": \"\", \"zerolinecolor\": \"white\", \"zerolinewidth\": 2}}}, \"title\": {\"text\": \"Uncertainty Quantification for Energy Consumption Test Data\"}, \"xaxis\": {\"title\": {\"text\": \"Time\"}}, \"yaxis\": {\"title\": {\"text\": \"log_appliances (log Wh)\"}}},\n",
              "                        {\"responsive\": true}\n",
              "                    ).then(function(){\n",
              "                            \n",
              "var gd = document.getElementById('929f1c0c-e4e6-4222-8ad3-be2a2737dc76');\n",
              "var x = new MutationObserver(function (mutations, observer) {{\n",
              "        var display = window.getComputedStyle(gd).display;\n",
              "        if (!display || display === 'none') {{\n",
              "            console.log([gd, 'removed!']);\n",
              "            Plotly.purge(gd);\n",
              "            observer.disconnect();\n",
              "        }}\n",
              "}});\n",
              "\n",
              "// Listen for the removal of the full notebook cells\n",
              "var notebookContainer = gd.closest('#notebook-container');\n",
              "if (notebookContainer) {{\n",
              "    x.observe(notebookContainer, {childList: true});\n",
              "}}\n",
              "\n",
              "// Listen for the clearing of the current output cell\n",
              "var outputEl = gd.closest('.output');\n",
              "if (outputEl) {{\n",
              "    x.observe(outputEl, {childList: true});\n",
              "}}\n",
              "\n",
              "                        })\n",
              "                };\n",
              "                \n",
              "            </script>\n",
              "        </div>\n",
              "</body>\n",
              "</html>"
            ]
          },
          "metadata": {
            "tags": []
          }
        }
      ]
    },
    {
      "cell_type": "markdown",
      "metadata": {
        "id": "7THEK4P96J0S",
        "colab_type": "text"
      },
      "source": [
        "#### Evaluating Uncertainty"
      ]
    },
    {
      "cell_type": "markdown",
      "metadata": {
        "id": "PPuR8L6D6PkL",
        "colab_type": "text"
      },
      "source": [
        "Using multiple experiments above, 99% confidence intervals have been constructed for each the prediction of the target variable (the logarithm of appliance power consumption). While we can visually observe that the model is generally capturing the behavior of the time-series, only 46% of the real data points lie within a 99% confidence interval from the mean prediction value.\n",
        "\n",
        "Despite the relatively low percentage of points within the confidence interval, it must be noted that Bayesian Neural Networks only seek to quantify the epistemic model uncertainty and does not account for aleatoric uncertainty (i.e. noise)."
      ]
    },
    {
      "cell_type": "code",
      "metadata": {
        "id": "mV2_6qekxzLn",
        "colab_type": "code",
        "outputId": "33ef7bf6-8c62-4eee-b539-aecb5176a154",
        "colab": {
          "base_uri": "https://localhost:8080/",
          "height": 34
        }
      },
      "source": [
        "bounds_df = pd.DataFrame()\n",
        "\n",
        "# Using 99% confidence bounds\n",
        "bounds_df['lower_bound'] = test_uncertainty_plot_df['lower_bound']\n",
        "bounds_df['real_value'] = truth_uncertainty_plot_df['log_appliances']\n",
        "bounds_df['upper_bound'] = test_uncertainty_plot_df['upper_bound']\n",
        "\n",
        "bounds_df['contained'] = ((bounds_df['real_value'] >= bounds_df['lower_bound']) &\n",
        "                          (bounds_df['real_value'] <= bounds_df['upper_bound']))\n",
        "\n",
        "print(\"Proportion of points contained within 99% confidence interval:\", \n",
        "      bounds_df['contained'].mean())"
      ],
      "execution_count": 0,
      "outputs": [
        {
          "output_type": "stream",
          "text": [
            "Proportion of points contained within 99% confidence interval: 0.46632124352331605\n"
          ],
          "name": "stdout"
        }
      ]
    },
    {
      "cell_type": "markdown",
      "metadata": {
        "id": "CLrYy9qgxp_C",
        "colab_type": "text"
      },
      "source": [
        "# Conclusions\n",
        "\n",
        "- Bayesian LSTMs have been able to produce comparable performance to their frequentist counterparts (all else being equal)\n",
        "- Stochastic dropout enables users to approximate the posterior distribution of the target variable, \\\n",
        "and thus construct confidence intervals for each prediction \n",
        "- Bayesian Neural Networks only attempt to account for epistemic model uncertainty and do not necessarily address aleatoric uncertainty\n",
        "- Computational overhead for repeated/multiple Bayesian LSTM predictions at inference to construct confidence intervals represent a potential challenge for real-time inference use-cases."
      ]
    }
  ]
}