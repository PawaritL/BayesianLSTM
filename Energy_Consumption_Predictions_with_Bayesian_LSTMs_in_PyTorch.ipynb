{
  "nbformat": 4,
  "nbformat_minor": 0,
  "metadata": {
    "colab": {
      "name": "Energy Consumption Predictions with Bayesian LSTMs in PyTorch.ipynb",
      "provenance": [],
      "collapsed_sections": [],
      "include_colab_link": true
    },
    "kernelspec": {
      "name": "python3",
      "display_name": "Python 3"
    }
  },
  "cells": [
    {
      "cell_type": "markdown",
      "metadata": {
        "id": "view-in-github",
        "colab_type": "text"
      },
      "source": [
        "<a href=\"https://colab.research.google.com/github/PawaritL/BayesianLSTM/blob/master/Energy_Consumption_Predictions_with_Bayesian_LSTMs_in_PyTorch.ipynb\" target=\"_parent\"><img src=\"https://colab.research.google.com/assets/colab-badge.svg\" alt=\"Open In Colab\"/></a>"
      ]
    },
    {
      "cell_type": "markdown",
      "metadata": {
        "id": "VHRshe9Y-Q0Q",
        "colab_type": "text"
      },
      "source": [
        "# Energy Consumption Predictions with Bayesian LSTMs in PyTorch"
      ]
    },
    {
      "cell_type": "markdown",
      "metadata": {
        "id": "8GGWUqKU1paW",
        "colab_type": "text"
      },
      "source": [
        "Author: Pawarit Laosunthara\n",
        "\n"
      ]
    },
    {
      "cell_type": "markdown",
      "metadata": {
        "id": "3FQQioKQ-Tkr",
        "colab_type": "text"
      },
      "source": [
        "**Important Note for GitHub Readers:** Please click the **Open in Colab** button above in order to view all interactive visualizations.\n",
        "\n",
        "This notebook demonstrates an implementation of an (Approximate) Bayesian Recurrent Neural Network in PyTorch, originally inspired by the *Deep and Confident Prediction for Time Series at Uber* (https://arxiv.org/pdf/1709.01907.pdf)\n",
        "\n",
        "<br>\n",
        "\n",
        "In this approach, Monte Carlo dropout is used to **approximate** Bayesian inference, allowing our predictions to have explicit uncertainties and confidence intervals. This property makes Bayesian Neural Networks highly appealing to critical applications requiring uncertainty quantification.\n",
        "The *Appliances energy prediction* dataset used in this example is from the UCI Machine Learning Repository (https://archive.ics.uci.edu/ml/datasets/Appliances+energy+prediction)\n",
        "\n",
        "\n",
        "**Note:** this notebook purely serves to demonstrate the implementation of Bayesian LSTMs (Long Short-Term Memory) networks in PyTorch. Therefore, extensive data exploration and feature engineering is not part of the scope of this investigation."
      ]
    },
    {
      "cell_type": "markdown",
      "metadata": {
        "id": "psI_d17Y_3_9",
        "colab_type": "text"
      },
      "source": [
        "# Preliminary Data Wrangling"
      ]
    },
    {
      "cell_type": "markdown",
      "metadata": {
        "id": "OFY02qDSAbqI",
        "colab_type": "text"
      },
      "source": [
        "**Selected Columns:**\n",
        "\n",
        "- date time year-month-day hour:minute:second, sampled every 10 minutes \\\n",
        "- Appliances, energy use in Wh for the corresponding 10-minute timestamp \\\n",
        "- day_of_week, where Monday corresponds to 0 \\\n",
        "- hour_of_day\n"
      ]
    },
    {
      "cell_type": "code",
      "metadata": {
        "id": "uWNK0BtB2W0E",
        "colab_type": "code",
        "colab": {}
      },
      "source": [
        "import pandas as pd"
      ],
      "execution_count": 0,
      "outputs": []
    },
    {
      "cell_type": "code",
      "metadata": {
        "id": "WDYp3nRh-Bpv",
        "colab_type": "code",
        "colab": {}
      },
      "source": [
        "energy_df = pd.read_csv('https://archive.ics.uci.edu/ml/machine-learning-databases/00374/energydata_complete.csv')\n",
        "\n",
        "energy_df['date'] = pd.to_datetime(energy_df['date'])\n",
        "\n",
        "energy_df['month'] = energy_df['date'].dt.month.astype(int)\n",
        "energy_df['day_of_month'] = energy_df['date'].dt.day.astype(int)\n",
        "\n",
        "# day_of_week=0 corresponds to Monday\n",
        "energy_df['day_of_week'] = energy_df['date'].dt.dayofweek.astype(int)\n",
        "energy_df['hour_of_day'] = energy_df['date'].dt.hour.astype(int)\n",
        "\n",
        "selected_columns = ['date', 'day_of_week', 'hour_of_day', 'Appliances']\n",
        "energy_df = energy_df[selected_columns]"
      ],
      "execution_count": 0,
      "outputs": []
    },
    {
      "cell_type": "code",
      "metadata": {
        "id": "vv4cV2qr-E-8",
        "colab_type": "code",
        "outputId": "36b4f681-672b-408d-9561-c2dd0f5375f6",
        "colab": {
          "base_uri": "https://localhost:8080/",
          "height": 204
        }
      },
      "source": [
        "energy_df.head()"
      ],
      "execution_count": 3,
      "outputs": [
        {
          "output_type": "execute_result",
          "data": {
            "text/html": [
              "<div>\n",
              "<style scoped>\n",
              "    .dataframe tbody tr th:only-of-type {\n",
              "        vertical-align: middle;\n",
              "    }\n",
              "\n",
              "    .dataframe tbody tr th {\n",
              "        vertical-align: top;\n",
              "    }\n",
              "\n",
              "    .dataframe thead th {\n",
              "        text-align: right;\n",
              "    }\n",
              "</style>\n",
              "<table border=\"1\" class=\"dataframe\">\n",
              "  <thead>\n",
              "    <tr style=\"text-align: right;\">\n",
              "      <th></th>\n",
              "      <th>date</th>\n",
              "      <th>day_of_week</th>\n",
              "      <th>hour_of_day</th>\n",
              "      <th>Appliances</th>\n",
              "    </tr>\n",
              "  </thead>\n",
              "  <tbody>\n",
              "    <tr>\n",
              "      <th>0</th>\n",
              "      <td>2016-01-11 17:00:00</td>\n",
              "      <td>0</td>\n",
              "      <td>17</td>\n",
              "      <td>60</td>\n",
              "    </tr>\n",
              "    <tr>\n",
              "      <th>1</th>\n",
              "      <td>2016-01-11 17:10:00</td>\n",
              "      <td>0</td>\n",
              "      <td>17</td>\n",
              "      <td>60</td>\n",
              "    </tr>\n",
              "    <tr>\n",
              "      <th>2</th>\n",
              "      <td>2016-01-11 17:20:00</td>\n",
              "      <td>0</td>\n",
              "      <td>17</td>\n",
              "      <td>50</td>\n",
              "    </tr>\n",
              "    <tr>\n",
              "      <th>3</th>\n",
              "      <td>2016-01-11 17:30:00</td>\n",
              "      <td>0</td>\n",
              "      <td>17</td>\n",
              "      <td>50</td>\n",
              "    </tr>\n",
              "    <tr>\n",
              "      <th>4</th>\n",
              "      <td>2016-01-11 17:40:00</td>\n",
              "      <td>0</td>\n",
              "      <td>17</td>\n",
              "      <td>60</td>\n",
              "    </tr>\n",
              "  </tbody>\n",
              "</table>\n",
              "</div>"
            ],
            "text/plain": [
              "                 date  day_of_week  hour_of_day  Appliances\n",
              "0 2016-01-11 17:00:00            0           17          60\n",
              "1 2016-01-11 17:10:00            0           17          60\n",
              "2 2016-01-11 17:20:00            0           17          50\n",
              "3 2016-01-11 17:30:00            0           17          50\n",
              "4 2016-01-11 17:40:00            0           17          60"
            ]
          },
          "metadata": {
            "tags": []
          },
          "execution_count": 3
        }
      ]
    },
    {
      "cell_type": "markdown",
      "metadata": {
        "id": "d8BJQAqaJqv7",
        "colab_type": "text"
      },
      "source": [
        "## Time Series Transformations\n",
        "\n",
        "1. The dataset is to be re-sampled at an hourly rate for more meaningful analytics.\n",
        "\n",
        "2. To alleviate exponential effects, the target variable is log-transformed as per the Uber paper.\n",
        "\n",
        "3. For simplicit, only temporal and autoregressive features, namely `day_of_week`, `hour_of_day`, \\\n",
        "and previous values of `Appliances` are used as features"
      ]
    },
    {
      "cell_type": "code",
      "metadata": {
        "id": "LcXp9XEaJqXO",
        "colab_type": "code",
        "colab": {}
      },
      "source": [
        "import numpy as np\n",
        "\n",
        "resample_df = energy_df.set_index('date').resample('1H').mean()\n",
        "resample_df['date'] = resample_df.index\n",
        "resample_df['log_appliances'] = np.log(resample_df['Appliances'])\n",
        "\n",
        "datetime_columns = ['date', 'day_of_week', 'hour_of_day']\n",
        "target_column = 'log_appliances'\n",
        "\n",
        "feature_columns = datetime_columns + ['log_appliances']\n",
        "\n",
        "# For clarity in visualization and presentation, \n",
        "# only consider the first 150 hours of data.\n",
        "resample_df = resample_df[feature_columns]"
      ],
      "execution_count": 0,
      "outputs": []
    },
    {
      "cell_type": "code",
      "metadata": {
        "id": "tY1pfEIGDvvc",
        "colab_type": "code",
        "outputId": "cfee9364-45f7-4bdb-d470-66dfd4756754",
        "colab": {
          "base_uri": "https://localhost:8080/",
          "height": 617
        }
      },
      "source": [
        "import plotly.express as px\n",
        "\n",
        "plot_length = 150\n",
        "plot_df = resample_df.copy(deep=True).iloc[:plot_length]\n",
        "plot_df['weekday'] = plot_df['date'].dt.weekday_name\n",
        "\n",
        "fig = px.line(plot_df,\n",
        "              x=\"date\",\n",
        "              y=\"log_appliances\", \n",
        "              color=\"weekday\", \n",
        "              title=\"Log of Appliance Energy Consumption in Wh vs Time\")\n",
        "fig.show()"
      ],
      "execution_count": 5,
      "outputs": [
        {
          "output_type": "display_data",
          "data": {
            "text/html": [
              "<html>\n",
              "<head><meta charset=\"utf-8\" /></head>\n",
              "<body>\n",
              "    <div>\n",
              "            <script src=\"https://cdnjs.cloudflare.com/ajax/libs/mathjax/2.7.5/MathJax.js?config=TeX-AMS-MML_SVG\"></script><script type=\"text/javascript\">if (window.MathJax) {MathJax.Hub.Config({SVG: {font: \"STIX-Web\"}});}</script>\n",
              "                <script type=\"text/javascript\">window.PlotlyConfig = {MathJaxConfig: 'local'};</script>\n",
              "        <script src=\"https://cdn.plot.ly/plotly-latest.min.js\"></script>    \n",
              "            <div id=\"8620ae5d-aa1d-4390-8cf4-9701bf18c09d\" class=\"plotly-graph-div\" style=\"height:600px; width:100%;\"></div>\n",
              "            <script type=\"text/javascript\">\n",
              "                \n",
              "                    window.PLOTLYENV=window.PLOTLYENV || {};\n",
              "                    \n",
              "                if (document.getElementById(\"8620ae5d-aa1d-4390-8cf4-9701bf18c09d\")) {\n",
              "                    Plotly.newPlot(\n",
              "                        '8620ae5d-aa1d-4390-8cf4-9701bf18c09d',\n",
              "                        [{\"hoverlabel\": {\"namelength\": 0}, \"hovertemplate\": \"weekday=Monday<br>date=%{x}<br>log_appliances=%{y}\", \"legendgroup\": \"weekday=Monday\", \"line\": {\"color\": \"#636efa\", \"dash\": \"solid\"}, \"mode\": \"lines\", \"name\": \"weekday=Monday\", \"showlegend\": true, \"type\": \"scatter\", \"x\": [\"2016-01-11T17:00:00\", \"2016-01-11T18:00:00\", \"2016-01-11T19:00:00\", \"2016-01-11T20:00:00\", \"2016-01-11T21:00:00\", \"2016-01-11T22:00:00\", \"2016-01-11T23:00:00\"], \"xaxis\": \"x\", \"y\": [4.007333185232471, 5.174264717878057, 5.155216522907363, 4.8283137373023015, 4.637960008811082, 5.585999438999818, 4.037186148382152], \"yaxis\": \"y\"}, {\"hoverlabel\": {\"namelength\": 0}, \"hovertemplate\": \"weekday=Tuesday<br>date=%{x}<br>log_appliances=%{y}\", \"legendgroup\": \"weekday=Tuesday\", \"line\": {\"color\": \"#EF553B\", \"dash\": \"solid\"}, \"mode\": \"lines\", \"name\": \"weekday=Tuesday\", \"showlegend\": true, \"type\": \"scatter\", \"x\": [\"2016-01-12T00:00:00\", \"2016-01-12T01:00:00\", \"2016-01-12T02:00:00\", \"2016-01-12T03:00:00\", \"2016-01-12T04:00:00\", \"2016-01-12T05:00:00\", \"2016-01-12T06:00:00\", \"2016-01-12T07:00:00\", \"2016-01-12T08:00:00\", \"2016-01-12T09:00:00\", \"2016-01-12T10:00:00\", \"2016-01-12T11:00:00\", \"2016-01-12T12:00:00\", \"2016-01-12T13:00:00\", \"2016-01-12T14:00:00\", \"2016-01-12T15:00:00\", \"2016-01-12T16:00:00\", \"2016-01-12T17:00:00\", \"2016-01-12T18:00:00\", \"2016-01-12T19:00:00\", \"2016-01-12T20:00:00\", \"2016-01-12T21:00:00\", \"2016-01-12T22:00:00\", \"2016-01-12T23:00:00\"], \"xaxis\": \"x\", \"y\": [4.953476880256307, 5.12594614060725, 3.8066624897703196, 3.5553480614894135, 3.8066624897703196, 3.7689221617874726, 3.6888794541139363, 4.037186148382152, 4.4620693423474185, 3.7689221617874726, 5.438079308923196, 4.007333185232471, 5.2293244950610855, 5.02168513028284, 4.917544871030244, 3.6018680771243066, 3.6888794541139363, 5.386022946967143, 4.0661736852554045, 4.007333185232471, 3.9448128282511368, 3.7297014486341915, 3.8430301339411947, 3.7689221617874726], \"yaxis\": \"y\"}, {\"hoverlabel\": {\"namelength\": 0}, \"hovertemplate\": \"weekday=Wednesday<br>date=%{x}<br>log_appliances=%{y}\", \"legendgroup\": \"weekday=Wednesday\", \"line\": {\"color\": \"#00cc96\", \"dash\": \"solid\"}, \"mode\": \"lines\", \"name\": \"weekday=Wednesday\", \"showlegend\": true, \"type\": \"scatter\", \"x\": [\"2016-01-13T00:00:00\", \"2016-01-13T01:00:00\", \"2016-01-13T02:00:00\", \"2016-01-13T03:00:00\", \"2016-01-13T04:00:00\", \"2016-01-13T05:00:00\", \"2016-01-13T06:00:00\", \"2016-01-13T07:00:00\", \"2016-01-13T08:00:00\", \"2016-01-13T09:00:00\", \"2016-01-13T10:00:00\", \"2016-01-13T11:00:00\", \"2016-01-13T12:00:00\", \"2016-01-13T13:00:00\", \"2016-01-13T14:00:00\", \"2016-01-13T15:00:00\", \"2016-01-13T16:00:00\", \"2016-01-13T17:00:00\", \"2016-01-13T18:00:00\", \"2016-01-13T19:00:00\", \"2016-01-13T20:00:00\", \"2016-01-13T21:00:00\", \"2016-01-13T22:00:00\", \"2016-01-13T23:00:00\"], \"xaxis\": \"x\", \"y\": [3.455264602932431, 3.8781214537524646, 3.8066624897703196, 3.455264602932431, 3.8066624897703196, 3.7297014486341915, 4.199705077879927, 4.148411783492376, 5.339139361068292, 5.393627546352362, 4.199705077879927, 4.0943445622221, 3.7297014486341915, 3.5553480614894135, 3.8066624897703196, 3.7297014486341915, 4.382026634673881, 4.5712686343124105, 4.715518243156957, 5.362855887685608, 5.51477192971145, 5.74726758659594, 4.880273476233012, 3.7297014486341915], \"yaxis\": \"y\"}, {\"hoverlabel\": {\"namelength\": 0}, \"hovertemplate\": \"weekday=Thursday<br>date=%{x}<br>log_appliances=%{y}\", \"legendgroup\": \"weekday=Thursday\", \"line\": {\"color\": \"#ab63fa\", \"dash\": \"solid\"}, \"mode\": \"lines\", \"name\": \"weekday=Thursday\", \"showlegend\": true, \"type\": \"scatter\", \"x\": [\"2016-01-14T00:00:00\", \"2016-01-14T01:00:00\", \"2016-01-14T02:00:00\", \"2016-01-14T03:00:00\", \"2016-01-14T04:00:00\", \"2016-01-14T05:00:00\", \"2016-01-14T06:00:00\", \"2016-01-14T07:00:00\", \"2016-01-14T08:00:00\", \"2016-01-14T09:00:00\", \"2016-01-14T10:00:00\", \"2016-01-14T11:00:00\", \"2016-01-14T12:00:00\", \"2016-01-14T13:00:00\", \"2016-01-14T14:00:00\", \"2016-01-14T15:00:00\", \"2016-01-14T16:00:00\", \"2016-01-14T17:00:00\", \"2016-01-14T18:00:00\", \"2016-01-14T19:00:00\", \"2016-01-14T20:00:00\", \"2016-01-14T21:00:00\", \"2016-01-14T22:00:00\", \"2016-01-14T23:00:00\"], \"xaxis\": \"x\", \"y\": [3.8430301339411947, 3.6018680771243066, 3.7689221617874726, 3.8066624897703196, 3.5553480614894135, 3.8066624897703196, 3.6888794541139363, 5.423480509502043, 5.075173815233827, 5.12594614060725, 6.288477946988647, 5.473670254025898, 5.646624060816253, 4.248495242049359, 4.867534450455582, 3.9448128282511368, 5.731181448844316, 6.003887067106539, 5.378360074221573, 5.445299556896682, 4.700480365792417, 4.75932086581535, 3.8781214537524646, 3.6463198396951406], \"yaxis\": \"y\"}, {\"hoverlabel\": {\"namelength\": 0}, \"hovertemplate\": \"weekday=Friday<br>date=%{x}<br>log_appliances=%{y}\", \"legendgroup\": \"weekday=Friday\", \"line\": {\"color\": \"#FFA15A\", \"dash\": \"solid\"}, \"mode\": \"lines\", \"name\": \"weekday=Friday\", \"showlegend\": true, \"type\": \"scatter\", \"x\": [\"2016-01-15T00:00:00\", \"2016-01-15T01:00:00\", \"2016-01-15T02:00:00\", \"2016-01-15T03:00:00\", \"2016-01-15T04:00:00\", \"2016-01-15T05:00:00\", \"2016-01-15T06:00:00\", \"2016-01-15T07:00:00\", \"2016-01-15T08:00:00\", \"2016-01-15T09:00:00\", \"2016-01-15T10:00:00\", \"2016-01-15T11:00:00\", \"2016-01-15T12:00:00\", \"2016-01-15T13:00:00\", \"2016-01-15T14:00:00\", \"2016-01-15T15:00:00\", \"2016-01-15T16:00:00\", \"2016-01-15T17:00:00\", \"2016-01-15T18:00:00\", \"2016-01-15T19:00:00\", \"2016-01-15T20:00:00\", \"2016-01-15T21:00:00\", \"2016-01-15T22:00:00\", \"2016-01-15T23:00:00\"], \"xaxis\": \"x\", \"y\": [3.9765615265657175, 3.9448128282511368, 3.8430301339411947, 3.7689221617874726, 3.912023005428146, 3.912023005428146, 3.8066624897703196, 3.9448128282511368, 5.459585514144159, 5.331107189371028, 4.8283137373023015, 4.8283137373023015, 5.3471075307174685, 5.281510248231656, 4.148411783492376, 4.037186148382152, 4.037186148382152, 4.58836306767171, 5.628819436182746, 5.393627546352362, 5.452468046375295, 5.438079308923196, 5.386022946967143, 4.148411783492376], \"yaxis\": \"y\"}, {\"hoverlabel\": {\"namelength\": 0}, \"hovertemplate\": \"weekday=Saturday<br>date=%{x}<br>log_appliances=%{y}\", \"legendgroup\": \"weekday=Saturday\", \"line\": {\"color\": \"#19d3f3\", \"dash\": \"solid\"}, \"mode\": \"lines\", \"name\": \"weekday=Saturday\", \"showlegend\": true, \"type\": \"scatter\", \"x\": [\"2016-01-16T00:00:00\", \"2016-01-16T01:00:00\", \"2016-01-16T02:00:00\", \"2016-01-16T03:00:00\", \"2016-01-16T04:00:00\", \"2016-01-16T05:00:00\", \"2016-01-16T06:00:00\", \"2016-01-16T07:00:00\", \"2016-01-16T08:00:00\", \"2016-01-16T09:00:00\", \"2016-01-16T10:00:00\", \"2016-01-16T11:00:00\", \"2016-01-16T12:00:00\", \"2016-01-16T13:00:00\", \"2016-01-16T14:00:00\", \"2016-01-16T15:00:00\", \"2016-01-16T16:00:00\", \"2016-01-16T17:00:00\", \"2016-01-16T18:00:00\", \"2016-01-16T19:00:00\", \"2016-01-16T20:00:00\", \"2016-01-16T21:00:00\", \"2016-01-16T22:00:00\", \"2016-01-16T23:00:00\"], \"xaxis\": \"x\", \"y\": [3.6888794541139363, 3.9765615265657175, 3.8430301339411947, 3.7297014486341915, 3.912023005428146, 3.6888794541139363, 3.9448128282511368, 5.508037897530106, 4.941642422609304, 4.121743536410215, 4.272025739459553, 3.9765615265657175, 4.31748811353631, 4.4620693423474185, 4.272025739459553, 5.339139361068292, 4.31748811353631, 5.579729825986222, 6.159799861927197, 5.970411137910149, 4.773505500807306, 4.787491742782046, 5.135798437050262, 4.007333185232471], \"yaxis\": \"y\"}, {\"hoverlabel\": {\"namelength\": 0}, \"hovertemplate\": \"weekday=Sunday<br>date=%{x}<br>log_appliances=%{y}\", \"legendgroup\": \"weekday=Sunday\", \"line\": {\"color\": \"#FF6692\", \"dash\": \"solid\"}, \"mode\": \"lines\", \"name\": \"weekday=Sunday\", \"showlegend\": true, \"type\": \"scatter\", \"x\": [\"2016-01-17T00:00:00\", \"2016-01-17T01:00:00\", \"2016-01-17T02:00:00\", \"2016-01-17T03:00:00\", \"2016-01-17T04:00:00\", \"2016-01-17T05:00:00\", \"2016-01-17T06:00:00\", \"2016-01-17T07:00:00\", \"2016-01-17T08:00:00\", \"2016-01-17T09:00:00\", \"2016-01-17T10:00:00\", \"2016-01-17T11:00:00\", \"2016-01-17T12:00:00\", \"2016-01-17T13:00:00\", \"2016-01-17T14:00:00\", \"2016-01-17T15:00:00\", \"2016-01-17T16:00:00\", \"2016-01-17T17:00:00\", \"2016-01-17T18:00:00\", \"2016-01-17T19:00:00\", \"2016-01-17T20:00:00\", \"2016-01-17T21:00:00\", \"2016-01-17T22:00:00\"], \"xaxis\": \"x\", \"y\": [3.8430301339411947, 3.9448128282511368, 3.7689221617874726, 3.912023005428146, 3.9448128282511368, 3.7689221617874726, 3.8066624897703196, 5.853159875730801, 5.604575824572753, 5.675611597689505, 4.499809670330265, 5.76309905181262, 4.773505500807306, 5.135798437050262, 4.929666231562589, 4.402645921876617, 4.402645921876617, 6.12029741895095, 5.592229988750454, 4.621699487939302, 4.700480365792417, 4.867534450455582, 4.007333185232471], \"yaxis\": \"y\"}],\n",
              "                        {\"height\": 600, \"legend\": {\"tracegroupgap\": 0}, \"template\": {\"data\": {\"bar\": [{\"error_x\": {\"color\": \"#2a3f5f\"}, \"error_y\": {\"color\": \"#2a3f5f\"}, \"marker\": {\"line\": {\"color\": \"#E5ECF6\", \"width\": 0.5}}, \"type\": \"bar\"}], \"barpolar\": [{\"marker\": {\"line\": {\"color\": \"#E5ECF6\", \"width\": 0.5}}, \"type\": \"barpolar\"}], \"carpet\": [{\"aaxis\": {\"endlinecolor\": \"#2a3f5f\", \"gridcolor\": \"white\", \"linecolor\": \"white\", \"minorgridcolor\": \"white\", \"startlinecolor\": \"#2a3f5f\"}, \"baxis\": {\"endlinecolor\": \"#2a3f5f\", \"gridcolor\": \"white\", \"linecolor\": \"white\", \"minorgridcolor\": \"white\", \"startlinecolor\": \"#2a3f5f\"}, \"type\": \"carpet\"}], \"choropleth\": [{\"colorbar\": {\"outlinewidth\": 0, \"ticks\": \"\"}, \"type\": \"choropleth\"}], \"contour\": [{\"colorbar\": {\"outlinewidth\": 0, \"ticks\": \"\"}, \"colorscale\": [[0.0, \"#0d0887\"], [0.1111111111111111, \"#46039f\"], [0.2222222222222222, \"#7201a8\"], [0.3333333333333333, \"#9c179e\"], [0.4444444444444444, \"#bd3786\"], [0.5555555555555556, \"#d8576b\"], [0.6666666666666666, \"#ed7953\"], [0.7777777777777778, \"#fb9f3a\"], [0.8888888888888888, \"#fdca26\"], [1.0, \"#f0f921\"]], \"type\": \"contour\"}], \"contourcarpet\": [{\"colorbar\": {\"outlinewidth\": 0, \"ticks\": \"\"}, \"type\": \"contourcarpet\"}], \"heatmap\": [{\"colorbar\": {\"outlinewidth\": 0, \"ticks\": \"\"}, \"colorscale\": [[0.0, \"#0d0887\"], [0.1111111111111111, \"#46039f\"], [0.2222222222222222, \"#7201a8\"], [0.3333333333333333, \"#9c179e\"], [0.4444444444444444, \"#bd3786\"], [0.5555555555555556, \"#d8576b\"], [0.6666666666666666, \"#ed7953\"], [0.7777777777777778, \"#fb9f3a\"], [0.8888888888888888, \"#fdca26\"], [1.0, \"#f0f921\"]], \"type\": \"heatmap\"}], \"heatmapgl\": [{\"colorbar\": {\"outlinewidth\": 0, \"ticks\": \"\"}, \"colorscale\": [[0.0, \"#0d0887\"], [0.1111111111111111, \"#46039f\"], [0.2222222222222222, \"#7201a8\"], [0.3333333333333333, \"#9c179e\"], [0.4444444444444444, \"#bd3786\"], [0.5555555555555556, \"#d8576b\"], [0.6666666666666666, \"#ed7953\"], [0.7777777777777778, \"#fb9f3a\"], [0.8888888888888888, \"#fdca26\"], [1.0, \"#f0f921\"]], \"type\": \"heatmapgl\"}], \"histogram\": [{\"marker\": {\"colorbar\": {\"outlinewidth\": 0, \"ticks\": \"\"}}, \"type\": \"histogram\"}], \"histogram2d\": [{\"colorbar\": {\"outlinewidth\": 0, \"ticks\": \"\"}, \"colorscale\": [[0.0, \"#0d0887\"], [0.1111111111111111, \"#46039f\"], [0.2222222222222222, \"#7201a8\"], [0.3333333333333333, \"#9c179e\"], [0.4444444444444444, \"#bd3786\"], [0.5555555555555556, \"#d8576b\"], [0.6666666666666666, \"#ed7953\"], [0.7777777777777778, \"#fb9f3a\"], [0.8888888888888888, \"#fdca26\"], [1.0, \"#f0f921\"]], \"type\": \"histogram2d\"}], \"histogram2dcontour\": [{\"colorbar\": {\"outlinewidth\": 0, \"ticks\": \"\"}, \"colorscale\": [[0.0, \"#0d0887\"], [0.1111111111111111, \"#46039f\"], [0.2222222222222222, \"#7201a8\"], [0.3333333333333333, \"#9c179e\"], [0.4444444444444444, \"#bd3786\"], [0.5555555555555556, \"#d8576b\"], [0.6666666666666666, \"#ed7953\"], [0.7777777777777778, \"#fb9f3a\"], [0.8888888888888888, \"#fdca26\"], [1.0, \"#f0f921\"]], \"type\": \"histogram2dcontour\"}], \"mesh3d\": [{\"colorbar\": {\"outlinewidth\": 0, \"ticks\": \"\"}, \"type\": \"mesh3d\"}], \"parcoords\": [{\"line\": {\"colorbar\": {\"outlinewidth\": 0, \"ticks\": \"\"}}, \"type\": \"parcoords\"}], \"scatter\": [{\"marker\": {\"colorbar\": {\"outlinewidth\": 0, \"ticks\": \"\"}}, \"type\": \"scatter\"}], \"scatter3d\": [{\"line\": {\"colorbar\": {\"outlinewidth\": 0, \"ticks\": \"\"}}, \"marker\": {\"colorbar\": {\"outlinewidth\": 0, \"ticks\": \"\"}}, \"type\": \"scatter3d\"}], \"scattercarpet\": [{\"marker\": {\"colorbar\": {\"outlinewidth\": 0, \"ticks\": \"\"}}, \"type\": \"scattercarpet\"}], \"scattergeo\": [{\"marker\": {\"colorbar\": {\"outlinewidth\": 0, \"ticks\": \"\"}}, \"type\": \"scattergeo\"}], \"scattergl\": [{\"marker\": {\"colorbar\": {\"outlinewidth\": 0, \"ticks\": \"\"}}, \"type\": \"scattergl\"}], \"scattermapbox\": [{\"marker\": {\"colorbar\": {\"outlinewidth\": 0, \"ticks\": \"\"}}, \"type\": \"scattermapbox\"}], \"scatterpolar\": [{\"marker\": {\"colorbar\": {\"outlinewidth\": 0, \"ticks\": \"\"}}, \"type\": \"scatterpolar\"}], \"scatterpolargl\": [{\"marker\": {\"colorbar\": {\"outlinewidth\": 0, \"ticks\": \"\"}}, \"type\": \"scatterpolargl\"}], \"scatterternary\": [{\"marker\": {\"colorbar\": {\"outlinewidth\": 0, \"ticks\": \"\"}}, \"type\": \"scatterternary\"}], \"surface\": [{\"colorbar\": {\"outlinewidth\": 0, \"ticks\": \"\"}, \"colorscale\": [[0.0, \"#0d0887\"], [0.1111111111111111, \"#46039f\"], [0.2222222222222222, \"#7201a8\"], [0.3333333333333333, \"#9c179e\"], [0.4444444444444444, \"#bd3786\"], [0.5555555555555556, \"#d8576b\"], [0.6666666666666666, \"#ed7953\"], [0.7777777777777778, \"#fb9f3a\"], [0.8888888888888888, \"#fdca26\"], [1.0, \"#f0f921\"]], \"type\": \"surface\"}], \"table\": [{\"cells\": {\"fill\": {\"color\": \"#EBF0F8\"}, \"line\": {\"color\": \"white\"}}, \"header\": {\"fill\": {\"color\": \"#C8D4E3\"}, \"line\": {\"color\": \"white\"}}, \"type\": \"table\"}]}, \"layout\": {\"annotationdefaults\": {\"arrowcolor\": \"#2a3f5f\", \"arrowhead\": 0, \"arrowwidth\": 1}, \"colorscale\": {\"diverging\": [[0, \"#8e0152\"], [0.1, \"#c51b7d\"], [0.2, \"#de77ae\"], [0.3, \"#f1b6da\"], [0.4, \"#fde0ef\"], [0.5, \"#f7f7f7\"], [0.6, \"#e6f5d0\"], [0.7, \"#b8e186\"], [0.8, \"#7fbc41\"], [0.9, \"#4d9221\"], [1, \"#276419\"]], \"sequential\": [[0.0, \"#0d0887\"], [0.1111111111111111, \"#46039f\"], [0.2222222222222222, \"#7201a8\"], [0.3333333333333333, \"#9c179e\"], [0.4444444444444444, \"#bd3786\"], [0.5555555555555556, \"#d8576b\"], [0.6666666666666666, \"#ed7953\"], [0.7777777777777778, \"#fb9f3a\"], [0.8888888888888888, \"#fdca26\"], [1.0, \"#f0f921\"]], \"sequentialminus\": [[0.0, \"#0d0887\"], [0.1111111111111111, \"#46039f\"], [0.2222222222222222, \"#7201a8\"], [0.3333333333333333, \"#9c179e\"], [0.4444444444444444, \"#bd3786\"], [0.5555555555555556, \"#d8576b\"], [0.6666666666666666, \"#ed7953\"], [0.7777777777777778, \"#fb9f3a\"], [0.8888888888888888, \"#fdca26\"], [1.0, \"#f0f921\"]]}, \"colorway\": [\"#636efa\", \"#EF553B\", \"#00cc96\", \"#ab63fa\", \"#FFA15A\", \"#19d3f3\", \"#FF6692\", \"#B6E880\", \"#FF97FF\", \"#FECB52\"], \"font\": {\"color\": \"#2a3f5f\"}, \"geo\": {\"bgcolor\": \"white\", \"lakecolor\": \"white\", \"landcolor\": \"#E5ECF6\", \"showlakes\": true, \"showland\": true, \"subunitcolor\": \"white\"}, \"hoverlabel\": {\"align\": \"left\"}, \"hovermode\": \"closest\", \"mapbox\": {\"style\": \"light\"}, \"paper_bgcolor\": \"white\", \"plot_bgcolor\": \"#E5ECF6\", \"polar\": {\"angularaxis\": {\"gridcolor\": \"white\", \"linecolor\": \"white\", \"ticks\": \"\"}, \"bgcolor\": \"#E5ECF6\", \"radialaxis\": {\"gridcolor\": \"white\", \"linecolor\": \"white\", \"ticks\": \"\"}}, \"scene\": {\"xaxis\": {\"backgroundcolor\": \"#E5ECF6\", \"gridcolor\": \"white\", \"gridwidth\": 2, \"linecolor\": \"white\", \"showbackground\": true, \"ticks\": \"\", \"zerolinecolor\": \"white\"}, \"yaxis\": {\"backgroundcolor\": \"#E5ECF6\", \"gridcolor\": \"white\", \"gridwidth\": 2, \"linecolor\": \"white\", \"showbackground\": true, \"ticks\": \"\", \"zerolinecolor\": \"white\"}, \"zaxis\": {\"backgroundcolor\": \"#E5ECF6\", \"gridcolor\": \"white\", \"gridwidth\": 2, \"linecolor\": \"white\", \"showbackground\": true, \"ticks\": \"\", \"zerolinecolor\": \"white\"}}, \"shapedefaults\": {\"line\": {\"color\": \"#2a3f5f\"}}, \"ternary\": {\"aaxis\": {\"gridcolor\": \"white\", \"linecolor\": \"white\", \"ticks\": \"\"}, \"baxis\": {\"gridcolor\": \"white\", \"linecolor\": \"white\", \"ticks\": \"\"}, \"bgcolor\": \"#E5ECF6\", \"caxis\": {\"gridcolor\": \"white\", \"linecolor\": \"white\", \"ticks\": \"\"}}, \"title\": {\"x\": 0.05}, \"xaxis\": {\"automargin\": true, \"gridcolor\": \"white\", \"linecolor\": \"white\", \"ticks\": \"\", \"zerolinecolor\": \"white\", \"zerolinewidth\": 2}, \"yaxis\": {\"automargin\": true, \"gridcolor\": \"white\", \"linecolor\": \"white\", \"ticks\": \"\", \"zerolinecolor\": \"white\", \"zerolinewidth\": 2}}}, \"title\": {\"text\": \"Log of Appliance Energy Consumption in Wh vs Time\"}, \"xaxis\": {\"anchor\": \"y\", \"domain\": [0.0, 0.98], \"title\": {\"text\": \"date\"}}, \"yaxis\": {\"anchor\": \"x\", \"domain\": [0.0, 1.0], \"title\": {\"text\": \"log_appliances\"}}},\n",
              "                        {\"responsive\": true}\n",
              "                    ).then(function(){\n",
              "                            \n",
              "var gd = document.getElementById('8620ae5d-aa1d-4390-8cf4-9701bf18c09d');\n",
              "var x = new MutationObserver(function (mutations, observer) {{\n",
              "        var display = window.getComputedStyle(gd).display;\n",
              "        if (!display || display === 'none') {{\n",
              "            console.log([gd, 'removed!']);\n",
              "            Plotly.purge(gd);\n",
              "            observer.disconnect();\n",
              "        }}\n",
              "}});\n",
              "\n",
              "// Listen for the removal of the full notebook cells\n",
              "var notebookContainer = gd.closest('#notebook-container');\n",
              "if (notebookContainer) {{\n",
              "    x.observe(notebookContainer, {childList: true});\n",
              "}}\n",
              "\n",
              "// Listen for the clearing of the current output cell\n",
              "var outputEl = gd.closest('.output');\n",
              "if (outputEl) {{\n",
              "    x.observe(outputEl, {childList: true});\n",
              "}}\n",
              "\n",
              "                        })\n",
              "                };\n",
              "                \n",
              "            </script>\n",
              "        </div>\n",
              "</body>\n",
              "</html>"
            ]
          },
          "metadata": {
            "tags": []
          }
        }
      ]
    },
    {
      "cell_type": "markdown",
      "metadata": {
        "id": "aFnQ3txg_2lj",
        "colab_type": "text"
      },
      "source": [
        "# Prepare Training Data"
      ]
    },
    {
      "cell_type": "markdown",
      "metadata": {
        "id": "9gUa6m83NgDn",
        "colab_type": "text"
      },
      "source": [
        "For this example, we will use sliding windows of 10 points per each window (equivalent to 10 hours) to predict each next point. The window size can be altered via the `sequence_length` variable.\n",
        "\n",
        "Min-Max scaling has also been fitted to the training data to aid the convergence of the neural network. "
      ]
    },
    {
      "cell_type": "code",
      "metadata": {
        "id": "aKQHyh5rRVVj",
        "colab_type": "code",
        "colab": {}
      },
      "source": [
        "from sklearn.preprocessing import MinMaxScaler\n",
        "\n",
        "def create_sliding_window(data, sequence_length, stride=1):\n",
        "    X_list, y_list = [], []\n",
        "    for i in range(len(data)):\n",
        "      if (i + sequence_length) < len(data):\n",
        "        X_list.append(data.iloc[i:i+sequence_length:stride, :].values)\n",
        "        y_list.append(data.iloc[i+sequence_length, -1])\n",
        "    return np.array(X_list), np.array(y_list)\n",
        "\n",
        "train_split = 0.7\n",
        "n_train = int(train_split * len(resample_df))\n",
        "n_test = len(resample_df) - n_train\n",
        "\n",
        "features = ['day_of_week', 'hour_of_day', 'log_appliances']\n",
        "feature_array = resample_df[features].values\n",
        "\n",
        "# Fit Scaler only on Training features\n",
        "feature_scaler = MinMaxScaler()\n",
        "feature_scaler.fit(feature_array[:n_train])\n",
        "# Fit Scaler only on Training target values\n",
        "target_scaler = MinMaxScaler()\n",
        "target_scaler.fit(feature_array[:n_train, -1].reshape(-1, 1))\n",
        "\n",
        "# Transfom on both Training and Test data\n",
        "scaled_array = pd.DataFrame(feature_scaler.transform(feature_array),\n",
        "                            columns=features)\n",
        "\n",
        "sequence_length = 10\n",
        "X, y = create_sliding_window(scaled_array, \n",
        "                             sequence_length)\n",
        "\n",
        "X_train = X[:n_train]\n",
        "y_train = y[:n_train]\n",
        "\n",
        "X_test = X[n_train:]\n",
        "y_test = y[n_train:]"
      ],
      "execution_count": 0,
      "outputs": []
    },
    {
      "cell_type": "markdown",
      "metadata": {
        "id": "Ue1JcZm_bgsd",
        "colab_type": "text"
      },
      "source": [
        "# Define Bayesian LSTM Architecture"
      ]
    },
    {
      "cell_type": "markdown",
      "metadata": {
        "id": "VNag-wa-04WZ",
        "colab_type": "text"
      },
      "source": [
        "To demonstrate a simple working example of the Bayesian LSTM, the model as defined in Uber's paper has been used a starting point. The network architecture is as follows:\n",
        " - 1 uni-directional LSTM layer with 128 hidden units\n",
        " - 1 uni-directional LSTM layer with 1/4 the number of hidden units (32) compared to the previous layer\n",
        " - Dropout is applied at **both** training and inference for both LSTM layers\n",
        " - 1 fully-connected output layer with 1 output (for predicting the target value)\n",
        "\n",
        " By allowing dropout at both training and testing time, the model simulates random sampling, thus allowing varying predictions that can be used to estimate the underlying distribution of the target value, enabling explicit model uncertainties.\n"
      ]
    },
    {
      "cell_type": "code",
      "metadata": {
        "id": "OgWyOffPbO0b",
        "colab_type": "code",
        "colab": {}
      },
      "source": [
        "import torch\n",
        "import torch.nn as nn\n",
        "import torch.nn.functional as F\n",
        "from torch.autograd import Variable\n",
        "\n",
        "class BayesianLSTM(nn.Module):\n",
        "    def __init__(self, n_features, output_length):\n",
        "        super(BayesianLSTM, self).__init__()\n",
        "\n",
        "        self.hidden_size = 128\n",
        "        self.n_layers = 1 # number of (stacked) LSTM layers\n",
        "\n",
        "        self.lstm1 = nn.LSTM(n_features, \n",
        "                             self.hidden_size, \n",
        "                             num_layers=1,\n",
        "                             batch_first=True)\n",
        "        self.lstm2 = nn.LSTM(self.hidden_size,\n",
        "                             self.hidden_size // 4,\n",
        "                             num_layers=1,\n",
        "                             batch_first=True)\n",
        "        self.dense = nn.Linear(self.hidden_size // 4, output_length)\n",
        "        self.loss_fn = nn.MSELoss()\n",
        "        \n",
        "    def forward(self, x):\n",
        "        batch_size, seq_len, _ = x.size()\n",
        "\n",
        "        hidden = self.init_hidden1(batch_size)\n",
        "        output, _ = self.lstm1(x, hidden)\n",
        "        output = F.dropout(output, p=0.5, training=True)\n",
        "        state = self.init_hidden2(batch_size)\n",
        "        output, state = self.lstm2(output, state)\n",
        "        output = F.dropout(output, p=0.5, training=True)\n",
        "        output = self.dense(state[0].squeeze(0))\n",
        "        \n",
        "        return output\n",
        "        \n",
        "    def init_hidden1(self, batch_size):\n",
        "        hidden_state = Variable(torch.zeros(self.n_layers, batch_size, self.hidden_size))\n",
        "        cell_state = Variable(torch.zeros(self.n_layers, batch_size, self.hidden_size))\n",
        "        return hidden_state, cell_state\n",
        "    \n",
        "    def init_hidden2(self, batch_size):\n",
        "        hidden_state = Variable(torch.zeros(self.n_layers, batch_size, self.hidden_size//4))\n",
        "        cell_state = Variable(torch.zeros(self.n_layers, batch_size, self.hidden_size//4))\n",
        "        return hidden_state, cell_state\n",
        "    \n",
        "    def loss(self, pred, truth):\n",
        "        return self.loss_fn(pred, truth)"
      ],
      "execution_count": 0,
      "outputs": []
    },
    {
      "cell_type": "markdown",
      "metadata": {
        "id": "DQ8JLm-ShlaU",
        "colab_type": "text"
      },
      "source": [
        "### Begin Training"
      ]
    },
    {
      "cell_type": "markdown",
      "metadata": {
        "id": "015pu48r3X1F",
        "colab_type": "text"
      },
      "source": [
        "To train the Bayesian LSTM, we use the ADAM optimizer along with mini-batch gradient descent (`batch_size = 128`). For quick demonstration purposes, the model is trained for 150 epochs.\n",
        "\n",
        "The Bayesian LSTM is trained on the first 70% of data points, using the aforementioned sliding windows of size 10. The remaining 30% of the dataset is held out purely for testing."
      ]
    },
    {
      "cell_type": "code",
      "metadata": {
        "id": "47X-uO6UhbCy",
        "colab_type": "code",
        "colab": {}
      },
      "source": [
        "n_features = scaled_array.shape[-1]\n",
        "sequence_length = 10\n",
        "output_length = 1\n",
        "\n",
        "bayesian_lstm = BayesianLSTM(n_features=n_features,\n",
        "                             output_length=output_length)\n",
        "\n",
        "criterion = torch.nn.MSELoss()\n",
        "optimizer = torch.optim.Adam(bayesian_lstm.parameters(), lr=0.01)\n",
        "\n",
        "batch_size = 128\n",
        "n_epochs = 150"
      ],
      "execution_count": 0,
      "outputs": []
    },
    {
      "cell_type": "code",
      "metadata": {
        "id": "7iZ__nxaCzZE",
        "colab_type": "code",
        "outputId": "1a7b4fcc-64b9-427d-d3bd-e89d26fd00ff",
        "colab": {
          "base_uri": "https://localhost:8080/",
          "height": 272
        }
      },
      "source": [
        "bayesian_lstm.train()\n",
        "\n",
        "for e in range(1, n_epochs+1):\n",
        "    for b in range(0,len(X_train),batch_size):\n",
        "        features = X_train[b:b+batch_size,:,:]\n",
        "        target = y_train[b:b+batch_size]    \n",
        "\n",
        "        X_batch = torch.tensor(features,dtype=torch.float32)    \n",
        "        y_batch = torch.tensor(target,dtype=torch.float32)\n",
        "\n",
        "        output = bayesian_lstm(X_batch) \n",
        "        loss = criterion(output.view(-1), y_batch)  \n",
        "\n",
        "        loss.backward()\n",
        "        optimizer.step()        \n",
        "        optimizer.zero_grad() \n",
        "\n",
        "    if e % 10 == 0:\n",
        "      print('epoch: ', e, 'loss: ', loss.item())"
      ],
      "execution_count": 9,
      "outputs": [
        {
          "output_type": "stream",
          "text": [
            "epoch:  10 loss:  0.01963140070438385\n",
            "epoch:  20 loss:  0.01730000227689743\n",
            "epoch:  30 loss:  0.01599569246172905\n",
            "epoch:  40 loss:  0.01574557274580002\n",
            "epoch:  50 loss:  0.01654614880681038\n",
            "epoch:  60 loss:  0.014574081636965275\n",
            "epoch:  70 loss:  0.015578750520944595\n",
            "epoch:  80 loss:  0.013947623781859875\n",
            "epoch:  90 loss:  0.01238491665571928\n",
            "epoch:  100 loss:  0.01667919009923935\n",
            "epoch:  110 loss:  0.01426754891872406\n",
            "epoch:  120 loss:  0.010332487523555756\n",
            "epoch:  130 loss:  0.011485598981380463\n",
            "epoch:  140 loss:  0.011224937625229359\n",
            "epoch:  150 loss:  0.008782572112977505\n"
          ],
          "name": "stdout"
        }
      ]
    },
    {
      "cell_type": "markdown",
      "metadata": {
        "id": "vUS459C6ro22",
        "colab_type": "text"
      },
      "source": [
        "# Evaluating Model Performance"
      ]
    },
    {
      "cell_type": "markdown",
      "metadata": {
        "id": "iGYj2vTl311y",
        "colab_type": "text"
      },
      "source": [
        "The Bayesian LSTM implemented is shown to produce reasonably accurate and sensible results on both the training and test sets, often comparable to other existing frequentist machine learning and deep learning methods.\n",
        "\n"
      ]
    },
    {
      "cell_type": "code",
      "metadata": {
        "id": "C-1VXE3_VH_0",
        "colab_type": "code",
        "colab": {}
      },
      "source": [
        "offset = sequence_length\n",
        "\n",
        "training_df = pd.DataFrame()\n",
        "training_df['date'] = resample_df['date'].iloc[offset:n_train + offset:1] \n",
        "training_predictions = bayesian_lstm(torch.tensor(X_train, dtype=torch.float32)).view(-1).detach().numpy()\n",
        "training_df['log_appliances'] = target_scaler.inverse_transform(training_predictions.reshape(-1, 1))\n",
        "training_df['source'] = 'Training Prediction'\n",
        "\n",
        "training_truth_df = pd.DataFrame()\n",
        "training_truth_df['date'] = training_df['date']\n",
        "training_truth_df['log_appliances'] = resample_df['log_appliances'].iloc[offset:n_train + offset:1] \n",
        "training_truth_df['source'] = 'True Values'\n",
        "\n",
        "testing_df = pd.DataFrame()\n",
        "testing_df['date'] = resample_df['date'].iloc[n_train + offset::1] \n",
        "testing_predictions = bayesian_lstm(torch.tensor(X_test, dtype=torch.float32)).view(-1).detach().numpy()\n",
        "testing_df['log_appliances'] = target_scaler.inverse_transform(testing_predictions.reshape(-1, 1))\n",
        "testing_df['source'] = 'Test Prediction'\n",
        "\n",
        "testing_truth_df = pd.DataFrame()\n",
        "testing_truth_df['date'] = testing_df['date']\n",
        "testing_truth_df['log_appliances'] = resample_df['log_appliances'].iloc[n_train + offset::1] \n",
        "testing_truth_df['source'] = 'True Values'\n",
        "\n",
        "evaluation = pd.concat([training_df, \n",
        "                        testing_df,\n",
        "                        training_truth_df,\n",
        "                        testing_truth_df\n",
        "                        ], axis=0)"
      ],
      "execution_count": 0,
      "outputs": []
    },
    {
      "cell_type": "code",
      "metadata": {
        "id": "uXQJwRO2FZio",
        "colab_type": "code",
        "outputId": "5d89637c-c7d4-42a8-bc87-54c35eb01095",
        "colab": {
          "base_uri": "https://localhost:8080/",
          "height": 617
        }
      },
      "source": [
        "fig = px.line(evaluation.loc[evaluation['date'].between('2016-04-14', '2016-04-23')],\n",
        "                 x=\"date\",\n",
        "                 y=\"log_appliances\",\n",
        "                 color=\"source\",\n",
        "                 title=\"Log of Appliance Energy Consumption in Wh vs Time\")\n",
        "fig.show()"
      ],
      "execution_count": 11,
      "outputs": [
        {
          "output_type": "display_data",
          "data": {
            "text/html": [
              "<html>\n",
              "<head><meta charset=\"utf-8\" /></head>\n",
              "<body>\n",
              "    <div>\n",
              "            <script src=\"https://cdnjs.cloudflare.com/ajax/libs/mathjax/2.7.5/MathJax.js?config=TeX-AMS-MML_SVG\"></script><script type=\"text/javascript\">if (window.MathJax) {MathJax.Hub.Config({SVG: {font: \"STIX-Web\"}});}</script>\n",
              "                <script type=\"text/javascript\">window.PlotlyConfig = {MathJaxConfig: 'local'};</script>\n",
              "        <script src=\"https://cdn.plot.ly/plotly-latest.min.js\"></script>    \n",
              "            <div id=\"6ba9a24b-8b95-4e23-aab6-00a81441743f\" class=\"plotly-graph-div\" style=\"height:600px; width:100%;\"></div>\n",
              "            <script type=\"text/javascript\">\n",
              "                \n",
              "                    window.PLOTLYENV=window.PLOTLYENV || {};\n",
              "                    \n",
              "                if (document.getElementById(\"6ba9a24b-8b95-4e23-aab6-00a81441743f\")) {\n",
              "                    Plotly.newPlot(\n",
              "                        '6ba9a24b-8b95-4e23-aab6-00a81441743f',\n",
              "                        [{\"hoverlabel\": {\"namelength\": 0}, \"hovertemplate\": \"source=Training Prediction<br>date=%{x}<br>log_appliances=%{y}\", \"legendgroup\": \"source=Training Prediction\", \"line\": {\"color\": \"#636efa\", \"dash\": \"solid\"}, \"mode\": \"lines\", \"name\": \"source=Training Prediction\", \"showlegend\": true, \"type\": \"scatter\", \"x\": [\"2016-04-14T00:00:00\", \"2016-04-14T01:00:00\", \"2016-04-14T02:00:00\", \"2016-04-14T03:00:00\", \"2016-04-14T04:00:00\", \"2016-04-14T05:00:00\", \"2016-04-14T06:00:00\", \"2016-04-14T07:00:00\", \"2016-04-14T08:00:00\", \"2016-04-14T09:00:00\", \"2016-04-14T10:00:00\", \"2016-04-14T11:00:00\", \"2016-04-14T12:00:00\", \"2016-04-14T13:00:00\", \"2016-04-14T14:00:00\", \"2016-04-14T15:00:00\", \"2016-04-14T16:00:00\", \"2016-04-14T17:00:00\", \"2016-04-14T18:00:00\", \"2016-04-14T19:00:00\", \"2016-04-14T20:00:00\", \"2016-04-14T21:00:00\", \"2016-04-14T22:00:00\", \"2016-04-14T23:00:00\", \"2016-04-15T00:00:00\", \"2016-04-15T01:00:00\", \"2016-04-15T02:00:00\", \"2016-04-15T03:00:00\", \"2016-04-15T04:00:00\", \"2016-04-15T05:00:00\", \"2016-04-15T06:00:00\", \"2016-04-15T07:00:00\", \"2016-04-15T08:00:00\", \"2016-04-15T09:00:00\", \"2016-04-15T10:00:00\", \"2016-04-15T11:00:00\", \"2016-04-15T12:00:00\", \"2016-04-15T13:00:00\", \"2016-04-15T14:00:00\", \"2016-04-15T15:00:00\", \"2016-04-15T16:00:00\", \"2016-04-15T17:00:00\", \"2016-04-15T18:00:00\", \"2016-04-15T19:00:00\", \"2016-04-15T20:00:00\", \"2016-04-15T21:00:00\", \"2016-04-15T22:00:00\", \"2016-04-15T23:00:00\", \"2016-04-16T00:00:00\", \"2016-04-16T01:00:00\", \"2016-04-16T02:00:00\", \"2016-04-16T03:00:00\", \"2016-04-16T04:00:00\", \"2016-04-16T05:00:00\", \"2016-04-16T06:00:00\", \"2016-04-16T07:00:00\", \"2016-04-16T08:00:00\", \"2016-04-16T09:00:00\", \"2016-04-16T10:00:00\", \"2016-04-16T11:00:00\", \"2016-04-16T12:00:00\", \"2016-04-16T13:00:00\", \"2016-04-16T14:00:00\", \"2016-04-16T15:00:00\", \"2016-04-16T16:00:00\", \"2016-04-16T17:00:00\", \"2016-04-16T18:00:00\", \"2016-04-16T19:00:00\", \"2016-04-16T20:00:00\", \"2016-04-16T21:00:00\", \"2016-04-16T22:00:00\", \"2016-04-16T23:00:00\", \"2016-04-17T00:00:00\", \"2016-04-17T01:00:00\"], \"xaxis\": \"x\", \"y\": [3.9027042388916016, 3.8936705589294434, 3.885812520980835, 3.8950111865997314, 3.9376795291900635, 3.9082891941070557, 4.050686836242676, 4.440042495727539, 4.50801944732666, 4.486097812652588, 4.311686992645264, 4.3551201820373535, 4.33497428894043, 4.23903226852417, 4.1689677238464355, 4.408494472503662, 4.722315788269043, 5.40269660949707, 5.040963649749756, 5.375364780426025, 4.516083717346191, 4.135990142822266, 3.9818875789642334, 3.887485980987549, 3.929316759109497, 3.902390241622925, 3.856616735458374, 3.889589309692383, 3.9044158458709717, 3.917717695236206, 4.214503288269043, 5.0828447341918945, 5.797216892242432, 5.171836853027344, 5.877269744873047, 5.140872478485107, 4.289400577545166, 4.133060932159424, 4.068658351898193, 4.279212951660156, 4.574990749359131, 4.499680995941162, 5.114419937133789, 5.1169257164001465, 4.702896595001221, 4.81491231918335, 3.9904959201812744, 3.939851760864258, 3.9180445671081543, 3.892338275909424, 3.843557834625244, 3.8873467445373535, 3.94327449798584, 3.8839519023895264, 3.9062814712524414, 3.9267446994781494, 4.175831317901611, 5.01200532913208, 5.167490482330322, 5.110775947570801, 5.1764726638793945, 4.703754901885986, 5.2564005851745605, 4.917683124542236, 5.895633697509766, 5.440088748931885, 4.773770332336426, 4.668944835662842, 4.554388999938965, 4.662543296813965, 3.9468905925750732, 3.981070041656494, 3.9160895347595215, 3.893061876296997], \"yaxis\": \"y\"}, {\"hoverlabel\": {\"namelength\": 0}, \"hovertemplate\": \"source=Test Prediction<br>date=%{x}<br>log_appliances=%{y}\", \"legendgroup\": \"source=Test Prediction\", \"line\": {\"color\": \"#EF553B\", \"dash\": \"solid\"}, \"mode\": \"lines\", \"name\": \"source=Test Prediction\", \"showlegend\": true, \"type\": \"scatter\", \"x\": [\"2016-04-17T02:00:00\", \"2016-04-17T03:00:00\", \"2016-04-17T04:00:00\", \"2016-04-17T05:00:00\", \"2016-04-17T06:00:00\", \"2016-04-17T07:00:00\", \"2016-04-17T08:00:00\", \"2016-04-17T09:00:00\", \"2016-04-17T10:00:00\", \"2016-04-17T11:00:00\", \"2016-04-17T12:00:00\", \"2016-04-17T13:00:00\", \"2016-04-17T14:00:00\", \"2016-04-17T15:00:00\", \"2016-04-17T16:00:00\", \"2016-04-17T17:00:00\", \"2016-04-17T18:00:00\", \"2016-04-17T19:00:00\", \"2016-04-17T20:00:00\", \"2016-04-17T21:00:00\", \"2016-04-17T22:00:00\", \"2016-04-17T23:00:00\", \"2016-04-18T00:00:00\", \"2016-04-18T01:00:00\", \"2016-04-18T02:00:00\", \"2016-04-18T03:00:00\", \"2016-04-18T04:00:00\", \"2016-04-18T05:00:00\", \"2016-04-18T06:00:00\", \"2016-04-18T07:00:00\", \"2016-04-18T08:00:00\", \"2016-04-18T09:00:00\", \"2016-04-18T10:00:00\", \"2016-04-18T11:00:00\", \"2016-04-18T12:00:00\", \"2016-04-18T13:00:00\", \"2016-04-18T14:00:00\", \"2016-04-18T15:00:00\", \"2016-04-18T16:00:00\", \"2016-04-18T17:00:00\", \"2016-04-18T18:00:00\", \"2016-04-18T19:00:00\", \"2016-04-18T20:00:00\", \"2016-04-18T21:00:00\", \"2016-04-18T22:00:00\", \"2016-04-18T23:00:00\", \"2016-04-19T00:00:00\", \"2016-04-19T01:00:00\", \"2016-04-19T02:00:00\", \"2016-04-19T03:00:00\", \"2016-04-19T04:00:00\", \"2016-04-19T05:00:00\", \"2016-04-19T06:00:00\", \"2016-04-19T07:00:00\", \"2016-04-19T08:00:00\", \"2016-04-19T09:00:00\", \"2016-04-19T10:00:00\", \"2016-04-19T11:00:00\", \"2016-04-19T12:00:00\", \"2016-04-19T13:00:00\", \"2016-04-19T14:00:00\", \"2016-04-19T15:00:00\", \"2016-04-19T16:00:00\", \"2016-04-19T17:00:00\", \"2016-04-19T18:00:00\", \"2016-04-19T19:00:00\", \"2016-04-19T20:00:00\", \"2016-04-19T21:00:00\", \"2016-04-19T22:00:00\", \"2016-04-19T23:00:00\", \"2016-04-20T00:00:00\", \"2016-04-20T01:00:00\", \"2016-04-20T02:00:00\", \"2016-04-20T03:00:00\", \"2016-04-20T04:00:00\", \"2016-04-20T05:00:00\", \"2016-04-20T06:00:00\", \"2016-04-20T07:00:00\", \"2016-04-20T08:00:00\", \"2016-04-20T09:00:00\", \"2016-04-20T10:00:00\", \"2016-04-20T11:00:00\", \"2016-04-20T12:00:00\", \"2016-04-20T13:00:00\", \"2016-04-20T14:00:00\", \"2016-04-20T15:00:00\", \"2016-04-20T16:00:00\", \"2016-04-20T17:00:00\", \"2016-04-20T18:00:00\", \"2016-04-20T19:00:00\", \"2016-04-20T20:00:00\", \"2016-04-20T21:00:00\", \"2016-04-20T22:00:00\", \"2016-04-20T23:00:00\", \"2016-04-21T00:00:00\", \"2016-04-21T01:00:00\", \"2016-04-21T02:00:00\", \"2016-04-21T03:00:00\", \"2016-04-21T04:00:00\", \"2016-04-21T05:00:00\", \"2016-04-21T06:00:00\", \"2016-04-21T07:00:00\", \"2016-04-21T08:00:00\", \"2016-04-21T09:00:00\", \"2016-04-21T10:00:00\", \"2016-04-21T11:00:00\", \"2016-04-21T12:00:00\", \"2016-04-21T13:00:00\", \"2016-04-21T14:00:00\", \"2016-04-21T15:00:00\", \"2016-04-21T16:00:00\", \"2016-04-21T17:00:00\", \"2016-04-21T18:00:00\", \"2016-04-21T19:00:00\", \"2016-04-21T20:00:00\", \"2016-04-21T21:00:00\", \"2016-04-21T22:00:00\", \"2016-04-21T23:00:00\", \"2016-04-22T00:00:00\", \"2016-04-22T01:00:00\", \"2016-04-22T02:00:00\", \"2016-04-22T03:00:00\", \"2016-04-22T04:00:00\", \"2016-04-22T05:00:00\", \"2016-04-22T06:00:00\", \"2016-04-22T07:00:00\", \"2016-04-22T08:00:00\", \"2016-04-22T09:00:00\", \"2016-04-22T10:00:00\", \"2016-04-22T11:00:00\", \"2016-04-22T12:00:00\", \"2016-04-22T13:00:00\", \"2016-04-22T14:00:00\", \"2016-04-22T15:00:00\", \"2016-04-22T16:00:00\", \"2016-04-22T17:00:00\", \"2016-04-22T18:00:00\", \"2016-04-22T19:00:00\", \"2016-04-22T20:00:00\", \"2016-04-22T21:00:00\", \"2016-04-22T22:00:00\", \"2016-04-22T23:00:00\", \"2016-04-23T00:00:00\"], \"xaxis\": \"x\", \"y\": [3.921579360961914, 3.888259172439575, 3.954357385635376, 3.935058116912842, 3.9692060947418213, 3.8632326126098633, 4.709028244018555, 4.940829277038574, 5.567826271057129, 4.523120880126953, 4.260838031768799, 4.5230607986450195, 4.198690414428711, 4.15883731842041, 4.248666286468506, 5.270073890686035, 5.017081260681152, 4.9370856285095215, 4.71538782119751, 4.0279340744018555, 4.018415451049805, 3.9346535205841064, 3.924818515777588, 3.890923261642456, 3.9352924823760986, 4.068115711212158, 3.9239625930786133, 3.88223934173584, 3.964907646179199, 4.261244297027588, 4.2754082679748535, 4.354965686798096, 4.107708930969238, 4.172494411468506, 4.266796588897705, 4.407937526702881, 4.061765670776367, 3.9356138706207275, 3.9757158756256104, 5.052412033081055, 4.698706150054932, 4.544655799865723, 4.700994491577148, 4.124185562133789, 3.8420889377593994, 3.9057624340057373, 3.921936511993408, 3.9118218421936035, 3.8913023471832275, 3.8392395973205566, 3.8900578022003174, 3.8822238445281982, 4.2160210609436035, 4.860766887664795, 4.011244773864746, 4.16869592666626, 3.965409278869629, 3.9528162479400635, 4.006500244140625, 4.015202045440674, 4.1697540283203125, 4.167512893676758, 4.007789134979248, 3.823479652404785, 6.138941764831543, 5.545115947723389, 4.6533331871032715, 4.00640344619751, 3.92374587059021, 3.9418444633483887, 3.8540101051330566, 3.8530662059783936, 3.9042065143585205, 3.8427741527557373, 3.9151346683502197, 3.837000846862793, 3.8411688804626465, 4.394469738006592, 5.26417350769043, 4.092496395111084, 3.9266748428344727, 4.200603485107422, 4.248235702514648, 4.097661018371582, 3.9626951217651367, 4.519633769989014, 4.402546405792236, 4.060569763183594, 4.614208698272705, 4.886975288391113, 4.142881870269775, 4.4180402755737305, 4.13773775100708, 3.921015977859497, 3.897853374481201, 3.8705971240997314, 3.849087953567505, 3.8669655323028564, 3.8811421394348145, 3.827928304672241, 4.152529716491699, 4.304022312164307, 4.435982704162598, 4.149650573730469, 4.0978875160217285, 4.12652587890625, 4.052989959716797, 4.066214561462402, 4.038356304168701, 4.097613334655762, 4.201077938079834, 5.047513961791992, 5.561368465423584, 5.091026782989502, 4.495767593383789, 4.523556232452393, 3.967320680618286, 3.8925602436065674, 3.9525952339172363, 3.952455759048462, 3.9061334133148193, 4.011564254760742, 4.040404796600342, 4.113311290740967, 4.290089130401611, 4.1691203117370605, 4.787731170654297, 5.051096439361572, 4.745766639709473, 5.6186370849609375, 4.920929431915283, 5.782793045043945, 4.940340518951416, 5.19780969619751, 5.1283464431762695, 5.7206926345825195, 5.758419990539551, 5.060996055603027, 4.562647342681885, 4.061000347137451, 4.021700859069824, 3.931713104248047, 3.89603328704834], \"yaxis\": \"y\"}, {\"hoverlabel\": {\"namelength\": 0}, \"hovertemplate\": \"source=True Values<br>date=%{x}<br>log_appliances=%{y}\", \"legendgroup\": \"source=True Values\", \"line\": {\"color\": \"#00cc96\", \"dash\": \"solid\"}, \"mode\": \"lines\", \"name\": \"source=True Values\", \"showlegend\": true, \"type\": \"scatter\", \"x\": [\"2016-04-14T00:00:00\", \"2016-04-14T01:00:00\", \"2016-04-14T02:00:00\", \"2016-04-14T03:00:00\", \"2016-04-14T04:00:00\", \"2016-04-14T05:00:00\", \"2016-04-14T06:00:00\", \"2016-04-14T07:00:00\", \"2016-04-14T08:00:00\", \"2016-04-14T09:00:00\", \"2016-04-14T10:00:00\", \"2016-04-14T11:00:00\", \"2016-04-14T12:00:00\", \"2016-04-14T13:00:00\", \"2016-04-14T14:00:00\", \"2016-04-14T15:00:00\", \"2016-04-14T16:00:00\", \"2016-04-14T17:00:00\", \"2016-04-14T18:00:00\", \"2016-04-14T19:00:00\", \"2016-04-14T20:00:00\", \"2016-04-14T21:00:00\", \"2016-04-14T22:00:00\", \"2016-04-14T23:00:00\", \"2016-04-15T00:00:00\", \"2016-04-15T01:00:00\", \"2016-04-15T02:00:00\", \"2016-04-15T03:00:00\", \"2016-04-15T04:00:00\", \"2016-04-15T05:00:00\", \"2016-04-15T06:00:00\", \"2016-04-15T07:00:00\", \"2016-04-15T08:00:00\", \"2016-04-15T09:00:00\", \"2016-04-15T10:00:00\", \"2016-04-15T11:00:00\", \"2016-04-15T12:00:00\", \"2016-04-15T13:00:00\", \"2016-04-15T14:00:00\", \"2016-04-15T15:00:00\", \"2016-04-15T16:00:00\", \"2016-04-15T17:00:00\", \"2016-04-15T18:00:00\", \"2016-04-15T19:00:00\", \"2016-04-15T20:00:00\", \"2016-04-15T21:00:00\", \"2016-04-15T22:00:00\", \"2016-04-15T23:00:00\", \"2016-04-16T00:00:00\", \"2016-04-16T01:00:00\", \"2016-04-16T02:00:00\", \"2016-04-16T03:00:00\", \"2016-04-16T04:00:00\", \"2016-04-16T05:00:00\", \"2016-04-16T06:00:00\", \"2016-04-16T07:00:00\", \"2016-04-16T08:00:00\", \"2016-04-16T09:00:00\", \"2016-04-16T10:00:00\", \"2016-04-16T11:00:00\", \"2016-04-16T12:00:00\", \"2016-04-16T13:00:00\", \"2016-04-16T14:00:00\", \"2016-04-16T15:00:00\", \"2016-04-16T16:00:00\", \"2016-04-16T17:00:00\", \"2016-04-16T18:00:00\", \"2016-04-16T19:00:00\", \"2016-04-16T20:00:00\", \"2016-04-16T21:00:00\", \"2016-04-16T22:00:00\", \"2016-04-16T23:00:00\", \"2016-04-17T00:00:00\", \"2016-04-17T01:00:00\", \"2016-04-17T02:00:00\", \"2016-04-17T03:00:00\", \"2016-04-17T04:00:00\", \"2016-04-17T05:00:00\", \"2016-04-17T06:00:00\", \"2016-04-17T07:00:00\", \"2016-04-17T08:00:00\", \"2016-04-17T09:00:00\", \"2016-04-17T10:00:00\", \"2016-04-17T11:00:00\", \"2016-04-17T12:00:00\", \"2016-04-17T13:00:00\", \"2016-04-17T14:00:00\", \"2016-04-17T15:00:00\", \"2016-04-17T16:00:00\", \"2016-04-17T17:00:00\", \"2016-04-17T18:00:00\", \"2016-04-17T19:00:00\", \"2016-04-17T20:00:00\", \"2016-04-17T21:00:00\", \"2016-04-17T22:00:00\", \"2016-04-17T23:00:00\", \"2016-04-18T00:00:00\", \"2016-04-18T01:00:00\", \"2016-04-18T02:00:00\", \"2016-04-18T03:00:00\", \"2016-04-18T04:00:00\", \"2016-04-18T05:00:00\", \"2016-04-18T06:00:00\", \"2016-04-18T07:00:00\", \"2016-04-18T08:00:00\", \"2016-04-18T09:00:00\", \"2016-04-18T10:00:00\", \"2016-04-18T11:00:00\", \"2016-04-18T12:00:00\", \"2016-04-18T13:00:00\", \"2016-04-18T14:00:00\", \"2016-04-18T15:00:00\", \"2016-04-18T16:00:00\", \"2016-04-18T17:00:00\", \"2016-04-18T18:00:00\", \"2016-04-18T19:00:00\", \"2016-04-18T20:00:00\", \"2016-04-18T21:00:00\", \"2016-04-18T22:00:00\", \"2016-04-18T23:00:00\", \"2016-04-19T00:00:00\", \"2016-04-19T01:00:00\", \"2016-04-19T02:00:00\", \"2016-04-19T03:00:00\", \"2016-04-19T04:00:00\", \"2016-04-19T05:00:00\", \"2016-04-19T06:00:00\", \"2016-04-19T07:00:00\", \"2016-04-19T08:00:00\", \"2016-04-19T09:00:00\", \"2016-04-19T10:00:00\", \"2016-04-19T11:00:00\", \"2016-04-19T12:00:00\", \"2016-04-19T13:00:00\", \"2016-04-19T14:00:00\", \"2016-04-19T15:00:00\", \"2016-04-19T16:00:00\", \"2016-04-19T17:00:00\", \"2016-04-19T18:00:00\", \"2016-04-19T19:00:00\", \"2016-04-19T20:00:00\", \"2016-04-19T21:00:00\", \"2016-04-19T22:00:00\", \"2016-04-19T23:00:00\", \"2016-04-20T00:00:00\", \"2016-04-20T01:00:00\", \"2016-04-20T02:00:00\", \"2016-04-20T03:00:00\", \"2016-04-20T04:00:00\", \"2016-04-20T05:00:00\", \"2016-04-20T06:00:00\", \"2016-04-20T07:00:00\", \"2016-04-20T08:00:00\", \"2016-04-20T09:00:00\", \"2016-04-20T10:00:00\", \"2016-04-20T11:00:00\", \"2016-04-20T12:00:00\", \"2016-04-20T13:00:00\", \"2016-04-20T14:00:00\", \"2016-04-20T15:00:00\", \"2016-04-20T16:00:00\", \"2016-04-20T17:00:00\", \"2016-04-20T18:00:00\", \"2016-04-20T19:00:00\", \"2016-04-20T20:00:00\", \"2016-04-20T21:00:00\", \"2016-04-20T22:00:00\", \"2016-04-20T23:00:00\", \"2016-04-21T00:00:00\", \"2016-04-21T01:00:00\", \"2016-04-21T02:00:00\", \"2016-04-21T03:00:00\", \"2016-04-21T04:00:00\", \"2016-04-21T05:00:00\", \"2016-04-21T06:00:00\", \"2016-04-21T07:00:00\", \"2016-04-21T08:00:00\", \"2016-04-21T09:00:00\", \"2016-04-21T10:00:00\", \"2016-04-21T11:00:00\", \"2016-04-21T12:00:00\", \"2016-04-21T13:00:00\", \"2016-04-21T14:00:00\", \"2016-04-21T15:00:00\", \"2016-04-21T16:00:00\", \"2016-04-21T17:00:00\", \"2016-04-21T18:00:00\", \"2016-04-21T19:00:00\", \"2016-04-21T20:00:00\", \"2016-04-21T21:00:00\", \"2016-04-21T22:00:00\", \"2016-04-21T23:00:00\", \"2016-04-22T00:00:00\", \"2016-04-22T01:00:00\", \"2016-04-22T02:00:00\", \"2016-04-22T03:00:00\", \"2016-04-22T04:00:00\", \"2016-04-22T05:00:00\", \"2016-04-22T06:00:00\", \"2016-04-22T07:00:00\", \"2016-04-22T08:00:00\", \"2016-04-22T09:00:00\", \"2016-04-22T10:00:00\", \"2016-04-22T11:00:00\", \"2016-04-22T12:00:00\", \"2016-04-22T13:00:00\", \"2016-04-22T14:00:00\", \"2016-04-22T15:00:00\", \"2016-04-22T16:00:00\", \"2016-04-22T17:00:00\", \"2016-04-22T18:00:00\", \"2016-04-22T19:00:00\", \"2016-04-22T20:00:00\", \"2016-04-22T21:00:00\", \"2016-04-22T22:00:00\", \"2016-04-22T23:00:00\", \"2016-04-23T00:00:00\"], \"xaxis\": \"x\", \"y\": [4.007333185232471, 3.9765615265657175, 3.9765615265657175, 3.9765615265657175, 3.9765615265657175, 3.912023005428146, 4.148411783492376, 4.360973225476049, 4.382026634673881, 4.174387269895637, 4.360973225476049, 4.402645921876617, 4.121743536410215, 3.9765615265657175, 4.248495242049359, 4.518158808998462, 4.402645921876617, 5.646624060816253, 5.393627546352362, 5.272999558563747, 4.339467020255086, 4.037186148382152, 3.912023005428146, 3.9765615265657175, 3.9448128282511368, 3.9448128282511368, 4.037186148382152, 3.8781214537524646, 4.007333185232471, 3.9765615265657175, 5.917997395226109, 5.501258210544727, 5.794029352503979, 5.501258210544727, 5.862683757242057, 5.12594614060725, 4.339467020255086, 4.148411783492376, 4.272025739459553, 4.199705077879927, 4.422848629194137, 4.382026634673881, 5.3471075307174685, 4.814890716970161, 4.700480365792417, 4.637960008811082, 4.402645921876617, 4.037186148382152, 3.9765615265657175, 4.007333185232471, 3.912023005428146, 4.037186148382152, 3.8781214537524646, 3.9765615265657175, 3.9765615265657175, 4.174387269895637, 4.637960008811082, 4.953476880256307, 5.675611597689505, 5.681309618804143, 4.685212893661628, 5.452468046375295, 5.487559366186565, 4.7303333289420975, 6.0905554497522125, 5.528105460580915, 4.917544871030244, 4.7303333289420975, 4.621699487939302, 4.553876891600541, 4.148411783492376, 4.007333185232471, 3.9448128282511368, 4.007333185232471, 3.8781214537524646, 4.0661736852554045, 3.8781214537524646, 3.9448128282511368, 3.912023005428146, 4.148411783492376, 4.941642422609304, 4.637960008811082, 6.09807428216624, 4.75932086581535, 4.965172920019499, 4.272025739459553, 4.248495242049359, 4.553876891600541, 5.12594614060725, 5.473670254025898, 4.8012850649143815, 4.814890716970161, 4.499809670330265, 4.360973225476049, 3.9765615265657175, 4.037186148382152, 4.037186148382152, 4.199705077879927, 3.9765615265657175, 3.8430301339411947, 3.8430301339411947, 3.9765615265657175, 4.007333185232471, 3.912023005428146, 3.9765615265657175, 3.912023005428146, 3.9448128282511368, 4.402645921876617, 3.8781214537524646, 3.9765615265657175, 3.6888794541139363, 4.007333185232471, 4.248495242049359, 5.573420656792957, 4.880273476233012, 4.75932086581535, 4.8283137373023015, 4.121743536410215, 3.7297014486341915, 3.9448128282511368, 3.9765615265657175, 3.6463198396951406, 3.9765615265657175, 3.9448128282511368, 3.912023005428146, 4.715518243156957, 4.360973225476049, 4.892852258439873, 3.8781214537524646, 3.9765615265657175, 3.6463198396951406, 3.9448128282511368, 3.9448128282511368, 3.8066624897703196, 3.8781214537524646, 3.912023005428146, 3.9448128282511368, 5.51477192971145, 4.854631045619675, 4.74493212836325, 4.4620693423474185, 4.0943445622221, 3.9448128282511368, 3.6888794541139363, 4.007333185232471, 3.912023005428146, 3.8066624897703196, 3.8781214537524646, 3.9448128282511368, 3.912023005428146, 4.199705077879927, 4.037186148382152, 3.9765615265657175, 4.148411783492376, 4.174387269895637, 3.8066624897703196, 3.8430301339411947, 3.9765615265657175, 5.155216522907363, 4.360973225476049, 4.272025739459553, 5.19295685089021, 5.652489180268651, 4.787491742782046, 4.685212893661628, 4.295015257684252, 3.9765615265657175, 3.7297014486341915, 3.9448128282511368, 3.9765615265657175, 3.8781214537524646, 3.6888794541139363, 3.9765615265657175, 4.2243976904702984, 4.121743536410215, 3.7689221617874726, 3.9448128282511368, 3.9448128282511368, 3.9448128282511368, 4.007333185232471, 3.912023005428146, 4.121743536410215, 4.121743536410215, 4.148411783492376, 4.4620693423474185, 5.306616169362732, 5.19295685089021, 4.854631045619675, 5.1647859739235145, 4.2243976904702984, 4.248495242049359, 4.2243976904702984, 4.121743536410215, 4.121743536410215, 4.2243976904702984, 4.199705077879927, 4.199705077879927, 4.248495242049359, 4.199705077879927, 5.145554611995626, 5.12594614060725, 5.9445476273202305, 5.9872891756975015, 5.579729825986222, 5.84354441703136, 5.634789603169249, 4.481117537318112, 5.622813412122534, 5.675611597689505, 5.9445476273202305, 5.264415814872355, 4.653960350157523, 4.653960350157523, 4.272025739459553, 4.007333185232471, 4.007333185232471, 4.037186148382152], \"yaxis\": \"y\"}],\n",
              "                        {\"height\": 600, \"legend\": {\"tracegroupgap\": 0}, \"template\": {\"data\": {\"bar\": [{\"error_x\": {\"color\": \"#2a3f5f\"}, \"error_y\": {\"color\": \"#2a3f5f\"}, \"marker\": {\"line\": {\"color\": \"#E5ECF6\", \"width\": 0.5}}, \"type\": \"bar\"}], \"barpolar\": [{\"marker\": {\"line\": {\"color\": \"#E5ECF6\", \"width\": 0.5}}, \"type\": \"barpolar\"}], \"carpet\": [{\"aaxis\": {\"endlinecolor\": \"#2a3f5f\", \"gridcolor\": \"white\", \"linecolor\": \"white\", \"minorgridcolor\": \"white\", \"startlinecolor\": \"#2a3f5f\"}, \"baxis\": {\"endlinecolor\": \"#2a3f5f\", \"gridcolor\": \"white\", \"linecolor\": \"white\", \"minorgridcolor\": \"white\", \"startlinecolor\": \"#2a3f5f\"}, \"type\": \"carpet\"}], \"choropleth\": [{\"colorbar\": {\"outlinewidth\": 0, \"ticks\": \"\"}, \"type\": \"choropleth\"}], \"contour\": [{\"colorbar\": {\"outlinewidth\": 0, \"ticks\": \"\"}, \"colorscale\": [[0.0, \"#0d0887\"], [0.1111111111111111, \"#46039f\"], [0.2222222222222222, \"#7201a8\"], [0.3333333333333333, \"#9c179e\"], [0.4444444444444444, \"#bd3786\"], [0.5555555555555556, \"#d8576b\"], [0.6666666666666666, \"#ed7953\"], [0.7777777777777778, \"#fb9f3a\"], [0.8888888888888888, \"#fdca26\"], [1.0, \"#f0f921\"]], \"type\": \"contour\"}], \"contourcarpet\": [{\"colorbar\": {\"outlinewidth\": 0, \"ticks\": \"\"}, \"type\": \"contourcarpet\"}], \"heatmap\": [{\"colorbar\": {\"outlinewidth\": 0, \"ticks\": \"\"}, \"colorscale\": [[0.0, \"#0d0887\"], [0.1111111111111111, \"#46039f\"], [0.2222222222222222, \"#7201a8\"], [0.3333333333333333, \"#9c179e\"], [0.4444444444444444, \"#bd3786\"], [0.5555555555555556, \"#d8576b\"], [0.6666666666666666, \"#ed7953\"], [0.7777777777777778, \"#fb9f3a\"], [0.8888888888888888, \"#fdca26\"], [1.0, \"#f0f921\"]], \"type\": \"heatmap\"}], \"heatmapgl\": [{\"colorbar\": {\"outlinewidth\": 0, \"ticks\": \"\"}, \"colorscale\": [[0.0, \"#0d0887\"], [0.1111111111111111, \"#46039f\"], [0.2222222222222222, \"#7201a8\"], [0.3333333333333333, \"#9c179e\"], [0.4444444444444444, \"#bd3786\"], [0.5555555555555556, \"#d8576b\"], [0.6666666666666666, \"#ed7953\"], [0.7777777777777778, \"#fb9f3a\"], [0.8888888888888888, \"#fdca26\"], [1.0, \"#f0f921\"]], \"type\": \"heatmapgl\"}], \"histogram\": [{\"marker\": {\"colorbar\": {\"outlinewidth\": 0, \"ticks\": \"\"}}, \"type\": \"histogram\"}], \"histogram2d\": [{\"colorbar\": {\"outlinewidth\": 0, \"ticks\": \"\"}, \"colorscale\": [[0.0, \"#0d0887\"], [0.1111111111111111, \"#46039f\"], [0.2222222222222222, \"#7201a8\"], [0.3333333333333333, \"#9c179e\"], [0.4444444444444444, \"#bd3786\"], [0.5555555555555556, \"#d8576b\"], [0.6666666666666666, \"#ed7953\"], [0.7777777777777778, \"#fb9f3a\"], [0.8888888888888888, \"#fdca26\"], [1.0, \"#f0f921\"]], \"type\": \"histogram2d\"}], \"histogram2dcontour\": [{\"colorbar\": {\"outlinewidth\": 0, \"ticks\": \"\"}, \"colorscale\": [[0.0, \"#0d0887\"], [0.1111111111111111, \"#46039f\"], [0.2222222222222222, \"#7201a8\"], [0.3333333333333333, \"#9c179e\"], [0.4444444444444444, \"#bd3786\"], [0.5555555555555556, \"#d8576b\"], [0.6666666666666666, \"#ed7953\"], [0.7777777777777778, \"#fb9f3a\"], [0.8888888888888888, \"#fdca26\"], [1.0, \"#f0f921\"]], \"type\": \"histogram2dcontour\"}], \"mesh3d\": [{\"colorbar\": {\"outlinewidth\": 0, \"ticks\": \"\"}, \"type\": \"mesh3d\"}], \"parcoords\": [{\"line\": {\"colorbar\": {\"outlinewidth\": 0, \"ticks\": \"\"}}, \"type\": \"parcoords\"}], \"scatter\": [{\"marker\": {\"colorbar\": {\"outlinewidth\": 0, \"ticks\": \"\"}}, \"type\": \"scatter\"}], \"scatter3d\": [{\"line\": {\"colorbar\": {\"outlinewidth\": 0, \"ticks\": \"\"}}, \"marker\": {\"colorbar\": {\"outlinewidth\": 0, \"ticks\": \"\"}}, \"type\": \"scatter3d\"}], \"scattercarpet\": [{\"marker\": {\"colorbar\": {\"outlinewidth\": 0, \"ticks\": \"\"}}, \"type\": \"scattercarpet\"}], \"scattergeo\": [{\"marker\": {\"colorbar\": {\"outlinewidth\": 0, \"ticks\": \"\"}}, \"type\": \"scattergeo\"}], \"scattergl\": [{\"marker\": {\"colorbar\": {\"outlinewidth\": 0, \"ticks\": \"\"}}, \"type\": \"scattergl\"}], \"scattermapbox\": [{\"marker\": {\"colorbar\": {\"outlinewidth\": 0, \"ticks\": \"\"}}, \"type\": \"scattermapbox\"}], \"scatterpolar\": [{\"marker\": {\"colorbar\": {\"outlinewidth\": 0, \"ticks\": \"\"}}, \"type\": \"scatterpolar\"}], \"scatterpolargl\": [{\"marker\": {\"colorbar\": {\"outlinewidth\": 0, \"ticks\": \"\"}}, \"type\": \"scatterpolargl\"}], \"scatterternary\": [{\"marker\": {\"colorbar\": {\"outlinewidth\": 0, \"ticks\": \"\"}}, \"type\": \"scatterternary\"}], \"surface\": [{\"colorbar\": {\"outlinewidth\": 0, \"ticks\": \"\"}, \"colorscale\": [[0.0, \"#0d0887\"], [0.1111111111111111, \"#46039f\"], [0.2222222222222222, \"#7201a8\"], [0.3333333333333333, \"#9c179e\"], [0.4444444444444444, \"#bd3786\"], [0.5555555555555556, \"#d8576b\"], [0.6666666666666666, \"#ed7953\"], [0.7777777777777778, \"#fb9f3a\"], [0.8888888888888888, \"#fdca26\"], [1.0, \"#f0f921\"]], \"type\": \"surface\"}], \"table\": [{\"cells\": {\"fill\": {\"color\": \"#EBF0F8\"}, \"line\": {\"color\": \"white\"}}, \"header\": {\"fill\": {\"color\": \"#C8D4E3\"}, \"line\": {\"color\": \"white\"}}, \"type\": \"table\"}]}, \"layout\": {\"annotationdefaults\": {\"arrowcolor\": \"#2a3f5f\", \"arrowhead\": 0, \"arrowwidth\": 1}, \"colorscale\": {\"diverging\": [[0, \"#8e0152\"], [0.1, \"#c51b7d\"], [0.2, \"#de77ae\"], [0.3, \"#f1b6da\"], [0.4, \"#fde0ef\"], [0.5, \"#f7f7f7\"], [0.6, \"#e6f5d0\"], [0.7, \"#b8e186\"], [0.8, \"#7fbc41\"], [0.9, \"#4d9221\"], [1, \"#276419\"]], \"sequential\": [[0.0, \"#0d0887\"], [0.1111111111111111, \"#46039f\"], [0.2222222222222222, \"#7201a8\"], [0.3333333333333333, \"#9c179e\"], [0.4444444444444444, \"#bd3786\"], [0.5555555555555556, \"#d8576b\"], [0.6666666666666666, \"#ed7953\"], [0.7777777777777778, \"#fb9f3a\"], [0.8888888888888888, \"#fdca26\"], [1.0, \"#f0f921\"]], \"sequentialminus\": [[0.0, \"#0d0887\"], [0.1111111111111111, \"#46039f\"], [0.2222222222222222, \"#7201a8\"], [0.3333333333333333, \"#9c179e\"], [0.4444444444444444, \"#bd3786\"], [0.5555555555555556, \"#d8576b\"], [0.6666666666666666, \"#ed7953\"], [0.7777777777777778, \"#fb9f3a\"], [0.8888888888888888, \"#fdca26\"], [1.0, \"#f0f921\"]]}, \"colorway\": [\"#636efa\", \"#EF553B\", \"#00cc96\", \"#ab63fa\", \"#FFA15A\", \"#19d3f3\", \"#FF6692\", \"#B6E880\", \"#FF97FF\", \"#FECB52\"], \"font\": {\"color\": \"#2a3f5f\"}, \"geo\": {\"bgcolor\": \"white\", \"lakecolor\": \"white\", \"landcolor\": \"#E5ECF6\", \"showlakes\": true, \"showland\": true, \"subunitcolor\": \"white\"}, \"hoverlabel\": {\"align\": \"left\"}, \"hovermode\": \"closest\", \"mapbox\": {\"style\": \"light\"}, \"paper_bgcolor\": \"white\", \"plot_bgcolor\": \"#E5ECF6\", \"polar\": {\"angularaxis\": {\"gridcolor\": \"white\", \"linecolor\": \"white\", \"ticks\": \"\"}, \"bgcolor\": \"#E5ECF6\", \"radialaxis\": {\"gridcolor\": \"white\", \"linecolor\": \"white\", \"ticks\": \"\"}}, \"scene\": {\"xaxis\": {\"backgroundcolor\": \"#E5ECF6\", \"gridcolor\": \"white\", \"gridwidth\": 2, \"linecolor\": \"white\", \"showbackground\": true, \"ticks\": \"\", \"zerolinecolor\": \"white\"}, \"yaxis\": {\"backgroundcolor\": \"#E5ECF6\", \"gridcolor\": \"white\", \"gridwidth\": 2, \"linecolor\": \"white\", \"showbackground\": true, \"ticks\": \"\", \"zerolinecolor\": \"white\"}, \"zaxis\": {\"backgroundcolor\": \"#E5ECF6\", \"gridcolor\": \"white\", \"gridwidth\": 2, \"linecolor\": \"white\", \"showbackground\": true, \"ticks\": \"\", \"zerolinecolor\": \"white\"}}, \"shapedefaults\": {\"line\": {\"color\": \"#2a3f5f\"}}, \"ternary\": {\"aaxis\": {\"gridcolor\": \"white\", \"linecolor\": \"white\", \"ticks\": \"\"}, \"baxis\": {\"gridcolor\": \"white\", \"linecolor\": \"white\", \"ticks\": \"\"}, \"bgcolor\": \"#E5ECF6\", \"caxis\": {\"gridcolor\": \"white\", \"linecolor\": \"white\", \"ticks\": \"\"}}, \"title\": {\"x\": 0.05}, \"xaxis\": {\"automargin\": true, \"gridcolor\": \"white\", \"linecolor\": \"white\", \"ticks\": \"\", \"zerolinecolor\": \"white\", \"zerolinewidth\": 2}, \"yaxis\": {\"automargin\": true, \"gridcolor\": \"white\", \"linecolor\": \"white\", \"ticks\": \"\", \"zerolinecolor\": \"white\", \"zerolinewidth\": 2}}}, \"title\": {\"text\": \"Log of Appliance Energy Consumption in Wh vs Time\"}, \"xaxis\": {\"anchor\": \"y\", \"domain\": [0.0, 0.98], \"title\": {\"text\": \"date\"}}, \"yaxis\": {\"anchor\": \"x\", \"domain\": [0.0, 1.0], \"title\": {\"text\": \"log_appliances\"}}},\n",
              "                        {\"responsive\": true}\n",
              "                    ).then(function(){\n",
              "                            \n",
              "var gd = document.getElementById('6ba9a24b-8b95-4e23-aab6-00a81441743f');\n",
              "var x = new MutationObserver(function (mutations, observer) {{\n",
              "        var display = window.getComputedStyle(gd).display;\n",
              "        if (!display || display === 'none') {{\n",
              "            console.log([gd, 'removed!']);\n",
              "            Plotly.purge(gd);\n",
              "            observer.disconnect();\n",
              "        }}\n",
              "}});\n",
              "\n",
              "// Listen for the removal of the full notebook cells\n",
              "var notebookContainer = gd.closest('#notebook-container');\n",
              "if (notebookContainer) {{\n",
              "    x.observe(notebookContainer, {childList: true});\n",
              "}}\n",
              "\n",
              "// Listen for the clearing of the current output cell\n",
              "var outputEl = gd.closest('.output');\n",
              "if (outputEl) {{\n",
              "    x.observe(outputEl, {childList: true});\n",
              "}}\n",
              "\n",
              "                        })\n",
              "                };\n",
              "                \n",
              "            </script>\n",
              "        </div>\n",
              "</body>\n",
              "</html>"
            ]
          },
          "metadata": {
            "tags": []
          }
        }
      ]
    },
    {
      "cell_type": "markdown",
      "metadata": {
        "id": "Jrwiy646yq7t",
        "colab_type": "text"
      },
      "source": [
        "# Uncertainty Quantification"
      ]
    },
    {
      "cell_type": "markdown",
      "metadata": {
        "id": "8FEzMrU147zx",
        "colab_type": "text"
      },
      "source": [
        "The fact that stochastic dropouts are applied after each LSTM layer in the Bayesian LSTM enables users to interpret the model outputs as random samples from the posterior distribution of the target variable. \n",
        "\n",
        "This implies that by running multiple experiments/predictions, can approximate  parameters of the posterioir distribution, namely the mean and the variance, in order to create confidence intervals for each prediction.\n",
        "\n",
        "In this example, we construct 99% confidence intervals that are three standard deviations away from the approximate mean of each prediction."
      ]
    },
    {
      "cell_type": "code",
      "metadata": {
        "id": "Jb4xyVW6DVUV",
        "colab_type": "code",
        "colab": {}
      },
      "source": [
        "n_experiments = 100\n",
        "\n",
        "test_uncertainty_df = pd.DataFrame()\n",
        "test_uncertainty_df['date'] = testing_df['date']\n",
        "\n",
        "for i in range(n_experiments):\n",
        "  experiment_predictions = bayesian_lstm(torch.tensor(X_test, dtype=torch.float32)).view(-1).detach().numpy()\n",
        "  test_uncertainty_df['log_appliances_{}'.format(i)] = target_scaler.inverse_transform(experiment_predictions.reshape(-1, 1))\n",
        "\n",
        "log_appliances_df = test_uncertainty_df.filter(like='log_appliances', axis=1)\n",
        "test_uncertainty_df['log_appliances_mean'] = log_appliances_df.mean(axis=1)\n",
        "test_uncertainty_df['log_appliances_std'] = log_appliances_df.std(axis=1)\n",
        "\n",
        "test_uncertainty_df = test_uncertainty_df[['date', 'log_appliances_mean', 'log_appliances_std']]"
      ],
      "execution_count": 0,
      "outputs": []
    },
    {
      "cell_type": "code",
      "metadata": {
        "id": "SNrb70dSdDH0",
        "colab_type": "code",
        "colab": {}
      },
      "source": [
        "test_uncertainty_df['lower_bound'] = test_uncertainty_df['log_appliances_mean'] - 3*test_uncertainty_df['log_appliances_std']\n",
        "test_uncertainty_df['upper_bound'] = test_uncertainty_df['log_appliances_mean'] + 3*test_uncertainty_df['log_appliances_std']"
      ],
      "execution_count": 0,
      "outputs": []
    },
    {
      "cell_type": "code",
      "metadata": {
        "id": "WdHylS8OdEHt",
        "colab_type": "code",
        "outputId": "2703f8eb-67ac-4444-ed0e-b9a199b076c9",
        "colab": {
          "base_uri": "https://localhost:8080/",
          "height": 542
        }
      },
      "source": [
        "import plotly.graph_objects as go\n",
        "\n",
        "test_uncertainty_plot_df = test_uncertainty_df.copy(deep=True)\n",
        "test_uncertainty_plot_df = test_uncertainty_plot_df.loc[test_uncertainty_plot_df['date'].between('2016-05-01', '2016-05-09')]\n",
        "truth_uncertainty_plot_df = testing_truth_df.copy(deep=True)\n",
        "truth_uncertainty_plot_df = truth_uncertainty_plot_df.loc[testing_truth_df['date'].between('2016-05-01', '2016-05-09')]\n",
        "\n",
        "upper_trace = go.Scatter(\n",
        "    x=test_uncertainty_plot_df['date'],\n",
        "    y=test_uncertainty_plot_df['upper_bound'],\n",
        "    mode='lines',\n",
        "    fill=None,\n",
        "    name='99% Upper Confidence Bound'\n",
        "    )\n",
        "lower_trace = go.Scatter(\n",
        "    x=test_uncertainty_plot_df['date'],\n",
        "    y=test_uncertainty_plot_df['lower_bound'],\n",
        "    mode='lines',\n",
        "    fill='tonexty',\n",
        "    fillcolor='rgba(255, 211, 0, 0.5)',\n",
        "    name='99% Lower Confidence Bound'\n",
        "    )\n",
        "real_trace = go.Scatter(\n",
        "    x=truth_uncertainty_plot_df['date'],\n",
        "    y=truth_uncertainty_plot_df['log_appliances'],\n",
        "    mode='lines',\n",
        "    fill=None,\n",
        "    name='Real Values'\n",
        "    )\n",
        "\n",
        "data = [upper_trace, lower_trace, real_trace]\n",
        "\n",
        "fig = go.Figure(data=data)\n",
        "fig.update_layout(title='Uncertainty Quantification for Energy Consumption Test Data',\n",
        "                   xaxis_title='Time',\n",
        "                   yaxis_title='log_appliances (log Wh)')\n",
        "\n",
        "fig.show()"
      ],
      "execution_count": 14,
      "outputs": [
        {
          "output_type": "display_data",
          "data": {
            "text/html": [
              "<html>\n",
              "<head><meta charset=\"utf-8\" /></head>\n",
              "<body>\n",
              "    <div>\n",
              "            <script src=\"https://cdnjs.cloudflare.com/ajax/libs/mathjax/2.7.5/MathJax.js?config=TeX-AMS-MML_SVG\"></script><script type=\"text/javascript\">if (window.MathJax) {MathJax.Hub.Config({SVG: {font: \"STIX-Web\"}});}</script>\n",
              "                <script type=\"text/javascript\">window.PlotlyConfig = {MathJaxConfig: 'local'};</script>\n",
              "        <script src=\"https://cdn.plot.ly/plotly-latest.min.js\"></script>    \n",
              "            <div id=\"21c4493b-8eb7-4e35-bc11-c6188f618ca3\" class=\"plotly-graph-div\" style=\"height:525px; width:100%;\"></div>\n",
              "            <script type=\"text/javascript\">\n",
              "                \n",
              "                    window.PLOTLYENV=window.PLOTLYENV || {};\n",
              "                    \n",
              "                if (document.getElementById(\"21c4493b-8eb7-4e35-bc11-c6188f618ca3\")) {\n",
              "                    Plotly.newPlot(\n",
              "                        '21c4493b-8eb7-4e35-bc11-c6188f618ca3',\n",
              "                        [{\"mode\": \"lines\", \"name\": \"99% Upper Confidence Bound\", \"type\": \"scatter\", \"x\": [\"2016-05-01T00:00:00\", \"2016-05-01T01:00:00\", \"2016-05-01T02:00:00\", \"2016-05-01T03:00:00\", \"2016-05-01T04:00:00\", \"2016-05-01T05:00:00\", \"2016-05-01T06:00:00\", \"2016-05-01T07:00:00\", \"2016-05-01T08:00:00\", \"2016-05-01T09:00:00\", \"2016-05-01T10:00:00\", \"2016-05-01T11:00:00\", \"2016-05-01T12:00:00\", \"2016-05-01T13:00:00\", \"2016-05-01T14:00:00\", \"2016-05-01T15:00:00\", \"2016-05-01T16:00:00\", \"2016-05-01T17:00:00\", \"2016-05-01T18:00:00\", \"2016-05-01T19:00:00\", \"2016-05-01T20:00:00\", \"2016-05-01T21:00:00\", \"2016-05-01T22:00:00\", \"2016-05-01T23:00:00\", \"2016-05-02T00:00:00\", \"2016-05-02T01:00:00\", \"2016-05-02T02:00:00\", \"2016-05-02T03:00:00\", \"2016-05-02T04:00:00\", \"2016-05-02T05:00:00\", \"2016-05-02T06:00:00\", \"2016-05-02T07:00:00\", \"2016-05-02T08:00:00\", \"2016-05-02T09:00:00\", \"2016-05-02T10:00:00\", \"2016-05-02T11:00:00\", \"2016-05-02T12:00:00\", \"2016-05-02T13:00:00\", \"2016-05-02T14:00:00\", \"2016-05-02T15:00:00\", \"2016-05-02T16:00:00\", \"2016-05-02T17:00:00\", \"2016-05-02T18:00:00\", \"2016-05-02T19:00:00\", \"2016-05-02T20:00:00\", \"2016-05-02T21:00:00\", \"2016-05-02T22:00:00\", \"2016-05-02T23:00:00\", \"2016-05-03T00:00:00\", \"2016-05-03T01:00:00\", \"2016-05-03T02:00:00\", \"2016-05-03T03:00:00\", \"2016-05-03T04:00:00\", \"2016-05-03T05:00:00\", \"2016-05-03T06:00:00\", \"2016-05-03T07:00:00\", \"2016-05-03T08:00:00\", \"2016-05-03T09:00:00\", \"2016-05-03T10:00:00\", \"2016-05-03T11:00:00\", \"2016-05-03T12:00:00\", \"2016-05-03T13:00:00\", \"2016-05-03T14:00:00\", \"2016-05-03T15:00:00\", \"2016-05-03T16:00:00\", \"2016-05-03T17:00:00\", \"2016-05-03T18:00:00\", \"2016-05-03T19:00:00\", \"2016-05-03T20:00:00\", \"2016-05-03T21:00:00\", \"2016-05-03T22:00:00\", \"2016-05-03T23:00:00\", \"2016-05-04T00:00:00\", \"2016-05-04T01:00:00\", \"2016-05-04T02:00:00\", \"2016-05-04T03:00:00\", \"2016-05-04T04:00:00\", \"2016-05-04T05:00:00\", \"2016-05-04T06:00:00\", \"2016-05-04T07:00:00\", \"2016-05-04T08:00:00\", \"2016-05-04T09:00:00\", \"2016-05-04T10:00:00\", \"2016-05-04T11:00:00\", \"2016-05-04T12:00:00\", \"2016-05-04T13:00:00\", \"2016-05-04T14:00:00\", \"2016-05-04T15:00:00\", \"2016-05-04T16:00:00\", \"2016-05-04T17:00:00\", \"2016-05-04T18:00:00\", \"2016-05-04T19:00:00\", \"2016-05-04T20:00:00\", \"2016-05-04T21:00:00\", \"2016-05-04T22:00:00\", \"2016-05-04T23:00:00\", \"2016-05-05T00:00:00\", \"2016-05-05T01:00:00\", \"2016-05-05T02:00:00\", \"2016-05-05T03:00:00\", \"2016-05-05T04:00:00\", \"2016-05-05T05:00:00\", \"2016-05-05T06:00:00\", \"2016-05-05T07:00:00\", \"2016-05-05T08:00:00\", \"2016-05-05T09:00:00\", \"2016-05-05T10:00:00\", \"2016-05-05T11:00:00\", \"2016-05-05T12:00:00\", \"2016-05-05T13:00:00\", \"2016-05-05T14:00:00\", \"2016-05-05T15:00:00\", \"2016-05-05T16:00:00\", \"2016-05-05T17:00:00\", \"2016-05-05T18:00:00\", \"2016-05-05T19:00:00\", \"2016-05-05T20:00:00\", \"2016-05-05T21:00:00\", \"2016-05-05T22:00:00\", \"2016-05-05T23:00:00\", \"2016-05-06T00:00:00\", \"2016-05-06T01:00:00\", \"2016-05-06T02:00:00\", \"2016-05-06T03:00:00\", \"2016-05-06T04:00:00\", \"2016-05-06T05:00:00\", \"2016-05-06T06:00:00\", \"2016-05-06T07:00:00\", \"2016-05-06T08:00:00\", \"2016-05-06T09:00:00\", \"2016-05-06T10:00:00\", \"2016-05-06T11:00:00\", \"2016-05-06T12:00:00\", \"2016-05-06T13:00:00\", \"2016-05-06T14:00:00\", \"2016-05-06T15:00:00\", \"2016-05-06T16:00:00\", \"2016-05-06T17:00:00\", \"2016-05-06T18:00:00\", \"2016-05-06T19:00:00\", \"2016-05-06T20:00:00\", \"2016-05-06T21:00:00\", \"2016-05-06T22:00:00\", \"2016-05-06T23:00:00\", \"2016-05-07T00:00:00\", \"2016-05-07T01:00:00\", \"2016-05-07T02:00:00\", \"2016-05-07T03:00:00\", \"2016-05-07T04:00:00\", \"2016-05-07T05:00:00\", \"2016-05-07T06:00:00\", \"2016-05-07T07:00:00\", \"2016-05-07T08:00:00\", \"2016-05-07T09:00:00\", \"2016-05-07T10:00:00\", \"2016-05-07T11:00:00\", \"2016-05-07T12:00:00\", \"2016-05-07T13:00:00\", \"2016-05-07T14:00:00\", \"2016-05-07T15:00:00\", \"2016-05-07T16:00:00\", \"2016-05-07T17:00:00\", \"2016-05-07T18:00:00\", \"2016-05-07T19:00:00\", \"2016-05-07T20:00:00\", \"2016-05-07T21:00:00\", \"2016-05-07T22:00:00\", \"2016-05-07T23:00:00\", \"2016-05-08T00:00:00\", \"2016-05-08T01:00:00\", \"2016-05-08T02:00:00\", \"2016-05-08T03:00:00\", \"2016-05-08T04:00:00\", \"2016-05-08T05:00:00\", \"2016-05-08T06:00:00\", \"2016-05-08T07:00:00\", \"2016-05-08T08:00:00\", \"2016-05-08T09:00:00\", \"2016-05-08T10:00:00\", \"2016-05-08T11:00:00\", \"2016-05-08T12:00:00\", \"2016-05-08T13:00:00\", \"2016-05-08T14:00:00\", \"2016-05-08T15:00:00\", \"2016-05-08T16:00:00\", \"2016-05-08T17:00:00\", \"2016-05-08T18:00:00\", \"2016-05-08T19:00:00\", \"2016-05-08T20:00:00\", \"2016-05-08T21:00:00\", \"2016-05-08T22:00:00\", \"2016-05-08T23:00:00\", \"2016-05-09T00:00:00\"], \"y\": [3.9905824661254883, 3.946108102798462, 3.938845634460449, 3.9953088760375977, 3.984694242477417, 3.9731268882751465, 3.979747772216797, 3.962043285369873, 4.10750150680542, 5.105222702026367, 4.724020004272461, 4.927597999572754, 4.36187744140625, 4.4900665283203125, 4.340614318847656, 4.628903388977051, 5.590299129486084, 5.230519771575928, 5.501617908477783, 5.138857364654541, 4.941327095031738, 4.326955795288086, 4.062377452850342, 4.0082011222839355, 3.961866617202759, 3.9438767433166504, 3.998995780944824, 3.9658007621765137, 3.9078307151794434, 3.918783187866211, 4.552430629730225, 5.949056625366211, 4.447418689727783, 4.5066680908203125, 4.090098857879639, 4.187854766845703, 4.382452964782715, 4.292640686035156, 4.727110385894775, 4.711515426635742, 4.596222877502441, 5.602840423583984, 5.159789085388184, 5.89324426651001, 5.193052291870117, 4.287076950073242, 4.014648914337158, 4.100196361541748, 4.040841579437256, 4.000716209411621, 3.948970317840576, 3.9074440002441406, 3.940762519836426, 3.9412426948547363, 3.975235939025879, 5.584383964538574, 5.285201549530029, 4.277453422546387, 3.9500694274902344, 4.248846530914307, 4.200992107391357, 4.2906174659729, 4.164094924926758, 4.083261966705322, 4.371910095214844, 4.7069220542907715, 6.326333045959473, 5.82537317276001, 4.8230977058410645, 4.167762279510498, 4.0539116859436035, 4.068280220031738, 3.9826958179473877, 3.9252870082855225, 3.9417543411254883, 3.983837604522705, 3.9370453357696533, 3.8997068405151367, 4.144495487213135, 4.773275852203369, 5.407905578613281, 4.505874156951904, 4.983217239379883, 4.240782260894775, 4.4262495040893555, 4.4429802894592285, 4.42984676361084, 4.806116580963135, 4.520308494567871, 5.057825088500977, 5.114592552185059, 4.7197442054748535, 4.481818199157715, 4.26740837097168, 4.042019367218018, 3.986727476119995, 3.9867773056030273, 3.951186180114746, 3.9000251293182373, 3.914860248565674, 3.973857879638672, 3.9992101192474365, 3.9732956886291504, 4.287675380706787, 5.368986129760742, 5.017342567443848, 4.866430282592773, 5.370112895965576, 5.043144226074219, 4.308708190917969, 4.306851387023926, 4.476624488830566, 4.6774702072143555, 5.04224157333374, 5.520207405090332, 5.360807418823242, 4.701337814331055, 4.237457752227783, 3.98931884765625, 3.9820480346679688, 3.9724678993225098, 3.9373884201049805, 3.9025371074676514, 3.9181692600250244, 4.014085292816162, 4.017392635345459, 4.063416481018066, 4.380995273590088, 5.446393013000488, 5.203894138336182, 5.032411575317383, 5.462778091430664, 4.506982803344727, 4.7970428466796875, 4.7064971923828125, 5.025604248046875, 4.56779670715332, 5.870208740234375, 4.813640594482422, 5.16626501083374, 5.137675762176514, 4.70829963684082, 4.106813907623291, 3.977555990219116, 3.9759280681610107, 3.9647912979125977, 3.9534435272216797, 3.9479281902313232, 3.9892935752868652, 4.042877674102783, 4.16313362121582, 4.078700065612793, 5.62567663192749, 5.591887950897217, 5.017932415008545, 5.24019718170166, 4.869828701019287, 4.521666049957275, 4.786444664001465, 4.530430793762207, 4.9926323890686035, 5.069760322570801, 5.170722961425781, 4.998804092407227, 4.830616474151611, 4.8286590576171875, 4.021866321563721, 3.9711620807647705, 3.976672410964966, 3.980462074279785, 3.94586443901062, 3.9744436740875244, 4.071850776672363, 4.079458713531494, 4.312178134918213, 4.036212921142578, 4.961532115936279, 5.649616241455078, 5.983996868133545, 4.59238862991333, 4.217102527618408, 4.3743181228637695, 4.108764171600342, 4.324803352355957, 4.449136734008789, 4.394592761993408, 5.695194244384766, 5.3420305252075195, 4.473994731903076, 4.2527289390563965, 4.11165714263916, 4.00837516784668, 3.963074207305908]}, {\"fill\": \"tonexty\", \"fillcolor\": \"rgba(255, 211, 0, 0.5)\", \"mode\": \"lines\", \"name\": \"99% Lower Confidence Bound\", \"type\": \"scatter\", \"x\": [\"2016-05-01T00:00:00\", \"2016-05-01T01:00:00\", \"2016-05-01T02:00:00\", \"2016-05-01T03:00:00\", \"2016-05-01T04:00:00\", \"2016-05-01T05:00:00\", \"2016-05-01T06:00:00\", \"2016-05-01T07:00:00\", \"2016-05-01T08:00:00\", \"2016-05-01T09:00:00\", \"2016-05-01T10:00:00\", \"2016-05-01T11:00:00\", \"2016-05-01T12:00:00\", \"2016-05-01T13:00:00\", \"2016-05-01T14:00:00\", \"2016-05-01T15:00:00\", \"2016-05-01T16:00:00\", \"2016-05-01T17:00:00\", \"2016-05-01T18:00:00\", \"2016-05-01T19:00:00\", \"2016-05-01T20:00:00\", \"2016-05-01T21:00:00\", \"2016-05-01T22:00:00\", \"2016-05-01T23:00:00\", \"2016-05-02T00:00:00\", \"2016-05-02T01:00:00\", \"2016-05-02T02:00:00\", \"2016-05-02T03:00:00\", \"2016-05-02T04:00:00\", \"2016-05-02T05:00:00\", \"2016-05-02T06:00:00\", \"2016-05-02T07:00:00\", \"2016-05-02T08:00:00\", \"2016-05-02T09:00:00\", \"2016-05-02T10:00:00\", \"2016-05-02T11:00:00\", \"2016-05-02T12:00:00\", \"2016-05-02T13:00:00\", \"2016-05-02T14:00:00\", \"2016-05-02T15:00:00\", \"2016-05-02T16:00:00\", \"2016-05-02T17:00:00\", \"2016-05-02T18:00:00\", \"2016-05-02T19:00:00\", \"2016-05-02T20:00:00\", \"2016-05-02T21:00:00\", \"2016-05-02T22:00:00\", \"2016-05-02T23:00:00\", \"2016-05-03T00:00:00\", \"2016-05-03T01:00:00\", \"2016-05-03T02:00:00\", \"2016-05-03T03:00:00\", \"2016-05-03T04:00:00\", \"2016-05-03T05:00:00\", \"2016-05-03T06:00:00\", \"2016-05-03T07:00:00\", \"2016-05-03T08:00:00\", \"2016-05-03T09:00:00\", \"2016-05-03T10:00:00\", \"2016-05-03T11:00:00\", \"2016-05-03T12:00:00\", \"2016-05-03T13:00:00\", \"2016-05-03T14:00:00\", \"2016-05-03T15:00:00\", \"2016-05-03T16:00:00\", \"2016-05-03T17:00:00\", \"2016-05-03T18:00:00\", \"2016-05-03T19:00:00\", \"2016-05-03T20:00:00\", \"2016-05-03T21:00:00\", \"2016-05-03T22:00:00\", \"2016-05-03T23:00:00\", \"2016-05-04T00:00:00\", \"2016-05-04T01:00:00\", \"2016-05-04T02:00:00\", \"2016-05-04T03:00:00\", \"2016-05-04T04:00:00\", \"2016-05-04T05:00:00\", \"2016-05-04T06:00:00\", \"2016-05-04T07:00:00\", \"2016-05-04T08:00:00\", \"2016-05-04T09:00:00\", \"2016-05-04T10:00:00\", \"2016-05-04T11:00:00\", \"2016-05-04T12:00:00\", \"2016-05-04T13:00:00\", \"2016-05-04T14:00:00\", \"2016-05-04T15:00:00\", \"2016-05-04T16:00:00\", \"2016-05-04T17:00:00\", \"2016-05-04T18:00:00\", \"2016-05-04T19:00:00\", \"2016-05-04T20:00:00\", \"2016-05-04T21:00:00\", \"2016-05-04T22:00:00\", \"2016-05-04T23:00:00\", \"2016-05-05T00:00:00\", \"2016-05-05T01:00:00\", \"2016-05-05T02:00:00\", \"2016-05-05T03:00:00\", \"2016-05-05T04:00:00\", \"2016-05-05T05:00:00\", \"2016-05-05T06:00:00\", \"2016-05-05T07:00:00\", \"2016-05-05T08:00:00\", \"2016-05-05T09:00:00\", \"2016-05-05T10:00:00\", \"2016-05-05T11:00:00\", \"2016-05-05T12:00:00\", \"2016-05-05T13:00:00\", \"2016-05-05T14:00:00\", \"2016-05-05T15:00:00\", \"2016-05-05T16:00:00\", \"2016-05-05T17:00:00\", \"2016-05-05T18:00:00\", \"2016-05-05T19:00:00\", \"2016-05-05T20:00:00\", \"2016-05-05T21:00:00\", \"2016-05-05T22:00:00\", \"2016-05-05T23:00:00\", \"2016-05-06T00:00:00\", \"2016-05-06T01:00:00\", \"2016-05-06T02:00:00\", \"2016-05-06T03:00:00\", \"2016-05-06T04:00:00\", \"2016-05-06T05:00:00\", \"2016-05-06T06:00:00\", \"2016-05-06T07:00:00\", \"2016-05-06T08:00:00\", \"2016-05-06T09:00:00\", \"2016-05-06T10:00:00\", \"2016-05-06T11:00:00\", \"2016-05-06T12:00:00\", \"2016-05-06T13:00:00\", \"2016-05-06T14:00:00\", \"2016-05-06T15:00:00\", \"2016-05-06T16:00:00\", \"2016-05-06T17:00:00\", \"2016-05-06T18:00:00\", \"2016-05-06T19:00:00\", \"2016-05-06T20:00:00\", \"2016-05-06T21:00:00\", \"2016-05-06T22:00:00\", \"2016-05-06T23:00:00\", \"2016-05-07T00:00:00\", \"2016-05-07T01:00:00\", \"2016-05-07T02:00:00\", \"2016-05-07T03:00:00\", \"2016-05-07T04:00:00\", \"2016-05-07T05:00:00\", \"2016-05-07T06:00:00\", \"2016-05-07T07:00:00\", \"2016-05-07T08:00:00\", \"2016-05-07T09:00:00\", \"2016-05-07T10:00:00\", \"2016-05-07T11:00:00\", \"2016-05-07T12:00:00\", \"2016-05-07T13:00:00\", \"2016-05-07T14:00:00\", \"2016-05-07T15:00:00\", \"2016-05-07T16:00:00\", \"2016-05-07T17:00:00\", \"2016-05-07T18:00:00\", \"2016-05-07T19:00:00\", \"2016-05-07T20:00:00\", \"2016-05-07T21:00:00\", \"2016-05-07T22:00:00\", \"2016-05-07T23:00:00\", \"2016-05-08T00:00:00\", \"2016-05-08T01:00:00\", \"2016-05-08T02:00:00\", \"2016-05-08T03:00:00\", \"2016-05-08T04:00:00\", \"2016-05-08T05:00:00\", \"2016-05-08T06:00:00\", \"2016-05-08T07:00:00\", \"2016-05-08T08:00:00\", \"2016-05-08T09:00:00\", \"2016-05-08T10:00:00\", \"2016-05-08T11:00:00\", \"2016-05-08T12:00:00\", \"2016-05-08T13:00:00\", \"2016-05-08T14:00:00\", \"2016-05-08T15:00:00\", \"2016-05-08T16:00:00\", \"2016-05-08T17:00:00\", \"2016-05-08T18:00:00\", \"2016-05-08T19:00:00\", \"2016-05-08T20:00:00\", \"2016-05-08T21:00:00\", \"2016-05-08T22:00:00\", \"2016-05-08T23:00:00\", \"2016-05-09T00:00:00\"], \"y\": [3.88260555267334, 3.7845394611358643, 3.8342347145080566, 3.8138794898986816, 3.833364725112915, 3.8198394775390625, 3.829268455505371, 3.8100814819335938, 3.8719143867492676, 4.304546356201172, 4.046128273010254, 3.589536428451538, 3.8318941593170166, 3.5565478801727295, 3.9536800384521484, 4.1961774826049805, 4.882055759429932, 4.462525844573975, 4.918386936187744, 4.636929035186768, 4.427691459655762, 3.936337471008301, 3.88153076171875, 3.8653035163879395, 3.8934214115142822, 3.7886438369750977, 3.8291015625, 3.7848305702209473, 3.7812013626098633, 3.783442974090576, 3.9948537349700928, 5.238316535949707, 3.9230475425720215, 3.9109182357788086, 3.7573418617248535, 3.8210439682006836, 3.955233573913574, 3.8890810012817383, 3.86796498298645, 4.085353851318359, 3.973996877670288, 4.862173080444336, 4.647974967956543, 5.140543460845947, 4.572261810302734, 3.9228403568267822, 3.8747446537017822, 3.8605799674987793, 3.842839241027832, 3.821826219558716, 3.861726760864258, 3.7810111045837402, 3.8093209266662598, 3.763430595397949, 3.8688602447509766, 4.876697540283203, 4.430062770843506, 3.88751220703125, 3.7913637161254883, 3.9140727519989014, 3.9417788982391357, 3.9512743949890137, 3.921128034591675, 3.8198087215423584, 3.878034830093384, 3.6735291481018066, 5.265146255493164, 5.0288872718811035, 4.3628315925598145, 3.897167682647705, 3.86061692237854, 3.768798828125, 3.8232247829437256, 3.734276056289673, 3.827310562133789, 3.800614833831787, 3.852400541305542, 3.786104202270508, 3.8643202781677246, 4.3765788078308105, 4.740970611572266, 4.088759899139404, 4.429925918579102, 3.8303637504577637, 4.01834774017334, 4.117469310760498, 4.1200103759765625, 4.444904804229736, 4.1657304763793945, 4.63355827331543, 4.782207489013672, 4.457066059112549, 4.2028045654296875, 3.9717772006988525, 3.8920469284057617, 3.8619511127471924, 3.852301597595215, 3.8432512283325195, 3.775996446609497, 3.8046555519104004, 3.8174080848693848, 3.8721415996551514, 3.8794937133789062, 3.950556993484497, 4.73476505279541, 4.319304466247559, 4.13709831237793, 4.16376256942749, 4.228095054626465, 3.8396780490875244, 3.882840871810913, 4.005180358886719, 4.107202529907227, 4.32484769821167, 4.841791152954102, 4.769841194152832, 4.272991180419922, 3.896033763885498, 3.83975887298584, 3.8535990715026855, 3.8605751991271973, 3.8353466987609863, 3.7898247241973877, 3.8126943111419678, 3.825819730758667, 3.8596394062042236, 3.9015989303588867, 3.9983582496643066, 4.704883575439453, 4.117440700531006, 3.8510313034057617, 3.5384933948516846, 3.8736159801483154, 4.345717430114746, 4.083148956298828, 4.325104713439941, 4.124807357788086, 4.84416389465332, 4.450845718383789, 4.722331523895264, 4.58117151260376, 4.306913375854492, 3.9232141971588135, 3.8807809352874756, 3.846491575241089, 3.8767857551574707, 3.8197150230407715, 3.82460618019104, 3.8344812393188477, 3.8568692207336426, 3.9187896251678467, 3.8962297439575195, 4.668860912322998, 4.6286301612854, 4.214894771575928, 3.8971643447875977, 4.358605861663818, 3.997499942779541, 3.810910224914551, 4.133769989013672, 4.550527095794678, 4.714447021484375, 4.561611175537109, 4.69769287109375, 4.414774417877197, 4.2790117263793945, 3.9072351455688477, 3.870142698287964, 3.8776895999908447, 3.8821210861206055, 3.832275629043579, 3.8237202167510986, 3.8356873989105225, 3.8657870292663574, 3.956784963607788, 3.850379705429077, 3.7049946784973145, 5.008247375488281, 5.146851062774658, 4.060096263885498, 3.7285637855529785, 3.89760684967041, 3.850999593734741, 3.8563339710235596, 3.8038806915283203, 3.8913636207580566, 4.469134330749512, 4.026232719421387, 3.874030590057373, 3.928136110305786, 3.9133083820343018, 3.879497528076172, 3.8790082931518555]}, {\"mode\": \"lines\", \"name\": \"Real Values\", \"type\": \"scatter\", \"x\": [\"2016-05-01T00:00:00\", \"2016-05-01T01:00:00\", \"2016-05-01T02:00:00\", \"2016-05-01T03:00:00\", \"2016-05-01T04:00:00\", \"2016-05-01T05:00:00\", \"2016-05-01T06:00:00\", \"2016-05-01T07:00:00\", \"2016-05-01T08:00:00\", \"2016-05-01T09:00:00\", \"2016-05-01T10:00:00\", \"2016-05-01T11:00:00\", \"2016-05-01T12:00:00\", \"2016-05-01T13:00:00\", \"2016-05-01T14:00:00\", \"2016-05-01T15:00:00\", \"2016-05-01T16:00:00\", \"2016-05-01T17:00:00\", \"2016-05-01T18:00:00\", \"2016-05-01T19:00:00\", \"2016-05-01T20:00:00\", \"2016-05-01T21:00:00\", \"2016-05-01T22:00:00\", \"2016-05-01T23:00:00\", \"2016-05-02T00:00:00\", \"2016-05-02T01:00:00\", \"2016-05-02T02:00:00\", \"2016-05-02T03:00:00\", \"2016-05-02T04:00:00\", \"2016-05-02T05:00:00\", \"2016-05-02T06:00:00\", \"2016-05-02T07:00:00\", \"2016-05-02T08:00:00\", \"2016-05-02T09:00:00\", \"2016-05-02T10:00:00\", \"2016-05-02T11:00:00\", \"2016-05-02T12:00:00\", \"2016-05-02T13:00:00\", \"2016-05-02T14:00:00\", \"2016-05-02T15:00:00\", \"2016-05-02T16:00:00\", \"2016-05-02T17:00:00\", \"2016-05-02T18:00:00\", \"2016-05-02T19:00:00\", \"2016-05-02T20:00:00\", \"2016-05-02T21:00:00\", \"2016-05-02T22:00:00\", \"2016-05-02T23:00:00\", \"2016-05-03T00:00:00\", \"2016-05-03T01:00:00\", \"2016-05-03T02:00:00\", \"2016-05-03T03:00:00\", \"2016-05-03T04:00:00\", \"2016-05-03T05:00:00\", \"2016-05-03T06:00:00\", \"2016-05-03T07:00:00\", \"2016-05-03T08:00:00\", \"2016-05-03T09:00:00\", \"2016-05-03T10:00:00\", \"2016-05-03T11:00:00\", \"2016-05-03T12:00:00\", \"2016-05-03T13:00:00\", \"2016-05-03T14:00:00\", \"2016-05-03T15:00:00\", \"2016-05-03T16:00:00\", \"2016-05-03T17:00:00\", \"2016-05-03T18:00:00\", \"2016-05-03T19:00:00\", \"2016-05-03T20:00:00\", \"2016-05-03T21:00:00\", \"2016-05-03T22:00:00\", \"2016-05-03T23:00:00\", \"2016-05-04T00:00:00\", \"2016-05-04T01:00:00\", \"2016-05-04T02:00:00\", \"2016-05-04T03:00:00\", \"2016-05-04T04:00:00\", \"2016-05-04T05:00:00\", \"2016-05-04T06:00:00\", \"2016-05-04T07:00:00\", \"2016-05-04T08:00:00\", \"2016-05-04T09:00:00\", \"2016-05-04T10:00:00\", \"2016-05-04T11:00:00\", \"2016-05-04T12:00:00\", \"2016-05-04T13:00:00\", \"2016-05-04T14:00:00\", \"2016-05-04T15:00:00\", \"2016-05-04T16:00:00\", \"2016-05-04T17:00:00\", \"2016-05-04T18:00:00\", \"2016-05-04T19:00:00\", \"2016-05-04T20:00:00\", \"2016-05-04T21:00:00\", \"2016-05-04T22:00:00\", \"2016-05-04T23:00:00\", \"2016-05-05T00:00:00\", \"2016-05-05T01:00:00\", \"2016-05-05T02:00:00\", \"2016-05-05T03:00:00\", \"2016-05-05T04:00:00\", \"2016-05-05T05:00:00\", \"2016-05-05T06:00:00\", \"2016-05-05T07:00:00\", \"2016-05-05T08:00:00\", \"2016-05-05T09:00:00\", \"2016-05-05T10:00:00\", \"2016-05-05T11:00:00\", \"2016-05-05T12:00:00\", \"2016-05-05T13:00:00\", \"2016-05-05T14:00:00\", \"2016-05-05T15:00:00\", \"2016-05-05T16:00:00\", \"2016-05-05T17:00:00\", \"2016-05-05T18:00:00\", \"2016-05-05T19:00:00\", \"2016-05-05T20:00:00\", \"2016-05-05T21:00:00\", \"2016-05-05T22:00:00\", \"2016-05-05T23:00:00\", \"2016-05-06T00:00:00\", \"2016-05-06T01:00:00\", \"2016-05-06T02:00:00\", \"2016-05-06T03:00:00\", \"2016-05-06T04:00:00\", \"2016-05-06T05:00:00\", \"2016-05-06T06:00:00\", \"2016-05-06T07:00:00\", \"2016-05-06T08:00:00\", \"2016-05-06T09:00:00\", \"2016-05-06T10:00:00\", \"2016-05-06T11:00:00\", \"2016-05-06T12:00:00\", \"2016-05-06T13:00:00\", \"2016-05-06T14:00:00\", \"2016-05-06T15:00:00\", \"2016-05-06T16:00:00\", \"2016-05-06T17:00:00\", \"2016-05-06T18:00:00\", \"2016-05-06T19:00:00\", \"2016-05-06T20:00:00\", \"2016-05-06T21:00:00\", \"2016-05-06T22:00:00\", \"2016-05-06T23:00:00\", \"2016-05-07T00:00:00\", \"2016-05-07T01:00:00\", \"2016-05-07T02:00:00\", \"2016-05-07T03:00:00\", \"2016-05-07T04:00:00\", \"2016-05-07T05:00:00\", \"2016-05-07T06:00:00\", \"2016-05-07T07:00:00\", \"2016-05-07T08:00:00\", \"2016-05-07T09:00:00\", \"2016-05-07T10:00:00\", \"2016-05-07T11:00:00\", \"2016-05-07T12:00:00\", \"2016-05-07T13:00:00\", \"2016-05-07T14:00:00\", \"2016-05-07T15:00:00\", \"2016-05-07T16:00:00\", \"2016-05-07T17:00:00\", \"2016-05-07T18:00:00\", \"2016-05-07T19:00:00\", \"2016-05-07T20:00:00\", \"2016-05-07T21:00:00\", \"2016-05-07T22:00:00\", \"2016-05-07T23:00:00\", \"2016-05-08T00:00:00\", \"2016-05-08T01:00:00\", \"2016-05-08T02:00:00\", \"2016-05-08T03:00:00\", \"2016-05-08T04:00:00\", \"2016-05-08T05:00:00\", \"2016-05-08T06:00:00\", \"2016-05-08T07:00:00\", \"2016-05-08T08:00:00\", \"2016-05-08T09:00:00\", \"2016-05-08T10:00:00\", \"2016-05-08T11:00:00\", \"2016-05-08T12:00:00\", \"2016-05-08T13:00:00\", \"2016-05-08T14:00:00\", \"2016-05-08T15:00:00\", \"2016-05-08T16:00:00\", \"2016-05-08T17:00:00\", \"2016-05-08T18:00:00\", \"2016-05-08T19:00:00\", \"2016-05-08T20:00:00\", \"2016-05-08T21:00:00\", \"2016-05-08T22:00:00\", \"2016-05-08T23:00:00\", \"2016-05-09T00:00:00\"], \"y\": [3.9448128282511368, 4.007333185232471, 3.8781214537524646, 3.7297014486341915, 3.9765615265657175, 3.9448128282511368, 3.9765615265657175, 4.0661736852554045, 4.442651256490317, 4.499809670330265, 4.148411783492376, 4.518158808998462, 4.5712686343124105, 4.360973225476049, 4.685212893661628, 4.653960350157523, 5.3706380281276624, 5.714832310842786, 5.604575824572753, 4.75932086581535, 4.669708707125663, 4.442651256490317, 4.248495242049359, 3.8781214537524646, 4.007333185232471, 3.9448128282511368, 3.6888794541139363, 3.9765615265657175, 3.9448128282511368, 4.637960008811082, 4.339467020255086, 5.135798437050262, 3.9765615265657175, 4.007333185232471, 3.9765615265657175, 3.9448128282511368, 4.402645921876617, 4.402645921876617, 4.382026634673881, 4.402645921876617, 4.653960350157523, 5.579729825986222, 4.841558964052322, 4.90527477843843, 4.700480365792417, 3.9765615265657175, 4.174387269895637, 4.007333185232471, 4.007333185232471, 3.6463198396951406, 3.9765615265657175, 3.9765615265657175, 3.912023005428146, 3.9448128282511368, 4.2243976904702984, 3.912023005428146, 4.007333185232471, 3.6888794541139363, 3.9448128282511368, 3.9765615265657175, 3.9765615265657175, 3.6888794541139363, 4.037186148382152, 3.912023005428146, 4.174387269895637, 5.501258210544727, 4.892852258439873, 4.929666231562589, 4.773505500807306, 4.037186148382152, 4.007333185232471, 3.7297014486341915, 3.9448128282511368, 3.9765615265657175, 4.007333185232471, 3.6463198396951406, 3.912023005428146, 4.199705077879927, 4.74493212836325, 4.0943445622221, 5.1647859739235145, 4.272025739459553, 4.422848629194137, 4.339467020255086, 4.174387269895637, 4.248495242049359, 4.248495242049359, 4.2243976904702984, 4.402645921876617, 4.7303333289420975, 4.892852258439873, 4.715518243156957, 4.605170185988092, 4.31748811353631, 4.007333185232471, 4.007333185232471, 3.6888794541139363, 4.037186148382152, 3.9448128282511368, 4.007333185232471, 3.9448128282511368, 3.6463198396951406, 4.0661736852554045, 5.115995809754082, 5.155216522907363, 4.442651256490317, 4.5712686343124105, 4.481117537318112, 4.637960008811082, 3.7297014486341915, 4.007333185232471, 4.0661736852554045, 3.9448128282511368, 5.314846668499247, 5.085536602269373, 4.58836306767171, 4.58836306767171, 4.272025739459553, 4.037186148382152, 4.007333185232471, 3.7297014486341915, 4.0661736852554045, 3.912023005428146, 4.0661736852554045, 3.912023005428146, 3.9448128282511368, 4.295015257684252, 5.508037897530106, 4.553876891600541, 5.610692051590189, 4.499809670330265, 4.700480365792417, 4.929666231562589, 4.382026634673881, 5.075173815233827, 4.31748811353631, 4.248495242049359, 4.53617731450114, 5.174264717878057, 4.841558964052322, 4.75932086581535, 4.272025739459553, 3.9765615265657175, 4.0661736852554045, 3.9448128282511368, 4.037186148382152, 3.9765615265657175, 4.007333185232471, 4.007333185232471, 3.9448128282511368, 3.9765615265657175, 4.999461993498131, 4.8012850649143815, 5.032614200815031, 5.183654458227897, 5.085536602269373, 4.4620693423474185, 4.31748811353631, 4.481117537318112, 4.637960008811082, 4.518158808998462, 4.422848629194137, 5.652489180268651, 4.787491742782046, 4.4620693423474185, 4.037186148382152, 4.0661736852554045, 4.037186148382152, 4.0661736852554045, 3.9448128282511368, 4.007333185232471, 4.037186148382152, 3.912023005428146, 4.037186148382152, 3.912023005428146, 4.0943445622221, 5.211305989558407, 4.965172920019499, 4.90527477843843, 3.912023005428146, 4.037186148382152, 4.037186148382152, 4.037186148382152, 3.912023005428146, 4.007333185232471, 4.037186148382152, 3.912023005428146, 4.0943445622221, 4.360973225476049, 4.148411783492376, 4.0661736852554045, 3.9765615265657175, 4.007333185232471]}],\n",
              "                        {\"template\": {\"data\": {\"bar\": [{\"error_x\": {\"color\": \"#2a3f5f\"}, \"error_y\": {\"color\": \"#2a3f5f\"}, \"marker\": {\"line\": {\"color\": \"#E5ECF6\", \"width\": 0.5}}, \"type\": \"bar\"}], \"barpolar\": [{\"marker\": {\"line\": {\"color\": \"#E5ECF6\", \"width\": 0.5}}, \"type\": \"barpolar\"}], \"carpet\": [{\"aaxis\": {\"endlinecolor\": \"#2a3f5f\", \"gridcolor\": \"white\", \"linecolor\": \"white\", \"minorgridcolor\": \"white\", \"startlinecolor\": \"#2a3f5f\"}, \"baxis\": {\"endlinecolor\": \"#2a3f5f\", \"gridcolor\": \"white\", \"linecolor\": \"white\", \"minorgridcolor\": \"white\", \"startlinecolor\": \"#2a3f5f\"}, \"type\": \"carpet\"}], \"choropleth\": [{\"colorbar\": {\"outlinewidth\": 0, \"ticks\": \"\"}, \"type\": \"choropleth\"}], \"contour\": [{\"colorbar\": {\"outlinewidth\": 0, \"ticks\": \"\"}, \"colorscale\": [[0.0, \"#0d0887\"], [0.1111111111111111, \"#46039f\"], [0.2222222222222222, \"#7201a8\"], [0.3333333333333333, \"#9c179e\"], [0.4444444444444444, \"#bd3786\"], [0.5555555555555556, \"#d8576b\"], [0.6666666666666666, \"#ed7953\"], [0.7777777777777778, \"#fb9f3a\"], [0.8888888888888888, \"#fdca26\"], [1.0, \"#f0f921\"]], \"type\": \"contour\"}], \"contourcarpet\": [{\"colorbar\": {\"outlinewidth\": 0, \"ticks\": \"\"}, \"type\": \"contourcarpet\"}], \"heatmap\": [{\"colorbar\": {\"outlinewidth\": 0, \"ticks\": \"\"}, \"colorscale\": [[0.0, \"#0d0887\"], [0.1111111111111111, \"#46039f\"], [0.2222222222222222, \"#7201a8\"], [0.3333333333333333, \"#9c179e\"], [0.4444444444444444, \"#bd3786\"], [0.5555555555555556, \"#d8576b\"], [0.6666666666666666, \"#ed7953\"], [0.7777777777777778, \"#fb9f3a\"], [0.8888888888888888, \"#fdca26\"], [1.0, \"#f0f921\"]], \"type\": \"heatmap\"}], \"heatmapgl\": [{\"colorbar\": {\"outlinewidth\": 0, \"ticks\": \"\"}, \"colorscale\": [[0.0, \"#0d0887\"], [0.1111111111111111, \"#46039f\"], [0.2222222222222222, \"#7201a8\"], [0.3333333333333333, \"#9c179e\"], [0.4444444444444444, \"#bd3786\"], [0.5555555555555556, \"#d8576b\"], [0.6666666666666666, \"#ed7953\"], [0.7777777777777778, \"#fb9f3a\"], [0.8888888888888888, \"#fdca26\"], [1.0, \"#f0f921\"]], \"type\": \"heatmapgl\"}], \"histogram\": [{\"marker\": {\"colorbar\": {\"outlinewidth\": 0, \"ticks\": \"\"}}, \"type\": \"histogram\"}], \"histogram2d\": [{\"colorbar\": {\"outlinewidth\": 0, \"ticks\": \"\"}, \"colorscale\": [[0.0, \"#0d0887\"], [0.1111111111111111, \"#46039f\"], [0.2222222222222222, \"#7201a8\"], [0.3333333333333333, \"#9c179e\"], [0.4444444444444444, \"#bd3786\"], [0.5555555555555556, \"#d8576b\"], [0.6666666666666666, \"#ed7953\"], [0.7777777777777778, \"#fb9f3a\"], [0.8888888888888888, \"#fdca26\"], [1.0, \"#f0f921\"]], \"type\": \"histogram2d\"}], \"histogram2dcontour\": [{\"colorbar\": {\"outlinewidth\": 0, \"ticks\": \"\"}, \"colorscale\": [[0.0, \"#0d0887\"], [0.1111111111111111, \"#46039f\"], [0.2222222222222222, \"#7201a8\"], [0.3333333333333333, \"#9c179e\"], [0.4444444444444444, \"#bd3786\"], [0.5555555555555556, \"#d8576b\"], [0.6666666666666666, \"#ed7953\"], [0.7777777777777778, \"#fb9f3a\"], [0.8888888888888888, \"#fdca26\"], [1.0, \"#f0f921\"]], \"type\": \"histogram2dcontour\"}], \"mesh3d\": [{\"colorbar\": {\"outlinewidth\": 0, \"ticks\": \"\"}, \"type\": \"mesh3d\"}], \"parcoords\": [{\"line\": {\"colorbar\": {\"outlinewidth\": 0, \"ticks\": \"\"}}, \"type\": \"parcoords\"}], \"scatter\": [{\"marker\": {\"colorbar\": {\"outlinewidth\": 0, \"ticks\": \"\"}}, \"type\": \"scatter\"}], \"scatter3d\": [{\"line\": {\"colorbar\": {\"outlinewidth\": 0, \"ticks\": \"\"}}, \"marker\": {\"colorbar\": {\"outlinewidth\": 0, \"ticks\": \"\"}}, \"type\": \"scatter3d\"}], \"scattercarpet\": [{\"marker\": {\"colorbar\": {\"outlinewidth\": 0, \"ticks\": \"\"}}, \"type\": \"scattercarpet\"}], \"scattergeo\": [{\"marker\": {\"colorbar\": {\"outlinewidth\": 0, \"ticks\": \"\"}}, \"type\": \"scattergeo\"}], \"scattergl\": [{\"marker\": {\"colorbar\": {\"outlinewidth\": 0, \"ticks\": \"\"}}, \"type\": \"scattergl\"}], \"scattermapbox\": [{\"marker\": {\"colorbar\": {\"outlinewidth\": 0, \"ticks\": \"\"}}, \"type\": \"scattermapbox\"}], \"scatterpolar\": [{\"marker\": {\"colorbar\": {\"outlinewidth\": 0, \"ticks\": \"\"}}, \"type\": \"scatterpolar\"}], \"scatterpolargl\": [{\"marker\": {\"colorbar\": {\"outlinewidth\": 0, \"ticks\": \"\"}}, \"type\": \"scatterpolargl\"}], \"scatterternary\": [{\"marker\": {\"colorbar\": {\"outlinewidth\": 0, \"ticks\": \"\"}}, \"type\": \"scatterternary\"}], \"surface\": [{\"colorbar\": {\"outlinewidth\": 0, \"ticks\": \"\"}, \"colorscale\": [[0.0, \"#0d0887\"], [0.1111111111111111, \"#46039f\"], [0.2222222222222222, \"#7201a8\"], [0.3333333333333333, \"#9c179e\"], [0.4444444444444444, \"#bd3786\"], [0.5555555555555556, \"#d8576b\"], [0.6666666666666666, \"#ed7953\"], [0.7777777777777778, \"#fb9f3a\"], [0.8888888888888888, \"#fdca26\"], [1.0, \"#f0f921\"]], \"type\": \"surface\"}], \"table\": [{\"cells\": {\"fill\": {\"color\": \"#EBF0F8\"}, \"line\": {\"color\": \"white\"}}, \"header\": {\"fill\": {\"color\": \"#C8D4E3\"}, \"line\": {\"color\": \"white\"}}, \"type\": \"table\"}]}, \"layout\": {\"annotationdefaults\": {\"arrowcolor\": \"#2a3f5f\", \"arrowhead\": 0, \"arrowwidth\": 1}, \"colorscale\": {\"diverging\": [[0, \"#8e0152\"], [0.1, \"#c51b7d\"], [0.2, \"#de77ae\"], [0.3, \"#f1b6da\"], [0.4, \"#fde0ef\"], [0.5, \"#f7f7f7\"], [0.6, \"#e6f5d0\"], [0.7, \"#b8e186\"], [0.8, \"#7fbc41\"], [0.9, \"#4d9221\"], [1, \"#276419\"]], \"sequential\": [[0.0, \"#0d0887\"], [0.1111111111111111, \"#46039f\"], [0.2222222222222222, \"#7201a8\"], [0.3333333333333333, \"#9c179e\"], [0.4444444444444444, \"#bd3786\"], [0.5555555555555556, \"#d8576b\"], [0.6666666666666666, \"#ed7953\"], [0.7777777777777778, \"#fb9f3a\"], [0.8888888888888888, \"#fdca26\"], [1.0, \"#f0f921\"]], \"sequentialminus\": [[0.0, \"#0d0887\"], [0.1111111111111111, \"#46039f\"], [0.2222222222222222, \"#7201a8\"], [0.3333333333333333, \"#9c179e\"], [0.4444444444444444, \"#bd3786\"], [0.5555555555555556, \"#d8576b\"], [0.6666666666666666, \"#ed7953\"], [0.7777777777777778, \"#fb9f3a\"], [0.8888888888888888, \"#fdca26\"], [1.0, \"#f0f921\"]]}, \"colorway\": [\"#636efa\", \"#EF553B\", \"#00cc96\", \"#ab63fa\", \"#FFA15A\", \"#19d3f3\", \"#FF6692\", \"#B6E880\", \"#FF97FF\", \"#FECB52\"], \"font\": {\"color\": \"#2a3f5f\"}, \"geo\": {\"bgcolor\": \"white\", \"lakecolor\": \"white\", \"landcolor\": \"#E5ECF6\", \"showlakes\": true, \"showland\": true, \"subunitcolor\": \"white\"}, \"hoverlabel\": {\"align\": \"left\"}, \"hovermode\": \"closest\", \"mapbox\": {\"style\": \"light\"}, \"paper_bgcolor\": \"white\", \"plot_bgcolor\": \"#E5ECF6\", \"polar\": {\"angularaxis\": {\"gridcolor\": \"white\", \"linecolor\": \"white\", \"ticks\": \"\"}, \"bgcolor\": \"#E5ECF6\", \"radialaxis\": {\"gridcolor\": \"white\", \"linecolor\": \"white\", \"ticks\": \"\"}}, \"scene\": {\"xaxis\": {\"backgroundcolor\": \"#E5ECF6\", \"gridcolor\": \"white\", \"gridwidth\": 2, \"linecolor\": \"white\", \"showbackground\": true, \"ticks\": \"\", \"zerolinecolor\": \"white\"}, \"yaxis\": {\"backgroundcolor\": \"#E5ECF6\", \"gridcolor\": \"white\", \"gridwidth\": 2, \"linecolor\": \"white\", \"showbackground\": true, \"ticks\": \"\", \"zerolinecolor\": \"white\"}, \"zaxis\": {\"backgroundcolor\": \"#E5ECF6\", \"gridcolor\": \"white\", \"gridwidth\": 2, \"linecolor\": \"white\", \"showbackground\": true, \"ticks\": \"\", \"zerolinecolor\": \"white\"}}, \"shapedefaults\": {\"line\": {\"color\": \"#2a3f5f\"}}, \"ternary\": {\"aaxis\": {\"gridcolor\": \"white\", \"linecolor\": \"white\", \"ticks\": \"\"}, \"baxis\": {\"gridcolor\": \"white\", \"linecolor\": \"white\", \"ticks\": \"\"}, \"bgcolor\": \"#E5ECF6\", \"caxis\": {\"gridcolor\": \"white\", \"linecolor\": \"white\", \"ticks\": \"\"}}, \"title\": {\"x\": 0.05}, \"xaxis\": {\"automargin\": true, \"gridcolor\": \"white\", \"linecolor\": \"white\", \"ticks\": \"\", \"zerolinecolor\": \"white\", \"zerolinewidth\": 2}, \"yaxis\": {\"automargin\": true, \"gridcolor\": \"white\", \"linecolor\": \"white\", \"ticks\": \"\", \"zerolinecolor\": \"white\", \"zerolinewidth\": 2}}}, \"title\": {\"text\": \"Uncertainty Quantification for Energy Consumption Test Data\"}, \"xaxis\": {\"title\": {\"text\": \"Time\"}}, \"yaxis\": {\"title\": {\"text\": \"log_appliances (log Wh)\"}}},\n",
              "                        {\"responsive\": true}\n",
              "                    ).then(function(){\n",
              "                            \n",
              "var gd = document.getElementById('21c4493b-8eb7-4e35-bc11-c6188f618ca3');\n",
              "var x = new MutationObserver(function (mutations, observer) {{\n",
              "        var display = window.getComputedStyle(gd).display;\n",
              "        if (!display || display === 'none') {{\n",
              "            console.log([gd, 'removed!']);\n",
              "            Plotly.purge(gd);\n",
              "            observer.disconnect();\n",
              "        }}\n",
              "}});\n",
              "\n",
              "// Listen for the removal of the full notebook cells\n",
              "var notebookContainer = gd.closest('#notebook-container');\n",
              "if (notebookContainer) {{\n",
              "    x.observe(notebookContainer, {childList: true});\n",
              "}}\n",
              "\n",
              "// Listen for the clearing of the current output cell\n",
              "var outputEl = gd.closest('.output');\n",
              "if (outputEl) {{\n",
              "    x.observe(outputEl, {childList: true});\n",
              "}}\n",
              "\n",
              "                        })\n",
              "                };\n",
              "                \n",
              "            </script>\n",
              "        </div>\n",
              "</body>\n",
              "</html>"
            ]
          },
          "metadata": {
            "tags": []
          }
        }
      ]
    },
    {
      "cell_type": "markdown",
      "metadata": {
        "id": "7THEK4P96J0S",
        "colab_type": "text"
      },
      "source": [
        "#### Evaluating Uncertainty"
      ]
    },
    {
      "cell_type": "markdown",
      "metadata": {
        "id": "PPuR8L6D6PkL",
        "colab_type": "text"
      },
      "source": [
        "Using multiple experiments above, 99% confidence intervals have been constructed for each the prediction of the target variable (the logarithm of appliance power consumption). While we can visually observe that the model is generally capturing the behavior of the time-series, only 48% of the real data points lie within a 99% confidence interval from the mean prediction value.\n",
        "\n",
        "Despite the relatively low percentage of points within the confidence interval, it must be noted that Bayesian Neural Networks only seek to quantify the epistemic model uncertainty and does not account for aleatoric uncertainty (i.e. noise)."
      ]
    },
    {
      "cell_type": "code",
      "metadata": {
        "id": "mV2_6qekxzLn",
        "colab_type": "code",
        "outputId": "954f5dd6-8050-41db-9aee-44afc866f671",
        "colab": {
          "base_uri": "https://localhost:8080/",
          "height": 34
        }
      },
      "source": [
        "bounds_df = pd.DataFrame()\n",
        "\n",
        "# Using 99% confidence bounds\n",
        "bounds_df['lower_bound'] = test_uncertainty_plot_df['lower_bound']\n",
        "bounds_df['real_value'] = truth_uncertainty_plot_df['log_appliances']\n",
        "bounds_df['upper_bound'] = test_uncertainty_plot_df['upper_bound']\n",
        "\n",
        "bounds_df['contained'] = ((bounds_df['real_value'] >= bounds_df['lower_bound']) &\n",
        "                          (bounds_df['real_value'] <= bounds_df['upper_bound']))\n",
        "\n",
        "print(\"Proportion of points contained within 99% confidence interval:\", \n",
        "      bounds_df['contained'].mean())"
      ],
      "execution_count": 15,
      "outputs": [
        {
          "output_type": "stream",
          "text": [
            "Proportion of points contained within 99% confidence interval: 0.47668393782383417\n"
          ],
          "name": "stdout"
        }
      ]
    },
    {
      "cell_type": "markdown",
      "metadata": {
        "id": "CLrYy9qgxp_C",
        "colab_type": "text"
      },
      "source": [
        "# Conclusions\n",
        "\n",
        "- Bayesian LSTMs have been able to produce comparable performance to their frequentist counterparts (all else being equal)\n",
        "- Stochastic dropout enables users to approximate the posterior distribution of the target variable, \\\n",
        "and thus construct confidence intervals for each prediction \n",
        "- Bayesian Neural Networks only attempt to account for epistemic model uncertainty and do not necessarily address aleatoric uncertainty\n",
        "- Computational overhead for repeated/multiple Bayesian LSTM predictions at inference to construct confidence intervals represent a potential challenge for real-time inference use-cases."
      ]
    }
  ]
}